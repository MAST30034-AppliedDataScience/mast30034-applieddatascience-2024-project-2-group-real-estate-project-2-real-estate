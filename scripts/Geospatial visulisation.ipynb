{
 "cells": [
  {
   "cell_type": "code",
   "execution_count": null,
   "metadata": {},
   "outputs": [],
   "source": [
    "import requests\n",
    "import zipfile\n",
    "import io\n",
    "import os\n",
    "import geopandas as gpd\n",
    "import matplotlib.pyplot as plt\n",
    "\n",
    "# Step 1: Download the shapefile\n",
    "url = \"https://www.abs.gov.au/statistics/standards/australian-statistical-geography-standard-asgs-edition-3/jul2021-jun2026/access-and-downloads/digital-boundary-files/SA2_2021_AUST_SHP_GDA2020.zip\"\n",
    "response = requests.get(url)\n",
    "zip_file = zipfile.ZipFile(io.BytesIO(response.content))\n",
    "extract_path = \"sa2_shapefile\"\n",
    "zip_file.extractall(extract_path)  # Extract to a folder named \"sa2_shapefile\"\n",
    "\n",
    "# Step 2: Load the shapefile\n",
    "shapefile_name = \"SA2_2021_AUST_GDA2020.shp\"\n",
    "shapefile_path = os.path.join(extract_path, shapefile_name)\n",
    "\n",
    "gdf = gpd.read_file(shapefile_path)\n",
    "\n",
    "# Step 3: Filter to only include areas within Victoria (State code 2)\n",
    "victoria_gdf = gdf[gdf['STE_CODE21'] == '2']\n",
    "\n",
    "# Step 4: Plot the Victoria SA2 regions\n",
    "victoria_gdf.plot(figsize=(10, 10), edgecolor='k', color='lightblue')\n",
    "plt.title('SA2 Regions in Victoria, Australia')\n",
    "plt.show()"
   ]
  }
 ],
 "metadata": {
  "language_info": {
   "name": "python"
  }
 },
 "nbformat": 4,
 "nbformat_minor": 2
}
