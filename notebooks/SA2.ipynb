{
 "cells": [
  {
   "cell_type": "code",
<<<<<<< HEAD
   "execution_count": null,
   "metadata": {},
   "outputs": [],
   "source": []
  }
 ],
 "metadata": {
  "language_info": {
   "name": "python"
=======
   "execution_count": 2,
   "metadata": {},
   "outputs": [
    {
     "name": "stdout",
     "output_type": "stream",
     "text": [
      "  SA2_CODE21                       SA2_NAME21 CHG_FLAG21  CHG_LBL21  \\\n",
      "0  101021007                        Braidwood          0  No change   \n",
      "1  101021008                          Karabar          0  No change   \n",
      "2  101021009                       Queanbeyan          0  No change   \n",
      "3  101021010                Queanbeyan - East          0  No change   \n",
      "4  101021012  Queanbeyan West - Jerrabomberra          0  No change   \n",
      "\n",
      "  SA3_CODE21  SA3_NAME21 SA4_CODE21      SA4_NAME21 GCC_CODE21   GCC_NAME21  \\\n",
      "0      10102  Queanbeyan        101  Capital Region      1RNSW  Rest of NSW   \n",
      "1      10102  Queanbeyan        101  Capital Region      1RNSW  Rest of NSW   \n",
      "2      10102  Queanbeyan        101  Capital Region      1RNSW  Rest of NSW   \n",
      "3      10102  Queanbeyan        101  Capital Region      1RNSW  Rest of NSW   \n",
      "4      10102  Queanbeyan        101  Capital Region      1RNSW  Rest of NSW   \n",
      "\n",
      "  STE_CODE21       STE_NAME21 AUS_CODE21 AUS_NAME21  AREASQKM21  \\\n",
      "0          1  New South Wales        AUS  Australia   3418.3525   \n",
      "1          1  New South Wales        AUS  Australia      6.9825   \n",
      "2          1  New South Wales        AUS  Australia      4.7620   \n",
      "3          1  New South Wales        AUS  Australia     13.0032   \n",
      "4          1  New South Wales        AUS  Australia     13.6748   \n",
      "\n",
      "                                          LOCI_URI21  \\\n",
      "0  http://linked.data.gov.au/dataset/asgsed3/SA2/...   \n",
      "1  http://linked.data.gov.au/dataset/asgsed3/SA2/...   \n",
      "2  http://linked.data.gov.au/dataset/asgsed3/SA2/...   \n",
      "3  http://linked.data.gov.au/dataset/asgsed3/SA2/...   \n",
      "4  http://linked.data.gov.au/dataset/asgsed3/SA2/...   \n",
      "\n",
      "                                            geometry  \n",
      "0  POLYGON ((149.58424 -35.44426, 149.58444 -35.4...  \n",
      "1  POLYGON ((149.21899 -35.36738, 149.218 -35.366...  \n",
      "2  POLYGON ((149.21326 -35.34325, 149.21619 -35.3...  \n",
      "3  POLYGON ((149.24034 -35.34781, 149.24024 -35.3...  \n",
      "4  POLYGON ((149.19572 -35.36126, 149.1997 -35.35...  \n",
      "EPSG:7844\n"
     ]
    }
   ],
   "source": [
    "import pandas as pd\n",
    "import geopandas as gpd\n",
    "\n",
    "# Replace 'path_to_shapefile_folder' with the actual path to your folder\n",
    "shapefile_path = \"../data/shapefile/SA2/SA2_2021_AUST_GDA2020.shp\"\n",
    "\n",
    "# Load the shapefile\n",
    "gdf = gpd.read_file(shapefile_path)\n",
    "\n",
    "# Check the first few rows to understand the data\n",
    "print(gdf.head())\n",
    "\n",
    "# Check the CRS (Coordinate Reference System)\n",
    "print(gdf.crs)"
   ]
  },
  {
   "cell_type": "code",
   "execution_count": 3,
   "metadata": {},
   "outputs": [
    {
     "name": "stdout",
     "output_type": "stream",
     "text": [
      "Index(['SA2_CODE21', 'SA2_NAME21', 'CHG_FLAG21', 'CHG_LBL21', 'SA3_CODE21',\n",
      "       'SA3_NAME21', 'SA4_CODE21', 'SA4_NAME21', 'GCC_CODE21', 'GCC_NAME21',\n",
      "       'STE_CODE21', 'STE_NAME21', 'AUS_CODE21', 'AUS_NAME21', 'AREASQKM21',\n",
      "       'LOCI_URI21', 'geometry'],\n",
      "      dtype='object')\n",
      "          AREASQKM21\n",
      "count    2454.000000\n",
      "mean     3132.883023\n",
      "std     24131.076958\n",
      "min         0.464200\n",
      "25%         5.086325\n",
      "50%        11.957600\n",
      "75%        95.632950\n",
      "max    513391.333300\n"
     ]
    }
   ],
   "source": [
    "# Display the columns in the GeoDataFrame\n",
    "print(gdf.columns)\n",
    "\n",
    "# Get a summary of the data\n",
    "print(gdf.describe())"
   ]
  },
  {
   "cell_type": "code",
   "execution_count": 4,
   "metadata": {},
   "outputs": [
    {
     "data": {
      "text/html": [
       "<div>\n",
       "<style scoped>\n",
       "    .dataframe tbody tr th:only-of-type {\n",
       "        vertical-align: middle;\n",
       "    }\n",
       "\n",
       "    .dataframe tbody tr th {\n",
       "        vertical-align: top;\n",
       "    }\n",
       "\n",
       "    .dataframe thead th {\n",
       "        text-align: right;\n",
       "    }\n",
       "</style>\n",
       "<table border=\"1\" class=\"dataframe\">\n",
       "  <thead>\n",
       "    <tr style=\"text-align: right;\">\n",
       "      <th></th>\n",
       "      <th>SA2_CODE21</th>\n",
       "      <th>SA2_NAME21</th>\n",
       "      <th>CHG_FLAG21</th>\n",
       "      <th>CHG_LBL21</th>\n",
       "      <th>SA3_CODE21</th>\n",
       "      <th>SA3_NAME21</th>\n",
       "      <th>SA4_CODE21</th>\n",
       "      <th>SA4_NAME21</th>\n",
       "      <th>GCC_CODE21</th>\n",
       "      <th>GCC_NAME21</th>\n",
       "      <th>STE_CODE21</th>\n",
       "      <th>STE_NAME21</th>\n",
       "      <th>AUS_CODE21</th>\n",
       "      <th>AUS_NAME21</th>\n",
       "      <th>AREASQKM21</th>\n",
       "      <th>LOCI_URI21</th>\n",
       "      <th>geometry</th>\n",
       "    </tr>\n",
       "  </thead>\n",
       "  <tbody>\n",
       "    <tr>\n",
       "      <th>644</th>\n",
       "      <td>201011001</td>\n",
       "      <td>Alfredton</td>\n",
       "      <td>0</td>\n",
       "      <td>No change</td>\n",
       "      <td>20101</td>\n",
       "      <td>Ballarat</td>\n",
       "      <td>201</td>\n",
       "      <td>Ballarat</td>\n",
       "      <td>2RVIC</td>\n",
       "      <td>Rest of Vic.</td>\n",
       "      <td>2</td>\n",
       "      <td>Victoria</td>\n",
       "      <td>AUS</td>\n",
       "      <td>Australia</td>\n",
       "      <td>52.7109</td>\n",
       "      <td>http://linked.data.gov.au/dataset/asgsed3/SA2/...</td>\n",
       "      <td>POLYGON ((143.78282 -37.56666, 143.75558 -37.5...</td>\n",
       "    </tr>\n",
       "    <tr>\n",
       "      <th>645</th>\n",
       "      <td>201011002</td>\n",
       "      <td>Ballarat</td>\n",
       "      <td>0</td>\n",
       "      <td>No change</td>\n",
       "      <td>20101</td>\n",
       "      <td>Ballarat</td>\n",
       "      <td>201</td>\n",
       "      <td>Ballarat</td>\n",
       "      <td>2RVIC</td>\n",
       "      <td>Rest of Vic.</td>\n",
       "      <td>2</td>\n",
       "      <td>Victoria</td>\n",
       "      <td>AUS</td>\n",
       "      <td>Australia</td>\n",
       "      <td>12.3787</td>\n",
       "      <td>http://linked.data.gov.au/dataset/asgsed3/SA2/...</td>\n",
       "      <td>POLYGON ((143.81896 -37.55582, 143.81644 -37.5...</td>\n",
       "    </tr>\n",
       "    <tr>\n",
       "      <th>646</th>\n",
       "      <td>201011005</td>\n",
       "      <td>Buninyong</td>\n",
       "      <td>0</td>\n",
       "      <td>No change</td>\n",
       "      <td>20101</td>\n",
       "      <td>Ballarat</td>\n",
       "      <td>201</td>\n",
       "      <td>Ballarat</td>\n",
       "      <td>2RVIC</td>\n",
       "      <td>Rest of Vic.</td>\n",
       "      <td>2</td>\n",
       "      <td>Victoria</td>\n",
       "      <td>AUS</td>\n",
       "      <td>Australia</td>\n",
       "      <td>51.5855</td>\n",
       "      <td>http://linked.data.gov.au/dataset/asgsed3/SA2/...</td>\n",
       "      <td>POLYGON ((143.84171 -37.61596, 143.84176 -37.6...</td>\n",
       "    </tr>\n",
       "    <tr>\n",
       "      <th>647</th>\n",
       "      <td>201011006</td>\n",
       "      <td>Delacombe</td>\n",
       "      <td>0</td>\n",
       "      <td>No change</td>\n",
       "      <td>20101</td>\n",
       "      <td>Ballarat</td>\n",
       "      <td>201</td>\n",
       "      <td>Ballarat</td>\n",
       "      <td>2RVIC</td>\n",
       "      <td>Rest of Vic.</td>\n",
       "      <td>2</td>\n",
       "      <td>Victoria</td>\n",
       "      <td>AUS</td>\n",
       "      <td>Australia</td>\n",
       "      <td>34.1607</td>\n",
       "      <td>http://linked.data.gov.au/dataset/asgsed3/SA2/...</td>\n",
       "      <td>POLYGON ((143.7505 -37.59119, 143.75044 -37.59...</td>\n",
       "    </tr>\n",
       "    <tr>\n",
       "      <th>648</th>\n",
       "      <td>201011007</td>\n",
       "      <td>Smythes Creek</td>\n",
       "      <td>0</td>\n",
       "      <td>No change</td>\n",
       "      <td>20101</td>\n",
       "      <td>Ballarat</td>\n",
       "      <td>201</td>\n",
       "      <td>Ballarat</td>\n",
       "      <td>2RVIC</td>\n",
       "      <td>Rest of Vic.</td>\n",
       "      <td>2</td>\n",
       "      <td>Victoria</td>\n",
       "      <td>AUS</td>\n",
       "      <td>Australia</td>\n",
       "      <td>104.7274</td>\n",
       "      <td>http://linked.data.gov.au/dataset/asgsed3/SA2/...</td>\n",
       "      <td>POLYGON ((143.73296 -37.62333, 143.73263 -37.6...</td>\n",
       "    </tr>\n",
       "  </tbody>\n",
       "</table>\n",
       "</div>"
      ],
      "text/plain": [
       "    SA2_CODE21     SA2_NAME21 CHG_FLAG21  CHG_LBL21 SA3_CODE21 SA3_NAME21  \\\n",
       "644  201011001      Alfredton          0  No change      20101   Ballarat   \n",
       "645  201011002       Ballarat          0  No change      20101   Ballarat   \n",
       "646  201011005      Buninyong          0  No change      20101   Ballarat   \n",
       "647  201011006      Delacombe          0  No change      20101   Ballarat   \n",
       "648  201011007  Smythes Creek          0  No change      20101   Ballarat   \n",
       "\n",
       "    SA4_CODE21 SA4_NAME21 GCC_CODE21    GCC_NAME21 STE_CODE21 STE_NAME21  \\\n",
       "644        201   Ballarat      2RVIC  Rest of Vic.          2   Victoria   \n",
       "645        201   Ballarat      2RVIC  Rest of Vic.          2   Victoria   \n",
       "646        201   Ballarat      2RVIC  Rest of Vic.          2   Victoria   \n",
       "647        201   Ballarat      2RVIC  Rest of Vic.          2   Victoria   \n",
       "648        201   Ballarat      2RVIC  Rest of Vic.          2   Victoria   \n",
       "\n",
       "    AUS_CODE21 AUS_NAME21  AREASQKM21  \\\n",
       "644        AUS  Australia     52.7109   \n",
       "645        AUS  Australia     12.3787   \n",
       "646        AUS  Australia     51.5855   \n",
       "647        AUS  Australia     34.1607   \n",
       "648        AUS  Australia    104.7274   \n",
       "\n",
       "                                            LOCI_URI21  \\\n",
       "644  http://linked.data.gov.au/dataset/asgsed3/SA2/...   \n",
       "645  http://linked.data.gov.au/dataset/asgsed3/SA2/...   \n",
       "646  http://linked.data.gov.au/dataset/asgsed3/SA2/...   \n",
       "647  http://linked.data.gov.au/dataset/asgsed3/SA2/...   \n",
       "648  http://linked.data.gov.au/dataset/asgsed3/SA2/...   \n",
       "\n",
       "                                              geometry  \n",
       "644  POLYGON ((143.78282 -37.56666, 143.75558 -37.5...  \n",
       "645  POLYGON ((143.81896 -37.55582, 143.81644 -37.5...  \n",
       "646  POLYGON ((143.84171 -37.61596, 143.84176 -37.6...  \n",
       "647  POLYGON ((143.7505 -37.59119, 143.75044 -37.59...  \n",
       "648  POLYGON ((143.73296 -37.62333, 143.73263 -37.6...  "
      ]
     },
     "execution_count": 4,
     "metadata": {},
     "output_type": "execute_result"
    }
   ],
   "source": [
    "vic_gdf = gdf[gdf['STE_NAME21'] == 'Victoria']\n",
    "vic_gdf.head()"
   ]
  },
  {
   "cell_type": "code",
   "execution_count": 6,
   "metadata": {},
   "outputs": [
    {
     "data": {
      "image/png": "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",
      "text/plain": [
       "<Figure size 432x288 with 1 Axes>"
      ]
     },
     "metadata": {
      "needs_background": "light"
     },
     "output_type": "display_data"
    }
   ],
   "source": [
    "import matplotlib.pyplot as plt\n",
    "\n",
    "# Plot the data for Victoria\n",
    "vic_gdf.plot()\n",
    "plt.title(\"Suburbs and Localities in Victoria\")\n",
    "plt.xlabel(\"Longitude\")\n",
    "plt.ylabel(\"Latitude\")\n",
    "plt.show()"
   ]
  }
 ],
 "metadata": {
  "kernelspec": {
   "display_name": "Python 3.9.12 ('base')",
   "language": "python",
   "name": "python3"
  },
  "language_info": {
   "codemirror_mode": {
    "name": "ipython",
    "version": 3
   },
   "file_extension": ".py",
   "mimetype": "text/x-python",
   "name": "python",
   "nbconvert_exporter": "python",
   "pygments_lexer": "ipython3",
   "version": "3.9.12"
  },
  "orig_nbformat": 4,
  "vscode": {
   "interpreter": {
    "hash": "baff9592c8012f58ef29913c26b36dfef2cc8fbd5fb5087a86b57c0d29ebf4e3"
   }
>>>>>>> 75399d47b9e43c26a7a22cc4af560ed4c34d540e
  }
 },
 "nbformat": 4,
 "nbformat_minor": 2
}
