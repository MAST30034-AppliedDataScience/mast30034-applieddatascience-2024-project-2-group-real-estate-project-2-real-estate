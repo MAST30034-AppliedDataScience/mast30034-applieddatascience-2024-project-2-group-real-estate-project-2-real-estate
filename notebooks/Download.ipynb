{
 "cells": [
  {
   "cell_type": "code",
   "execution_count": 11,
   "metadata": {},
   "outputs": [],
   "source": [
    "import os\n",
    "import requests\n",
    "import json\n",
    "from urllib.parse import urlencode\n",
    "\n",
    "\n",
    "\n",
    "# Ensure the directory exists\n",
    "os.makedirs(os.path.dirname(output_file), exist_ok=True)\n",
    "\n",
    "def fetch_data_from_api(ids, start_period, dimension_at_observation, output_file):\n",
    "    base_url = \"https://api.data.abs.gov.au/data/ABS,ABS_REGIONAL_ASGS2021,/..\"\n",
    "    params = {\n",
    "        'startPeriod': start_period,\n",
    "        'dimensionAtObservation': dimension_at_observation,\n",
    "    }\n",
    "    \n",
    "    # Ensure the directory exists\n",
    "    os.makedirs(os.path.dirname(output_file), exist_ok=True)\n",
    "\n",
    "    for i in range(0, len(ids), 50):  # Split IDs into batches of 50\n",
    "        batch_ids = ids[i:i + 50]\n",
    "        url = base_url + '+'.join(map(str, batch_ids)) + '.A?' + urlencode(params)\n",
    "\n",
    "        try:\n",
    "            print(f\"Fetching data from the API with batch: {batch_ids}...\")\n",
    "            response = requests.get(url, timeout=60)  # Set a longer timeout if necessary\n",
    "            response.raise_for_status()  # Raise an error for bad responses\n",
    "\n",
    "            # Parsing the response\n",
    "            data = response.json()\n",
    "            print(\"Data fetched successfully.\")\n",
    "\n",
    "            # Append or save the data (in this example, it appends to a file)\n",
    "            with open(output_file, 'a') as file:\n",
    "                json.dump(data, file, indent=4)  # indent=4 for pretty printing\n",
    "            print(f\"Data saved successfully to {output_file}.\")\n",
    "\n",
    "        except requests.exceptions.HTTPError as http_err:\n",
    "            print(f\"HTTP error occurred: {http_err}\")\n",
    "        except requests.exceptions.RequestException as req_err:\n",
    "            print(f\"Request error occurred: {req_err}\")\n",
    "        except Exception as err:\n",
    "            print(f\"Other error occurred: {err}\")"
   ]
  },
  {
   "cell_type": "code",
   "execution_count": 12,
   "metadata": {},
   "outputs": [
    {
     "name": "stdout",
     "output_type": "stream",
     "text": [
      "Fetching data from the API with batch: ['206041124']...\n",
      "Request error occurred: Expecting value: line 1 column 1 (char 0)\n"
     ]
    }
   ],
   "source": [
    "ids=[\"206041124\"]\n",
    "\n",
    "fetch_data_from_api(ids, '2020', 'AllDimensions', 'data/raw/raw_abs.json')"
   ]
  },
  {
   "cell_type": "code",
   "execution_count": 16,
   "metadata": {},
   "outputs": [
    {
     "data": {
      "text/plain": [
       "('../data/raw/raw_abs.csv', <http.client.HTTPMessage at 0x7f2fe0426e10>)"
      ]
     },
     "execution_count": 16,
     "metadata": {},
     "output_type": "execute_result"
    }
   ],
   "source": [
    "from urllib.request import urlretrieve\n",
    "\n",
    "\n",
    "# Define the API URL from the \"Data query\"\n",
    "url = \"https://api.data.abs.gov.au/data/ABS,ABS_REGIONAL_ASGS2021,/..206041124.A?startPeriod=2020&dimensionAtObservation=AllDimensions&format=csv\"\n",
    "# Define the output file path\n",
    "output_file = '../data/landing/raw_abs.csv'\n",
    "\n",
    "urlretrieve(url, output_file)"
   ]
  },
  {
   "cell_type": "code",
   "execution_count": 17,
   "metadata": {},
   "outputs": [
    {
     "data": {
      "text/plain": [
       "('../data/raw/school_locations.csv',\n",
       " <http.client.HTTPMessage at 0x7f2fe0427a90>)"
      ]
     },
     "execution_count": 17,
     "metadata": {},
     "output_type": "execute_result"
    }
   ],
   "source": [
    "# Define the API URL from the \"Data query\"\n",
    "url = \"https://www.education.vic.gov.au/Documents/about/research/datavic/dv346-schoollocations2023.csv\"\n",
    "# Define the output file path\n",
    "output_file = '../data/landing/school_locations.csv'\n",
    "\n",
    "urlretrieve(url, output_file)"
   ]
  }
 ],
 "metadata": {
  "kernelspec": {
   "display_name": ".venv",
   "language": "python",
   "name": "python3"
  },
  "language_info": {
   "codemirror_mode": {
    "name": "ipython",
    "version": 3
   },
   "file_extension": ".py",
   "mimetype": "text/x-python",
   "name": "python",
   "nbconvert_exporter": "python",
   "pygments_lexer": "ipython3",
   "version": "3.11.0"
  }
 },
 "nbformat": 4,
 "nbformat_minor": 2
}
