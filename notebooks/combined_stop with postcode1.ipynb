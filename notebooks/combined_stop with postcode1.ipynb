{
 "cells": [
  {
   "cell_type": "code",
   "execution_count": null,
   "metadata": {},
   "outputs": [],
   "source": [
    "import pandas as pd\n",
    "import requests\n",
    "import time\n",
    "\n",
    "file_path = '../data/raw/combined_stops.csv'\n",
    "data = pd.read_csv(file_path)\n",
    "\n",
    "# Google Maps API Key\n",
    "api_key = ''  #here is mine private api\n",
    "\n",
    "# Define a function to get a postcode\n",
    "def get_postcode(lat, lon, api_key):\n",
    "    url = f\"https://maps.googleapis.com/maps/api/geocode/json?latlng={lat},{lon}&key={api_key}\"\n",
    "    response = requests.get(url)\n",
    "    if response.status_code == 200:\n",
    "        data = response.json()\n",
    "        if len(data['results']) > 0:\n",
    "            for component in data['results'][0]['address_components']:\n",
    "                if 'postal_code' in component['types']:\n",
    "                    return component['long_name']\n",
    "    return None\n",
    "# Get postcode for each site\n",
    "postcodes = []\n",
    "for index, row in data.iterrows():\n",
    "    lat = row['stop_lat']\n",
    "    lon = row['stop_lon']\n",
    "    postcode = get_postcode(lat, lon, api_key)\n",
    "    postcodes.append(postcode)\n",
    "    time.sleep(0.1)  # Add delays to avoid exceeding API limits\n",
    "\n",
    "# Adding a postcode to the data box\n",
    "data['postcode'] = postcodes\n",
    "\n",
    "output_file_path = 'combined_stops_with_postcodes.csv'\n",
    "data.to_csv(output_file_path, index=False)\n",
    "\n",
    "print(\"Postcodes have been added and the file is saved as 'combined_stops_with_postcodes.csv'\")\n",
    "\n"
   ]
  }
 ],
 "metadata": {
  "language_info": {
   "name": "python"
  }
 },
 "nbformat": 4,
 "nbformat_minor": 2
}
