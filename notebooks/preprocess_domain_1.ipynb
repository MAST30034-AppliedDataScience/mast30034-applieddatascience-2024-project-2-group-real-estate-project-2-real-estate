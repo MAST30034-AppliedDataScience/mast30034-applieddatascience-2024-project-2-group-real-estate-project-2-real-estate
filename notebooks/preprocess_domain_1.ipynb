{
 "cells": [
  {
   "cell_type": "code",
   "outputs": [],
   "source": [
    "import json\n",
    "import os\n",
    "import re\n",
    "import pandas as pd"
   ],
   "metadata": {
    "collapsed": false,
    "ExecuteTime": {
     "end_time": "2024-09-13T01:05:40.980870Z",
     "start_time": "2024-09-13T01:05:40.970208Z"
    }
   },
   "id": "c60044210cd0302b",
   "execution_count": 64
  },
  {
   "cell_type": "code",
   "outputs": [],
   "source": [
    "DATA_DIRECTORY = \"../scrape_data/\""
   ],
   "metadata": {
    "collapsed": false,
    "ExecuteTime": {
     "end_time": "2024-09-13T01:05:40.986045Z",
     "start_time": "2024-09-13T01:05:40.983633Z"
    }
   },
   "id": "ef3fc6794a3c27db",
   "execution_count": 65
  },
  {
   "cell_type": "code",
   "outputs": [],
   "source": [
    "data_files = [file for file in os.listdir(DATA_DIRECTORY) if file.endswith(\".json\")]"
   ],
   "metadata": {
    "collapsed": false,
    "ExecuteTime": {
     "end_time": "2024-09-13T01:05:40.990719Z",
     "start_time": "2024-09-13T01:05:40.987287Z"
    }
   },
   "id": "cbb68dd131857482",
   "execution_count": 66
  },
  {
   "cell_type": "code",
   "outputs": [],
   "source": [
    "data_flat = []"
   ],
   "metadata": {
    "collapsed": false,
    "ExecuteTime": {
     "end_time": "2024-09-13T01:05:41.003495Z",
     "start_time": "2024-09-13T01:05:40.992620Z"
    }
   },
   "id": "5772383346ed6274",
   "execution_count": 67
  },
  {
   "cell_type": "code",
   "outputs": [],
   "source": [
    "def extract_number(text):\n",
    "    match = re.search(r'Bond\\s\\$(\\d+)', text)\n",
    "    if match:\n",
    "        return int(match.group(1))\n",
    "    return None"
   ],
   "metadata": {
    "collapsed": false,
    "ExecuteTime": {
     "end_time": "2024-09-13T01:05:41.010521Z",
     "start_time": "2024-09-13T01:05:41.007488Z"
    }
   },
   "id": "260d650c9402bb88",
   "execution_count": 68
  },
  {
   "cell_type": "code",
   "outputs": [],
   "source": [
    "def flatten_row(row):\n",
    "    try:\n",
    "        row_flat = {\"url\": row[\"url\"], \"price\": row[\"price\"], \"address\": row[\"address\"],\n",
    "                    \"property_type\": row[\"property_type\"], \"latitude\": row[\"latitude\"], \"longitude\": row[\"longitude\"]}\n",
    "\n",
    "        for feature in row[\"features\"]:\n",
    "            if len(feature.split()) == 2:\n",
    "                feature_value, feature_name, *_ = feature.replace(\"- \", \"\").split()\n",
    "                row_flat[feature_name] = feature_value\n",
    "\n",
    "        for summary_item in row[\"summary\"]:\n",
    "            row_flat[\"bond\"] = extract_number(summary_item)\n",
    "\n",
    "        return row_flat\n",
    "    except Exception as e:\n",
    "        print(e)\n",
    "        return None"
   ],
   "metadata": {
    "collapsed": false,
    "ExecuteTime": {
     "end_time": "2024-09-13T01:05:41.015823Z",
     "start_time": "2024-09-13T01:05:41.012017Z"
    }
   },
   "id": "91d792b6bd8f8566",
   "execution_count": 69
  },
  {
   "cell_type": "code",
   "outputs": [],
   "source": [],
   "metadata": {
    "collapsed": false,
    "ExecuteTime": {
     "end_time": "2024-09-13T01:05:41.018918Z",
     "start_time": "2024-09-13T01:05:41.017271Z"
    }
   },
   "id": "47f4c4623aa21cc5",
   "execution_count": 69
  },
  {
   "cell_type": "code",
   "outputs": [
    {
     "name": "stdout",
     "output_type": "stream",
     "text": [
      "'url'\n",
      "9828\n"
     ]
    }
   ],
   "source": [
    "for file in data_files:\n",
    "    with open(DATA_DIRECTORY + file) as f:\n",
    "        content = json.load(f)\n",
    "        for row in content:\n",
    "            flat_row = flatten_row(row)\n",
    "            if flat_row is not None:\n",
    "                data_flat.append(flat_row)\n",
    "\n",
    "print(len(data_flat))"
   ],
   "metadata": {
    "collapsed": false,
    "ExecuteTime": {
     "end_time": "2024-09-13T01:05:41.099369Z",
     "start_time": "2024-09-13T01:05:41.019476Z"
    }
   },
   "id": "259bbf27a7704789",
   "execution_count": 70
  },
  {
   "cell_type": "code",
   "outputs": [
    {
     "data": {
      "text/plain": "                                                 url              price  \\\n0  https://www.domain.com.au/10-allara-court-donv...          $1,400.00   \n1  https://www.domain.com.au/7-pine-ridge-donvale...      $750 per week   \n2  https://www.domain.com.au/20-mulsanne-way-donv...     $1300 per week   \n3  https://www.domain.com.au/3-monterey-crescent-...  $825pw / $3585pcm   \n4  https://www.domain.com.au/3-49-leslie-street-d...            $680.00   \n\n                                 address property_type   latitude   longitude  \\\n0      10 Allara Court, Donvale VIC 3111     Townhouse -37.774273  145.181126   \n1         7 Pine Ridge, Donvale VIC 3111         House -37.791251  145.175649   \n2      20 Mulsanne Way, Donvale VIC 3111         House -37.797232  145.181264   \n3  3 Monterey Crescent, Donvale VIC 3111         House -37.792402  145.174323   \n4   3/49 Leslie Street, Donvale VIC 3111     Townhouse -37.781012  145.180705   \n\n  Beds Baths Parking    bond Bath  Bed  \n0    4     3       2  9125.0  NaN  NaN  \n1    4     2       −  3259.0  NaN  NaN  \n2    5     2       2  5649.0  NaN  NaN  \n3    3   NaN       5  3585.0    1  NaN  \n4    3     2       2  2955.0  NaN  NaN  ",
      "text/html": "<div>\n<style scoped>\n    .dataframe tbody tr th:only-of-type {\n        vertical-align: middle;\n    }\n\n    .dataframe tbody tr th {\n        vertical-align: top;\n    }\n\n    .dataframe thead th {\n        text-align: right;\n    }\n</style>\n<table border=\"1\" class=\"dataframe\">\n  <thead>\n    <tr style=\"text-align: right;\">\n      <th></th>\n      <th>url</th>\n      <th>price</th>\n      <th>address</th>\n      <th>property_type</th>\n      <th>latitude</th>\n      <th>longitude</th>\n      <th>Beds</th>\n      <th>Baths</th>\n      <th>Parking</th>\n      <th>bond</th>\n      <th>Bath</th>\n      <th>Bed</th>\n    </tr>\n  </thead>\n  <tbody>\n    <tr>\n      <th>0</th>\n      <td>https://www.domain.com.au/10-allara-court-donv...</td>\n      <td>$1,400.00</td>\n      <td>10 Allara Court, Donvale VIC 3111</td>\n      <td>Townhouse</td>\n      <td>-37.774273</td>\n      <td>145.181126</td>\n      <td>4</td>\n      <td>3</td>\n      <td>2</td>\n      <td>9125.0</td>\n      <td>NaN</td>\n      <td>NaN</td>\n    </tr>\n    <tr>\n      <th>1</th>\n      <td>https://www.domain.com.au/7-pine-ridge-donvale...</td>\n      <td>$750 per week</td>\n      <td>7 Pine Ridge, Donvale VIC 3111</td>\n      <td>House</td>\n      <td>-37.791251</td>\n      <td>145.175649</td>\n      <td>4</td>\n      <td>2</td>\n      <td>−</td>\n      <td>3259.0</td>\n      <td>NaN</td>\n      <td>NaN</td>\n    </tr>\n    <tr>\n      <th>2</th>\n      <td>https://www.domain.com.au/20-mulsanne-way-donv...</td>\n      <td>$1300 per week</td>\n      <td>20 Mulsanne Way, Donvale VIC 3111</td>\n      <td>House</td>\n      <td>-37.797232</td>\n      <td>145.181264</td>\n      <td>5</td>\n      <td>2</td>\n      <td>2</td>\n      <td>5649.0</td>\n      <td>NaN</td>\n      <td>NaN</td>\n    </tr>\n    <tr>\n      <th>3</th>\n      <td>https://www.domain.com.au/3-monterey-crescent-...</td>\n      <td>$825pw / $3585pcm</td>\n      <td>3 Monterey Crescent, Donvale VIC 3111</td>\n      <td>House</td>\n      <td>-37.792402</td>\n      <td>145.174323</td>\n      <td>3</td>\n      <td>NaN</td>\n      <td>5</td>\n      <td>3585.0</td>\n      <td>1</td>\n      <td>NaN</td>\n    </tr>\n    <tr>\n      <th>4</th>\n      <td>https://www.domain.com.au/3-49-leslie-street-d...</td>\n      <td>$680.00</td>\n      <td>3/49 Leslie Street, Donvale VIC 3111</td>\n      <td>Townhouse</td>\n      <td>-37.781012</td>\n      <td>145.180705</td>\n      <td>3</td>\n      <td>2</td>\n      <td>2</td>\n      <td>2955.0</td>\n      <td>NaN</td>\n      <td>NaN</td>\n    </tr>\n  </tbody>\n</table>\n</div>"
     },
     "execution_count": 71,
     "metadata": {},
     "output_type": "execute_result"
    }
   ],
   "source": [
    "df = pd.DataFrame(data_flat)\n",
    "df.head()"
   ],
   "metadata": {
    "collapsed": false,
    "ExecuteTime": {
     "end_time": "2024-09-13T01:05:41.118447Z",
     "start_time": "2024-09-13T01:05:41.099981Z"
    }
   },
   "id": "91714b975c7ba3a4",
   "execution_count": 71
  },
  {
   "cell_type": "code",
   "outputs": [],
   "source": [
    "df[\"Beds\"] = df[\"Beds\"].replace([\"−\"], 0)\n",
    "df[\"Baths\"] = df[\"Baths\"].replace([\"−\"], 0)\n",
    "df[\"Parking\"] = df[\"Parking\"].replace([\"−\"], 0)\n",
    "\n",
    "df['Beds'] = df['Beds'].fillna(df['Bed'])\n",
    "df = df.drop(columns=['Bed'])\n",
    "\n",
    "df['Baths'] = df['Baths'].fillna(df['Bath'])\n",
    "df = df.drop(columns=['Bath'])\n",
    "\n",
    "df[\"Beds\"] = pd.to_numeric(df[\"Beds\"], errors='coerce')\n",
    "df[\"Baths\"] = pd.to_numeric(df[\"Baths\"], errors='coerce')\n",
    "df[\"Parking\"] = pd.to_numeric(df[\"Parking\"], errors='coerce')"
   ],
   "metadata": {
    "collapsed": false,
    "ExecuteTime": {
     "end_time": "2024-09-13T01:05:41.137239Z",
     "start_time": "2024-09-13T01:05:41.119972Z"
    }
   },
   "id": "f4061de5734542f1",
   "execution_count": 72
  },
  {
   "cell_type": "code",
   "outputs": [
    {
     "data": {
      "text/plain": "                                                 url              price  \\\n0  https://www.domain.com.au/10-allara-court-donv...          $1,400.00   \n1  https://www.domain.com.au/7-pine-ridge-donvale...      $750 per week   \n2  https://www.domain.com.au/20-mulsanne-way-donv...     $1300 per week   \n3  https://www.domain.com.au/3-monterey-crescent-...  $825pw / $3585pcm   \n4  https://www.domain.com.au/3-49-leslie-street-d...            $680.00   \n\n                                 address property_type   latitude   longitude  \\\n0      10 Allara Court, Donvale VIC 3111     Townhouse -37.774273  145.181126   \n1         7 Pine Ridge, Donvale VIC 3111         House -37.791251  145.175649   \n2      20 Mulsanne Way, Donvale VIC 3111         House -37.797232  145.181264   \n3  3 Monterey Crescent, Donvale VIC 3111         House -37.792402  145.174323   \n4   3/49 Leslie Street, Donvale VIC 3111     Townhouse -37.781012  145.180705   \n\n   Beds  Baths  Parking    bond  \n0   4.0    3.0      2.0  9125.0  \n1   4.0    2.0      0.0  3259.0  \n2   5.0    2.0      2.0  5649.0  \n3   3.0    1.0      5.0  3585.0  \n4   3.0    2.0      2.0  2955.0  ",
      "text/html": "<div>\n<style scoped>\n    .dataframe tbody tr th:only-of-type {\n        vertical-align: middle;\n    }\n\n    .dataframe tbody tr th {\n        vertical-align: top;\n    }\n\n    .dataframe thead th {\n        text-align: right;\n    }\n</style>\n<table border=\"1\" class=\"dataframe\">\n  <thead>\n    <tr style=\"text-align: right;\">\n      <th></th>\n      <th>url</th>\n      <th>price</th>\n      <th>address</th>\n      <th>property_type</th>\n      <th>latitude</th>\n      <th>longitude</th>\n      <th>Beds</th>\n      <th>Baths</th>\n      <th>Parking</th>\n      <th>bond</th>\n    </tr>\n  </thead>\n  <tbody>\n    <tr>\n      <th>0</th>\n      <td>https://www.domain.com.au/10-allara-court-donv...</td>\n      <td>$1,400.00</td>\n      <td>10 Allara Court, Donvale VIC 3111</td>\n      <td>Townhouse</td>\n      <td>-37.774273</td>\n      <td>145.181126</td>\n      <td>4.0</td>\n      <td>3.0</td>\n      <td>2.0</td>\n      <td>9125.0</td>\n    </tr>\n    <tr>\n      <th>1</th>\n      <td>https://www.domain.com.au/7-pine-ridge-donvale...</td>\n      <td>$750 per week</td>\n      <td>7 Pine Ridge, Donvale VIC 3111</td>\n      <td>House</td>\n      <td>-37.791251</td>\n      <td>145.175649</td>\n      <td>4.0</td>\n      <td>2.0</td>\n      <td>0.0</td>\n      <td>3259.0</td>\n    </tr>\n    <tr>\n      <th>2</th>\n      <td>https://www.domain.com.au/20-mulsanne-way-donv...</td>\n      <td>$1300 per week</td>\n      <td>20 Mulsanne Way, Donvale VIC 3111</td>\n      <td>House</td>\n      <td>-37.797232</td>\n      <td>145.181264</td>\n      <td>5.0</td>\n      <td>2.0</td>\n      <td>2.0</td>\n      <td>5649.0</td>\n    </tr>\n    <tr>\n      <th>3</th>\n      <td>https://www.domain.com.au/3-monterey-crescent-...</td>\n      <td>$825pw / $3585pcm</td>\n      <td>3 Monterey Crescent, Donvale VIC 3111</td>\n      <td>House</td>\n      <td>-37.792402</td>\n      <td>145.174323</td>\n      <td>3.0</td>\n      <td>1.0</td>\n      <td>5.0</td>\n      <td>3585.0</td>\n    </tr>\n    <tr>\n      <th>4</th>\n      <td>https://www.domain.com.au/3-49-leslie-street-d...</td>\n      <td>$680.00</td>\n      <td>3/49 Leslie Street, Donvale VIC 3111</td>\n      <td>Townhouse</td>\n      <td>-37.781012</td>\n      <td>145.180705</td>\n      <td>3.0</td>\n      <td>2.0</td>\n      <td>2.0</td>\n      <td>2955.0</td>\n    </tr>\n  </tbody>\n</table>\n</div>"
     },
     "execution_count": 73,
     "metadata": {},
     "output_type": "execute_result"
    }
   ],
   "source": [
    "df.head()"
   ],
   "metadata": {
    "collapsed": false,
    "ExecuteTime": {
     "end_time": "2024-09-13T01:05:41.143689Z",
     "start_time": "2024-09-13T01:05:41.137878Z"
    }
   },
   "id": "efd5512b0ffa16e6",
   "execution_count": 73
  },
  {
   "cell_type": "code",
   "outputs": [],
   "source": [
    "# Save as parquet\n",
    "df.to_parquet(\"../data/raw/domain.parquet\")"
   ],
   "metadata": {
    "collapsed": false,
    "ExecuteTime": {
     "end_time": "2024-09-13T01:05:41.185425Z",
     "start_time": "2024-09-13T01:05:41.144371Z"
    }
   },
   "id": "49714c1987c1fbeb",
   "execution_count": 74
  }
 ],
 "metadata": {
  "kernelspec": {
   "display_name": "Python 3",
   "language": "python",
   "name": "python3"
  },
  "language_info": {
   "codemirror_mode": {
    "name": "ipython",
    "version": 2
   },
   "file_extension": ".py",
   "mimetype": "text/x-python",
   "name": "python",
   "nbconvert_exporter": "python",
   "pygments_lexer": "ipython2",
   "version": "2.7.6"
  }
 },
 "nbformat": 4,
 "nbformat_minor": 5
}
