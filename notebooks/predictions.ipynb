{
 "cells": [
  {
   "cell_type": "markdown",
   "metadata": {},
   "source": [
    "# Rental Price Predictions and Growth Rates"
   ]
  },
  {
   "cell_type": "markdown",
   "metadata": {},
   "source": [
    "### Importing Libraries and Functions"
   ]
  },
  {
   "cell_type": "code",
   "execution_count": 61,
   "metadata": {},
   "outputs": [],
   "source": [
    "import pickle\n",
    "import pandas as pd\n",
    "import numpy as np\n",
    "from sklearn.preprocessing import StandardScaler, PolynomialFeatures"
   ]
  },
  {
   "cell_type": "markdown",
   "metadata": {},
   "source": [
    "### Reading in the models"
   ]
  },
  {
   "cell_type": "code",
   "execution_count": 62,
   "metadata": {},
   "outputs": [],
   "source": [
    "model_read_dir = '../models/'\n",
    "\n",
    "# Load in saved models for Greater Melbourne \n",
    "with open(f\"{model_read_dir}gm_lr.pkl\", 'rb') as file:\n",
    "    gm_lr_model = pickle.load(file)\n",
    "\n",
    "with open(f\"{model_read_dir}gm_rf.pkl\", 'rb') as file:\n",
    "    gm_rf_model = pickle.load(file)\n",
    "    \n",
    "# Load in saved models for Rest of Vic\n",
    "with open(f\"{model_read_dir}rv_lr.pkl\", 'rb') as file:\n",
    "    rv_lr_model = pickle.load(file)\n",
    "\n",
    "with open(f\"{model_read_dir}rv_rf.pkl\", 'rb') as file:\n",
    "    rv_rf_model = pickle.load(file)"
   ]
  },
  {
   "cell_type": "code",
   "execution_count": 63,
   "metadata": {},
   "outputs": [
    {
     "name": "stdout",
     "output_type": "stream",
     "text": [
      "Greater Melbourne Linear Regression Type: <class 'sklearn.linear_model._base.LinearRegression'>\n",
      "Greater Melbourne Random Forest Type: <class 'sklearn.ensemble._forest.RandomForestRegressor'>\n",
      "Rest of Vic Linear Regression Type: <class 'sklearn.linear_model._base.LinearRegression'>\n",
      "Rest of Vic Random Forest Type: <class 'sklearn.ensemble._forest.RandomForestRegressor'>\n"
     ]
    }
   ],
   "source": [
    "# Ensure the models have been correctly loaded in\n",
    "\n",
    "print(f\"Greater Melbourne Linear Regression Type: {type(gm_lr_model)}\") \n",
    "print(f\"Greater Melbourne Random Forest Type: {type(gm_rf_model)}\") \n",
    "print(f\"Rest of Vic Linear Regression Type: {type(rv_lr_model)}\") \n",
    "print(f\"Rest of Vic Random Forest Type: {type(rv_rf_model)}\") "
   ]
  },
  {
   "cell_type": "markdown",
   "metadata": {},
   "source": [
    "### Reading in Data for Predictions"
   ]
  },
  {
   "cell_type": "code",
   "execution_count": 64,
   "metadata": {},
   "outputs": [],
   "source": [
    "# Read in prediction data and their identifiers for later\n",
    "forecast_read_dir = '../data/curated/forecast/'\n",
    "\n",
    "gm_df = pd.read_csv(f\"{forecast_read_dir}greater_melbourne_predict.csv\")\n",
    "gm_identifiers_df = pd.read_csv(f\"{forecast_read_dir}gm_predict_identifiers.csv\")\n",
    "\n",
    "rv_df = pd.read_csv(f\"{forecast_read_dir}rest_of_vic_predict.csv\")\n",
    "rv_identifiers_df = pd.read_csv(f\"{forecast_read_dir}rv_predict_identifiers.csv\")"
   ]
  },
  {
   "cell_type": "markdown",
   "metadata": {},
   "source": [
    "### Scaling the Datasets"
   ]
  },
  {
   "cell_type": "code",
   "execution_count": 65,
   "metadata": {},
   "outputs": [],
   "source": [
    "# Apply necessary transformations on test dataset \n",
    "\n",
    "# Linear Regression Transformations for Greater Melbourne and Rest of Vic in the same order as \n",
    "# modelling_properties.ipynb\n",
    "\n",
    "poly = PolynomialFeatures(degree=2, interaction_only=True, include_bias=False)\n",
    "scaler = StandardScaler()\n",
    "\n",
    "gm_lr_np = scaler.fit_transform(gm_df)\n",
    "gm_lr_np = poly.fit_transform(gm_lr_np)\n",
    "\n",
    "rv_lr_np = poly.fit_transform(rv_df)\n",
    "rv_lr_np = scaler.fit_transform(rv_lr_np)\n",
    "\n",
    "# Random Forest Transformation - only StandardScaler \n",
    "gm_rf_np = scaler.fit_transform(gm_df)\n",
    "rv_rf_np = scaler.fit_transform(rv_df)"
   ]
  },
  {
   "cell_type": "markdown",
   "metadata": {},
   "source": [
    "### Predicting Future Prices"
   ]
  },
  {
   "cell_type": "code",
   "execution_count": 66,
   "metadata": {},
   "outputs": [],
   "source": [
    "# Predict forecasted data\n",
    "\n",
    "gm_lr_predictions = gm_lr_model.predict(gm_lr_np)\n",
    "gm_rf_predictions = gm_rf_model.predict(gm_rf_np)\n",
    "\n",
    "rv_lr_predictions = rv_lr_model.predict(rv_lr_np)\n",
    "rv_rf_predictions = rv_rf_model.predict(rv_rf_np)"
   ]
  },
  {
   "cell_type": "code",
   "execution_count": 67,
   "metadata": {},
   "outputs": [],
   "source": [
    "# Convert predictions to dataframe type\n",
    "gm_lr_pred_df = pd.DataFrame(gm_lr_predictions, columns=['weekly_cost'])\n",
    "gm_rf_pred_df = pd.DataFrame(gm_rf_predictions, columns=['weekly_cost'])\n",
    "\n",
    "rv_lr_pred_df = pd.DataFrame(rv_lr_predictions, columns=['weekly_cost'])\n",
    "rv_rf_pred_df = pd.DataFrame(rv_rf_predictions, columns=['weekly_cost'])"
   ]
  },
  {
   "cell_type": "code",
   "execution_count": 68,
   "metadata": {},
   "outputs": [
    {
     "name": "stderr",
     "output_type": "stream",
     "text": [
      "/home/obli/.local/lib/python3.10/site-packages/pandas/core/internals/blocks.py:393: RuntimeWarning: overflow encountered in exp\n",
      "  result = func(self.values, **kwargs)\n"
     ]
    }
   ],
   "source": [
    "# Back-transform predictions, as they were initially log-transformed\n",
    "gm_lr_orig_pred = np.exp(gm_lr_pred_df)\n",
    "gm_rf_orig_pred = np.exp(gm_rf_pred_df)\n",
    "\n",
    "rv_lr_orig_pred = np.exp(rv_lr_pred_df)\n",
    "rv_rf_orig_pred = np.exp(rv_rf_pred_df)"
   ]
  },
  {
   "cell_type": "code",
   "execution_count": 69,
   "metadata": {},
   "outputs": [
    {
     "name": "stdout",
     "output_type": "stream",
     "text": [
      "<class 'pandas.core.frame.DataFrame'>\n"
     ]
    }
   ],
   "source": [
    "print(type(gm_lr_orig_pred))"
   ]
  },
  {
   "cell_type": "code",
   "execution_count": 70,
   "metadata": {},
   "outputs": [],
   "source": [
    "# Join with identifiers for analysis\n",
    "gm_lr_pred_final = pd.concat([gm_identifiers_df, gm_lr_orig_pred], axis=1)\n",
    "gm_rf_pred_final = pd.concat([gm_identifiers_df, gm_rf_orig_pred], axis=1)\n",
    "\n",
    "rv_lr_pred_final = pd.concat([rv_identifiers_df, rv_lr_orig_pred], axis=1)\n",
    "rv_rf_pred_final = pd.concat([rv_identifiers_df, rv_rf_orig_pred], axis=1)"
   ]
  },
  {
   "cell_type": "markdown",
   "metadata": {},
   "source": [
    "### Results"
   ]
  },
  {
   "cell_type": "code",
   "execution_count": 71,
   "metadata": {},
   "outputs": [
    {
     "name": "stdout",
     "output_type": "stream",
     "text": [
      "GM Linear Regression Prediction Head: \n",
      "        suburb  year  weekly_cost\n",
      "0  albert park  2025   482.952433\n",
      "1  albert park  2026   483.899851\n",
      "2  albert park  2027   558.603027\n",
      "3  albert park  2028   591.819938\n",
      "4  albert park  2029   637.488714\n",
      "GM Random Forest Prediction Head: \n",
      "        suburb  year  weekly_cost\n",
      "0  albert park  2025   444.158913\n",
      "1  albert park  2026   445.717426\n",
      "2  albert park  2027   457.640942\n",
      "3  albert park  2028   695.314139\n",
      "4  albert park  2029   708.844757\n",
      "RV Linear Regression Prediction Head: \n",
      "   suburb  year  weekly_cost\n",
      "0  ararat  2025          inf\n",
      "1  ararat  2026          inf\n",
      "2  ararat  2027          inf\n",
      "3  ararat  2028          inf\n",
      "4  ararat  2029          inf\n",
      "RV Random Forest Prediction Head: \n",
      "   suburb  year  weekly_cost\n",
      "0  ararat  2025   354.397564\n",
      "1  ararat  2026   359.167350\n",
      "2  ararat  2027   388.530877\n",
      "3  ararat  2028   436.962740\n",
      "4  ararat  2029   449.387281\n"
     ]
    }
   ],
   "source": [
    "print(\"GM Linear Regression Prediction Head: \")\n",
    "print(gm_lr_pred_final.head())\n",
    "print(\"GM Random Forest Prediction Head: \")\n",
    "print(gm_rf_pred_final.head())\n",
    "\n",
    "print(\"RV Linear Regression Prediction Head: \")\n",
    "print(rv_lr_pred_final.head())\n",
    "print(\"RV Random Forest Prediction Head: \")\n",
    "print(rv_rf_pred_final.head())"
   ]
  },
  {
   "cell_type": "code",
   "execution_count": 72,
   "metadata": {},
   "outputs": [],
   "source": [
    "# Group by suburb, year and transform to have feature of predicted weekly cost per year for each\n",
    "# suburb\n",
    "\n",
    "gm_predicted_average_costs = gm_rf_pred_final.groupby(['suburb', 'year'])['weekly_cost'].mean().reset_index()\n",
    "rv_predicted_average_costs = rv_rf_pred_final.groupby(['suburb', 'year'])['weekly_cost'].mean().reset_index()\n",
    "\n",
    "# TransformingD\n",
    "gm_pred_costs_transformed = gm_predicted_average_costs.pivot(index='suburb', columns='year', values='weekly_cost')\n",
    "gm_pred_costs_transformed.columns = [f'{year}_weekly_cost' for year in gm_pred_costs_transformed.columns]  # Rename columns\n",
    "gm_pred_costs_transformed.reset_index(inplace=True)  # Reset index to bring 'suburb' back as a column\n",
    "\n",
    "rv_pred_costs_transformed = rv_predicted_average_costs.pivot(index='suburb', columns='year', values='weekly_cost')\n",
    "rv_pred_costs_transformed.columns = [f'{year}_weekly_cost' for year in rv_pred_costs_transformed.columns]  # Rename columns\n",
    "rv_pred_costs_transformed.reset_index(inplace=True)  # Reset index to bring 'suburb' back as a column"
   ]
  },
  {
   "cell_type": "code",
   "execution_count": 73,
   "metadata": {},
   "outputs": [],
   "source": [
    "# Read in current data to compare 2024 prices\n",
    "data_read_dir = '../data/curated/final_datasets/'\n",
    "\n",
    "gm_real = pd.read_csv(f\"{data_read_dir}greater_melbourne_train.csv\")\n",
    "gm_real_identifiers = pd.read_csv(f\"{data_read_dir}gm_train_identifiers.csv\")\n",
    "\n",
    "rv_real = pd.read_csv(f\"{data_read_dir}rest_of_vic_train.csv\")\n",
    "rv_real_identifiers = pd.read_csv(f\"{data_read_dir}rv_train_identifiers.csv\")"
   ]
  },
  {
   "cell_type": "code",
   "execution_count": 74,
   "metadata": {},
   "outputs": [],
   "source": [
    "# Combine with identifiers and group by year, suburb, keep only 2024 data\n",
    "gm_data = pd.concat([gm_real_identifiers, gm_real], axis=1)\n",
    "rv_data = pd.concat([rv_real_identifiers, rv_real], axis=1)\n",
    "\n",
    "gm_current_average_costs = gm_data.groupby(['suburb', 'year'])['weekly_cost'].mean().reset_index()\n",
    "rv_current_average_costs = rv_data.groupby(['suburb', 'year'])['weekly_cost'].mean().reset_index()\n",
    "\n",
    "\n",
    "gm_current_average_costs = gm_current_average_costs[gm_current_average_costs['year'] == 2024]\\\n",
    "    .rename(columns={'weekly_cost': '2024_weekly_cost'})\\\n",
    "    .drop('year', axis=1)\n",
    "rv_current_average_costs = rv_current_average_costs[rv_current_average_costs['year'] == 2024]\\\n",
    "    .rename(columns={'weekly_cost': '2024_weekly_cost'})\\\n",
    "    .drop('year', axis=1)\n"
   ]
  },
  {
   "cell_type": "code",
   "execution_count": 75,
   "metadata": {},
   "outputs": [
    {
     "data": {
      "text/html": [
       "<div>\n",
       "<style scoped>\n",
       "    .dataframe tbody tr th:only-of-type {\n",
       "        vertical-align: middle;\n",
       "    }\n",
       "\n",
       "    .dataframe tbody tr th {\n",
       "        vertical-align: top;\n",
       "    }\n",
       "\n",
       "    .dataframe thead th {\n",
       "        text-align: right;\n",
       "    }\n",
       "</style>\n",
       "<table border=\"1\" class=\"dataframe\">\n",
       "  <thead>\n",
       "    <tr style=\"text-align: right;\">\n",
       "      <th></th>\n",
       "      <th>suburb</th>\n",
       "      <th>year</th>\n",
       "      <th>beds</th>\n",
       "      <th>baths</th>\n",
       "      <th>parking</th>\n",
       "      <th>dist_to_city</th>\n",
       "      <th>dist_to_education</th>\n",
       "      <th>dist_to_parks_and_gardens</th>\n",
       "      <th>dist_to_train_station</th>\n",
       "      <th>dist_to_healthcare</th>\n",
       "      <th>...</th>\n",
       "      <th>median_age</th>\n",
       "      <th>median_weekly_rent</th>\n",
       "      <th>percent_aboriginal_torres_strait_islander</th>\n",
       "      <th>percent_au_citizen</th>\n",
       "      <th>percent_overseas_born</th>\n",
       "      <th>percent_rental_properties</th>\n",
       "      <th>population</th>\n",
       "      <th>percent_unemployed</th>\n",
       "      <th>housing_index</th>\n",
       "      <th>cpi_without_housing</th>\n",
       "    </tr>\n",
       "  </thead>\n",
       "  <tbody>\n",
       "    <tr>\n",
       "      <th>0</th>\n",
       "      <td>albert park</td>\n",
       "      <td>2025</td>\n",
       "      <td>2.0</td>\n",
       "      <td>1.0</td>\n",
       "      <td>1.0</td>\n",
       "      <td>4.42985</td>\n",
       "      <td>0.52632</td>\n",
       "      <td>0.19365</td>\n",
       "      <td>3.36613</td>\n",
       "      <td>0.44046</td>\n",
       "      <td>...</td>\n",
       "      <td>42.80</td>\n",
       "      <td>512.9</td>\n",
       "      <td>0.323333</td>\n",
       "      <td>4.113333</td>\n",
       "      <td>35.52</td>\n",
       "      <td>43.86</td>\n",
       "      <td>14420.682864</td>\n",
       "      <td>4.603333</td>\n",
       "      <td>149.056579</td>\n",
       "      <td>130.086404</td>\n",
       "    </tr>\n",
       "    <tr>\n",
       "      <th>1</th>\n",
       "      <td>albert park</td>\n",
       "      <td>2026</td>\n",
       "      <td>2.0</td>\n",
       "      <td>1.0</td>\n",
       "      <td>1.0</td>\n",
       "      <td>4.42985</td>\n",
       "      <td>0.52632</td>\n",
       "      <td>0.19365</td>\n",
       "      <td>3.36613</td>\n",
       "      <td>0.44046</td>\n",
       "      <td>...</td>\n",
       "      <td>43.14</td>\n",
       "      <td>516.0</td>\n",
       "      <td>0.333333</td>\n",
       "      <td>3.833333</td>\n",
       "      <td>35.90</td>\n",
       "      <td>44.00</td>\n",
       "      <td>14624.772379</td>\n",
       "      <td>4.633333</td>\n",
       "      <td>152.824737</td>\n",
       "      <td>132.342675</td>\n",
       "    </tr>\n",
       "    <tr>\n",
       "      <th>2</th>\n",
       "      <td>albert park</td>\n",
       "      <td>2027</td>\n",
       "      <td>2.0</td>\n",
       "      <td>1.0</td>\n",
       "      <td>1.0</td>\n",
       "      <td>4.42985</td>\n",
       "      <td>0.52632</td>\n",
       "      <td>0.19365</td>\n",
       "      <td>3.36613</td>\n",
       "      <td>0.44046</td>\n",
       "      <td>...</td>\n",
       "      <td>43.48</td>\n",
       "      <td>519.1</td>\n",
       "      <td>0.343333</td>\n",
       "      <td>3.553333</td>\n",
       "      <td>36.28</td>\n",
       "      <td>44.14</td>\n",
       "      <td>14820.286445</td>\n",
       "      <td>4.663333</td>\n",
       "      <td>156.592895</td>\n",
       "      <td>134.598947</td>\n",
       "    </tr>\n",
       "    <tr>\n",
       "      <th>3</th>\n",
       "      <td>albert park</td>\n",
       "      <td>2028</td>\n",
       "      <td>2.0</td>\n",
       "      <td>1.0</td>\n",
       "      <td>1.0</td>\n",
       "      <td>4.42985</td>\n",
       "      <td>0.52632</td>\n",
       "      <td>0.19365</td>\n",
       "      <td>3.36613</td>\n",
       "      <td>0.44046</td>\n",
       "      <td>...</td>\n",
       "      <td>43.82</td>\n",
       "      <td>522.2</td>\n",
       "      <td>0.353333</td>\n",
       "      <td>3.273333</td>\n",
       "      <td>36.66</td>\n",
       "      <td>44.28</td>\n",
       "      <td>15014.808184</td>\n",
       "      <td>4.693333</td>\n",
       "      <td>160.361053</td>\n",
       "      <td>136.855219</td>\n",
       "    </tr>\n",
       "    <tr>\n",
       "      <th>4</th>\n",
       "      <td>albert park</td>\n",
       "      <td>2029</td>\n",
       "      <td>2.0</td>\n",
       "      <td>1.0</td>\n",
       "      <td>1.0</td>\n",
       "      <td>4.42985</td>\n",
       "      <td>0.52632</td>\n",
       "      <td>0.19365</td>\n",
       "      <td>3.36613</td>\n",
       "      <td>0.44046</td>\n",
       "      <td>...</td>\n",
       "      <td>44.16</td>\n",
       "      <td>525.3</td>\n",
       "      <td>0.363333</td>\n",
       "      <td>2.993333</td>\n",
       "      <td>37.04</td>\n",
       "      <td>44.42</td>\n",
       "      <td>15208.063939</td>\n",
       "      <td>4.723333</td>\n",
       "      <td>164.129211</td>\n",
       "      <td>139.111491</td>\n",
       "    </tr>\n",
       "  </tbody>\n",
       "</table>\n",
       "<p>5 rows × 24 columns</p>\n",
       "</div>"
      ],
      "text/plain": [
       "        suburb  year  beds  baths  parking  dist_to_city  dist_to_education  \\\n",
       "0  albert park  2025   2.0    1.0      1.0       4.42985            0.52632   \n",
       "1  albert park  2026   2.0    1.0      1.0       4.42985            0.52632   \n",
       "2  albert park  2027   2.0    1.0      1.0       4.42985            0.52632   \n",
       "3  albert park  2028   2.0    1.0      1.0       4.42985            0.52632   \n",
       "4  albert park  2029   2.0    1.0      1.0       4.42985            0.52632   \n",
       "\n",
       "   dist_to_parks_and_gardens  dist_to_train_station  dist_to_healthcare  ...  \\\n",
       "0                    0.19365                3.36613             0.44046  ...   \n",
       "1                    0.19365                3.36613             0.44046  ...   \n",
       "2                    0.19365                3.36613             0.44046  ...   \n",
       "3                    0.19365                3.36613             0.44046  ...   \n",
       "4                    0.19365                3.36613             0.44046  ...   \n",
       "\n",
       "   median_age  median_weekly_rent  percent_aboriginal_torres_strait_islander  \\\n",
       "0       42.80               512.9                                   0.323333   \n",
       "1       43.14               516.0                                   0.333333   \n",
       "2       43.48               519.1                                   0.343333   \n",
       "3       43.82               522.2                                   0.353333   \n",
       "4       44.16               525.3                                   0.363333   \n",
       "\n",
       "   percent_au_citizen  percent_overseas_born  percent_rental_properties  \\\n",
       "0            4.113333                  35.52                      43.86   \n",
       "1            3.833333                  35.90                      44.00   \n",
       "2            3.553333                  36.28                      44.14   \n",
       "3            3.273333                  36.66                      44.28   \n",
       "4            2.993333                  37.04                      44.42   \n",
       "\n",
       "     population  percent_unemployed  housing_index  cpi_without_housing  \n",
       "0  14420.682864            4.603333     149.056579           130.086404  \n",
       "1  14624.772379            4.633333     152.824737           132.342675  \n",
       "2  14820.286445            4.663333     156.592895           134.598947  \n",
       "3  15014.808184            4.693333     160.361053           136.855219  \n",
       "4  15208.063939            4.723333     164.129211           139.111491  \n",
       "\n",
       "[5 rows x 24 columns]"
      ]
     },
     "execution_count": 75,
     "metadata": {},
     "output_type": "execute_result"
    }
   ],
   "source": [
    "df = pd.read_csv(f\"../data/curated/forecast/greater_melbourne_predict.csv\")\n",
    "df_identifiers = pd.read_csv(f\"../data/curated/forecast/gm_predict_identifiers.csv\")\n",
    "ndf = pd.concat([df_identifiers, df], axis=1)\n",
    "ndf.head()"
   ]
  },
  {
   "cell_type": "code",
   "execution_count": 77,
   "metadata": {},
   "outputs": [
    {
     "data": {
      "text/html": [
       "<div>\n",
       "<style scoped>\n",
       "    .dataframe tbody tr th:only-of-type {\n",
       "        vertical-align: middle;\n",
       "    }\n",
       "\n",
       "    .dataframe tbody tr th {\n",
       "        vertical-align: top;\n",
       "    }\n",
       "\n",
       "    .dataframe thead th {\n",
       "        text-align: right;\n",
       "    }\n",
       "</style>\n",
       "<table border=\"1\" class=\"dataframe\">\n",
       "  <thead>\n",
       "    <tr style=\"text-align: right;\">\n",
       "      <th></th>\n",
       "      <th>suburb</th>\n",
       "      <th>2025_weekly_cost</th>\n",
       "      <th>2026_weekly_cost</th>\n",
       "      <th>2027_weekly_cost</th>\n",
       "      <th>2028_weekly_cost</th>\n",
       "      <th>2029_weekly_cost</th>\n",
       "      <th>2024_weekly_cost</th>\n",
       "      <th>2025_percent_increase</th>\n",
       "      <th>2026_percent_increase</th>\n",
       "      <th>2027_percent_increase</th>\n",
       "      <th>2028_percent_increase</th>\n",
       "      <th>2029_percent_increase</th>\n",
       "    </tr>\n",
       "  </thead>\n",
       "  <tbody>\n",
       "    <tr>\n",
       "      <th>110</th>\n",
       "      <td>coburg</td>\n",
       "      <td>453.325635</td>\n",
       "      <td>460.834284</td>\n",
       "      <td>469.597408</td>\n",
       "      <td>557.310988</td>\n",
       "      <td>579.174582</td>\n",
       "      <td>617.912621</td>\n",
       "      <td>0.73364</td>\n",
       "      <td>0.745792</td>\n",
       "      <td>0.759974</td>\n",
       "      <td>0.901925</td>\n",
       "      <td>0.937308</td>\n",
       "    </tr>\n",
       "  </tbody>\n",
       "</table>\n",
       "</div>"
      ],
      "text/plain": [
       "     suburb  2025_weekly_cost  2026_weekly_cost  2027_weekly_cost  \\\n",
       "110  coburg        453.325635        460.834284        469.597408   \n",
       "\n",
       "     2028_weekly_cost  2029_weekly_cost  2024_weekly_cost  \\\n",
       "110        557.310988        579.174582        617.912621   \n",
       "\n",
       "     2025_percent_increase  2026_percent_increase  2027_percent_increase  \\\n",
       "110                0.73364               0.745792               0.759974   \n",
       "\n",
       "     2028_percent_increase  2029_percent_increase  \n",
       "110               0.901925               0.937308  "
      ]
     },
     "execution_count": 77,
     "metadata": {},
     "output_type": "execute_result"
    }
   ],
   "source": [
    "# TO DO: DEAL WITH WHY 2024 WEEKLY AVG COST IS HIGHER - HAVENT REMOVED EXPENSIVE top 5% properties \n",
    "\n",
    "# Merge data\n",
    "gm_weekly_costs = pd.merge(gm_pred_costs_transformed, gm_current_average_costs, on='suburb', how='inner')\n",
    "rv_weekly_costs = pd.merge(rv_pred_costs_transformed, rv_current_average_costs, on='suburb', how='inner')\n",
    "\n",
    "YEARS = [\"2025\", \"2026\", \"2027\", \"2028\", \"2029\"]\n",
    "for year in YEARS:\n",
    "    gm_weekly_costs[f\"{year}_percent_increase\"] = gm_weekly_costs[f\"{year}_weekly_cost\"]/\\\n",
    "                                                  gm_weekly_costs['2024_weekly_cost']\n",
    "    rv_weekly_costs[f\"{year}_percent_increase\"] = rv_weekly_costs[f\"{year}_weekly_cost\"]/\\\n",
    "                                                  rv_weekly_costs['2024_weekly_cost']\n",
    "\n",
    "# gm_weekly_costs = gm_weekly_costs[gm_weekly_costs['2029_weekly_cost'] > gm_weekly_costs['2024_weekly_cost']]\n",
    "#gm_weekly_costs.sort_values(by=\"2029_percent_increase\", ascending=False).head(10)\n",
    "gm_weekly_costs[gm_weekly_costs['suburb'] == \"coburg\"].head()\n",
    "\n",
    "\n",
    "# gm_weekly_costs = gm_weekly_costs[gm_weekly_costs['2029_weekly_cost'] > gm_weekly_costs['2024_weekly_cost']]\n",
    "#rv_weekly_costs.sort_values(by=\"2029_percent_increase\", ascending=False).head(10)"
   ]
  }
 ],
 "metadata": {
  "kernelspec": {
   "display_name": "Python 3",
   "language": "python",
   "name": "python3"
  },
  "language_info": {
   "codemirror_mode": {
    "name": "ipython",
    "version": 3
   },
   "file_extension": ".py",
   "mimetype": "text/x-python",
   "name": "python",
   "nbconvert_exporter": "python",
   "pygments_lexer": "ipython3",
   "version": "3.10.12"
  }
 },
 "nbformat": 4,
 "nbformat_minor": 2
}
