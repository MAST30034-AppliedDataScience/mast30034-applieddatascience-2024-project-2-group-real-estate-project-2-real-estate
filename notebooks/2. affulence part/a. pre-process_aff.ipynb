{
 "cells": [
  {
   "cell_type": "code",
   "execution_count": 12,
   "metadata": {},
   "outputs": [],
   "source": [
    "import pandas as pd"
   ]
  },
  {
   "cell_type": "markdown",
   "metadata": {},
   "source": [
    "### 1. Dataset for the Index of Economic Resources (IER) "
   ]
  },
  {
   "cell_type": "code",
   "execution_count": 13,
   "metadata": {},
   "outputs": [],
   "source": [
    "df_index_economic_resources = pd.read_excel(\"../../data/raw/affluence_dataset/affluence_part1.xlsx\",\n",
    "                           sheet_name=\"Table 4\",\n",
    "                           header = 5)"
   ]
  },
  {
   "cell_type": "code",
   "execution_count": 14,
   "metadata": {},
   "outputs": [
    {
     "data": {
      "text/html": [
       "<div>\n",
       "<style scoped>\n",
       "    .dataframe tbody tr th:only-of-type {\n",
       "        vertical-align: middle;\n",
       "    }\n",
       "\n",
       "    .dataframe tbody tr th {\n",
       "        vertical-align: top;\n",
       "    }\n",
       "\n",
       "    .dataframe thead th {\n",
       "        text-align: right;\n",
       "    }\n",
       "</style>\n",
       "<table border=\"1\" class=\"dataframe\">\n",
       "  <thead>\n",
       "    <tr style=\"text-align: right;\">\n",
       "      <th></th>\n",
       "      <th>2021 Statistical Area Level 2  (SA2) 9-Digit Code</th>\n",
       "      <th>2021 Statistical Area Level 2 (SA2) Name</th>\n",
       "      <th>Usual Resident Population</th>\n",
       "      <th>Score</th>\n",
       "      <th>Rank</th>\n",
       "      <th>Decile</th>\n",
       "      <th>Percentile</th>\n",
       "      <th>State</th>\n",
       "      <th>State Rank</th>\n",
       "      <th>State Decile</th>\n",
       "      <th>State Percentile</th>\n",
       "      <th>Minimum score for SA1s in area</th>\n",
       "      <th>Maximum score for SA1s in area</th>\n",
       "      <th>SA1 Missing Population %</th>\n",
       "    </tr>\n",
       "  </thead>\n",
       "  <tbody>\n",
       "    <tr>\n",
       "      <th>0</th>\n",
       "      <td>101021007</td>\n",
       "      <td>Braidwood</td>\n",
       "      <td>4343.0</td>\n",
       "      <td>1027.061610</td>\n",
       "      <td>1515.0</td>\n",
       "      <td>7.0</td>\n",
       "      <td>65.0</td>\n",
       "      <td>NSW</td>\n",
       "      <td>406.0</td>\n",
       "      <td>7.0</td>\n",
       "      <td>65.0</td>\n",
       "      <td>965.496470</td>\n",
       "      <td>1089.600613</td>\n",
       "      <td>0.000000</td>\n",
       "    </tr>\n",
       "    <tr>\n",
       "      <th>1</th>\n",
       "      <td>101021008</td>\n",
       "      <td>Karabar</td>\n",
       "      <td>8517.0</td>\n",
       "      <td>1000.067743</td>\n",
       "      <td>1144.0</td>\n",
       "      <td>5.0</td>\n",
       "      <td>49.0</td>\n",
       "      <td>NSW</td>\n",
       "      <td>316.0</td>\n",
       "      <td>6.0</td>\n",
       "      <td>51.0</td>\n",
       "      <td>741.774041</td>\n",
       "      <td>1125.960432</td>\n",
       "      <td>0.000000</td>\n",
       "    </tr>\n",
       "    <tr>\n",
       "      <th>2</th>\n",
       "      <td>101021009</td>\n",
       "      <td>Queanbeyan</td>\n",
       "      <td>11342.0</td>\n",
       "      <td>944.714570</td>\n",
       "      <td>477.0</td>\n",
       "      <td>3.0</td>\n",
       "      <td>21.0</td>\n",
       "      <td>NSW</td>\n",
       "      <td>122.0</td>\n",
       "      <td>2.0</td>\n",
       "      <td>20.0</td>\n",
       "      <td>804.157734</td>\n",
       "      <td>1111.608982</td>\n",
       "      <td>0.001587</td>\n",
       "    </tr>\n",
       "    <tr>\n",
       "      <th>3</th>\n",
       "      <td>101021010</td>\n",
       "      <td>Queanbeyan - East</td>\n",
       "      <td>5085.0</td>\n",
       "      <td>969.443320</td>\n",
       "      <td>732.0</td>\n",
       "      <td>4.0</td>\n",
       "      <td>32.0</td>\n",
       "      <td>NSW</td>\n",
       "      <td>191.0</td>\n",
       "      <td>4.0</td>\n",
       "      <td>31.0</td>\n",
       "      <td>808.734984</td>\n",
       "      <td>1172.367031</td>\n",
       "      <td>0.006686</td>\n",
       "    </tr>\n",
       "    <tr>\n",
       "      <th>4</th>\n",
       "      <td>101021012</td>\n",
       "      <td>Queanbeyan West - Jerrabomberra</td>\n",
       "      <td>12744.0</td>\n",
       "      <td>1109.054901</td>\n",
       "      <td>2234.0</td>\n",
       "      <td>10.0</td>\n",
       "      <td>95.0</td>\n",
       "      <td>NSW</td>\n",
       "      <td>565.0</td>\n",
       "      <td>9.0</td>\n",
       "      <td>90.0</td>\n",
       "      <td>911.382971</td>\n",
       "      <td>1235.509932</td>\n",
       "      <td>0.000000</td>\n",
       "    </tr>\n",
       "  </tbody>\n",
       "</table>\n",
       "</div>"
      ],
      "text/plain": [
       "  2021 Statistical Area Level 2  (SA2) 9-Digit Code  \\\n",
       "0                                         101021007   \n",
       "1                                         101021008   \n",
       "2                                         101021009   \n",
       "3                                         101021010   \n",
       "4                                         101021012   \n",
       "\n",
       "  2021 Statistical Area Level 2 (SA2) Name   Usual Resident Population  \\\n",
       "0                                 Braidwood                     4343.0   \n",
       "1                                   Karabar                     8517.0   \n",
       "2                                Queanbeyan                    11342.0   \n",
       "3                         Queanbeyan - East                     5085.0   \n",
       "4           Queanbeyan West - Jerrabomberra                    12744.0   \n",
       "\n",
       "         Score    Rank  Decile  Percentile State  State Rank  State Decile  \\\n",
       "0  1027.061610  1515.0     7.0        65.0   NSW       406.0           7.0   \n",
       "1  1000.067743  1144.0     5.0        49.0   NSW       316.0           6.0   \n",
       "2   944.714570   477.0     3.0        21.0   NSW       122.0           2.0   \n",
       "3   969.443320   732.0     4.0        32.0   NSW       191.0           4.0   \n",
       "4  1109.054901  2234.0    10.0        95.0   NSW       565.0           9.0   \n",
       "\n",
       "   State Percentile  Minimum score for SA1s in area  \\\n",
       "0              65.0                      965.496470   \n",
       "1              51.0                      741.774041   \n",
       "2              20.0                      804.157734   \n",
       "3              31.0                      808.734984   \n",
       "4              90.0                      911.382971   \n",
       "\n",
       "   Maximum score for SA1s in area  SA1 Missing Population %  \n",
       "0                     1089.600613                  0.000000  \n",
       "1                     1125.960432                  0.000000  \n",
       "2                     1111.608982                  0.001587  \n",
       "3                     1172.367031                  0.006686  \n",
       "4                     1235.509932                  0.000000  "
      ]
     },
     "execution_count": 14,
     "metadata": {},
     "output_type": "execute_result"
    }
   ],
   "source": [
    "df_index_economic_resources\n",
    "df_index_economic_resources = df_index_economic_resources.rename(columns={\n",
    "    'Unnamed: 4': 'Unused', \n",
    "    'Unnamed: 8': 'Unused',  \n",
    "    'Rank.1': 'State Rank',\n",
    "    'Decile.1': 'State Decile',\n",
    "    'Percentile.1': 'State Percentile',\n",
    "    '% Usual Resident Population without an SA1 level score': 'SA1 Missing Population %'\n",
    "})\n",
    "\n",
    "df_index_economic_resources = df_index_economic_resources.drop(columns=['Unused'])\n",
    "\n",
    "df_index_economic_resources.head()\n"
   ]
  },
  {
   "cell_type": "code",
   "execution_count": 15,
   "metadata": {},
   "outputs": [
    {
     "name": "stdout",
     "output_type": "stream",
     "text": [
      "Index(['2021 Statistical Area Level 2  (SA2) 9-Digit Code',\n",
      "       'IER_2021 Statistical Area Level 2 (SA2) Name ',\n",
      "       'IER_Usual Resident Population', 'IER_Score', 'IER_Rank', 'IER_Decile',\n",
      "       'IER_Percentile', 'IER_State', 'IER_State Rank', 'IER_State Decile',\n",
      "       'IER_State Percentile', 'IER_Minimum score for SA1s in area',\n",
      "       'IER_Maximum score for SA1s in area', 'IER_SA1 Missing Population %'],\n",
      "      dtype='object')\n"
     ]
    }
   ],
   "source": [
    "columns = df_index_economic_resources.columns\n",
    "\n",
    "# Create a new list of column names by prefixing 'IER_' to 'Score', 'Rank', etc\n",
    "new_columns = []\n",
    "for col in columns:\n",
    "    # If the column Name does not contain 'Code' and '2021 SA Name', prefix 'IER_'\n",
    "    if 'Code' not in col and '2021 SA Name' not in col:\n",
    "        new_columns.append(f\"IER_{col}\")\n",
    "    else:\n",
    "        new_columns.append(col)\n",
    "\n",
    "df_index_economic_resources.columns = new_columns\n",
    "\n",
    "print(df_index_economic_resources.columns)\n"
   ]
  },
  {
   "cell_type": "code",
   "execution_count": 16,
   "metadata": {},
   "outputs": [],
   "source": [
    "df_index_economic_resources = df_index_economic_resources.drop([\"IER_Maximum score for SA1s in area\",\n",
    "                                                                \"IER_SA1 Missing Population %\",\n",
    "                                                                \"IER_Minimum score for SA1s in area\",\n",
    "                                                                \"IER_Rank\",\n",
    "                                                                \"IER_Decile\",\n",
    "                                                                \"IER_Percentile\"]\n",
    "                                                                , axis=1)"
   ]
  },
  {
   "cell_type": "code",
   "execution_count": 17,
   "metadata": {},
   "outputs": [
    {
     "name": "stdout",
     "output_type": "stream",
     "text": [
      "SA2 code                          object\n",
      "SA2 name                          object\n",
      "IER_Usual Resident Population    float64\n",
      "IER_Score                        float64\n",
      "IER_State                         object\n",
      "IER_State Rank                   float64\n",
      "IER_State Decile                 float64\n",
      "IER_State Percentile             float64\n",
      "dtype: object\n"
     ]
    }
   ],
   "source": [
    "df_index_economic_resources = df_index_economic_resources.rename(columns={\n",
    "    '2021 Statistical Area Level 2  (SA2) 9-Digit Code': 'SA2 code',\n",
    "    'IER_2021 Statistical Area Level 2 (SA2) Name ': 'SA2 name'\n",
    "})\n",
    "print(df_index_economic_resources.dtypes)"
   ]
  },
  {
   "cell_type": "code",
   "execution_count": 18,
   "metadata": {},
   "outputs": [
    {
     "name": "stdout",
     "output_type": "stream",
     "text": [
      "SA2 code                           Int64\n",
      "SA2 name                          object\n",
      "IER_Usual Resident Population    float64\n",
      "IER_Score                        float64\n",
      "IER_State                         object\n",
      "IER_State Rank                   float64\n",
      "IER_State Decile                 float64\n",
      "IER_State Percentile             float64\n",
      "dtype: object\n"
     ]
    }
   ],
   "source": [
    "# Delete rows in the SA2 code column that contain non-numeric values\n",
    "df_index_economic_resources = df_index_economic_resources[pd.to_numeric(df_index_economic_resources['SA2 code'], errors='coerce').notnull()]\n",
    "\n",
    "df_index_economic_resources['SA2 code'] = df_index_economic_resources['SA2 code'].astype('Int64')\n",
    "\n",
    "print(df_index_economic_resources.dtypes)"
   ]
  },
  {
   "cell_type": "markdown",
   "metadata": {},
   "source": [
    "### filter all non-VIC"
   ]
  },
  {
   "cell_type": "code",
   "execution_count": 19,
   "metadata": {},
   "outputs": [],
   "source": [
    "df_index_economic_resources = df_index_economic_resources[df_index_economic_resources['IER_State'] == 'VIC']\n",
    "\n",
    "df_index_economic_resources = df_index_economic_resources.drop([\"IER_State\"]\n",
    "                                                                , axis=1)"
   ]
  },
  {
   "cell_type": "code",
   "execution_count": 20,
   "metadata": {},
   "outputs": [
    {
     "data": {
      "text/html": [
       "<div>\n",
       "<style scoped>\n",
       "    .dataframe tbody tr th:only-of-type {\n",
       "        vertical-align: middle;\n",
       "    }\n",
       "\n",
       "    .dataframe tbody tr th {\n",
       "        vertical-align: top;\n",
       "    }\n",
       "\n",
       "    .dataframe thead th {\n",
       "        text-align: right;\n",
       "    }\n",
       "</style>\n",
       "<table border=\"1\" class=\"dataframe\">\n",
       "  <thead>\n",
       "    <tr style=\"text-align: right;\">\n",
       "      <th></th>\n",
       "      <th>SA2 code</th>\n",
       "      <th>SA2 name</th>\n",
       "      <th>IER_Usual Resident Population</th>\n",
       "      <th>IER_Score</th>\n",
       "      <th>IER_State Rank</th>\n",
       "      <th>IER_State Decile</th>\n",
       "      <th>IER_State Percentile</th>\n",
       "    </tr>\n",
       "  </thead>\n",
       "  <tbody>\n",
       "    <tr>\n",
       "      <th>627</th>\n",
       "      <td>201011001</td>\n",
       "      <td>Alfredton</td>\n",
       "      <td>16835.0</td>\n",
       "      <td>1035.994075</td>\n",
       "      <td>332.0</td>\n",
       "      <td>7.0</td>\n",
       "      <td>65.0</td>\n",
       "    </tr>\n",
       "    <tr>\n",
       "      <th>628</th>\n",
       "      <td>201011002</td>\n",
       "      <td>Ballarat</td>\n",
       "      <td>12131.0</td>\n",
       "      <td>978.412277</td>\n",
       "      <td>160.0</td>\n",
       "      <td>4.0</td>\n",
       "      <td>32.0</td>\n",
       "    </tr>\n",
       "    <tr>\n",
       "      <th>629</th>\n",
       "      <td>201011005</td>\n",
       "      <td>Buninyong</td>\n",
       "      <td>7261.0</td>\n",
       "      <td>1052.539664</td>\n",
       "      <td>392.0</td>\n",
       "      <td>8.0</td>\n",
       "      <td>77.0</td>\n",
       "    </tr>\n",
       "    <tr>\n",
       "      <th>630</th>\n",
       "      <td>201011006</td>\n",
       "      <td>Delacombe</td>\n",
       "      <td>10661.0</td>\n",
       "      <td>1006.242565</td>\n",
       "      <td>244.0</td>\n",
       "      <td>5.0</td>\n",
       "      <td>48.0</td>\n",
       "    </tr>\n",
       "    <tr>\n",
       "      <th>631</th>\n",
       "      <td>201011007</td>\n",
       "      <td>Smythes Creek</td>\n",
       "      <td>4230.0</td>\n",
       "      <td>1090.794166</td>\n",
       "      <td>479.0</td>\n",
       "      <td>10.0</td>\n",
       "      <td>94.0</td>\n",
       "    </tr>\n",
       "  </tbody>\n",
       "</table>\n",
       "</div>"
      ],
      "text/plain": [
       "      SA2 code       SA2 name  IER_Usual Resident Population    IER_Score  \\\n",
       "627  201011001      Alfredton                        16835.0  1035.994075   \n",
       "628  201011002       Ballarat                        12131.0   978.412277   \n",
       "629  201011005      Buninyong                         7261.0  1052.539664   \n",
       "630  201011006      Delacombe                        10661.0  1006.242565   \n",
       "631  201011007  Smythes Creek                         4230.0  1090.794166   \n",
       "\n",
       "     IER_State Rank  IER_State Decile  IER_State Percentile  \n",
       "627           332.0               7.0                  65.0  \n",
       "628           160.0               4.0                  32.0  \n",
       "629           392.0               8.0                  77.0  \n",
       "630           244.0               5.0                  48.0  \n",
       "631           479.0              10.0                  94.0  "
      ]
     },
     "execution_count": 20,
     "metadata": {},
     "output_type": "execute_result"
    }
   ],
   "source": [
    "df_index_economic_resources.head(5)"
   ]
  },
  {
   "cell_type": "markdown",
   "metadata": {},
   "source": [
    "### 2. Dataset for the Index of Education and Occupation (IEO)"
   ]
  },
  {
   "cell_type": "code",
   "execution_count": 21,
   "metadata": {},
   "outputs": [
    {
     "name": "stdout",
     "output_type": "stream",
     "text": [
      "Index(['2021 Statistical Area Level 2  (SA2) 9-Digit Code',\n",
      "       'IEO_2021 Statistical Area Level 2 (SA2) Name ',\n",
      "       'IEO_Usual Resident Population', 'IEO_Score', 'IEO_Rank', 'IEO_Decile',\n",
      "       'IEO_Percentile', 'IEO_State', 'IEO_State Rank', 'IEO_State Decile',\n",
      "       'IEO_State Percentile', 'IEO_Minimum score for SA1s in area',\n",
      "       'IEO_Maximum score for SA1s in area', 'IEO_SA1 Missing Population %'],\n",
      "      dtype='object')\n"
     ]
    }
   ],
   "source": [
    "df_index_education_occupation = pd.read_excel(\"../../data/raw/affluence_dataset/affluence_part1.xlsx\",\n",
    "                           sheet_name=\"Table 5\",\n",
    "                           header = 5)\n",
    "\n",
    "df_index_education_occupation = df_index_education_occupation.rename(columns={\n",
    "    'Unnamed: 4': 'Unused', \n",
    "    'Unnamed: 8': 'Unused',  \n",
    "    'Rank.1': 'State Rank',\n",
    "    'Decile.1': 'State Decile',\n",
    "    'Percentile.1': 'State Percentile',\n",
    "    '% Usual Resident Population without an SA1 level score': 'SA1 Missing Population %'\n",
    "})\n",
    "\n",
    "df_index_education_occupation = df_index_education_occupation.drop(columns=['Unused'])\n",
    "\n",
    "columns = df_index_education_occupation.columns\n",
    "\n",
    "new_columns = []\n",
    "for col in columns:\n",
    "    if 'Code' not in col and '2021 SA Name' not in col:\n",
    "        new_columns.append(f\"IEO_{col}\")\n",
    "    else:\n",
    "        new_columns.append(col)\n",
    "\n",
    "df_index_education_occupation.columns = new_columns\n",
    "\n",
    "print(df_index_education_occupation.columns)\n"
   ]
  },
  {
   "cell_type": "code",
   "execution_count": 22,
   "metadata": {},
   "outputs": [],
   "source": [
    "df_index_education_occupation = df_index_education_occupation.drop([\"IEO_Maximum score for SA1s in area\",\n",
    "                                                                \"IEO_SA1 Missing Population %\",\n",
    "                                                                \"IEO_Minimum score for SA1s in area\",\n",
    "                                                                \"IEO_Rank\",\n",
    "                                                                \"IEO_Decile\",\n",
    "                                                                \"IEO_Percentile\",\n",
    "                                                                \"IEO_Usual Resident Population\"]\n",
    "                                                                , axis=1)"
   ]
  },
  {
   "cell_type": "code",
   "execution_count": 23,
   "metadata": {},
   "outputs": [
    {
     "name": "stdout",
     "output_type": "stream",
     "text": [
      "SA2 code                 object\n",
      "SA2 name                 object\n",
      "IEO_Score               float64\n",
      "IEO_State                object\n",
      "IEO_State Rank          float64\n",
      "IEO_State Decile        float64\n",
      "IEO_State Percentile    float64\n",
      "dtype: object\n"
     ]
    }
   ],
   "source": [
    "df_index_education_occupation = df_index_education_occupation.rename(columns={\n",
    "    '2021 Statistical Area Level 2  (SA2) 9-Digit Code': 'SA2 code',\n",
    "    'IEO_2021 Statistical Area Level 2 (SA2) Name ': 'SA2 name'\n",
    "})\n",
    "print(df_index_education_occupation.dtypes)"
   ]
  },
  {
   "cell_type": "code",
   "execution_count": 24,
   "metadata": {},
   "outputs": [
    {
     "name": "stdout",
     "output_type": "stream",
     "text": [
      "SA2 code                  Int64\n",
      "SA2 name                 object\n",
      "IEO_Score               float64\n",
      "IEO_State                object\n",
      "IEO_State Rank          float64\n",
      "IEO_State Decile        float64\n",
      "IEO_State Percentile    float64\n",
      "dtype: object\n"
     ]
    }
   ],
   "source": [
    "# Delete rows in the SA2 code column that contain non-numeric values\n",
    "df_index_education_occupation = df_index_education_occupation[pd.to_numeric(df_index_education_occupation['SA2 code'], errors='coerce').notnull()]\n",
    "\n",
    "df_index_education_occupation['SA2 code'] = df_index_education_occupation['SA2 code'].astype('Int64')\n",
    "\n",
    "print(df_index_education_occupation.dtypes)"
   ]
  },
  {
   "cell_type": "code",
   "execution_count": 25,
   "metadata": {},
   "outputs": [
    {
     "data": {
      "text/plain": [
       "SA2 code                516\n",
       "SA2 name                516\n",
       "IEO_Score               516\n",
       "IEO_State Rank          516\n",
       "IEO_State Decile        516\n",
       "IEO_State Percentile    516\n",
       "dtype: int64"
      ]
     },
     "execution_count": 25,
     "metadata": {},
     "output_type": "execute_result"
    }
   ],
   "source": [
    "df_index_education_occupation = df_index_education_occupation[df_index_education_occupation['IEO_State'] == 'VIC']\n",
    "\n",
    "df_index_education_occupation = df_index_education_occupation.drop([\"IEO_State\"]\n",
    "                                                                , axis=1)\n",
    "df_index_education_occupation.count()"
   ]
  },
  {
   "cell_type": "code",
   "execution_count": 26,
   "metadata": {},
   "outputs": [
    {
     "data": {
      "text/html": [
       "<div>\n",
       "<style scoped>\n",
       "    .dataframe tbody tr th:only-of-type {\n",
       "        vertical-align: middle;\n",
       "    }\n",
       "\n",
       "    .dataframe tbody tr th {\n",
       "        vertical-align: top;\n",
       "    }\n",
       "\n",
       "    .dataframe thead th {\n",
       "        text-align: right;\n",
       "    }\n",
       "</style>\n",
       "<table border=\"1\" class=\"dataframe\">\n",
       "  <thead>\n",
       "    <tr style=\"text-align: right;\">\n",
       "      <th></th>\n",
       "      <th>SA2 code</th>\n",
       "      <th>SA2 name</th>\n",
       "      <th>IEO_Score</th>\n",
       "      <th>IEO_State Rank</th>\n",
       "      <th>IEO_State Decile</th>\n",
       "      <th>IEO_State Percentile</th>\n",
       "    </tr>\n",
       "  </thead>\n",
       "  <tbody>\n",
       "    <tr>\n",
       "      <th>629</th>\n",
       "      <td>201011001</td>\n",
       "      <td>Alfredton</td>\n",
       "      <td>1009.718884</td>\n",
       "      <td>267.0</td>\n",
       "      <td>6.0</td>\n",
       "      <td>52.0</td>\n",
       "    </tr>\n",
       "    <tr>\n",
       "      <th>630</th>\n",
       "      <td>201011002</td>\n",
       "      <td>Ballarat</td>\n",
       "      <td>1075.750257</td>\n",
       "      <td>380.0</td>\n",
       "      <td>8.0</td>\n",
       "      <td>74.0</td>\n",
       "    </tr>\n",
       "    <tr>\n",
       "      <th>631</th>\n",
       "      <td>201011005</td>\n",
       "      <td>Buninyong</td>\n",
       "      <td>1049.966026</td>\n",
       "      <td>340.0</td>\n",
       "      <td>7.0</td>\n",
       "      <td>66.0</td>\n",
       "    </tr>\n",
       "    <tr>\n",
       "      <th>632</th>\n",
       "      <td>201011006</td>\n",
       "      <td>Delacombe</td>\n",
       "      <td>936.676307</td>\n",
       "      <td>87.0</td>\n",
       "      <td>2.0</td>\n",
       "      <td>17.0</td>\n",
       "    </tr>\n",
       "    <tr>\n",
       "      <th>633</th>\n",
       "      <td>201011007</td>\n",
       "      <td>Smythes Creek</td>\n",
       "      <td>959.523560</td>\n",
       "      <td>147.0</td>\n",
       "      <td>3.0</td>\n",
       "      <td>29.0</td>\n",
       "    </tr>\n",
       "  </tbody>\n",
       "</table>\n",
       "</div>"
      ],
      "text/plain": [
       "      SA2 code       SA2 name    IEO_Score  IEO_State Rank  IEO_State Decile  \\\n",
       "629  201011001      Alfredton  1009.718884           267.0               6.0   \n",
       "630  201011002       Ballarat  1075.750257           380.0               8.0   \n",
       "631  201011005      Buninyong  1049.966026           340.0               7.0   \n",
       "632  201011006      Delacombe   936.676307            87.0               2.0   \n",
       "633  201011007  Smythes Creek   959.523560           147.0               3.0   \n",
       "\n",
       "     IEO_State Percentile  \n",
       "629                  52.0  \n",
       "630                  74.0  \n",
       "631                  66.0  \n",
       "632                  17.0  \n",
       "633                  29.0  "
      ]
     },
     "execution_count": 26,
     "metadata": {},
     "output_type": "execute_result"
    }
   ],
   "source": [
    "df_index_education_occupation.head(5)"
   ]
  },
  {
   "cell_type": "markdown",
   "metadata": {},
   "source": [
    "## 3. Combine dataset together(IER & IEO)"
   ]
  },
  {
   "cell_type": "code",
   "execution_count": 27,
   "metadata": {},
   "outputs": [
    {
     "data": {
      "text/plain": [
       "SA2 code                         516\n",
       "SA2 name                         516\n",
       "IEO_Score                        516\n",
       "IEO_State Rank                   516\n",
       "IEO_State Decile                 516\n",
       "IEO_State Percentile             516\n",
       "IER_Usual Resident Population    513\n",
       "IER_Score                        513\n",
       "IER_State Rank                   513\n",
       "IER_State Decile                 513\n",
       "IER_State Percentile             513\n",
       "dtype: int64"
      ]
     },
     "execution_count": 27,
     "metadata": {},
     "output_type": "execute_result"
    }
   ],
   "source": [
    "df_combined_IEO_IER = pd.merge(df_index_education_occupation, \n",
    "                               df_index_economic_resources,\n",
    "                               on='SA2 code', \n",
    "                               how='left', \n",
    "                               suffixes=('', '_drop')) \n",
    "\n",
    "# Delete duplicate columns (with drop suffix)\n",
    "df_combined_IEO_IER = df_combined_IEO_IER.drop([col for col in df_combined_IEO_IER.columns if 'drop' in col], axis=1)\n",
    "# 3-missing values when combing\n",
    "df_combined_IEO_IER.count()"
   ]
  },
  {
   "cell_type": "code",
   "execution_count": 28,
   "metadata": {},
   "outputs": [
    {
     "name": "stdout",
     "output_type": "stream",
     "text": [
      "Index(['SA2 code', 'SA2 name', 'IEO_Score', 'IEO_State Rank',\n",
      "       'IEO_State Decile', 'IEO_State Percentile',\n",
      "       'IER_Usual Resident Population', 'IER_Score', 'IER_State Rank',\n",
      "       'IER_State Decile', 'IER_State Percentile'],\n",
      "      dtype='object')\n"
     ]
    }
   ],
   "source": [
    "print(df_combined_IEO_IER.columns)"
   ]
  },
  {
   "cell_type": "code",
   "execution_count": 29,
   "metadata": {},
   "outputs": [],
   "source": [
    "df_combined_IEO_IER.to_csv(\"../../data/curated/affluence_cleaned/combined_IEO_IER.csv\",\n",
    "                            index=False)"
   ]
  }
 ],
 "metadata": {
  "kernelspec": {
   "display_name": "ADS",
   "language": "python",
   "name": "python3"
  },
  "language_info": {
   "codemirror_mode": {
    "name": "ipython",
    "version": 3
   },
   "file_extension": ".py",
   "mimetype": "text/x-python",
   "name": "python",
   "nbconvert_exporter": "python",
   "pygments_lexer": "ipython3",
   "version": "3.8.19"
  }
 },
 "nbformat": 4,
 "nbformat_minor": 2
}
