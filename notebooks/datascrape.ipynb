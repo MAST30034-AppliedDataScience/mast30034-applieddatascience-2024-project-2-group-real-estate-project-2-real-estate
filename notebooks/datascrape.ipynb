{
 "cells": [
  {
   "cell_type": "markdown",
   "metadata": {},
   "source": [
    "# Data Scraping"
   ]
  },
  {
   "cell_type": "markdown",
   "metadata": {},
   "source": [
    "In this notebook, we will fetch and download all the necessary datasets and store them in their associated files within the \"data\" file"
   ]
  },
  {
   "cell_type": "markdown",
   "metadata": {},
   "source": [
    "### Importing Libraries and Functions"
   ]
  },
  {
   "cell_type": "code",
   "execution_count": 2,
   "metadata": {},
   "outputs": [],
   "source": [
    "import sys\n",
    "sys.path.append('../')\n",
    "import os\n",
    "from json import dump\n",
    "from scripts.datascrape_functions import generate_url_list, fetch_rental_data\n",
    "from scripts.scrape_sa2 import get_shapefile"
   ]
  },
  {
   "cell_type": "markdown",
   "metadata": {},
   "source": [
    "### Defining Global Variables - changes pending"
   ]
  },
  {
   "cell_type": "code",
   "execution_count": 2,
   "metadata": {},
   "outputs": [],
   "source": [
    "# CONSTANTS\n",
    "BASE_URL = \"https://www.domain.com.au\"\n",
    "N_PAGES = 2 # RIGHT NOW THIS ONLY LOOKS AT THE FIRST 3 PAGES FOR QUICK RUN TIME THIS NEEDS TO BE UPDATED TO\n",
    "            # SEARCH ALL THE PAGES!\n",
    "LANDING_PATH = \"data/landing\"\n",
    "RAW_PATH = \"data/raw\""
   ]
  },
  {
   "cell_type": "markdown",
   "metadata": {},
   "source": [
    "### Fetching the '*domain.com*' Rental Property Data"
   ]
  },
  {
   "cell_type": "code",
   "execution_count": 3,
   "metadata": {},
   "outputs": [
    {
     "name": "stdout",
     "output_type": "stream",
     "text": [
      "\n",
      "Generating the list of links...\n",
      "\n",
      "Visiting https://www.domain.com.au/rent/VIC/?sort=price-desc&page=1\n",
      "Visiting https://www.domain.com.au/rent/VIC/?sort=price-desc&page=2\n",
      "\n",
      "Fetching the rental data...\n",
      "\n"
     ]
    },
    {
     "name": "stderr",
     "output_type": "stream",
     "text": [
      "100% successful:   0%|          | 0/39 [00:00<?, ?it/s]\n"
     ]
    }
   ],
   "source": [
    "# Generating the list of urls to fetch data from\n",
    "url_links = generate_url_list(N_PAGES, BASE_URL)\n",
    "\n",
    "# Fetching the rental data from the domain.comm urls\n",
    "property_metadata = fetch_rental_data(url_links)"
   ]
  },
  {
   "cell_type": "code",
   "execution_count": 4,
   "metadata": {},
   "outputs": [
    {
     "name": "stdout",
     "output_type": "stream",
     "text": [
      "File saved in the data/landing directory\n"
     ]
    }
   ],
   "source": [
    "# Creates the directory for the rental data if it doesn't exist\n",
    "if not os.path.exists(f\"../{LANDING_PATH}\"):\n",
    "    os.makedirs(f\"../{LANDING_PATH}\")\n",
    "\n",
    "# Save the data in the data/landing directory\n",
    "with open(f'../{LANDING_PATH}/testing_scraping.json', 'w') as f:\n",
    "    dump(property_metadata, f)\n",
    "    print(f\"File saved in the {LANDING_PATH} directory\")\n"
   ]
  },
  {
   "cell_type": "code",
   "execution_count": 3,
   "metadata": {},
   "outputs": [],
   "source": [
    "# scrapes SA2 shapfile and downloads to data folder\n",
    "\n",
    "get_shapefile(url=\"https://www.abs.gov.au/statistics/standards/australian-statistical-geography-standard-asgs-edition-3/jul2021-jun2026/access-and-downloads/digital-boundary-files/SA2_2021_AUST_SHP_GDA2020.zip\", output_dir = '../data/SA2/')"
   ]
  },
  {
   "cell_type": "code",
   "execution_count": null,
   "metadata": {},
   "outputs": [],
   "source": []
  }
 ],
 "metadata": {
  "kernelspec": {
   "display_name": "base",
   "language": "python",
   "name": "python3"
  },
  "language_info": {
   "codemirror_mode": {
    "name": "ipython",
    "version": 3
   },
   "file_extension": ".py",
   "mimetype": "text/x-python",
   "name": "python",
   "nbconvert_exporter": "python",
   "pygments_lexer": "ipython3",
   "version": "3.12.4"
  }
 },
 "nbformat": 4,
 "nbformat_minor": 2
}
