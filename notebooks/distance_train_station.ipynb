{
 "cells": [
  {
   "cell_type": "code",
   "execution_count": 7,
   "metadata": {},
   "outputs": [
    {
     "name": "stdout",
     "output_type": "stream",
     "text": [
      "         id             addressStreet   addressSuburb  addressLat  addressLng\n",
      "0  15230553      322/23 Batman Street  WEST MELBOURNE  -37.810738   144.95226\n",
      "1  15760997     2601/65 Dudley Street  WEST MELBOURNE  -37.810135   144.95040\n",
      "2  15975970  1212/15-31 Batman Street  WEST MELBOURNE  -37.810757   144.95224\n",
      "3  16668342      307/33 Batman Street  WEST MELBOURNE  -37.810860   144.95183\n",
      "4  16803052       2/18 Ireland Street  WEST MELBOURNE  -37.807606   144.94562\n",
      "   STOP_ID                                          STOP_NAME   LATITUDE  \\\n",
      "0    19970             Royal Park Railway Station (Parkville) -37.781193   \n",
      "1    19971  Flemington Bridge Railway Station (North Melbo... -37.788140   \n",
      "2    19972         Macaulay Railway Station (North Melbourne) -37.794267   \n",
      "3    19973   North Melbourne Railway Station (West Melbourne) -37.807419   \n",
      "4    19974        Clifton Hill Railway Station (Clifton Hill) -37.788657   \n",
      "\n",
      "    LONGITUDE  \n",
      "0  144.952301  \n",
      "1  144.939323  \n",
      "2  144.936166  \n",
      "3  144.942570  \n",
      "4  144.995417  \n"
     ]
    }
   ],
   "source": [
    "import pandas as pd\n",
    "import numpy as np\n",
    "from geopy.distance import geodesic\n",
    "import googlemaps\n",
    "\n",
    "gmaps = googlemaps.Client(key='')#here is mine private api\n",
    "\n",
    "property_df = pd.read_csv('../data/curated/Facilities min-distance.csv')\n",
    "stations_data = pd.read_csv('../data/raw/ptv_train_station/PTV_METRO_TRAIN_STATION.csv')\n",
    "\n",
    "properties = property_df[['id', 'addressStreet', 'addressSuburb', 'addressLat', 'addressLng']]\n",
    "train_stations = stations_data[['STOP_ID', 'STOP_NAME', 'LATITUDE', 'LONGITUDE']]\n",
    "\n",
    "print(properties.head())\n",
    "print(stations.head())\n"
   ]
  },
  {
   "cell_type": "code",
   "execution_count": 8,
   "metadata": {},
   "outputs": [
    {
     "name": "stderr",
     "output_type": "stream",
     "text": [
      "/tmp/ipykernel_200316/1665391708.py:2: SettingWithCopyWarning: \n",
      "A value is trying to be set on a copy of a slice from a DataFrame.\n",
      "Try using .loc[row_indexer,col_indexer] = value instead\n",
      "\n",
      "See the caveats in the documentation: https://pandas.pydata.org/pandas-docs/stable/user_guide/indexing.html#returning-a-view-versus-a-copy\n",
      "  properties['min_walking_distance_to_station'] = np.nan\n",
      "/tmp/ipykernel_200316/1665391708.py:3: SettingWithCopyWarning: \n",
      "A value is trying to be set on a copy of a slice from a DataFrame.\n",
      "Try using .loc[row_indexer,col_indexer] = value instead\n",
      "\n",
      "See the caveats in the documentation: https://pandas.pydata.org/pandas-docs/stable/user_guide/indexing.html#returning-a-view-versus-a-copy\n",
      "  properties['nearest_station'] = None\n"
     ]
    }
   ],
   "source": [
    "properties['min_walking_distance_to_station'] = np.nan\n",
    "properties['nearest_station'] = None\n"
   ]
  },
  {
   "cell_type": "code",
   "execution_count": 10,
   "metadata": {},
   "outputs": [],
   "source": [
    "station_coords = train_stations[['LATITUDE', 'LONGITUDE']].to_numpy()\n",
    "NUM_CLOSEST_STATIONS = 3\n"
   ]
  },
  {
   "cell_type": "code",
   "execution_count": 13,
   "metadata": {},
   "outputs": [],
   "source": [
    "for i, property_row in properties.iterrows():\n",
    "    property_coord = np.array([property_row['addressLat'], property_row['addressLng']])\n",
    "    distances = np.array([geodesic(property_coord, station_coord).kilometers for station_coord in station_coords])\n",
    "    closest_indices = np.argsort(distances)[:NUM_CLOSEST_STATIONS]\n",
    "    nearby_stations = train_stations.iloc[closest_indices]\n",
    "    \n",
    "    origins = f\"{property_row['addressLat']},{property_row['addressLng']}\"\n",
    "    destinations = [f\"{row['LATITUDE']},{row['LONGITUDE']}\" for _, row in nearby_stations.iterrows()]\n",
    "    \n",
    "    result = gmaps.distance_matrix(origins=origins,\n",
    "                                   destinations=destinations,\n",
    "                                   mode=\"walking\")\n",
    "    \n",
    "    elements = result['rows'][0]['elements']\n",
    "    walking_distances = []\n",
    "    for elem in elements:\n",
    "        if elem['status'] == 'OK':\n",
    "            walking_distances.append(elem['distance']['value'])\n",
    "        else:\n",
    "            walking_distances.append(np.inf) \n",
    "    \n",
    "    min_index = np.argmin(walking_distances)\n",
    "    min_distance = walking_distances[min_index] / 1000  \n",
    "    nearest_station = nearby_stations.iloc[min_index]['STOP_NAME']\n",
    "    \n",
    "    properties.at[i, 'min_walking_distance_to_station'] = min_distance\n",
    "    properties.at[i, 'nearest_station'] = nearest_station\n"
   ]
  },
  {
   "cell_type": "code",
   "execution_count": 14,
   "metadata": {},
   "outputs": [
    {
     "name": "stdout",
     "output_type": "stream",
     "text": [
      "              addressStreet   addressSuburb  min_walking_distance_to_station  \\\n",
      "0      322/23 Batman Street  WEST MELBOURNE                            0.485   \n",
      "1     2601/65 Dudley Street  WEST MELBOURNE                            0.746   \n",
      "2  1212/15-31 Batman Street  WEST MELBOURNE                            0.487   \n",
      "3      307/33 Batman Street  WEST MELBOURNE                            0.525   \n",
      "4       2/18 Ireland Street  WEST MELBOURNE                            0.319   \n",
      "\n",
      "                                    nearest_station  \n",
      "0        Flagstaff Railway Station (Melbourne City)  \n",
      "1        Flagstaff Railway Station (Melbourne City)  \n",
      "2        Flagstaff Railway Station (Melbourne City)  \n",
      "3        Flagstaff Railway Station (Melbourne City)  \n",
      "4  North Melbourne Railway Station (West Melbourne)  \n"
     ]
    }
   ],
   "source": [
    "print(properties[['addressStreet', 'addressSuburb', 'min_walking_distance_to_station', 'nearest_station']].head())"
   ]
  },
  {
   "cell_type": "code",
   "execution_count": 17,
   "metadata": {},
   "outputs": [
    {
     "name": "stdout",
     "output_type": "stream",
     "text": [
      "already\n"
     ]
    }
   ],
   "source": [
    "property_data = pd.read_csv('../data/curated/Facilities min-distance.csv')\n",
    "property_data['min_walking_distance_to_station'] = properties['min_walking_distance_to_station']\n",
    "property_data['nearest_station'] = properties['nearest_station']\n",
    "property_data.to_csv('../data/curated/all_Facilities_min_distance.csv', index=False)\n",
    "print(\"already\")\n"
   ]
  }
 ],
 "metadata": {
  "kernelspec": {
   "display_name": "Python 3",
   "language": "python",
   "name": "python3"
  },
  "language_info": {
   "codemirror_mode": {
    "name": "ipython",
    "version": 3
   },
   "file_extension": ".py",
   "mimetype": "text/x-python",
   "name": "python",
   "nbconvert_exporter": "python",
   "pygments_lexer": "ipython3",
   "version": "3.10.12"
  }
 },
 "nbformat": 4,
 "nbformat_minor": 2
}
