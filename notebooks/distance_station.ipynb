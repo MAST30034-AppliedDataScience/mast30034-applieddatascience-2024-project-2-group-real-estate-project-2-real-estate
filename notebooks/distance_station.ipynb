{
 "cells": [
  {
   "cell_type": "code",
   "execution_count": 16,
   "metadata": {},
   "outputs": [
    {
     "name": "stdout",
     "output_type": "stream",
     "text": [
      "already\n"
     ]
    }
   ],
   "source": [
    "import pandas as pd\n",
    "from math import radians, sin, cos, sqrt, atan2\n",
    "\n",
    "property_df = pd.read_csv('../data/curated/None_longi_lati_remove_domain.csv.csv')\n",
    "stations_data = pd.read_csv('../data/curated/combined_stops_with_postcodes.csv')\n",
    "def haversine(lat1, lon1, lat2, lon2):\n",
    "    R = 6371.0  \n",
    "    dlat = radians(lat2 - lat1)\n",
    "    dlon = radians(lon2 - lon1)\n",
    "    a = sin(dlat / 2)**2 + cos(radians(lat1)) * cos(radians(lat2)) * sin(dlon / 2)**2\n",
    "    c = 2 * atan2(sqrt(a), sqrt(1 - a))\n",
    "    return R * c  \n",
    "\n",
    "\n",
    "def filter_stations_by_distance(property_lat, property_lng, stations_data, max_distance_km=3):\n",
    "    filtered_stations = stations_data[\n",
    "        stations_data.apply(lambda row: haversine(property_lat, property_lng, row['stop_lat'], row['stop_lon']) <= max_distance_km, axis=1)\n",
    "    ]\n",
    "    return filtered_stations\n",
    "\n",
    "property_df['candidate_stations'] = None\n",
    "\n",
    "for index, row in property_df.iterrows():\n",
    "    property_lat, property_lng = row['addressLat'], row['addressLng']\n",
    "    nearby_stations = filter_stations_by_distance(property_lat, property_lng, stations_data, max_distance_km=5)\n",
    "\n",
    "    property_df.at[index, 'candidate_stations'] = nearby_stations.to_dict('records')\n",
    "property_df.to_pickle('property_with_filtered_stations.pkl')\n",
    "\n",
    "print(\"already\")\n"
   ]
  },
  {
   "cell_type": "code",
   "execution_count": 32,
   "metadata": {},
   "outputs": [
    {
     "name": "stdout",
     "output_type": "stream",
     "text": [
      "already\n"
     ]
    }
   ],
   "source": [
    "import googlemaps\n",
    "import pandas as pd\n",
    "import time\n",
    "\n",
    "gmaps = googlemaps.Client(key='') #here is mine private api\n",
    "\n",
    "property_df = pd.read_pickle('../data/curated/property_with_filtered_stations.pkl')\n",
    "\n",
    "def get_walking_distance(property_lat, property_lng, station_lat, station_lng):\n",
    "    origins = (property_lat, property_lng)\n",
    "    destinations = (station_lat, station_lng)\n",
    "    \n",
    "    result = gmaps.distance_matrix(origins, destinations, mode='walking')\n",
    "    \n",
    "    if result['rows'][0]['elements'][0]['status'] == 'OK':\n",
    "        distance_value = result['rows'][0]['elements'][0]['distance']['value']  \n",
    "        return distance_value\n",
    "    else:\n",
    "        return float('inf') \n",
    "\n",
    "property_df['closest_station'] = None\n",
    "property_df['distance_to_closest_station'] = None\n",
    "\n",
    "for index, row in property_df.iterrows():\n",
    "    property_lat, property_lng = row['addressLat'], row['addressLng']\n",
    "    candidate_stations = row['candidate_stations']  \n",
    "    \n",
    "    if len(candidate_stations) == 1:\n",
    "        station = candidate_stations[0]\n",
    "        station_lat, station_lng = station['stop_lat'], station['stop_lon']\n",
    "        distance_value = get_walking_distance(property_lat, property_lng, station_lat, station_lng)\n",
    "        property_df.at[index, 'closest_station'] = station['stop_name']\n",
    "        property_df.at[index, 'distance_to_closest_station'] = distance_value / 1000  \n",
    "    else:\n",
    "        min_distance = float('inf')\n",
    "        closest_station = None\n",
    "        \n",
    "        for station in candidate_stations:\n",
    "            station_lat, station_lng = station['stop_lat'], station['stop_lon']\n",
    "            distance_value = get_walking_distance(property_lat, property_lng, station_lat, station_lng)\n",
    "            \n",
    "            if distance_value < min_distance:\n",
    "                min_distance = distance_value\n",
    "                closest_station = station['stop_name']\n",
    "    \n",
    "        property_df.at[index, 'closest_station'] = closest_station\n",
    "        property_df.at[index, 'distance_to_closest_station'] = min_distance / 1000  # 转换为公里\n",
    "\n",
    "    time.sleep(1)\n",
    "\n",
    "property_df.to_csv('property_with_walking_distance.csv', index=False)\n",
    "\n",
    "print(\"already\")\n"
   ]
  },
  {
   "cell_type": "code",
   "execution_count": 38,
   "metadata": {},
   "outputs": [],
   "source": [
    "property_df.to_csv('property_with_walking_distance1.csv', index=False, encoding='utf-8')\n"
   ]
  }
 ],
 "metadata": {
  "kernelspec": {
   "display_name": "Python 3",
   "language": "python",
   "name": "python3"
  },
  "language_info": {
   "codemirror_mode": {
    "name": "ipython",
    "version": 3
   },
   "file_extension": ".py",
   "mimetype": "text/x-python",
   "name": "python",
   "nbconvert_exporter": "python",
   "pygments_lexer": "ipython3",
   "version": "3.10.12"
  }
 },
 "nbformat": 4,
 "nbformat_minor": 2
}
