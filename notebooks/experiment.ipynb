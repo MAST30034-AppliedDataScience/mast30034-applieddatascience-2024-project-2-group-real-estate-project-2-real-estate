{
 "cells": [
  {
   "cell_type": "code",
   "execution_count": 1,
   "metadata": {},
   "outputs": [],
   "source": [
    "import re\n",
    "from tqdm import tqdm\n",
    "from bs4 import BeautifulSoup\n",
    "from urllib.request import urlopen, Request\n",
    "from concurrent.futures import ThreadPoolExecutor, as_completed\n",
    "import requests\n",
    "from collections import defaultdict\n",
    "import numpy as np\n",
    "from urllib.parse import urlparse, parse_qs"
   ]
  },
  {
   "cell_type": "code",
   "execution_count": 11,
   "metadata": {},
   "outputs": [],
   "source": [
    "headers = {'User-Agent': \"PostmanRuntime/7.6.0\"} # Define headers to mimic a browser request\n",
    "property_url = \"https://www.domain.com.au/17-dock-road-doreen-vic-3754-17144574?topspot=1\"\n",
    "\n",
    "# Send a GET request to the property URL\n",
    "response = requests.get(property_url, headers=headers)\n",
    "html = response.text\n",
    "\n",
    "# Parse the HTML content using BeautifulSoup \n",
    "bs_object = BeautifulSoup(html, \"lxml\")\n",
    "\n"
   ]
  },
  {
   "cell_type": "code",
   "execution_count": 13,
   "metadata": {},
   "outputs": [
    {
     "name": "stdout",
     "output_type": "stream",
     "text": [
      "17 Dock Road, Doreen VIC 3754\n",
      "Rachel Menzies\n"
     ]
    }
   ],
   "source": [
    "name_test = bs_object.find(\"h1\", {\"class\": \"css-164r41r\"}).text\n",
    "print(name_test)\n",
    "\n",
    "desc_test = bs_object.find(\"p\").get_text(separator='\\n').strip()\n",
    "print(desc_test)"
   ]
  },
  {
   "cell_type": "code",
   "execution_count": 16,
   "metadata": {},
   "outputs": [
    {
     "name": "stdout",
     "output_type": "stream",
     "text": [
      "Perfect Family Home\n",
      "Situated in the popular and convenient Riverstone Estate with easy access to the best Doreen has to offer. This double-level home delivers an outstanding lifestyle with its comfortable floorplan, inclusions and excellent presentation throughout. Perfectly located within close proximity to Riverstone shops, Ashley Park Primary School, Ivanhoe Grammar School, parklands, walking trails and public\n"
     ]
    }
   ],
   "source": [
    "# Assuming `bs_object` is your parsed BeautifulSoup object from the webpage\n",
    "description_div = bs_object.find(\"div\", {\"class\": \"css-bq4jj8\"}) \\\n",
    "                           .find(\"div\", {\"class\": \"noscript-expander-wrapper css-6cl4nz\"}) \\\n",
    "                           .find(\"div\", {\"class\": \"noscript-expander-content css-1mnayj9\"})\n",
    "\n",
    "# Navigate through the first unclassified div\n",
    "first_unclassified_div = description_div.find(\"div\")  # First div with no class\n",
    "\n",
    "# Then find the second unclassified div inside it\n",
    "second_unclassified_div = first_unclassified_div.find(\"div\")  # Second div with no class inside the first one\n",
    "\n",
    "# Extract the <h3> and <p> elements\n",
    "description_header = second_unclassified_div.find(\"h3\", {\"class\": \"css-juce83\"})\n",
    "description_paragraphs = second_unclassified_div.find_all(\"p\")\n",
    "\n",
    "# Get text from the header and paragraphs\n",
    "description_text = description_header.text + \"\\n\" + \"\\n\".join([p.text for p in description_paragraphs])\n",
    "\n",
    "# Print the description\n",
    "print(description_text)\n"
   ]
  },
  {
   "cell_type": "code",
   "execution_count": 22,
   "metadata": {},
   "outputs": [
    {
     "name": "stdout",
     "output_type": "stream",
     "text": [
      "<div>\n",
      " <h3 class=\"css-juce83\" data-testid=\"listing-details__description-headline\">\n",
      "  Perfect Family Home\n",
      " </h3>\n",
      " <p>\n",
      "  Situated in the popular and convenient Riverstone Estate with easy access to the best Doreen has to offer. This double-level home delivers an outstanding lifestyle with its comfortable floorplan, inclusions and excellent presentation throughout. Perfectly located within close proximity to Riverstone shops, Ashley Park Primary School, Ivanhoe Grammar School, parklands, walking trails and public\n",
      " </p>\n",
      "</div>\n",
      "\n"
     ]
    }
   ],
   "source": [
    "print(second_unclassified_div.prettify())  # This will show the full structure of the div you're targeting\n"
   ]
  }
 ],
 "metadata": {
  "kernelspec": {
   "display_name": ".venv",
   "language": "python",
   "name": "python3"
  },
  "language_info": {
   "codemirror_mode": {
    "name": "ipython",
    "version": 3
   },
   "file_extension": ".py",
   "mimetype": "text/x-python",
   "name": "python",
   "nbconvert_exporter": "python",
   "pygments_lexer": "ipython3",
   "version": "3.11.7"
  }
 },
 "nbformat": 4,
 "nbformat_minor": 2
}
