{
 "cells": [
  {
   "cell_type": "markdown",
   "metadata": {},
   "source": [
    "This notebook implements and evaluates different models for predicting the yearly growth rate of the median rent given suburb and year, and the rental price of a property given its attributes."
   ]
  },
  {
   "cell_type": "code",
   "execution_count": 1,
   "metadata": {},
   "outputs": [],
   "source": [
    "import pandas as pd\n",
    "from sklearn.preprocessing import LabelEncoder\n",
    "from sklearn.model_selection import train_test_split\n",
    "from sklearn.metrics import mean_squared_error\n",
    "from sklearn.preprocessing import PolynomialFeatures\n",
    "from sklearn.pipeline import make_pipeline\n",
    "from sklearn.ensemble import RandomForestRegressor"
   ]
  },
  {
   "cell_type": "code",
   "execution_count": 2,
   "metadata": {},
   "outputs": [
    {
     "data": {
      "text/html": [
       "<div>\n",
       "<style scoped>\n",
       "    .dataframe tbody tr th:only-of-type {\n",
       "        vertical-align: middle;\n",
       "    }\n",
       "\n",
       "    .dataframe tbody tr th {\n",
       "        vertical-align: top;\n",
       "    }\n",
       "\n",
       "    .dataframe thead th {\n",
       "        text-align: right;\n",
       "    }\n",
       "</style>\n",
       "<table border=\"1\" class=\"dataframe\">\n",
       "  <thead>\n",
       "    <tr style=\"text-align: right;\">\n",
       "      <th></th>\n",
       "      <th>suburb</th>\n",
       "      <th>year</th>\n",
       "      <th>growth_rate</th>\n",
       "    </tr>\n",
       "  </thead>\n",
       "  <tbody>\n",
       "    <tr>\n",
       "      <th>0</th>\n",
       "      <td>Albert Park-Middle Park-West St Kilda</td>\n",
       "      <td>2003</td>\n",
       "      <td>-1.666667</td>\n",
       "    </tr>\n",
       "    <tr>\n",
       "      <th>1</th>\n",
       "      <td>Armadale</td>\n",
       "      <td>2003</td>\n",
       "      <td>0.858369</td>\n",
       "    </tr>\n",
       "    <tr>\n",
       "      <th>2</th>\n",
       "      <td>Carlton North</td>\n",
       "      <td>2003</td>\n",
       "      <td>0.000000</td>\n",
       "    </tr>\n",
       "    <tr>\n",
       "      <th>3</th>\n",
       "      <td>Carlton-Parkville</td>\n",
       "      <td>2003</td>\n",
       "      <td>3.703704</td>\n",
       "    </tr>\n",
       "    <tr>\n",
       "      <th>4</th>\n",
       "      <td>CBD-St Kilda Rd</td>\n",
       "      <td>2003</td>\n",
       "      <td>-3.125000</td>\n",
       "    </tr>\n",
       "  </tbody>\n",
       "</table>\n",
       "</div>"
      ],
      "text/plain": [
       "                                  suburb  year  growth_rate\n",
       "0  Albert Park-Middle Park-West St Kilda  2003    -1.666667\n",
       "1                               Armadale  2003     0.858369\n",
       "2                          Carlton North  2003     0.000000\n",
       "3                      Carlton-Parkville  2003     3.703704\n",
       "4                        CBD-St Kilda Rd  2003    -3.125000"
      ]
     },
     "execution_count": 2,
     "metadata": {},
     "output_type": "execute_result"
    }
   ],
   "source": [
    "# Read the growth rate data\n",
    "yearly_growth = pd.read_csv('../data/landing/yearly_growth_rate_of_median_rent_by_suburb.csv')\n",
    "yearly_growth.head()"
   ]
  },
  {
   "cell_type": "code",
   "execution_count": 3,
   "metadata": {},
   "outputs": [
    {
     "name": "stderr",
     "output_type": "stream",
     "text": [
      "/tmp/ipykernel_31605/2218924627.py:4: SettingWithCopyWarning: \n",
      "A value is trying to be set on a copy of a slice from a DataFrame.\n",
      "Try using .loc[row_indexer,col_indexer] = value instead\n",
      "\n",
      "See the caveats in the documentation: https://pandas.pydata.org/pandas-docs/stable/user_guide/indexing.html#returning-a-view-versus-a-copy\n",
      "  X['suburb'] = le.fit_transform(X['suburb'])\n"
     ]
    }
   ],
   "source": [
    "# Build a model to predict the yearly growth rate of the median rent given suburb and year\n",
    "le = LabelEncoder()\n",
    "X = yearly_growth[['suburb', 'year']]\n",
    "X['suburb'] = le.fit_transform(X['suburb'])\n",
    "y = yearly_growth['growth_rate']\n",
    "X_train, X_test, y_train, y_test = train_test_split(X, y, test_size=0.2, random_state=30034)"
   ]
  },
  {
   "cell_type": "code",
   "execution_count": 4,
   "metadata": {},
   "outputs": [
    {
     "name": "stdout",
     "output_type": "stream",
     "text": [
      "Baseline MSE: 18.884595292333167\n"
     ]
    },
    {
     "name": "stderr",
     "output_type": "stream",
     "text": [
      "/tmp/ipykernel_31605/1956734902.py:4: FutureWarning: Series.__getitem__ treating keys as positions is deprecated. In a future version, integer keys will always be treated as labels (consistent with DataFrame behavior). To access a value by position, use `ser.iloc[pos]`\n",
      "  y_pred = X_test['suburb'].apply(lambda x: suburb_mean[x])\n"
     ]
    }
   ],
   "source": [
    "# Fit a baseline model\n",
    "# In this case, choose a suburb-wise mean baseline\n",
    "suburb_mean = yearly_growth.groupby('suburb')['growth_rate'].mean()\n",
    "y_pred = X_test['suburb'].apply(lambda x: suburb_mean[x])\n",
    "baseline_mse = mean_squared_error(y_test, y_pred)\n",
    "print(f'Baseline MSE: {baseline_mse}')"
   ]
  },
  {
   "cell_type": "code",
   "execution_count": 5,
   "metadata": {},
   "outputs": [
    {
     "name": "stdout",
     "output_type": "stream",
     "text": [
      "Baseline MSE: 11.318108840861491\n"
     ]
    }
   ],
   "source": [
    "# Fit a baseline model\n",
    "# In this case, choose a year-wise mean baseline\n",
    "year_mean = yearly_growth.groupby('year')['growth_rate'].mean()\n",
    "y_pred = X_test['year'].apply(lambda x: year_mean[x])\n",
    "baseline_mse = mean_squared_error(y_test, y_pred)\n",
    "print(f'Baseline MSE: {baseline_mse}')"
   ]
  },
  {
   "cell_type": "code",
   "execution_count": 6,
   "metadata": {},
   "outputs": [
    {
     "name": "stdout",
     "output_type": "stream",
     "text": [
      "Mean squared error: 19.39025083623132\n"
     ]
    }
   ],
   "source": [
    "# Fit a linear regression model\n",
    "from sklearn.linear_model import LinearRegression\n",
    "LR = LinearRegression()\n",
    "LR.fit(X_train, y_train)\n",
    "y_pred = LR.predict(X_test)\n",
    "mse = mean_squared_error(y_test, y_pred)\n",
    "print(f'Mean squared error: {mse}')"
   ]
  },
  {
   "cell_type": "markdown",
   "metadata": {},
   "source": [
    "Since the linear regressor assumes linearities in the data, based on the MSEs some non-linearities in the data are expected."
   ]
  },
  {
   "cell_type": "code",
   "execution_count": 7,
   "metadata": {},
   "outputs": [
    {
     "name": "stdout",
     "output_type": "stream",
     "text": [
      "Mean squared error: 15.62106961630631\n"
     ]
    },
    {
     "data": {
      "text/html": [
       "<div>\n",
       "<style scoped>\n",
       "    .dataframe tbody tr th:only-of-type {\n",
       "        vertical-align: middle;\n",
       "    }\n",
       "\n",
       "    .dataframe tbody tr th {\n",
       "        vertical-align: top;\n",
       "    }\n",
       "\n",
       "    .dataframe thead th {\n",
       "        text-align: right;\n",
       "    }\n",
       "</style>\n",
       "<table border=\"1\" class=\"dataframe\">\n",
       "  <thead>\n",
       "    <tr style=\"text-align: right;\">\n",
       "      <th></th>\n",
       "      <th>suburb</th>\n",
       "      <th>growth_rate</th>\n",
       "    </tr>\n",
       "  </thead>\n",
       "  <tbody>\n",
       "    <tr>\n",
       "      <th>63</th>\n",
       "      <td>Yarraville-Seddon</td>\n",
       "      <td>10.759485</td>\n",
       "    </tr>\n",
       "    <tr>\n",
       "      <th>96</th>\n",
       "      <td>Yarra Ranges</td>\n",
       "      <td>10.737153</td>\n",
       "    </tr>\n",
       "    <tr>\n",
       "      <th>145</th>\n",
       "      <td>Wodonga</td>\n",
       "      <td>10.714817</td>\n",
       "    </tr>\n",
       "    <tr>\n",
       "      <th>62</th>\n",
       "      <td>Williamstown</td>\n",
       "      <td>10.692479</td>\n",
       "    </tr>\n",
       "    <tr>\n",
       "      <th>88</th>\n",
       "      <td>Whittlesea</td>\n",
       "      <td>10.670141</td>\n",
       "    </tr>\n",
       "    <tr>\n",
       "      <th>61</th>\n",
       "      <td>West Footscray</td>\n",
       "      <td>10.647803</td>\n",
       "    </tr>\n",
       "    <tr>\n",
       "      <th>76</th>\n",
       "      <td>West Brunswick</td>\n",
       "      <td>10.625468</td>\n",
       "    </tr>\n",
       "    <tr>\n",
       "      <th>60</th>\n",
       "      <td>Werribee-Hoppers Crossing</td>\n",
       "      <td>10.603136</td>\n",
       "    </tr>\n",
       "    <tr>\n",
       "      <th>120</th>\n",
       "      <td>Wendouree-Alfredton</td>\n",
       "      <td>10.580810</td>\n",
       "    </tr>\n",
       "    <tr>\n",
       "      <th>144</th>\n",
       "      <td>Warrnambool</td>\n",
       "      <td>10.558490</td>\n",
       "    </tr>\n",
       "  </tbody>\n",
       "</table>\n",
       "</div>"
      ],
      "text/plain": [
       "                        suburb  growth_rate\n",
       "63           Yarraville-Seddon    10.759485\n",
       "96                Yarra Ranges    10.737153\n",
       "145                    Wodonga    10.714817\n",
       "62                Williamstown    10.692479\n",
       "88                  Whittlesea    10.670141\n",
       "61              West Footscray    10.647803\n",
       "76              West Brunswick    10.625468\n",
       "60   Werribee-Hoppers Crossing    10.603136\n",
       "120        Wendouree-Alfredton    10.580810\n",
       "144                Warrnambool    10.558490"
      ]
     },
     "execution_count": 7,
     "metadata": {},
     "output_type": "execute_result"
    }
   ],
   "source": [
    "# Fit a polynomial regression model\n",
    "degree = 3\n",
    "PR = make_pipeline(PolynomialFeatures(degree), LinearRegression())\n",
    "PR.fit(X_train, y_train)\n",
    "y_pred = PR.predict(X_test)\n",
    "mse = mean_squared_error(y_test, y_pred)\n",
    "print(f'Mean squared error: {mse}')\n",
    "\n",
    "# Predict the growth rate for each suburb in 2024\n",
    "suburbs = le.fit_transform(yearly_growth['suburb'].unique())\n",
    "years = [2024] * len(suburbs)\n",
    "X_pred = pd.DataFrame({'suburb': suburbs, 'year': years})\n",
    "y_pred = PR.predict(X_pred)\n",
    "\n",
    "# The top 10 suburbs with the highest predicted growth rate in 2024\n",
    "suburbs = le.inverse_transform(suburbs)\n",
    "growth_rate = pd.DataFrame({'suburb': suburbs, 'growth_rate': y_pred})\n",
    "growth_rate = growth_rate.sort_values('growth_rate', ascending=False)\n",
    "growth_rate.head(10)"
   ]
  },
  {
   "cell_type": "code",
   "execution_count": 8,
   "metadata": {},
   "outputs": [
    {
     "name": "stdout",
     "output_type": "stream",
     "text": [
      "Mean squared error: 16.473171092781257\n"
     ]
    },
    {
     "data": {
      "text/html": [
       "<div>\n",
       "<style scoped>\n",
       "    .dataframe tbody tr th:only-of-type {\n",
       "        vertical-align: middle;\n",
       "    }\n",
       "\n",
       "    .dataframe tbody tr th {\n",
       "        vertical-align: top;\n",
       "    }\n",
       "\n",
       "    .dataframe thead th {\n",
       "        text-align: right;\n",
       "    }\n",
       "</style>\n",
       "<table border=\"1\" class=\"dataframe\">\n",
       "  <thead>\n",
       "    <tr style=\"text-align: right;\">\n",
       "      <th></th>\n",
       "      <th>suburb</th>\n",
       "      <th>growth_rate</th>\n",
       "    </tr>\n",
       "  </thead>\n",
       "  <tbody>\n",
       "    <tr>\n",
       "      <th>28</th>\n",
       "      <td>Canterbury-Surrey Hills-Mont Albert</td>\n",
       "      <td>31.710033</td>\n",
       "    </tr>\n",
       "    <tr>\n",
       "      <th>19</th>\n",
       "      <td>Southbank</td>\n",
       "      <td>28.986747</td>\n",
       "    </tr>\n",
       "    <tr>\n",
       "      <th>2</th>\n",
       "      <td>Carlton North</td>\n",
       "      <td>28.173828</td>\n",
       "    </tr>\n",
       "    <tr>\n",
       "      <th>27</th>\n",
       "      <td>Camberwell-Glen Iris</td>\n",
       "      <td>28.125757</td>\n",
       "    </tr>\n",
       "    <tr>\n",
       "      <th>4</th>\n",
       "      <td>CBD-St Kilda Rd</td>\n",
       "      <td>27.026678</td>\n",
       "    </tr>\n",
       "    <tr>\n",
       "      <th>3</th>\n",
       "      <td>Carlton-Parkville</td>\n",
       "      <td>25.120764</td>\n",
       "    </tr>\n",
       "    <tr>\n",
       "      <th>43</th>\n",
       "      <td>Carnegie</td>\n",
       "      <td>24.778679</td>\n",
       "    </tr>\n",
       "    <tr>\n",
       "      <th>6</th>\n",
       "      <td>Docklands</td>\n",
       "      <td>22.382418</td>\n",
       "    </tr>\n",
       "    <tr>\n",
       "      <th>18</th>\n",
       "      <td>South Yarra</td>\n",
       "      <td>20.411094</td>\n",
       "    </tr>\n",
       "    <tr>\n",
       "      <th>44</th>\n",
       "      <td>Caulfield</td>\n",
       "      <td>20.045454</td>\n",
       "    </tr>\n",
       "  </tbody>\n",
       "</table>\n",
       "</div>"
      ],
      "text/plain": [
       "                                 suburb  growth_rate\n",
       "28  Canterbury-Surrey Hills-Mont Albert    31.710033\n",
       "19                            Southbank    28.986747\n",
       "2                         Carlton North    28.173828\n",
       "27                 Camberwell-Glen Iris    28.125757\n",
       "4                       CBD-St Kilda Rd    27.026678\n",
       "3                     Carlton-Parkville    25.120764\n",
       "43                             Carnegie    24.778679\n",
       "6                             Docklands    22.382418\n",
       "18                          South Yarra    20.411094\n",
       "44                            Caulfield    20.045454"
      ]
     },
     "execution_count": 8,
     "metadata": {},
     "output_type": "execute_result"
    }
   ],
   "source": [
    "# Fit a random forest regressor\n",
    "RFR = RandomForestRegressor(n_estimators=100, random_state=30034)\n",
    "RFR.fit(X_train, y_train)\n",
    "y_pred = RFR.predict(X_test)\n",
    "mse = mean_squared_error(y_test, y_pred)\n",
    "print(f'Mean squared error: {mse}')\n",
    "\n",
    "# Predict the growth rate for each suburb in 2024\n",
    "suburbs = le.fit_transform(yearly_growth['suburb'].unique())\n",
    "years = [2024] * len(suburbs)\n",
    "X_pred = pd.DataFrame({'suburb': suburbs, 'year': years})\n",
    "y_pred = RFR.predict(X_pred)\n",
    "\n",
    "# The top 10 suburbs with the highest predicted growth rate in 2024\n",
    "suburbs = le.inverse_transform(suburbs)\n",
    "growth_rate = pd.DataFrame({'suburb': suburbs, 'growth_rate': y_pred})\n",
    "growth_rate = growth_rate.sort_values('growth_rate', ascending=False)\n",
    "growth_rate.head(10)"
   ]
  },
  {
   "cell_type": "markdown",
   "metadata": {},
   "source": []
  },
  {
   "cell_type": "markdown",
   "metadata": {},
   "source": []
  },
  {
   "cell_type": "markdown",
   "metadata": {},
   "source": []
  },
  {
   "cell_type": "code",
   "execution_count": 9,
   "metadata": {},
   "outputs": [
    {
     "data": {
      "text/html": [
       "<div>\n",
       "<style scoped>\n",
       "    .dataframe tbody tr th:only-of-type {\n",
       "        vertical-align: middle;\n",
       "    }\n",
       "\n",
       "    .dataframe tbody tr th {\n",
       "        vertical-align: top;\n",
       "    }\n",
       "\n",
       "    .dataframe thead th {\n",
       "        text-align: right;\n",
       "    }\n",
       "</style>\n",
       "<table border=\"1\" class=\"dataframe\">\n",
       "  <thead>\n",
       "    <tr style=\"text-align: right;\">\n",
       "      <th></th>\n",
       "      <th>bedrooms</th>\n",
       "      <th>bathrooms</th>\n",
       "      <th>car_parks</th>\n",
       "      <th>url</th>\n",
       "      <th>name</th>\n",
       "      <th>cost_text</th>\n",
       "      <th>type</th>\n",
       "      <th>latitude</th>\n",
       "      <th>longitude</th>\n",
       "      <th>suburb</th>\n",
       "      <th>postcode</th>\n",
       "      <th>rent_pw</th>\n",
       "    </tr>\n",
       "  </thead>\n",
       "  <tbody>\n",
       "    <tr>\n",
       "      <th>0</th>\n",
       "      <td>2</td>\n",
       "      <td>1</td>\n",
       "      <td>1</td>\n",
       "      <td>https://www.domain.com.au/705-8-marmion-place-...</td>\n",
       "      <td>705/8 Marmion Place, Docklands VIC 3008</td>\n",
       "      <td>$600 per week</td>\n",
       "      <td>Apartment / Unit / Flat</td>\n",
       "      <td>-37.8134708</td>\n",
       "      <td>144.9424794</td>\n",
       "      <td>Docklands VIC 3008</td>\n",
       "      <td>3008</td>\n",
       "      <td>600</td>\n",
       "    </tr>\n",
       "    <tr>\n",
       "      <th>1</th>\n",
       "      <td>3</td>\n",
       "      <td>2</td>\n",
       "      <td>2</td>\n",
       "      <td>https://www.domain.com.au/5-18-20-ibbottson-st...</td>\n",
       "      <td>5/18-20 Ibbottson Street, Watsonia VIC 3087</td>\n",
       "      <td>$650 Per Week</td>\n",
       "      <td>Townhouse</td>\n",
       "      <td>-37.70987239999999</td>\n",
       "      <td>145.0844928</td>\n",
       "      <td>Watsonia VIC 3087</td>\n",
       "      <td>3087</td>\n",
       "      <td>650</td>\n",
       "    </tr>\n",
       "    <tr>\n",
       "      <th>2</th>\n",
       "      <td>3</td>\n",
       "      <td>2</td>\n",
       "      <td>1</td>\n",
       "      <td>https://www.domain.com.au/2109-35-malcolm-st-s...</td>\n",
       "      <td>2109/35 Malcolm St, South Yarra VIC 3141</td>\n",
       "      <td>$1,150/week</td>\n",
       "      <td>Apartment / Unit / Flat</td>\n",
       "      <td>-37.8369683</td>\n",
       "      <td>144.9964622</td>\n",
       "      <td>South Yarra VIC 3141</td>\n",
       "      <td>3141</td>\n",
       "      <td>1150</td>\n",
       "    </tr>\n",
       "    <tr>\n",
       "      <th>3</th>\n",
       "      <td>2</td>\n",
       "      <td>1</td>\n",
       "      <td>1</td>\n",
       "      <td>https://www.domain.com.au/4-17a-the-esplanade-...</td>\n",
       "      <td>4/17a The Esplanade, Geelong VIC 3220</td>\n",
       "      <td>$475.00 per week</td>\n",
       "      <td>Apartment / Unit / Flat</td>\n",
       "      <td>-38.1345686</td>\n",
       "      <td>144.3548803</td>\n",
       "      <td>Geelong VIC 3220</td>\n",
       "      <td>3220</td>\n",
       "      <td>475</td>\n",
       "    </tr>\n",
       "    <tr>\n",
       "      <th>4</th>\n",
       "      <td>3</td>\n",
       "      <td>2</td>\n",
       "      <td>2</td>\n",
       "      <td>https://www.domain.com.au/501-446-malvern-road...</td>\n",
       "      <td>501/446 Malvern Road, Prahran VIC 3181</td>\n",
       "      <td>$2200 Per Week</td>\n",
       "      <td>Apartment / Unit / Flat</td>\n",
       "      <td>-37.8479885</td>\n",
       "      <td>145.0012197</td>\n",
       "      <td>Prahran VIC 3181</td>\n",
       "      <td>3181</td>\n",
       "      <td>2200</td>\n",
       "    </tr>\n",
       "  </tbody>\n",
       "</table>\n",
       "</div>"
      ],
      "text/plain": [
       "   bedrooms  bathrooms  car_parks  \\\n",
       "0         2          1          1   \n",
       "1         3          2          2   \n",
       "2         3          2          1   \n",
       "3         2          1          1   \n",
       "4         3          2          2   \n",
       "\n",
       "                                                 url  \\\n",
       "0  https://www.domain.com.au/705-8-marmion-place-...   \n",
       "1  https://www.domain.com.au/5-18-20-ibbottson-st...   \n",
       "2  https://www.domain.com.au/2109-35-malcolm-st-s...   \n",
       "3  https://www.domain.com.au/4-17a-the-esplanade-...   \n",
       "4  https://www.domain.com.au/501-446-malvern-road...   \n",
       "\n",
       "                                          name         cost_text  \\\n",
       "0      705/8 Marmion Place, Docklands VIC 3008     $600 per week   \n",
       "1  5/18-20 Ibbottson Street, Watsonia VIC 3087     $650 Per Week   \n",
       "2     2109/35 Malcolm St, South Yarra VIC 3141       $1,150/week   \n",
       "3        4/17a The Esplanade, Geelong VIC 3220  $475.00 per week   \n",
       "4       501/446 Malvern Road, Prahran VIC 3181    $2200 Per Week   \n",
       "\n",
       "                      type            latitude    longitude  \\\n",
       "0  Apartment / Unit / Flat         -37.8134708  144.9424794   \n",
       "1                Townhouse  -37.70987239999999  145.0844928   \n",
       "2  Apartment / Unit / Flat         -37.8369683  144.9964622   \n",
       "3  Apartment / Unit / Flat         -38.1345686  144.3548803   \n",
       "4  Apartment / Unit / Flat         -37.8479885  145.0012197   \n",
       "\n",
       "                  suburb postcode  rent_pw  \n",
       "0     Docklands VIC 3008     3008      600  \n",
       "1      Watsonia VIC 3087     3087      650  \n",
       "2   South Yarra VIC 3141     3141     1150  \n",
       "3       Geelong VIC 3220     3220      475  \n",
       "4       Prahran VIC 3181     3181     2200  "
      ]
     },
     "execution_count": 9,
     "metadata": {},
     "output_type": "execute_result"
    }
   ],
   "source": [
    "# Read the current listings data\n",
    "domain_current = pd.read_parquet('../data/landing/cleaned_domain_current_listings.parquet')\n",
    "domain_current.head()"
   ]
  },
  {
   "cell_type": "code",
   "execution_count": 10,
   "metadata": {},
   "outputs": [
    {
     "name": "stderr",
     "output_type": "stream",
     "text": [
      "/tmp/ipykernel_31605/479912965.py:5: SettingWithCopyWarning: \n",
      "A value is trying to be set on a copy of a slice from a DataFrame.\n",
      "Try using .loc[row_indexer,col_indexer] = value instead\n",
      "\n",
      "See the caveats in the documentation: https://pandas.pydata.org/pandas-docs/stable/user_guide/indexing.html#returning-a-view-versus-a-copy\n",
      "  X['postcode'] = le.fit_transform(X['postcode'])\n",
      "/tmp/ipykernel_31605/479912965.py:6: SettingWithCopyWarning: \n",
      "A value is trying to be set on a copy of a slice from a DataFrame.\n",
      "Try using .loc[row_indexer,col_indexer] = value instead\n",
      "\n",
      "See the caveats in the documentation: https://pandas.pydata.org/pandas-docs/stable/user_guide/indexing.html#returning-a-view-versus-a-copy\n",
      "  X['type'] = le.fit_transform(X['type'])\n"
     ]
    }
   ],
   "source": [
    "# Build a model to predict the rental price of a property given its attributes\n",
    "# including the postcode, type, number of bedrooms, number of bathrooms, and number of parking spaces\n",
    "le = LabelEncoder()\n",
    "X = domain_current[['postcode', 'type', 'bedrooms', 'bathrooms', 'car_parks']]\n",
    "X['postcode'] = le.fit_transform(X['postcode'])\n",
    "X['type'] = le.fit_transform(X['type'])\n",
    "y = domain_current['rent_pw']\n",
    "X_train, X_test, y_train, y_test = train_test_split(X, y, test_size=0.2, random_state=30034)"
   ]
  },
  {
   "cell_type": "code",
   "execution_count": 11,
   "metadata": {},
   "outputs": [
    {
     "name": "stdout",
     "output_type": "stream",
     "text": [
      "Mean squared error: 2333467.754144234\n"
     ]
    }
   ],
   "source": [
    "# Use the dummy regressor as a baseline\n",
    "from sklearn.dummy import DummyRegressor\n",
    "DR = DummyRegressor(strategy='mean')\n",
    "DR.fit(X_train, y_train)\n",
    "y_pred = DR.predict(X_test)\n",
    "mse = mean_squared_error(y_test, y_pred)\n",
    "print(f'Mean squared error: {mse}')"
   ]
  },
  {
   "cell_type": "code",
   "execution_count": 12,
   "metadata": {},
   "outputs": [
    {
     "name": "stdout",
     "output_type": "stream",
     "text": [
      "Mean squared error: 1440777.9509677421\n"
     ]
    }
   ],
   "source": [
    "# Fit a K-nearest neighbors regressor\n",
    "from sklearn.neighbors import KNeighborsRegressor\n",
    "KNR = KNeighborsRegressor(n_neighbors=5)\n",
    "KNR.fit(X_train, y_train)\n",
    "y_pred = KNR.predict(X_test)\n",
    "mse = mean_squared_error(y_test, y_pred)\n",
    "print(f'Mean squared error: {mse}')"
   ]
  }
 ],
 "metadata": {
  "kernelspec": {
   "display_name": "Python 3",
   "language": "python",
   "name": "python3"
  },
  "language_info": {
   "codemirror_mode": {
    "name": "ipython",
    "version": 3
   },
   "file_extension": ".py",
   "mimetype": "text/x-python",
   "name": "python",
   "nbconvert_exporter": "python",
   "pygments_lexer": "ipython3",
   "version": "3.12.3"
  }
 },
 "nbformat": 4,
 "nbformat_minor": 2
}
