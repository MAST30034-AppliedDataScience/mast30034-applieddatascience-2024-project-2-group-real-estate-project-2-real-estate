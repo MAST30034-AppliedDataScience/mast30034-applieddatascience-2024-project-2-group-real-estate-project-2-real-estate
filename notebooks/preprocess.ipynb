{
 "cells": [
  {
   "cell_type": "code",
   "execution_count": 2,
   "metadata": {},
   "outputs": [],
   "source": [
    "import pandas as pd"
   ]
  },
  {
   "cell_type": "code",
   "execution_count": 2,
   "metadata": {},
   "outputs": [
    {
     "data": {
      "text/html": [
       "<div>\n",
       "<style scoped>\n",
       "    .dataframe tbody tr th:only-of-type {\n",
       "        vertical-align: middle;\n",
       "    }\n",
       "\n",
       "    .dataframe tbody tr th {\n",
       "        vertical-align: top;\n",
       "    }\n",
       "\n",
       "    .dataframe thead th {\n",
       "        text-align: right;\n",
       "    }\n",
       "</style>\n",
       "<table border=\"1\" class=\"dataframe\">\n",
       "  <thead>\n",
       "    <tr style=\"text-align: right;\">\n",
       "      <th></th>\n",
       "      <th>id</th>\n",
       "      <th>promoType</th>\n",
       "      <th>price</th>\n",
       "      <th>hasVideo</th>\n",
       "      <th>agentNames</th>\n",
       "      <th>brandName</th>\n",
       "      <th>addressStreet</th>\n",
       "      <th>addressSuburb</th>\n",
       "      <th>addressState</th>\n",
       "      <th>addressPostcode</th>\n",
       "      <th>addressLat</th>\n",
       "      <th>addressLng</th>\n",
       "      <th>num_bath</th>\n",
       "      <th>type</th>\n",
       "      <th>formatted</th>\n",
       "      <th>isRural</th>\n",
       "      <th>landSize</th>\n",
       "      <th>Retirement</th>\n",
       "    </tr>\n",
       "  </thead>\n",
       "  <tbody>\n",
       "    <tr>\n",
       "      <th>0</th>\n",
       "      <td>15230553</td>\n",
       "      <td>premiumplus</td>\n",
       "      <td>$500 per week</td>\n",
       "      <td>False</td>\n",
       "      <td>Ismaeel Hussain</td>\n",
       "      <td>Samma Real Estate</td>\n",
       "      <td>322/23 Batman Street</td>\n",
       "      <td>WEST MELBOURNE</td>\n",
       "      <td>VIC</td>\n",
       "      <td>3003</td>\n",
       "      <td>-37.810738</td>\n",
       "      <td>144.95226</td>\n",
       "      <td>1.0</td>\n",
       "      <td>ApartmentUnitFlat</td>\n",
       "      <td>Apartment / Unit / Flat</td>\n",
       "      <td>False</td>\n",
       "      <td>0.0</td>\n",
       "      <td>False</td>\n",
       "    </tr>\n",
       "    <tr>\n",
       "      <th>1</th>\n",
       "      <td>15760997</td>\n",
       "      <td>premiumplus</td>\n",
       "      <td>$540 per Week</td>\n",
       "      <td>True</td>\n",
       "      <td>Conny Yang</td>\n",
       "      <td>Waterdale Property Agent Pty Ltd</td>\n",
       "      <td>2601/65 Dudley Street</td>\n",
       "      <td>WEST MELBOURNE</td>\n",
       "      <td>VIC</td>\n",
       "      <td>3003</td>\n",
       "      <td>-37.810135</td>\n",
       "      <td>144.95040</td>\n",
       "      <td>1.0</td>\n",
       "      <td>ApartmentUnitFlat</td>\n",
       "      <td>Apartment / Unit / Flat</td>\n",
       "      <td>False</td>\n",
       "      <td>0.0</td>\n",
       "      <td>False</td>\n",
       "    </tr>\n",
       "    <tr>\n",
       "      <th>2</th>\n",
       "      <td>15975970</td>\n",
       "      <td>standardpp</td>\n",
       "      <td>$650.00</td>\n",
       "      <td>False</td>\n",
       "      <td>Ismaeel Hussain</td>\n",
       "      <td>Samma Real Estate</td>\n",
       "      <td>1212/15-31 Batman Street</td>\n",
       "      <td>WEST MELBOURNE</td>\n",
       "      <td>VIC</td>\n",
       "      <td>3003</td>\n",
       "      <td>-37.810757</td>\n",
       "      <td>144.95224</td>\n",
       "      <td>2.0</td>\n",
       "      <td>ApartmentUnitFlat</td>\n",
       "      <td>Apartment / Unit / Flat</td>\n",
       "      <td>False</td>\n",
       "      <td>0.0</td>\n",
       "      <td>False</td>\n",
       "    </tr>\n",
       "    <tr>\n",
       "      <th>3</th>\n",
       "      <td>16668342</td>\n",
       "      <td>premiumplus</td>\n",
       "      <td>$560 per week</td>\n",
       "      <td>False</td>\n",
       "      <td>Ismaeel Hussain</td>\n",
       "      <td>Samma Real Estate</td>\n",
       "      <td>307/33 Batman Street</td>\n",
       "      <td>WEST MELBOURNE</td>\n",
       "      <td>VIC</td>\n",
       "      <td>3003</td>\n",
       "      <td>-37.810860</td>\n",
       "      <td>144.95183</td>\n",
       "      <td>1.0</td>\n",
       "      <td>ApartmentUnitFlat</td>\n",
       "      <td>Apartment / Unit / Flat</td>\n",
       "      <td>False</td>\n",
       "      <td>0.0</td>\n",
       "      <td>False</td>\n",
       "    </tr>\n",
       "    <tr>\n",
       "      <th>4</th>\n",
       "      <td>16803052</td>\n",
       "      <td>standardpp</td>\n",
       "      <td>$600</td>\n",
       "      <td>False</td>\n",
       "      <td>Caroline Hardeman</td>\n",
       "      <td>Ray White Williamstown</td>\n",
       "      <td>2/18 Ireland Street</td>\n",
       "      <td>WEST MELBOURNE</td>\n",
       "      <td>VIC</td>\n",
       "      <td>3003</td>\n",
       "      <td>-37.807606</td>\n",
       "      <td>144.94562</td>\n",
       "      <td>1.0</td>\n",
       "      <td>ApartmentUnitFlat</td>\n",
       "      <td>Apartment / Unit / Flat</td>\n",
       "      <td>False</td>\n",
       "      <td>0.0</td>\n",
       "      <td>False</td>\n",
       "    </tr>\n",
       "  </tbody>\n",
       "</table>\n",
       "</div>"
      ],
      "text/plain": [
       "         id    promoType          price hasVideo         agentNames  \\\n",
       "0  15230553  premiumplus  $500 per week    False    Ismaeel Hussain   \n",
       "1  15760997  premiumplus  $540 per Week     True         Conny Yang   \n",
       "2  15975970   standardpp        $650.00    False    Ismaeel Hussain   \n",
       "3  16668342  premiumplus  $560 per week    False    Ismaeel Hussain   \n",
       "4  16803052   standardpp           $600    False  Caroline Hardeman   \n",
       "\n",
       "                          brandName             addressStreet   addressSuburb  \\\n",
       "0                 Samma Real Estate      322/23 Batman Street  WEST MELBOURNE   \n",
       "1  Waterdale Property Agent Pty Ltd     2601/65 Dudley Street  WEST MELBOURNE   \n",
       "2                 Samma Real Estate  1212/15-31 Batman Street  WEST MELBOURNE   \n",
       "3                 Samma Real Estate      307/33 Batman Street  WEST MELBOURNE   \n",
       "4            Ray White Williamstown       2/18 Ireland Street  WEST MELBOURNE   \n",
       "\n",
       "  addressState  addressPostcode  addressLat  addressLng  num_bath  \\\n",
       "0          VIC             3003  -37.810738   144.95226       1.0   \n",
       "1          VIC             3003  -37.810135   144.95040       1.0   \n",
       "2          VIC             3003  -37.810757   144.95224       2.0   \n",
       "3          VIC             3003  -37.810860   144.95183       1.0   \n",
       "4          VIC             3003  -37.807606   144.94562       1.0   \n",
       "\n",
       "                type                formatted isRural  landSize Retirement  \n",
       "0  ApartmentUnitFlat  Apartment / Unit / Flat   False       0.0      False  \n",
       "1  ApartmentUnitFlat  Apartment / Unit / Flat   False       0.0      False  \n",
       "2  ApartmentUnitFlat  Apartment / Unit / Flat   False       0.0      False  \n",
       "3  ApartmentUnitFlat  Apartment / Unit / Flat   False       0.0      False  \n",
       "4  ApartmentUnitFlat  Apartment / Unit / Flat   False       0.0      False  "
      ]
     },
     "execution_count": 2,
     "metadata": {},
     "output_type": "execute_result"
    }
   ],
   "source": [
    "pre_pd = pd.read_csv('../data/raw/domain.csv')\n",
    "pre_pd.head()"
   ]
  },
  {
   "cell_type": "code",
   "execution_count": 3,
   "metadata": {},
   "outputs": [
    {
     "name": "stdout",
     "output_type": "stream",
     "text": [
      "6992\n"
     ]
    }
   ],
   "source": [
    "postcode_counts = pre_pd['addressPostcode'].value_counts()\n",
    "valid_postcodes = postcode_counts[postcode_counts > 90].index\n",
    "\n",
    "# Step 2: Filter the original dataframe based on the valid postcodes\n",
    "new_df = pre_pd[pre_pd['addressPostcode'].isin(valid_postcodes)]\n",
    "\n",
    "# Display the filtered dataframe\n",
    "print(len(new_df))"
   ]
  },
  {
   "cell_type": "code",
   "execution_count": 4,
   "metadata": {},
   "outputs": [],
   "source": [
    "condition = new_df['addressPostcode'] == 3000\n",
    "\n",
    "# Step 1: Filter rows based on the condition\n",
    "filtered_df = new_df[condition]\n",
    "\n",
    "fraction_to_delete = 0.8\n",
    "rows_to_delete = filtered_df.sample(frac=fraction_to_delete, random_state=42).index\n",
    "\n",
    "# Step 3: Drop the selected rows from the original DataFrame\n",
    "df_after_deletion = new_df.drop(rows_to_delete)\n",
    "\n",
    "df_after_deletion.to_csv('../data/curated/domain_del.csv', index=False)"
   ]
  },
  {
   "cell_type": "markdown",
   "metadata": {},
   "source": [
    "## A. Pre-process on Price column"
   ]
  },
  {
   "cell_type": "code",
   "execution_count": 3,
   "metadata": {},
   "outputs": [],
   "source": [
    "df = pd.read_csv(\"../data/curated/domain_del.csv\", encoding='latin1')"
   ]
  },
  {
   "cell_type": "code",
   "execution_count": 4,
   "metadata": {},
   "outputs": [
    {
     "data": {
      "text/plain": [
       "Index(['id', 'promoType', 'price', 'hasVideo', 'agentNames', 'brandName',\n",
       "       'addressStreet', 'addressSuburb', 'addressState', 'addressPostcode',\n",
       "       'addressLat', 'addressLng', 'num_bath', 'type', 'formatted', 'isRural',\n",
       "       'landSize', 'Retirement'],\n",
       "      dtype='object')"
      ]
     },
     "execution_count": 4,
     "metadata": {},
     "output_type": "execute_result"
    }
   ],
   "source": [
    "df.columns"
   ]
  },
  {
   "cell_type": "code",
   "execution_count": 5,
   "metadata": {},
   "outputs": [
    {
     "data": {
      "text/plain": [
       "0       $500 per week\n",
       "1       $540 per Week\n",
       "2             $650.00\n",
       "3       $560 per week\n",
       "4                $600\n",
       "            ...      \n",
       "4909    $470 per week\n",
       "4910             $600\n",
       "4911             $575\n",
       "4912    $530 per week\n",
       "4913             $530\n",
       "Name: price, Length: 4914, dtype: object"
      ]
     },
     "execution_count": 5,
     "metadata": {},
     "output_type": "execute_result"
    }
   ],
   "source": [
    "# 清理之前的dataset numbers\n",
    "price_columns_before = df['id'].count()\n",
    "\n",
    "# inspect the price columns\n",
    "df['price']"
   ]
  },
  {
   "cell_type": "markdown",
   "metadata": {},
   "source": [
    "## Step 1 : Extract the price by Regax"
   ]
  },
  {
   "cell_type": "code",
   "execution_count": 12,
   "metadata": {},
   "outputs": [],
   "source": [
    "# 过滤掉只含有文字列 提取数字\n",
    "df['price'] = df['price'].str.extract(r'(\\d+)')\n",
    "\n",
    "# transfer to float\n",
    "df['price'] = pd.to_numeric(df['price'], errors='coerce')\n",
    "\n",
    "# Homes Victoria rents for the third quarter of 2023 to filter the records not in $170 ~ $2400,\n",
    "# and delete missing values caused by string values (e.g. Inspection only) or missed records.\n",
    "df = df[(df['price'] >= 170) & (df['price'] <= 2400)]"
   ]
  },
  {
   "cell_type": "code",
   "execution_count": 6,
   "metadata": {},
   "outputs": [
    {
     "data": {
      "text/plain": [
       "0       $500 per week\n",
       "1       $540 per Week\n",
       "2             $650.00\n",
       "3       $560 per week\n",
       "4                $600\n",
       "            ...      \n",
       "4909    $470 per week\n",
       "4910             $600\n",
       "4911             $575\n",
       "4912    $530 per week\n",
       "4913             $530\n",
       "Name: price, Length: 4914, dtype: object"
      ]
     },
     "execution_count": 6,
     "metadata": {},
     "output_type": "execute_result"
    }
   ],
   "source": [
    "df['price']"
   ]
  },
  {
   "cell_type": "code",
   "execution_count": 7,
   "metadata": {},
   "outputs": [
    {
     "name": "stdout",
     "output_type": "stream",
     "text": [
      "Before cleaning on price columns, there are 4914 records in the main dataset.\n",
      "After cleaning on price columns, there are 4914 records in the main dataset.\n"
     ]
    }
   ],
   "source": [
    "# whole dataset instances\n",
    "print(f\"Before cleaning on price columns, there are {price_columns_before} records in the main dataset.\")\n",
    "print(f\"After cleaning on price columns, there are {df['id'].count()} records in the main dataset.\")"
   ]
  },
  {
   "cell_type": "markdown",
   "metadata": {},
   "source": [
    "## Save the dataset"
   ]
  },
  {
   "cell_type": "code",
   "execution_count": 8,
   "metadata": {},
   "outputs": [],
   "source": [
    "df.to_csv('../data/curated/Price_clean_domain.csv', index=False)"
   ]
  },
  {
   "cell_type": "markdown",
   "metadata": {},
   "source": [
    "Drop Null value"
   ]
  },
  {
   "cell_type": "code",
   "execution_count": 12,
   "metadata": {},
   "outputs": [],
   "source": [
    "position_df = pd.read_csv(\"../data/curated/Non_longi_lati_remove_domain.csv\")"
   ]
  },
  {
   "cell_type": "code",
   "execution_count": 15,
   "metadata": {},
   "outputs": [],
   "source": [
    "position_df = position_df.dropna(subset = ['addressLat'])"
   ]
  },
  {
   "cell_type": "code",
   "execution_count": 16,
   "metadata": {},
   "outputs": [],
   "source": [
    "position_df.to_csv('../data/curated/None_longi_lati_remove_domain.csv', index=False)"
   ]
  }
 ],
 "metadata": {
  "kernelspec": {
   "display_name": "ADS",
   "language": "python",
   "name": "python3"
  },
  "language_info": {
   "codemirror_mode": {
    "name": "ipython",
    "version": 3
   },
   "file_extension": ".py",
   "mimetype": "text/x-python",
   "name": "python",
   "nbconvert_exporter": "python",
   "pygments_lexer": "ipython3",
   "version": "3.8.10"
  }
 },
 "nbformat": 4,
 "nbformat_minor": 2
}
