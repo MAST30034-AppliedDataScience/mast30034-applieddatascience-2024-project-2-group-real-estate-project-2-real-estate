{
 "cells": [
  {
   "cell_type": "code",
   "execution_count": 8,
   "metadata": {},
   "outputs": [],
   "source": [
    "import pandas as pd"
   ]
  },
  {
   "cell_type": "markdown",
   "metadata": {},
   "source": [
    "## A. Pre-process on Price column"
   ]
  },
  {
   "cell_type": "code",
   "execution_count": 9,
   "metadata": {},
   "outputs": [],
   "source": [
    "df = pd.read_csv(\"../data/curated/domain_del.csv\", encoding='latin1')"
   ]
  },
  {
   "cell_type": "code",
   "execution_count": 10,
   "metadata": {},
   "outputs": [
    {
     "data": {
      "text/plain": [
       "Index(['id', 'promoType', 'price', 'hasVideo', 'agentNames', 'brandName',\n",
       "       'addressStreet', 'addressSuburb', 'addressState', 'addressPostcode',\n",
       "       'addressLat', 'addressLng', 'num_bath', 'type', 'formatted', 'isRural',\n",
       "       'landSize', 'Retirement'],\n",
       "      dtype='object')"
      ]
     },
     "execution_count": 10,
     "metadata": {},
     "output_type": "execute_result"
    }
   ],
   "source": [
    "df.columns"
   ]
  },
  {
   "cell_type": "code",
   "execution_count": 11,
   "metadata": {},
   "outputs": [
    {
     "data": {
      "text/plain": [
       "0       $500 per week\n",
       "1       $540 per Week\n",
       "2             $650.00\n",
       "3       $560 per week\n",
       "4                $600\n",
       "            ...      \n",
       "4909    $470 per week\n",
       "4910             $600\n",
       "4911             $575\n",
       "4912    $530 per week\n",
       "4913             $530\n",
       "Name: price, Length: 4914, dtype: object"
      ]
     },
     "execution_count": 11,
     "metadata": {},
     "output_type": "execute_result"
    }
   ],
   "source": [
    "# 清理之前的dataset numbers\n",
    "price_columns_before = df['id'].count()\n",
    "\n",
    "# inspect the price columns\n",
    "df['price']"
   ]
  },
  {
   "cell_type": "markdown",
   "metadata": {},
   "source": [
    "## Step 1 : Extract the price by Regax"
   ]
  },
  {
   "cell_type": "code",
   "execution_count": 12,
   "metadata": {},
   "outputs": [],
   "source": [
    "# 过滤掉只含有文字列 提取数字\n",
    "df['price'] = df['price'].str.extract(r'(\\d+)')\n",
    "\n",
    "# transfer to float\n",
    "df['price'] = pd.to_numeric(df['price'], errors='coerce')\n",
    "\n",
    "# Homes Victoria rents for the third quarter of 2023 to filter the records not in $170 ~ $2400,\n",
    "# and delete missing values caused by string values (e.g. Inspection only) or missed records.\n",
    "df = df[(df['price'] >= 170) & (df['price'] <= 2400)]"
   ]
  },
  {
   "cell_type": "code",
   "execution_count": 13,
   "metadata": {},
   "outputs": [
    {
     "data": {
      "text/plain": [
       "0       500.0\n",
       "1       540.0\n",
       "2       650.0\n",
       "3       560.0\n",
       "4       600.0\n",
       "        ...  \n",
       "4909    470.0\n",
       "4910    600.0\n",
       "4911    575.0\n",
       "4912    530.0\n",
       "4913    530.0\n",
       "Name: price, Length: 4402, dtype: float64"
      ]
     },
     "execution_count": 13,
     "metadata": {},
     "output_type": "execute_result"
    }
   ],
   "source": [
    "df['price']"
   ]
  },
  {
   "cell_type": "code",
   "execution_count": 14,
   "metadata": {},
   "outputs": [
    {
     "name": "stdout",
     "output_type": "stream",
     "text": [
      "Before cleaning on price columns, there are 4914 records in the main dataset.\n",
      "After cleaning on price columns, there are 4402 records in the main dataset.\n"
     ]
    }
   ],
   "source": [
    "# whole dataset instances\n",
    "print(f\"Before cleaning on price columns, there are {price_columns_before} records in the main dataset.\")\n",
    "print(f\"After cleaning on price columns, there are {df['id'].count()} records in the main dataset.\")"
   ]
  },
  {
   "cell_type": "markdown",
   "metadata": {},
   "source": [
    "## Save the dataset"
   ]
  },
  {
   "cell_type": "code",
   "execution_count": 15,
   "metadata": {},
   "outputs": [],
   "source": [
    "df.to_csv('../data/curated/Price_clean_domain.csv', index=False)"
   ]
  }
 ],
 "metadata": {
  "kernelspec": {
   "display_name": "ADS",
   "language": "python",
   "name": "python3"
  },
  "language_info": {
   "codemirror_mode": {
    "name": "ipython",
    "version": 3
   },
   "file_extension": ".py",
   "mimetype": "text/x-python",
   "name": "python",
   "nbconvert_exporter": "python",
   "pygments_lexer": "ipython3",
   "version": "3.8.19"
  }
 },
 "nbformat": 4,
 "nbformat_minor": 2
}
