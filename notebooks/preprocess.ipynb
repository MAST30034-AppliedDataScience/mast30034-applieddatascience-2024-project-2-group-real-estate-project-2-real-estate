{
 "cells": [
  {
   "cell_type": "code",
   "execution_count": 259,
   "metadata": {},
   "outputs": [],
   "source": [
    "import pandas as pd"
   ]
  },
  {
   "cell_type": "code",
   "execution_count": 260,
   "metadata": {},
   "outputs": [],
   "source": [
    "df = pd.read_csv(\"../regex/data/raw/domain_del.csv\", encoding='latin1')"
   ]
  },
  {
   "cell_type": "code",
   "execution_count": 261,
   "metadata": {},
   "outputs": [
    {
     "data": {
      "text/plain": [
       "Index(['id', 'promoType', 'price', 'hasVideo', 'agentNames', 'brandName',\n",
       "       'addressStreet', 'addressSuburb', 'addressState', 'addressPostcode',\n",
       "       'addressLat', 'addressLng', 'num_bath', 'type', 'formatted', 'isRural',\n",
       "       'landSize', 'Retirement'],\n",
       "      dtype='object')"
      ]
     },
     "execution_count": 261,
     "metadata": {},
     "output_type": "execute_result"
    }
   ],
   "source": [
    "df.columns"
   ]
  },
  {
   "cell_type": "code",
   "execution_count": 262,
   "metadata": {},
   "outputs": [
    {
     "data": {
      "text/plain": [
       "0       $500 per week\n",
       "1       $540 per Week\n",
       "2             $650.00\n",
       "3       $560 per week\n",
       "4                $600\n",
       "            ...      \n",
       "4909    $470 per week\n",
       "4910             $600\n",
       "4911             $575\n",
       "4912    $530 per week\n",
       "4913             $530\n",
       "Name: price, Length: 4914, dtype: object"
      ]
     },
     "execution_count": 262,
     "metadata": {},
     "output_type": "execute_result"
    }
   ],
   "source": [
    "# 清理之前的dataset numbers\n",
    "price_columns_before = df['id'].count()\n",
    "\n",
    "# inspect the price columns\n",
    "df['price']"
   ]
  },
  {
   "cell_type": "markdown",
   "metadata": {},
   "source": [
    "## Step 1 : Extract the price by Regax"
   ]
  },
  {
   "cell_type": "code",
   "execution_count": 263,
   "metadata": {},
   "outputs": [],
   "source": [
    "# 过滤掉只含有文字列 提取数字\n",
    "df['price'] = df['price'].str.extract(r'(\\d+)')\n",
    "\n",
    "# transfer to float\n",
    "df['price'] = pd.to_numeric(df['price'], errors='coerce')\n",
    "\n",
    "# 考虑到爬虫下来的信息,含有每周车位费和房子卖价, 最高车位费为$100/pw\n",
    "df = df[(df['price'] >= 170) & (df['price'] <= 2400)]"
   ]
  },
  {
   "cell_type": "code",
   "execution_count": 264,
   "metadata": {},
   "outputs": [
    {
     "data": {
      "text/plain": [
       "0       500.0\n",
       "1       540.0\n",
       "2       650.0\n",
       "3       560.0\n",
       "4       600.0\n",
       "        ...  \n",
       "4909    470.0\n",
       "4910    600.0\n",
       "4911    575.0\n",
       "4912    530.0\n",
       "4913    530.0\n",
       "Name: price, Length: 4402, dtype: float64"
      ]
     },
     "execution_count": 264,
     "metadata": {},
     "output_type": "execute_result"
    }
   ],
   "source": [
    "df['price']"
   ]
  },
  {
   "cell_type": "code",
   "execution_count": 265,
   "metadata": {},
   "outputs": [
    {
     "data": {
      "text/plain": [
       "count    4402.000000\n",
       "mean      609.269196\n",
       "std       199.719671\n",
       "min       170.000000\n",
       "25%       500.000000\n",
       "50%       575.000000\n",
       "75%       690.000000\n",
       "max      2400.000000\n",
       "Name: price, dtype: float64"
      ]
     },
     "execution_count": 265,
     "metadata": {},
     "output_type": "execute_result"
    }
   ],
   "source": [
    "df['price'].describe()"
   ]
  },
  {
   "cell_type": "code",
   "execution_count": 266,
   "metadata": {},
   "outputs": [
    {
     "name": "stdout",
     "output_type": "stream",
     "text": [
      "Before cleaning on price columns, there are 4914 records in the main dataset.\n",
      "After cleaning on price columns, there are 4402 records in the main dataset.\n"
     ]
    }
   ],
   "source": [
    "# whole dataset instances\n",
    "print(f\"Before cleaning on price columns, there are {price_columns_before} records in the main dataset.\")\n",
    "print(f\"After cleaning on price columns, there are {df['id'].count()} records in the main dataset.\")"
   ]
  },
  {
   "cell_type": "markdown",
   "metadata": {},
   "source": [
    "## Save the dataset"
   ]
  },
  {
   "cell_type": "code",
   "execution_count": 267,
   "metadata": {},
   "outputs": [],
   "source": [
    "df.to_csv('../regex/data/curated/Price_clean_domain.csv', index=False)"
   ]
  }
 ],
 "metadata": {
  "kernelspec": {
   "display_name": "ADS",
   "language": "python",
   "name": "python3"
  },
  "language_info": {
   "codemirror_mode": {
    "name": "ipython",
    "version": 3
   },
   "file_extension": ".py",
   "mimetype": "text/x-python",
   "name": "python",
   "nbconvert_exporter": "python",
   "pygments_lexer": "ipython3",
   "version": "3.8.19"
  }
 },
 "nbformat": 4,
 "nbformat_minor": 2
}
