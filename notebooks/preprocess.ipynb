{
 "cells": [
  {
   "cell_type": "code",
   "execution_count": 239,
   "metadata": {},
   "outputs": [],
   "source": [
    "from pyspark.sql import SparkSession\n",
    "from pyspark.sql.functions import split, regexp_extract, regexp_replace"
   ]
  },
  {
   "cell_type": "code",
   "execution_count": 240,
   "metadata": {},
   "outputs": [],
   "source": [
    "# Create a SparkSession\n",
    "spark = (SparkSession.builder.appName(\"Project 2\")\n",
    "         .config(\"spark.sql.repl.eagerEval.enabled\", True)\n",
    "         .config(\"spark.sql.parquet.cacheMetadata\", \"true\")\n",
    "         .config(\"spark.sql.session.timeZone\", \"Etc/UTC\")\n",
    "         .getOrCreate()\n",
    ")"
   ]
  },
  {
   "cell_type": "code",
   "execution_count": 241,
   "metadata": {},
   "outputs": [
    {
     "data": {
      "text/html": [
       "<table border='1'>\n",
       "<tr><th>bedrooms</th><th>bathrooms</th><th>car_parks</th><th>url</th><th>name</th><th>cost_text</th><th>type</th><th>latitude</th><th>longitude</th></tr>\n",
       "<tr><td>2</td><td>1</td><td>1</td><td>https://www.domai...</td><td>705/8 Marmion Pla...</td><td>$600 per week</td><td>Apartment / Unit ...</td><td>-37.8134708</td><td>144.9424794</td></tr>\n",
       "<tr><td>3</td><td>2</td><td>2</td><td>https://www.domai...</td><td>5/18-20 Ibbottson...</td><td>$650 Per Week</td><td>Townhouse</td><td>-37.70987239999999</td><td>145.0844928</td></tr>\n",
       "<tr><td>3</td><td>2</td><td>1</td><td>https://www.domai...</td><td>2109/35 Malcolm S...</td><td>$1,150/week</td><td>Apartment / Unit ...</td><td>-37.8369683</td><td>144.9964622</td></tr>\n",
       "<tr><td>2</td><td>1</td><td>1</td><td>https://www.domai...</td><td>4/17a The Esplana...</td><td>$475.00 per week</td><td>Apartment / Unit ...</td><td>-38.1345686</td><td>144.3548803</td></tr>\n",
       "<tr><td>3</td><td>2</td><td>2</td><td>https://www.domai...</td><td>501/446 Malvern R...</td><td>$2200 Per Week</td><td>Apartment / Unit ...</td><td>-37.8479885</td><td>145.0012197</td></tr>\n",
       "</table>\n"
      ],
      "text/plain": [
       "+--------+---------+---------+--------------------+--------------------+----------------+--------------------+------------------+-----------+\n",
       "|bedrooms|bathrooms|car_parks|                 url|                name|       cost_text|                type|          latitude|  longitude|\n",
       "+--------+---------+---------+--------------------+--------------------+----------------+--------------------+------------------+-----------+\n",
       "|       2|        1|        1|https://www.domai...|705/8 Marmion Pla...|   $600 per week|Apartment / Unit ...|       -37.8134708|144.9424794|\n",
       "|       3|        2|        2|https://www.domai...|5/18-20 Ibbottson...|   $650 Per Week|           Townhouse|-37.70987239999999|145.0844928|\n",
       "|       3|        2|        1|https://www.domai...|2109/35 Malcolm S...|     $1,150/week|Apartment / Unit ...|       -37.8369683|144.9964622|\n",
       "|       2|        1|        1|https://www.domai...|4/17a The Esplana...|$475.00 per week|Apartment / Unit ...|       -38.1345686|144.3548803|\n",
       "|       3|        2|        2|https://www.domai...|501/446 Malvern R...|  $2200 Per Week|Apartment / Unit ...|       -37.8479885|145.0012197|\n",
       "+--------+---------+---------+--------------------+--------------------+----------------+--------------------+------------------+-----------+"
      ]
     },
     "execution_count": 241,
     "metadata": {},
     "output_type": "execute_result"
    }
   ],
   "source": [
    "# Read the parquet file \n",
    "domain_current = spark.read.parquet('../data/raw/domain_current_listings.parquet')\n",
    "domain_current.limit(5)"
   ]
  },
  {
   "cell_type": "code",
   "execution_count": 242,
   "metadata": {},
   "outputs": [
    {
     "data": {
      "text/plain": [
       "14199"
      ]
     },
     "execution_count": 242,
     "metadata": {},
     "output_type": "execute_result"
    }
   ],
   "source": [
    "# Count the number of properties\n",
    "domain_current.count()"
   ]
  },
  {
   "cell_type": "code",
   "execution_count": 243,
   "metadata": {},
   "outputs": [
    {
     "name": "stdout",
     "output_type": "stream",
     "text": [
      "root\n",
      " |-- bedrooms: integer (nullable = true)\n",
      " |-- bathrooms: integer (nullable = true)\n",
      " |-- car_parks: integer (nullable = true)\n",
      " |-- url: string (nullable = true)\n",
      " |-- name: string (nullable = true)\n",
      " |-- cost_text: string (nullable = true)\n",
      " |-- type: string (nullable = true)\n",
      " |-- latitude: string (nullable = true)\n",
      " |-- longitude: string (nullable = true)\n",
      "\n"
     ]
    }
   ],
   "source": [
    "# Print the data types of the columns\n",
    "domain_current.printSchema()"
   ]
  },
  {
   "cell_type": "code",
   "execution_count": 244,
   "metadata": {},
   "outputs": [
    {
     "data": {
      "text/plain": [
       "(0, 0, 0, 0, 0)"
      ]
     },
     "execution_count": 244,
     "metadata": {},
     "output_type": "execute_result"
    }
   ],
   "source": [
    "# Dectect the rows that have missing values in the columns 'name', 'cost_text', 'type', 'latitude' and 'longitude'\n",
    "domain_current.where(domain_current['name'].isNull()).count(), domain_current.where(domain_current['cost_text'].isNull()).count(), domain_current.where(domain_current['type'].isNull()).count(), domain_current.where(domain_current['latitude'].isNull()).count(), domain_current.where(domain_current['longitude'].isNull()).count()"
   ]
  },
  {
   "cell_type": "code",
   "execution_count": 245,
   "metadata": {},
   "outputs": [
    {
     "data": {
      "text/plain": [
       "14166"
      ]
     },
     "execution_count": 245,
     "metadata": {},
     "output_type": "execute_result"
    }
   ],
   "source": [
    "# Drop the rows that have missing values in the columns 'bedrooms', 'bathrooms' and 'car_parks'\n",
    "domain_current = domain_current.dropna(subset=['bedrooms', 'bathrooms', 'car_parks'])\n",
    "domain_current.count()"
   ]
  },
  {
   "cell_type": "code",
   "execution_count": 246,
   "metadata": {},
   "outputs": [
    {
     "data": {
      "text/html": [
       "<table border='1'>\n",
       "<tr><th>bedrooms</th><th>bathrooms</th><th>car_parks</th><th>url</th><th>name</th><th>cost_text</th><th>type</th><th>latitude</th><th>longitude</th><th>suburb</th></tr>\n",
       "<tr><td>2</td><td>1</td><td>1</td><td>https://www.domai...</td><td>705/8 Marmion Pla...</td><td>$600 per week</td><td>Apartment / Unit ...</td><td>-37.8134708</td><td>144.9424794</td><td> Docklands VIC 3008</td></tr>\n",
       "<tr><td>3</td><td>2</td><td>2</td><td>https://www.domai...</td><td>5/18-20 Ibbottson...</td><td>$650 Per Week</td><td>Townhouse</td><td>-37.70987239999999</td><td>145.0844928</td><td> Watsonia VIC 3087</td></tr>\n",
       "<tr><td>3</td><td>2</td><td>1</td><td>https://www.domai...</td><td>2109/35 Malcolm S...</td><td>$1,150/week</td><td>Apartment / Unit ...</td><td>-37.8369683</td><td>144.9964622</td><td> South Yarra VIC ...</td></tr>\n",
       "<tr><td>2</td><td>1</td><td>1</td><td>https://www.domai...</td><td>4/17a The Esplana...</td><td>$475.00 per week</td><td>Apartment / Unit ...</td><td>-38.1345686</td><td>144.3548803</td><td> Geelong VIC 3220</td></tr>\n",
       "<tr><td>3</td><td>2</td><td>2</td><td>https://www.domai...</td><td>501/446 Malvern R...</td><td>$2200 Per Week</td><td>Apartment / Unit ...</td><td>-37.8479885</td><td>145.0012197</td><td> Prahran VIC 3181</td></tr>\n",
       "</table>\n"
      ],
      "text/plain": [
       "+--------+---------+---------+--------------------+--------------------+----------------+--------------------+------------------+-----------+--------------------+\n",
       "|bedrooms|bathrooms|car_parks|                 url|                name|       cost_text|                type|          latitude|  longitude|              suburb|\n",
       "+--------+---------+---------+--------------------+--------------------+----------------+--------------------+------------------+-----------+--------------------+\n",
       "|       2|        1|        1|https://www.domai...|705/8 Marmion Pla...|   $600 per week|Apartment / Unit ...|       -37.8134708|144.9424794|  Docklands VIC 3008|\n",
       "|       3|        2|        2|https://www.domai...|5/18-20 Ibbottson...|   $650 Per Week|           Townhouse|-37.70987239999999|145.0844928|   Watsonia VIC 3087|\n",
       "|       3|        2|        1|https://www.domai...|2109/35 Malcolm S...|     $1,150/week|Apartment / Unit ...|       -37.8369683|144.9964622| South Yarra VIC ...|\n",
       "|       2|        1|        1|https://www.domai...|4/17a The Esplana...|$475.00 per week|Apartment / Unit ...|       -38.1345686|144.3548803|    Geelong VIC 3220|\n",
       "|       3|        2|        2|https://www.domai...|501/446 Malvern R...|  $2200 Per Week|Apartment / Unit ...|       -37.8479885|145.0012197|    Prahran VIC 3181|\n",
       "+--------+---------+---------+--------------------+--------------------+----------------+--------------------+------------------+-----------+--------------------+"
      ]
     },
     "execution_count": 246,
     "metadata": {},
     "output_type": "execute_result"
    }
   ],
   "source": [
    "# Creat a new column 'suburb' by extracting the suburbs from 'name'\n",
    "domain_current = domain_current.withColumn('suburb', split(domain_current['name'], ',')[1])\n",
    "domain_current.limit(5)"
   ]
  },
  {
   "cell_type": "code",
   "execution_count": 247,
   "metadata": {},
   "outputs": [
    {
     "data": {
      "text/html": [
       "<table border='1'>\n",
       "<tr><th>bedrooms</th><th>bathrooms</th><th>car_parks</th><th>url</th><th>name</th><th>cost_text</th><th>type</th><th>latitude</th><th>longitude</th><th>suburb</th><th>postcode</th></tr>\n",
       "<tr><td>2</td><td>1</td><td>1</td><td>https://www.domai...</td><td>705/8 Marmion Pla...</td><td>$600 per week</td><td>Apartment / Unit ...</td><td>-37.8134708</td><td>144.9424794</td><td> Docklands VIC 3008</td><td>3008</td></tr>\n",
       "<tr><td>3</td><td>2</td><td>2</td><td>https://www.domai...</td><td>5/18-20 Ibbottson...</td><td>$650 Per Week</td><td>Townhouse</td><td>-37.70987239999999</td><td>145.0844928</td><td> Watsonia VIC 3087</td><td>3087</td></tr>\n",
       "<tr><td>3</td><td>2</td><td>1</td><td>https://www.domai...</td><td>2109/35 Malcolm S...</td><td>$1,150/week</td><td>Apartment / Unit ...</td><td>-37.8369683</td><td>144.9964622</td><td> South Yarra VIC ...</td><td>3141</td></tr>\n",
       "<tr><td>2</td><td>1</td><td>1</td><td>https://www.domai...</td><td>4/17a The Esplana...</td><td>$475.00 per week</td><td>Apartment / Unit ...</td><td>-38.1345686</td><td>144.3548803</td><td> Geelong VIC 3220</td><td>3220</td></tr>\n",
       "<tr><td>3</td><td>2</td><td>2</td><td>https://www.domai...</td><td>501/446 Malvern R...</td><td>$2200 Per Week</td><td>Apartment / Unit ...</td><td>-37.8479885</td><td>145.0012197</td><td> Prahran VIC 3181</td><td>3181</td></tr>\n",
       "</table>\n"
      ],
      "text/plain": [
       "+--------+---------+---------+--------------------+--------------------+----------------+--------------------+------------------+-----------+--------------------+--------+\n",
       "|bedrooms|bathrooms|car_parks|                 url|                name|       cost_text|                type|          latitude|  longitude|              suburb|postcode|\n",
       "+--------+---------+---------+--------------------+--------------------+----------------+--------------------+------------------+-----------+--------------------+--------+\n",
       "|       2|        1|        1|https://www.domai...|705/8 Marmion Pla...|   $600 per week|Apartment / Unit ...|       -37.8134708|144.9424794|  Docklands VIC 3008|    3008|\n",
       "|       3|        2|        2|https://www.domai...|5/18-20 Ibbottson...|   $650 Per Week|           Townhouse|-37.70987239999999|145.0844928|   Watsonia VIC 3087|    3087|\n",
       "|       3|        2|        1|https://www.domai...|2109/35 Malcolm S...|     $1,150/week|Apartment / Unit ...|       -37.8369683|144.9964622| South Yarra VIC ...|    3141|\n",
       "|       2|        1|        1|https://www.domai...|4/17a The Esplana...|$475.00 per week|Apartment / Unit ...|       -38.1345686|144.3548803|    Geelong VIC 3220|    3220|\n",
       "|       3|        2|        2|https://www.domai...|501/446 Malvern R...|  $2200 Per Week|Apartment / Unit ...|       -37.8479885|145.0012197|    Prahran VIC 3181|    3181|\n",
       "+--------+---------+---------+--------------------+--------------------+----------------+--------------------+------------------+-----------+--------------------+--------+"
      ]
     },
     "execution_count": 247,
     "metadata": {},
     "output_type": "execute_result"
    }
   ],
   "source": [
    "# Create a new column 'postcode' by extracting the postcodes from 'suburb'\n",
    "domain_current = domain_current.withColumn('postcode', regexp_extract(domain_current['suburb'], r'\\b(\\d{4})\\b', 0))\n",
    "domain_current.limit(5)"
   ]
  },
  {
   "cell_type": "code",
   "execution_count": 248,
   "metadata": {},
   "outputs": [
    {
     "data": {
      "text/html": [
       "<table border='1'>\n",
       "<tr><th>bedrooms</th><th>bathrooms</th><th>car_parks</th><th>url</th><th>name</th><th>cost_text</th><th>type</th><th>latitude</th><th>longitude</th><th>suburb</th><th>postcode</th><th>rent_pw</th></tr>\n",
       "<tr><td>2</td><td>1</td><td>1</td><td>https://www.domai...</td><td>705/8 Marmion Pla...</td><td>$600 per week</td><td>Apartment / Unit ...</td><td>-37.8134708</td><td>144.9424794</td><td> Docklands VIC 3008</td><td>3008</td><td>600</td></tr>\n",
       "<tr><td>3</td><td>2</td><td>2</td><td>https://www.domai...</td><td>5/18-20 Ibbottson...</td><td>$650 Per Week</td><td>Townhouse</td><td>-37.70987239999999</td><td>145.0844928</td><td> Watsonia VIC 3087</td><td>3087</td><td>650</td></tr>\n",
       "<tr><td>3</td><td>2</td><td>1</td><td>https://www.domai...</td><td>2109/35 Malcolm S...</td><td>$1,150/week</td><td>Apartment / Unit ...</td><td>-37.8369683</td><td>144.9964622</td><td> South Yarra VIC ...</td><td>3141</td><td>1150</td></tr>\n",
       "<tr><td>2</td><td>1</td><td>1</td><td>https://www.domai...</td><td>4/17a The Esplana...</td><td>$475.00 per week</td><td>Apartment / Unit ...</td><td>-38.1345686</td><td>144.3548803</td><td> Geelong VIC 3220</td><td>3220</td><td>475</td></tr>\n",
       "<tr><td>3</td><td>2</td><td>2</td><td>https://www.domai...</td><td>501/446 Malvern R...</td><td>$2200 Per Week</td><td>Apartment / Unit ...</td><td>-37.8479885</td><td>145.0012197</td><td> Prahran VIC 3181</td><td>3181</td><td>2200</td></tr>\n",
       "</table>\n"
      ],
      "text/plain": [
       "+--------+---------+---------+--------------------+--------------------+----------------+--------------------+------------------+-----------+--------------------+--------+-------+\n",
       "|bedrooms|bathrooms|car_parks|                 url|                name|       cost_text|                type|          latitude|  longitude|              suburb|postcode|rent_pw|\n",
       "+--------+---------+---------+--------------------+--------------------+----------------+--------------------+------------------+-----------+--------------------+--------+-------+\n",
       "|       2|        1|        1|https://www.domai...|705/8 Marmion Pla...|   $600 per week|Apartment / Unit ...|       -37.8134708|144.9424794|  Docklands VIC 3008|    3008|    600|\n",
       "|       3|        2|        2|https://www.domai...|5/18-20 Ibbottson...|   $650 Per Week|           Townhouse|-37.70987239999999|145.0844928|   Watsonia VIC 3087|    3087|    650|\n",
       "|       3|        2|        1|https://www.domai...|2109/35 Malcolm S...|     $1,150/week|Apartment / Unit ...|       -37.8369683|144.9964622| South Yarra VIC ...|    3141|   1150|\n",
       "|       2|        1|        1|https://www.domai...|4/17a The Esplana...|$475.00 per week|Apartment / Unit ...|       -38.1345686|144.3548803|    Geelong VIC 3220|    3220|    475|\n",
       "|       3|        2|        2|https://www.domai...|501/446 Malvern R...|  $2200 Per Week|Apartment / Unit ...|       -37.8479885|145.0012197|    Prahran VIC 3181|    3181|   2200|\n",
       "+--------+---------+---------+--------------------+--------------------+----------------+--------------------+------------------+-----------+--------------------+--------+-------+"
      ]
     },
     "execution_count": 248,
     "metadata": {},
     "output_type": "execute_result"
    }
   ],
   "source": [
    "# Create a new column 'rent_pw' by extracting the rents from 'cost_text'\n",
    "domain_current = domain_current.withColumn('rent_pw', regexp_extract(regexp_replace(domain_current['cost_text'], ',', ''), r'\\b(\\d+)\\b', 0))\n",
    "domain_current.limit(5)"
   ]
  },
  {
   "cell_type": "code",
   "execution_count": 249,
   "metadata": {},
   "outputs": [
    {
     "name": "stdout",
     "output_type": "stream",
     "text": [
      "root\n",
      " |-- bedrooms: integer (nullable = true)\n",
      " |-- bathrooms: integer (nullable = true)\n",
      " |-- car_parks: integer (nullable = true)\n",
      " |-- url: string (nullable = true)\n",
      " |-- name: string (nullable = true)\n",
      " |-- cost_text: string (nullable = true)\n",
      " |-- type: string (nullable = true)\n",
      " |-- latitude: string (nullable = true)\n",
      " |-- longitude: string (nullable = true)\n",
      " |-- suburb: string (nullable = true)\n",
      " |-- postcode: string (nullable = true)\n",
      " |-- rent_pw: integer (nullable = true)\n",
      "\n"
     ]
    }
   ],
   "source": [
    "# Convert the data type of 'rent_pw' to integer\n",
    "domain_current = domain_current.withColumn('rent_pw', domain_current['rent_pw'].cast('int'))\n",
    "domain_current.printSchema()"
   ]
  },
  {
   "cell_type": "code",
   "execution_count": 250,
   "metadata": {},
   "outputs": [
    {
     "data": {
      "text/plain": [
       "838"
      ]
     },
     "execution_count": 250,
     "metadata": {},
     "output_type": "execute_result"
    }
   ],
   "source": [
    "# Dectect the rows that have missing values in the column 'rent_pw'\n",
    "domain_current.where(domain_current['rent_pw'].isNull()).count()"
   ]
  },
  {
   "cell_type": "code",
   "execution_count": 251,
   "metadata": {},
   "outputs": [
    {
     "data": {
      "text/plain": [
       "13328"
      ]
     },
     "execution_count": 251,
     "metadata": {},
     "output_type": "execute_result"
    }
   ],
   "source": [
    "# Drop the the rows that have missing values in the column 'rent_pw'\n",
    "domain_current = domain_current.dropna(subset=['rent_pw'])\n",
    "domain_current.count()"
   ]
  },
  {
   "cell_type": "code",
   "execution_count": 252,
   "metadata": {},
   "outputs": [],
   "source": [
    "# Save the cleaned data to a parquet file\n",
    "domain_current.write.mode('overwrite').parquet('../data/landing/cleaned_domain_current_listings.parquet')"
   ]
  },
  {
   "cell_type": "code",
   "execution_count": 253,
   "metadata": {},
   "outputs": [
    {
     "name": "stdout",
     "output_type": "stream",
     "text": [
      "+--------+------------+\n",
      "|postcode|avg(rent_pw)|\n",
      "+--------+------------+\n",
      "|    3699|    39823.33|\n",
      "|    3730|     6901.56|\n",
      "|    3722|     2763.40|\n",
      "|    3428|     1800.00|\n",
      "|    3564|     1733.07|\n",
      "|    3953|     1560.60|\n",
      "|    3233|     1553.89|\n",
      "|    3944|     1412.50|\n",
      "|    3186|     1357.15|\n",
      "|    3113|     1275.00|\n",
      "+--------+------------+\n",
      "only showing top 10 rows\n",
      "\n"
     ]
    }
   ],
   "source": [
    "# Aggregate the properties by 'postcode', calculate the average rent per week, and ordered by average rent per week in descending order\n",
    "avg_rent_per_suburb = domain_current.groupBy('postcode').avg('rent_pw').orderBy('avg(rent_pw)', ascending=False)\n",
    "# Correct the average rent per week to 2 decimal places\n",
    "avg_rent_per_suburb = avg_rent_per_suburb.withColumn('avg(rent_pw)', avg_rent_per_suburb['avg(rent_pw)'].cast('decimal(7,2)'))\n",
    "avg_rent_per_suburb.show(10)\n"
   ]
  },
  {
   "cell_type": "code",
   "execution_count": 254,
   "metadata": {},
   "outputs": [
    {
     "name": "stdout",
     "output_type": "stream",
     "text": [
      "+--------------------+------------+\n",
      "|                type|avg(rent_pw)|\n",
      "+--------------------+------------+\n",
      "|    New House & Land|     6768.53|\n",
      "|Acreage / Semi-Rural|      886.46|\n",
      "|             Terrace|      794.55|\n",
      "|              Duplex|      771.25|\n",
      "|           Townhouse|      766.33|\n",
      "|New Apartments / ...|      734.60|\n",
      "|       Semi-Detached|      661.43|\n",
      "|               House|      651.68|\n",
      "|Apartment / Unit ...|      637.10|\n",
      "|               Villa|      571.96|\n",
      "|      Block of Units|      450.00|\n",
      "|              Studio|      416.19|\n",
      "|            Carspace|      202.69|\n",
      "|            New land|      200.00|\n",
      "+--------------------+------------+\n",
      "\n"
     ]
    },
    {
     "data": {
      "text/plain": [
       "14"
      ]
     },
     "execution_count": 254,
     "metadata": {},
     "output_type": "execute_result"
    }
   ],
   "source": [
    "# Aggregate the properties by 'type', calculate the average rent per week, and ordered by average rent per week in descending order\n",
    "avg_rent_per_type = domain_current.groupBy('type').avg('rent_pw').orderBy('avg(rent_pw)', ascending=False)\n",
    "# Correct the average rent per week to 2 decimal places\n",
    "avg_rent_per_type = avg_rent_per_type.withColumn('avg(rent_pw)', avg_rent_per_type['avg(rent_pw)'].cast('decimal(6,2)'))\n",
    "avg_rent_per_type.show()\n",
    "avg_rent_per_type.count()"
   ]
  }
 ],
 "metadata": {
  "kernelspec": {
   "display_name": "Python 3",
   "language": "python",
   "name": "python3"
  },
  "language_info": {
   "codemirror_mode": {
    "name": "ipython",
    "version": 3
   },
   "file_extension": ".py",
   "mimetype": "text/x-python",
   "name": "python",
   "nbconvert_exporter": "python",
   "pygments_lexer": "ipython3",
   "version": "3.12.3"
  }
 },
 "nbformat": 4,
 "nbformat_minor": 2
}
