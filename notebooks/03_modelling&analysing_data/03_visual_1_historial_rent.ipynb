{
 "cells": [
  {
   "cell_type": "markdown",
   "metadata": {},
   "source": [
    "# Exploratory Data Analysis_Group2"
   ]
  },
  {
   "cell_type": "markdown",
   "metadata": {},
   "source": [
    "## Import Library"
   ]
  },
  {
   "cell_type": "code",
   "execution_count": null,
   "metadata": {},
   "outputs": [],
   "source": [
    "import  pandas as pd\n",
    "import geopandas as gpd\n",
    "import matplotlib.pyplot as plt\n",
    "import seaborn as sns\n",
    "import folium\n",
    "from IPython.display import display\n",
    "import json\n",
    "import os\n"
   ]
  },
  {
   "cell_type": "markdown",
   "metadata": {},
   "source": [
    "## Read data"
   ]
  },
  {
   "cell_type": "code",
   "execution_count": null,
   "metadata": {},
   "outputs": [],
   "source": [
    "data_sa2_all = pd.read_csv('../../data/curated/final_merged_data_sa2.csv')"
   ]
  },
  {
   "cell_type": "code",
   "execution_count": null,
   "metadata": {},
   "outputs": [],
   "source": [
    "shp_sa2 = gpd.read_file('../../data/landing/region_data/sa2_dataset/sa2_unzip/SA2_2021_AUST_GDA2020.shp')"
   ]
  },
  {
   "cell_type": "code",
   "execution_count": null,
   "metadata": {},
   "outputs": [],
   "source": [
    "shp_LGA = gpd.read_file('../../data/landing/region_data/LGA_dataset/LGA_unzip/LGA_2022_AUST_GDA94.shp')"
   ]
  },
  {
   "cell_type": "markdown",
   "metadata": {},
   "source": [
    "## Data understanding"
   ]
  },
  {
   "cell_type": "code",
   "execution_count": null,
   "metadata": {},
   "outputs": [],
   "source": [
    "sa2_names_csv = data_sa2_all['SA2'].unique()"
   ]
  },
  {
   "cell_type": "code",
   "execution_count": null,
   "metadata": {},
   "outputs": [],
   "source": [
    "data_sa2_all.info()"
   ]
  },
  {
   "cell_type": "code",
   "execution_count": null,
   "metadata": {},
   "outputs": [],
   "source": [
    "data_sa2_all.head()"
   ]
  },
  {
   "cell_type": "code",
   "execution_count": null,
   "metadata": {},
   "outputs": [],
   "source": [
    "data_sa2_all.describe()"
   ]
  },
  {
   "cell_type": "markdown",
   "metadata": {},
   "source": [
    "### Extract the median rent"
   ]
  },
  {
   "cell_type": "code",
   "execution_count": null,
   "metadata": {},
   "outputs": [],
   "source": [
    "data_sa2_all_about_rent = data_sa2_all.iloc[:, :202]"
   ]
  },
  {
   "cell_type": "code",
   "execution_count": null,
   "metadata": {},
   "outputs": [],
   "source": [
    "data_sa2_rent = data_sa2_all_about_rent.loc[:, ['SA2'] + [col for col in data_sa2_all_about_rent.columns if 'median' in col]]"
   ]
  },
  {
   "cell_type": "code",
   "execution_count": null,
   "metadata": {},
   "outputs": [],
   "source": [
    "data_sa2_rent.head()"
   ]
  },
  {
   "cell_type": "code",
   "execution_count": null,
   "metadata": {},
   "outputs": [],
   "source": [
    "data_LGA_rent = data_sa2_all_about_rent.loc[:, ['LGA'] + [col for col in data_sa2_all_about_rent.columns if 'median' in col]].drop_duplicates()"
   ]
  },
  {
   "cell_type": "code",
   "execution_count": null,
   "metadata": {},
   "outputs": [],
   "source": [
    "data_LGA_rent"
   ]
  },
  {
   "cell_type": "markdown",
   "metadata": {},
   "source": [
    "### Extract the number of rental"
   ]
  },
  {
   "cell_type": "code",
   "execution_count": null,
   "metadata": {},
   "outputs": [],
   "source": [
    "data_sa2_count = data_sa2_all_about_rent.loc[:, ['SA2'] + [col for col in data_sa2_all_about_rent.columns if 'count' in col]]"
   ]
  },
  {
   "cell_type": "code",
   "execution_count": null,
   "metadata": {},
   "outputs": [],
   "source": [
    "data_sa2_count.head()"
   ]
  },
  {
   "cell_type": "markdown",
   "metadata": {},
   "source": [
    "## time series for Average rent and count(All region)"
   ]
  },
  {
   "cell_type": "code",
   "execution_count": null,
   "metadata": {},
   "outputs": [],
   "source": [
    "data_sa2_rent_median = data_sa2_rent.median(numeric_only=True).to_frame(name='rent')\n",
    "data_sa2_count_median = data_sa2_count.median(numeric_only=True).to_frame(name='count')"
   ]
  },
  {
   "cell_type": "code",
   "execution_count": null,
   "metadata": {},
   "outputs": [],
   "source": [
    "data_sa2_rent_median.index = pd.to_datetime(data_sa2_rent_median.index.str.replace('median', '').str.strip(), format='%b %Y', errors='coerce')\n",
    "data_sa2_count_median.index = pd.to_datetime(data_sa2_count_median.index.str.replace('count', '').str.strip(), format='%b %Y', errors='coerce')"
   ]
  },
  {
   "cell_type": "code",
   "execution_count": null,
   "metadata": {},
   "outputs": [],
   "source": [
    "data_sa2_rent_count = pd.merge(data_sa2_rent_median, data_sa2_count_median, left_index=True, right_index=True, suffixes=('rent', 'count'))"
   ]
  },
  {
   "cell_type": "code",
   "execution_count": null,
   "metadata": {},
   "outputs": [],
   "source": [
    "data_sa2_rent_count"
   ]
  },
  {
   "cell_type": "code",
   "execution_count": null,
   "metadata": {},
   "outputs": [],
   "source": [
    "plt.figure(figsize=(15, 8))\n",
    "plt.plot(data_sa2_rent_count.index, data_sa2_rent_count['rent'], label='Median Rent', color='b')\n",
    "plt.plot(data_sa2_rent_count.index, data_sa2_rent_count['count'], label='Rental Count', color='r')\n",
    "plt.title('Time Series of Median Rent and Rental Count')\n",
    "plt.xlabel('Year')\n",
    "plt.ylabel('Value')\n",
    "plt.legend(loc='upper left')\n",
    "plt.grid(True)\n",
    "plt.show()"
   ]
  },
  {
   "cell_type": "markdown",
   "metadata": {},
   "source": [
    "## Time Series for rent of All LGA region"
   ]
  },
  {
   "cell_type": "code",
   "execution_count": null,
   "metadata": {},
   "outputs": [],
   "source": [
    "data_LGA_rent_timeseries = data_LGA_rent.copy()\n",
    "data_LGA_rent_timeseries.set_index('LGA', inplace=True)\n",
    "data_LGA_rent_timeseries_columns = data_LGA_rent_timeseries.columns\n",
    "transposed_data = data_LGA_rent_timeseries.T\n",
    "# Draw the plot\n",
    "plt.figure(figsize=(15, 8))\n",
    "for region in transposed_data.columns:\n",
    "    plt.plot(transposed_data.index, transposed_data[region], alpha=0.6)\n",
    "plt.xlabel('Year')\n",
    "plt.ylabel('Median Rent Price')\n",
    "plt.title('Time-Series Plot for Median Rent Prices in Different LGAs')\n",
    "plt.xticks(transposed_data.index[::4], rotation=45)\n",
    "plt.tight_layout()\n",
    "plt.show()"
   ]
  },
  {
   "cell_type": "markdown",
   "metadata": {},
   "source": [
    "## Feature Correlation"
   ]
  },
  {
   "cell_type": "code",
   "execution_count": null,
   "metadata": {},
   "outputs": [],
   "source": [
    "selected_columns_2018 = [\n",
    "    'SA2', 'Mar 2018 median','Jun 2018 median', 'Sep 2018 median', 'Dec 2018 median',\n",
    "    'Mar 2018 count','Jun 2018 count', 'Sep 2018 count', 'Dec 2018 count','Median Criminal Count',\n",
    "    'entertainments_count', 'hospital_count', 'park_count',  'psf_count',  'school2_count',\n",
    "    'school1_count', 'shop_count', 'stop_count', 'population_density_2018', \n",
    "    'percentage_working_population_2018', 'nBusiness_2019', 'nHouses_2018', 'nTownhouses_2018', 'nApartments_2018', 'nDwellings_2018', 'percentage_year_12_2016','nRented_2016',\n",
    "     'nHomeless_2016',  'distance_to_cbd',\n",
    "    'nJob_2018', 'median_income_2018','nEmployed_2016','nUnEmployed_2016'\n",
    "]\n",
    "data_18 = data_sa2_all[selected_columns_2018].copy()"
   ]
  },
  {
   "cell_type": "code",
   "execution_count": null,
   "metadata": {},
   "outputs": [],
   "source": [
    "data_18['average_count_2018'] = data_18[['Mar 2018 count','Jun 2018 count', 'Sep 2018 count', 'Dec 2018 count']].mean(axis=1)\n",
    "data_18['average_rent_2018'] = data_18[['Mar 2018 median','Jun 2018 median', 'Sep 2018 median', 'Dec 2018 median']].mean(axis=1)\n",
    "data_18 = data_18.drop(columns=['Jun 2018 count', 'Sep 2018 count', 'Dec 2018 count',\n",
    "                                'Jun 2018 median', 'Sep 2018 median', 'Dec 2018 median'])\n"
   ]
  },
  {
   "cell_type": "code",
   "execution_count": null,
   "metadata": {},
   "outputs": [],
   "source": [
    "data_18"
   ]
  },
  {
   "cell_type": "code",
   "execution_count": null,
   "metadata": {},
   "outputs": [],
   "source": [
    "correlation_with_rent = data_18.corr(numeric_only=True)['average_rent_2018']\n",
    "top_10_correlated_features = correlation_with_rent.abs().sort_values(ascending=False).head(13).index  \n",
    "top_10_correlated_features = top_10_correlated_features[top_10_correlated_features != 'average_rent_2018']\n",
    "correlation_matrix_top_10 = data_18[top_10_correlated_features].corr()\n",
    "plt.figure(figsize=(14, 10))\n",
    "sns.heatmap(correlation_matrix_top_10, cmap='coolwarm', annot=True, linewidths=0.5, linecolor='gray', cbar=True)\n",
    "plt.yticks(fontsize=14)\n",
    "plt.title('Top Correlated Features with Average Rent 2018', fontsize=16)\n",
    "plt.show()"
   ]
  },
  {
   "cell_type": "markdown",
   "metadata": {},
   "source": [
    "## SA2 region & LGA region"
   ]
  },
  {
   "cell_type": "markdown",
   "metadata": {},
   "source": [
    "### Geo of Australia by SA2"
   ]
  },
  {
   "cell_type": "code",
   "execution_count": null,
   "metadata": {},
   "outputs": [],
   "source": [
    "shp_sa2.plot()"
   ]
  },
  {
   "cell_type": "markdown",
   "metadata": {},
   "source": [
    "### Geo of Victoria by SA2"
   ]
  },
  {
   "cell_type": "code",
   "execution_count": null,
   "metadata": {},
   "outputs": [],
   "source": [
    "victoria_sa2 = shp_sa2[shp_sa2['STE_NAME21'] == 'Victoria']"
   ]
  },
  {
   "cell_type": "code",
   "execution_count": null,
   "metadata": {},
   "outputs": [],
   "source": [
    "geo_json_data_victoria = victoria_sa2.to_json()\n",
    "m = folium.Map(location=[-37.4713, 144.7852], zoom_start=7)\n",
    "folium.GeoJson(geo_json_data_victoria, name=\"Victoria SA2\").add_to(m)\n",
    "folium.LayerControl().add_to(m)\n",
    "display(m)"
   ]
  },
  {
   "cell_type": "code",
   "execution_count": null,
   "metadata": {},
   "outputs": [],
   "source": [
    "# Plotting the Victoria SA2 regions\n",
    "plt.figure(figsize=(30, 30))\n",
    "victoria_sa2.plot()\n",
    "plt.title(\"SA2 Boundaries in Victoria, Australia\")\n",
    "plt.xlabel(\"Longitude\")\n",
    "plt.ylabel(\"Latitude\")\n",
    "plt.show()"
   ]
  },
  {
   "cell_type": "markdown",
   "metadata": {},
   "source": [
    "### Highlighting regions present in the CSV"
   ]
  },
  {
   "cell_type": "code",
   "execution_count": null,
   "metadata": {},
   "outputs": [],
   "source": [
    "victoria_sa2['SA2_NAME21'] = victoria_sa2['SA2_NAME21'].str.strip()  \n",
    "victoria_sa2['highlight'] = victoria_sa2['SA2_NAME21'].apply(lambda x: x in sa2_names_csv)\n",
    "plt.figure(figsize=(50, 50))\n",
    "base = victoria_sa2.plot(edgecolor='black', linewidth=0.1, color='lightblue', alpha=0.7)\n",
    "victoria_sa2[victoria_sa2['highlight']].plot(ax=base, color='red', alpha=0.6)\n",
    "plt.show()"
   ]
  },
  {
   "cell_type": "markdown",
   "metadata": {},
   "source": [
    "### Geo of Victoria by LGA"
   ]
  },
  {
   "cell_type": "code",
   "execution_count": null,
   "metadata": {},
   "outputs": [],
   "source": [
    "victoria_LGA = shp_LGA[shp_LGA['STE_NAME21'] == 'Victoria']"
   ]
  },
  {
   "cell_type": "code",
   "execution_count": null,
   "metadata": {},
   "outputs": [],
   "source": [
    "plt.figure(figsize=(30, 30))\n",
    "victoria_LGA.plot()\n",
    "plt.title(\"LGA Boundaries in Victoria, Australia\")\n",
    "plt.xlabel(\"Longitude\")\n",
    "plt.ylabel(\"Latitude\")\n",
    "plt.show()"
   ]
  },
  {
   "cell_type": "code",
   "execution_count": null,
   "metadata": {},
   "outputs": [],
   "source": [
    "geo_json_data_victoria_LGA = victoria_LGA.to_json()\n",
    "m = folium.Map(location=[-37.4713, 144.7852], zoom_start=7)\n",
    "folium.GeoJson(geo_json_data_victoria_LGA, name=\"Victoria LGA\").add_to(m)\n",
    "folium.LayerControl().add_to(m)\n",
    "display(m)"
   ]
  },
  {
   "cell_type": "markdown",
   "metadata": {},
   "source": [
    "## Sort out the data needed"
   ]
  },
  {
   "cell_type": "code",
   "execution_count": null,
   "metadata": {},
   "outputs": [],
   "source": [
    "data_LGA_rent"
   ]
  },
  {
   "cell_type": "markdown",
   "metadata": {},
   "source": [
    "### Calculate the average annual rent for each region"
   ]
  },
  {
   "cell_type": "code",
   "execution_count": null,
   "metadata": {},
   "outputs": [],
   "source": [
    "data_LGA_rent_long = data_LGA_rent.melt(id_vars='LGA', var_name='Date', value_name='Mean Rent')\n",
    "data_LGA_rent_long['Date'] = data_LGA_rent_long['Date'].str.replace(' median', '')\n",
    "data_LGA_rent_long['Date'] = pd.to_datetime(data_LGA_rent_long['Date'])\n",
    "data_LGA_rent_long['Year'] = data_LGA_rent_long['Date'].dt.year\n",
    "mean_rent_per_city_year = data_LGA_rent_long.groupby(['LGA', 'Year'])['Mean Rent'].mean().reset_index()"
   ]
  },
  {
   "cell_type": "code",
   "execution_count": null,
   "metadata": {},
   "outputs": [],
   "source": [
    "mean_rent_per_city_year"
   ]
  },
  {
   "cell_type": "code",
   "execution_count": null,
   "metadata": {},
   "outputs": [],
   "source": [
    "mean_rent_per_city_5year = mean_rent_per_city_year[mean_rent_per_city_year['Year'].astype(str).isin(['1999', '2004', '2009', '2014', '2019', '2024'])]"
   ]
  },
  {
   "cell_type": "code",
   "execution_count": null,
   "metadata": {},
   "outputs": [],
   "source": [
    "mean_rent_per_city_5year"
   ]
  },
  {
   "cell_type": "markdown",
   "metadata": {},
   "source": [
    "### Calculate The Growth Rate"
   ]
  },
  {
   "cell_type": "code",
   "execution_count": null,
   "metadata": {},
   "outputs": [],
   "source": [
    "mean_rent_per_city_5year_growth_rate = mean_rent_per_city_5year.copy()\n",
    "mean_rent_per_city_5year_growth_rate['Growth Rate'] = mean_rent_per_city_5year_growth_rate.groupby('LGA')['Mean Rent'].pct_change(periods=1) * 100"
   ]
  },
  {
   "cell_type": "code",
   "execution_count": null,
   "metadata": {},
   "outputs": [],
   "source": [
    "mean_rent_per_city_5year_growth_rate.dropna()"
   ]
  },
  {
   "cell_type": "code",
   "execution_count": null,
   "metadata": {},
   "outputs": [],
   "source": [
    "growth_rate_19_24 = mean_rent_per_city_5year_growth_rate[mean_rent_per_city_5year_growth_rate['Year'].astype(str).isin(['2024'])]"
   ]
  },
  {
   "cell_type": "code",
   "execution_count": null,
   "metadata": {},
   "outputs": [],
   "source": [
    "growth_rate_19_24"
   ]
  },
  {
   "cell_type": "code",
   "execution_count": null,
   "metadata": {},
   "outputs": [],
   "source": [
    "growth_rate = mean_rent_per_city_year.copy()\n",
    "growth_rate['Growth Rate'] = growth_rate.groupby('LGA')['Mean Rent'].pct_change(periods=1) * 100"
   ]
  },
  {
   "cell_type": "code",
   "execution_count": null,
   "metadata": {},
   "outputs": [],
   "source": [
    "growth_rate"
   ]
  },
  {
   "cell_type": "code",
   "execution_count": null,
   "metadata": {},
   "outputs": [],
   "source": [
    "mean_growth_rate_per_city = growth_rate.groupby('LGA', as_index=False)['Growth Rate'].mean()\n",
    "top_10_growth_cities = mean_growth_rate_per_city.nlargest(10, 'Growth Rate')\n",
    "top_10_growth_rate_data = growth_rate[growth_rate['LGA'].isin(top_10_growth_cities['LGA'])]"
   ]
  },
  {
   "cell_type": "code",
   "execution_count": null,
   "metadata": {},
   "outputs": [],
   "source": [
    "top_10_growth_rate_data"
   ]
  },
  {
   "cell_type": "markdown",
   "metadata": {},
   "source": [
    "### 2024 rent by LGA"
   ]
  },
  {
   "cell_type": "code",
   "execution_count": null,
   "metadata": {},
   "outputs": [],
   "source": [
    "mean_rent_per_city_year_2024 = mean_rent_per_city_year[mean_rent_per_city_year['Year'].astype(str).isin(['2024'])]"
   ]
  },
  {
   "cell_type": "code",
   "execution_count": null,
   "metadata": {},
   "outputs": [],
   "source": [
    "mean_rent_per_city_year_2024"
   ]
  },
  {
   "cell_type": "markdown",
   "metadata": {},
   "source": [
    "## Time Series for 'Top 10 Cities with Highest Average Growth Rate Over Time'"
   ]
  },
  {
   "cell_type": "code",
   "execution_count": null,
   "metadata": {},
   "outputs": [],
   "source": [
    "plt.figure(figsize=(14, 8))\n",
    "for city in top_10_growth_cities['LGA']:\n",
    "    city_data = top_10_growth_rate_data[top_10_growth_rate_data['LGA'] == city]\n",
    "    plt.plot(city_data['Year'], city_data['Growth Rate'], label=city)\n",
    "plt.title('Top 10 Cities with Highest Average Growth Rate Over Time')\n",
    "plt.xlabel('Year')\n",
    "plt.ylabel('Growth Rate (%)')\n",
    "plt.legend(title='Cities', bbox_to_anchor=(1.05, 1), loc='upper left')\n",
    "plt.grid(True)\n",
    "plt.tight_layout()\n",
    "plt.show()"
   ]
  },
  {
   "cell_type": "markdown",
   "metadata": {},
   "source": [
    "## mean_growth_rate_per_city in geo"
   ]
  },
  {
   "cell_type": "code",
   "execution_count": null,
   "metadata": {},
   "outputs": [],
   "source": [
    "victoria_gdf_mean_growth_rate = victoria_LGA.merge(mean_growth_rate_per_city, left_on='LGA_NAME22', right_on='LGA')"
   ]
  },
  {
   "cell_type": "code",
   "execution_count": null,
   "metadata": {},
   "outputs": [],
   "source": [
    "top_10_growth_cities = victoria_gdf_mean_growth_rate.nlargest(10, 'Growth Rate')\n",
    "m = folium.Map(location=[-37.81, 144.96], zoom_start=6, tiles=\"cartodbpositron\")\n",
    "geojson_data = json.loads(victoria_gdf_mean_growth_rate.to_json())\n",
    "\n",
    "folium.Choropleth(\n",
    "    geo_data=geojson_data,\n",
    "    name='choropleth',\n",
    "    data=victoria_gdf_mean_growth_rate,\n",
    "    columns=['LGA', 'Growth Rate'],\n",
    "    key_on='feature.properties.LGA_NAME22',\n",
    "    fill_color='Blues',\n",
    "    fill_opacity=0.7,\n",
    "    line_opacity=0.2,\n",
    "    legend_name='Average Growth Rate (%)'\n",
    ").add_to(m)\n",
    "\n",
    "for idx, row in top_10_growth_cities.iterrows():\n",
    "    lga_name = row['LGA']\n",
    "    growth_rate = row['Growth Rate']\n",
    "    city_geometry = victoria_gdf_mean_growth_rate[victoria_gdf_mean_growth_rate['LGA_NAME22'] == lga_name].geometry.centroid.iloc[0]\n",
    "    \n",
    "    folium.Marker(\n",
    "        location=[city_geometry.y, city_geometry.x],\n",
    "        icon=folium.DivIcon(\n",
    "            html=f'<div style=\"font-size: 12px; color: black; padding: 2px;\">{lga_name}: {growth_rate:.2f}%</div>'\n",
    "        )\n",
    "    ).add_to(m)\n",
    "    \n",
    "\n",
    "\n",
    "# Define the file path for saving the plot\n",
    "output_file_path = '../../plots/geo(html)/Victoria_Average_Growth_Rate_Map_with_Top10.html'\n",
    "\n",
    "# Ensure the directory exists before saving the file\n",
    "os.makedirs(os.path.dirname(output_file_path), exist_ok=True)\n",
    "\n",
    "# Save the plot\n",
    "m.save(output_file_path)\n"
   ]
  },
  {
   "cell_type": "code",
   "execution_count": null,
   "metadata": {},
   "outputs": [],
   "source": [
    "top_10_growth_cities = top_10_growth_cities[['LGA', 'Growth Rate']]"
   ]
  },
  {
   "cell_type": "code",
   "execution_count": null,
   "metadata": {},
   "outputs": [],
   "source": [
    "top_10_growth_cities"
   ]
  },
  {
   "cell_type": "markdown",
   "metadata": {},
   "source": [
    "## The rate of rent growth over the past five years in geo"
   ]
  },
  {
   "cell_type": "code",
   "execution_count": null,
   "metadata": {},
   "outputs": [],
   "source": [
    "victoria_gdf_growth_rate_19_24 = victoria_LGA.merge(growth_rate_19_24, left_on='LGA_NAME22', right_on='LGA')"
   ]
  },
  {
   "cell_type": "code",
   "execution_count": null,
   "metadata": {},
   "outputs": [],
   "source": [
    "m = folium.Map(location=[-37.81, 144.96], zoom_start=6, tiles=\"cartodbpositron\")\n",
    "geojson_data = json.loads(victoria_gdf_growth_rate_19_24.to_json())\n",
    "folium.Choropleth(\n",
    "    geo_data=geojson_data,\n",
    "    name='choropleth',\n",
    "    data= victoria_gdf_growth_rate_19_24,\n",
    "    columns=['LGA', 'Growth Rate'],\n",
    "    key_on='feature.properties.LGA',\n",
    "    fill_color='Blues',\n",
    "    fill_opacity=0.7,\n",
    "    line_opacity=0.2,\n",
    "    legend_name='Growth Rate of The rent growth rate from 2019 to 2024'\n",
    ").add_to(m)\n",
    "folium.LayerControl().add_to(m)\n",
    "\n",
    "top_10_regions_19_24 = growth_rate_19_24.nlargest(10, 'Growth Rate')\n",
    "\n",
    "for idx, row in top_10_regions_19_24.iterrows():\n",
    "    lga_name = row['LGA']\n",
    "    growth_rate_value = row['Growth Rate']\n",
    "    lga_geometry = victoria_gdf_growth_rate_19_24[victoria_gdf_growth_rate_19_24['LGA'] == lga_name].geometry.centroid.iloc[0]\n",
    "    \n",
    "    folium.map.Marker(\n",
    "        [lga_geometry.y, lga_geometry.x],\n",
    "        icon=folium.DivIcon(\n",
    "            html=f'<div style=\"font-size: 12px; color: black; padding: 2px;\">{lga_name}: {growth_rate_value:.2f}</div>'\n",
    "        )\n",
    "    ).add_to(m)\n",
    "\n",
    "m.save('../../plots/geo(html)/Victoria_Growth_rate_1924_Top10_Map_WithNames.html')"
   ]
  },
  {
   "cell_type": "code",
   "execution_count": null,
   "metadata": {},
   "outputs": [],
   "source": [
    "top_10_regions_19_24"
   ]
  },
  {
   "cell_type": "markdown",
   "metadata": {},
   "source": [
    "## Prices for 2024 in different LGA regions(geo)"
   ]
  },
  {
   "cell_type": "code",
   "execution_count": null,
   "metadata": {},
   "outputs": [],
   "source": [
    "victoria_gdf_rent_2024 = victoria_LGA.merge(mean_rent_per_city_year_2024, left_on='LGA_NAME22', right_on='LGA')"
   ]
  },
  {
   "cell_type": "code",
   "execution_count": null,
   "metadata": {},
   "outputs": [],
   "source": [
    "m = folium.Map(location=[-37.81, 144.96], zoom_start=6, tiles=\"cartodbpositron\")\n",
    "geojson_data = json.loads(victoria_gdf_rent_2024.to_json())\n",
    "folium.Choropleth(\n",
    "    geo_data=geojson_data,\n",
    "    name='choropleth',\n",
    "    data=mean_rent_per_city_year_2024,\n",
    "    columns=['LGA', 'Mean Rent'],\n",
    "    key_on='feature.properties.LGA',\n",
    "    fill_color='Blues',\n",
    "    fill_opacity=0.7,\n",
    "    line_opacity=0.2,\n",
    "    legend_name='Mean Rent in 2024'\n",
    ").add_to(m)\n",
    "folium.LayerControl().add_to(m)\n",
    "\n",
    "top_10_regions_2024 = mean_rent_per_city_year_2024.nlargest(10, 'Mean Rent')\n",
    "\n",
    "for idx, row in top_10_regions_2024.iterrows():\n",
    "    lga_name = row['LGA']\n",
    "    rent_value = row['Mean Rent']\n",
    "    lga_geometry = victoria_gdf_rent_2024[victoria_gdf_rent_2024['LGA'] == lga_name].geometry.centroid.iloc[0]\n",
    "    \n",
    "\n",
    "m.save('../../plots/geo(html)/Victoria_Rent_2024_Top10_Map_WithNames.html')"
   ]
  },
  {
   "cell_type": "code",
   "execution_count": null,
   "metadata": {},
   "outputs": [],
   "source": [
    "top_10_regions_2024"
   ]
  }
 ],
 "metadata": {
  "kernelspec": {
   "display_name": "base",
   "language": "python",
   "name": "python3"
  },
  "language_info": {
   "codemirror_mode": {
    "name": "ipython",
    "version": 3
   },
   "file_extension": ".py",
   "mimetype": "text/x-python",
   "name": "python",
   "nbconvert_exporter": "python",
   "pygments_lexer": "ipython3",
   "version": "3.11.3"
  }
 },
 "nbformat": 4,
 "nbformat_minor": 2
}
