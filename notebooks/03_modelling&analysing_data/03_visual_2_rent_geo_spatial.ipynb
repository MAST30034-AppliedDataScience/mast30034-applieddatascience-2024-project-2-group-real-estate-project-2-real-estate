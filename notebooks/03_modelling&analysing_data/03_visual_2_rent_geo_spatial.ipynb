{
 "cells": [
  {
   "cell_type": "markdown",
   "metadata": {},
   "source": [
    "# Rent by SA2"
   ]
  },
  {
   "cell_type": "markdown",
   "metadata": {},
   "source": []
  },
  {
   "cell_type": "markdown",
   "metadata": {},
   "source": [
    "## Import Library"
   ]
  },
  {
   "cell_type": "code",
   "execution_count": null,
   "metadata": {},
   "outputs": [],
   "source": [
    "import  pandas as pd\n",
    "import geopandas as gpd\n",
    "import folium\n",
    "import json"
   ]
  },
  {
   "cell_type": "markdown",
   "metadata": {},
   "source": [
    "## Read data"
   ]
  },
  {
   "cell_type": "code",
   "execution_count": null,
   "metadata": {},
   "outputs": [],
   "source": [
    "sa2_rent_data = pd.read_csv('../../data/curated/merged_final_geo.csv')"
   ]
  },
  {
   "cell_type": "code",
   "execution_count": null,
   "metadata": {},
   "outputs": [],
   "source": [
    "shp_sa2 = gpd.read_file('../../data/landing/region_data/sa2_dataset/sa2_unzip/SA2_2021_AUST_GDA2020.shp')\n",
    "victoria_sa2 = shp_sa2[shp_sa2['STE_NAME21'] == 'Victoria']"
   ]
  },
  {
   "cell_type": "code",
   "execution_count": null,
   "metadata": {},
   "outputs": [],
   "source": [
    "victoria_sa2"
   ]
  },
  {
   "cell_type": "code",
   "execution_count": null,
   "metadata": {},
   "outputs": [],
   "source": [
    "sa2_rent_data = sa2_rent_data[['region', 'cost_text']]"
   ]
  },
  {
   "cell_type": "markdown",
   "metadata": {},
   "source": [
    "## visualization"
   ]
  },
  {
   "cell_type": "code",
   "execution_count": null,
   "metadata": {},
   "outputs": [],
   "source": [
    "sa2_rent_data_grouped = sa2_rent_data.groupby('region', as_index=False)['cost_text'].median()"
   ]
  },
  {
   "cell_type": "code",
   "execution_count": null,
   "metadata": {},
   "outputs": [],
   "source": [
    "sa2_rent_data_grouped.columns"
   ]
  },
  {
   "cell_type": "code",
   "execution_count": null,
   "metadata": {},
   "outputs": [],
   "source": [
    "sa2_rent_data_grouped"
   ]
  },
  {
   "cell_type": "code",
   "execution_count": null,
   "metadata": {},
   "outputs": [],
   "source": [
    "victoria_sa2 = victoria_sa2.merge(sa2_rent_data_grouped, left_on='SA2_NAME21', right_on='region', how='left').dropna()"
   ]
  },
  {
   "cell_type": "code",
   "execution_count": null,
   "metadata": {},
   "outputs": [],
   "source": [
    "victoria_sa2 = victoria_sa2.loc[:, ~victoria_sa2.columns.duplicated()]"
   ]
  },
  {
   "cell_type": "code",
   "execution_count": null,
   "metadata": {},
   "outputs": [],
   "source": [
    "victoria_sa2"
   ]
  },
  {
   "cell_type": "code",
   "execution_count": null,
   "metadata": {},
   "outputs": [],
   "source": [
    "m = folium.Map(location=[-37.81, 144.96], zoom_start=6, tiles=\"cartodbpositron\")\n",
    "geojson_data = json.loads(victoria_sa2.to_json())\n",
    "\n",
    "folium.Choropleth(\n",
    "    geo_data=geojson_data,\n",
    "    name='choropleth',\n",
    "    data=victoria_sa2,\n",
    "    columns=['SA2_NAME21', 'cost_text'],\n",
    "    key_on='feature.properties.SA2_NAME21',\n",
    "    fill_color='OrRd',\n",
    "    fill_opacity=0.7,\n",
    "    line_opacity=0.2,\n",
    "    legend_name='Median Rent Cost'\n",
    ").add_to(m)\n",
    "\n",
    "top_10_regions = sa2_rent_data_grouped.nlargest(10, 'cost_text')\n",
    "\n",
    "for idx, row in top_10_regions.iterrows():\n",
    "    region_name = row['region']\n",
    "    avg_cost = row['cost_text']\n",
    "    \n",
    "    matching_row = victoria_sa2[victoria_sa2['SA2_NAME21'] == region_name]\n",
    "    if not matching_row.empty:\n",
    "        centroid = matching_row.geometry.centroid.iloc[0]\n",
    "        \n",
    "        folium.Marker(\n",
    "            location=[centroid.y, centroid.x],\n",
    "            icon=folium.DivIcon(\n",
    "                html=f'<div style=\"font-size: 12px; color: black; padding: 2px;\">{region_name}: {avg_cost:.2f}</div>'\n",
    "            )\n",
    "        ).add_to(m)\n",
    "\n",
    "m.save('../../plots/geo(html)/Victoria_Median_Rent_Cost_SA2.html')"
   ]
  }
 ],
 "metadata": {
  "kernelspec": {
   "display_name": "base",
   "language": "python",
   "name": "python3"
  },
  "language_info": {
   "codemirror_mode": {
    "name": "ipython",
    "version": 3
   },
   "file_extension": ".py",
   "mimetype": "text/x-python",
   "name": "python",
   "nbconvert_exporter": "python",
   "pygments_lexer": "ipython3",
   "version": "3.11.3"
  }
 },
 "nbformat": 4,
 "nbformat_minor": 2
}
