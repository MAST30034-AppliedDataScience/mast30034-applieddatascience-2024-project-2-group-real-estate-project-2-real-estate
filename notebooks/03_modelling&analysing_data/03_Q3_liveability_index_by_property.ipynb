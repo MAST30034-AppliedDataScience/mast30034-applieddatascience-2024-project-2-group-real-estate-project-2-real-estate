{
 "cells": [
  {
   "cell_type": "code",
   "execution_count": null,
   "metadata": {},
   "outputs": [],
   "source": [
    "import pandas as pd"
   ]
  },
  {
   "cell_type": "markdown",
   "metadata": {},
   "source": [
    "# Read Files"
   ]
  },
  {
   "cell_type": "code",
   "execution_count": null,
   "metadata": {},
   "outputs": [],
   "source": [
    "property_df = pd.read_csv(\"../../data/curated/properties_data4.csv\")"
   ]
  },
  {
   "cell_type": "markdown",
   "metadata": {},
   "source": [
    "# Liveability Index"
   ]
  },
  {
   "cell_type": "code",
   "execution_count": null,
   "metadata": {},
   "outputs": [],
   "source": [
    "# Step 1: Affordability\n",
    "\n",
    "# Normalizing affordability \n",
    "property_df['monthly_income'] = property_df['Median total income (excl. Government pensions and allowances) ($)'] / 12\n",
    "property_df['rent_income_ratio'] = (property_df['Median weekly household rental payment ($)'] * 4) / property_df['monthly_income']\n",
    "property_df['normalized_affordability'] = 1 - (property_df['rent_income_ratio'] - property_df['rent_income_ratio'].min())/(\n",
    "    property_df['rent_income_ratio'].max() - property_df['rent_income_ratio'].min())\n",
    "\n",
    "# Normalize employment-related columns \n",
    "property_df['normalized_employment'] = (property_df[\"Working age population (aged 15-64 years) (%)\"] - \n",
    "                                               property_df[\"Working age population (aged 15-64 years) (%)\"].min()) / (\n",
    "                                                   property_df[\"Working age population (aged 15-64 years) (%)\"].max()\n",
    "                                                     -property_df[\"Working age population (aged 15-64 years) (%)\"].min())\n",
    "\n",
    "property_df['normalized_jobs'] = (property_df['Number of jobs'] - property_df['Number of jobs'].min()) / (\n",
    "    property_df['Number of jobs'].max() - property_df['Number of jobs'].min())\n",
    "\n",
    "# Combine affordability with employment into the final affordability score\n",
    "property_df['affordability_score'] = (property_df['normalized_affordability'] +\n",
    "                                             property_df['normalized_employment'] +\n",
    "                                             property_df['normalized_jobs']) / 3\n"
   ]
  },
  {
   "cell_type": "code",
   "execution_count": null,
   "metadata": {},
   "outputs": [],
   "source": [
    "# Step 2: Amenities\n",
    "property_df['normalized_parks'] = (property_df['park_count_within_1000m'] - property_df['park_count_within_1000m'].min()) / (\n",
    "    property_df['park_count_within_1000m'].max() - property_df['park_count_within_1000m'].min())\n",
    "\n",
    "school_count = property_df['kindergarten_count_within_1000m'] + property_df['secondary_primary_school_count_within_3000m']\n",
    "property_df['normalized_schools'] = (school_count - school_count.min()) / (\n",
    "    school_count.max() - school_count.min())\n",
    "\n",
    "property_df['normalized_health'] = 1 - (property_df['distance_to_hospital'] - property_df['distance_to_hospital'].min()) / (\n",
    "    property_df['distance_to_hospital'].max() - property_df['distance_to_hospital'].min())\n",
    "\n",
    "property_df['normalized_shops'] = (property_df['shop_count_within_1000m'] - property_df['shop_count_within_1000m'].min()) / (\n",
    "    property_df['shop_count_within_1000m'].max() - property_df['shop_count_within_1000m'].min())\n",
    "\n",
    "property_df['amenities_score'] = (property_df['normalized_parks'] +\n",
    "                           property_df['normalized_schools'] +\n",
    "                           property_df['normalized_health'] +\n",
    "                           property_df['normalized_shops']) / 4\n"
   ]
  },
  {
   "cell_type": "code",
   "execution_count": null,
   "metadata": {},
   "outputs": [],
   "source": [
    "# Step 3: Safety\n",
    "property_df['normalized_crime'] = 1 - (property_df['avg_crime_count'] - property_df['avg_crime_count'].min()) / (\n",
    "    property_df['avg_crime_count'].max() - property_df['avg_crime_count'].min())\n",
    "\n",
    "property_df['safety_score']  = property_df['normalized_crime']"
   ]
  },
  {
   "cell_type": "code",
   "execution_count": null,
   "metadata": {},
   "outputs": [],
   "source": [
    "# Step 4: Accessibility\n",
    "property_df['normalized_distance_to_cbd'] = 1 - (property_df['distance_to_melbourne_central'] - property_df['distance_to_melbourne_central'].min()) / (\n",
    "    property_df['distance_to_melbourne_central'].max() - property_df['distance_to_melbourne_central'].min())\n",
    "\n",
    "property_df['normalized_transport_access'] = 1 - (property_df['route_distance_m'] - property_df['route_distance_m'].min()) / (\n",
    "    property_df['route_distance_m'].max() - property_df['route_distance_m'].min())\n",
    "\n",
    "property_df['accessibility_score'] = (property_df['normalized_transport_access'] + property_df['normalized_distance_to_cbd']) / 2\n"
   ]
  },
  {
   "cell_type": "code",
   "execution_count": null,
   "metadata": {},
   "outputs": [],
   "source": [
    "# Step 5: Calculate the overall Liveability Index as the weighted sum of all factors\n",
    "\n",
    "weights = {\n",
    "    'amenities_score': 1,\n",
    "    'safety_score': 1,\n",
    "    'accessibility_score': 1,\n",
    "    'affordability_score': 1\n",
    "}\n",
    "\n",
    "property_df['liveability_index'] = (\n",
    "    property_df['amenities_score'] * weights['amenities_score'] +\n",
    "    property_df['safety_score'] * weights['safety_score'] +\n",
    "    property_df['accessibility_score'] * weights['accessibility_score'] +\n",
    "    property_df['affordability_score'] * weights['affordability_score']\n",
    ") / sum(weights.values())\n",
    "\n",
    "top_liveable_property = property_df[['name', 'liveability_index']].sort_values(by='liveability_index', ascending=False).head(10)\n"
   ]
  },
  {
   "cell_type": "code",
   "execution_count": null,
   "metadata": {},
   "outputs": [],
   "source": [
    "pd.set_option('display.max_colwidth', None)"
   ]
  },
  {
   "cell_type": "code",
   "execution_count": null,
   "metadata": {},
   "outputs": [],
   "source": [
    "top_liveable_property"
   ]
  }
 ],
 "metadata": {
  "kernelspec": {
   "display_name": "Python 3",
   "language": "python",
   "name": "python3"
  },
  "language_info": {
   "codemirror_mode": {
    "name": "ipython",
    "version": 3
   },
   "file_extension": ".py",
   "mimetype": "text/x-python",
   "name": "python",
   "nbconvert_exporter": "python",
   "pygments_lexer": "ipython3",
   "version": "3.11.3"
  }
 },
 "nbformat": 4,
 "nbformat_minor": 2
}
