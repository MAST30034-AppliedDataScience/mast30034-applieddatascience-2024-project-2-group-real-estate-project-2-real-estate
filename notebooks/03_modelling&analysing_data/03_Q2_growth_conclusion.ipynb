{
 "cells": [
  {
   "cell_type": "markdown",
   "metadata": {},
   "source": [
    "# Use the output of Time Series model plot the Geospatial Map"
   ]
  },
  {
   "cell_type": "markdown",
   "metadata": {},
   "source": [
    "## Import Library"
   ]
  },
  {
   "cell_type": "code",
   "execution_count": null,
   "metadata": {},
   "outputs": [],
   "source": [
    "import  pandas as pd\n",
    "import geopandas as gpd\n",
    "import folium\n",
    "import geopandas as gpd\n",
    "import json\n",
    "from IPython.display import display"
   ]
  },
  {
   "cell_type": "markdown",
   "metadata": {},
   "source": [
    "## Read data"
   ]
  },
  {
   "cell_type": "code",
   "execution_count": null,
   "metadata": {},
   "outputs": [],
   "source": [
    "# Read the output data\n",
    "SARIMA_data = pd.read_csv('../../data/results/price_increase_forecast_SARIMA.csv')\n",
    "prophet_data = pd.read_csv('../../data/results/price_increase_forecast_prophet.csv')\n",
    "rf_data =pd.read_csv('../../data/results/growth_rate_rf.csv')\n",
    "lr_data = pd.read_csv('../../data/results/growth_rate_lr.csv')"
   ]
  },
  {
   "cell_type": "code",
   "execution_count": null,
   "metadata": {},
   "outputs": [],
   "source": [
    "# Unify the format of the four models\n",
    "prophet_data.rename(columns={\"Future Price Increase (%)\": \"Growth Rate\"}, inplace=True)\n",
    "SARIMA_data.rename(columns={\"Future Price Increase (%)\": \"Growth Rate\"}, inplace=True)\n",
    "rf_data.rename(columns={\"Growth_Rate (%)\": \"Growth Rate\"}, inplace=True)\n",
    "lr_data.rename(columns={\"Growth_Rate (%)\": \"Growth Rate\"}, inplace=True)\n",
    "rf_data = rf_data.rename(columns={\"region\": \"SA2\"})[[\"SA2\", \"Growth Rate\"]]\n",
    "lr_data = lr_data.rename(columns={\"region\": \"SA2\"})[[\"SA2\", \"Growth Rate\"]]"
   ]
  },
  {
   "cell_type": "code",
   "execution_count": null,
   "metadata": {},
   "outputs": [],
   "source": [
    "## Read the final merge data\n",
    "final_merge = pd.read_csv('../../data/curated/final_merged_data_sa2.csv')\n",
    "LGA_trans_SA2 = final_merge[[\"LGA\", \"SA2\"]]"
   ]
  },
  {
   "cell_type": "code",
   "execution_count": null,
   "metadata": {},
   "outputs": [],
   "source": [
    "# Read The LGA shapefile\n",
    "shp_LGA = gpd.read_file('../../data/landing/region_data/LGA_dataset/LGA_unzip/LGA_2022_AUST_GDA94.shp')\n",
    "victoria_LGA = shp_LGA[shp_LGA['STE_NAME21'] == 'Victoria']"
   ]
  },
  {
   "cell_type": "code",
   "execution_count": null,
   "metadata": {},
   "outputs": [],
   "source": [
    "# Read The SA2 shapefile\n",
    "shp_sa2 = gpd.read_file('../../data/landing/region_data/sa2_dataset/sa2_unzip/SA2_2021_AUST_GDA2020.shp')\n",
    "victoria_sa2 = shp_sa2[shp_sa2['STE_NAME21'] == 'Victoria']"
   ]
  },
  {
   "cell_type": "markdown",
   "metadata": {},
   "source": [
    "## Visualization"
   ]
  },
  {
   "cell_type": "markdown",
   "metadata": {},
   "source": [
    "### The 10 regions with the highest predicted growth rate under the LGA partition"
   ]
  },
  {
   "cell_type": "code",
   "execution_count": null,
   "metadata": {},
   "outputs": [],
   "source": [
    "# Calculate the average of the predicted values of the two Time series models\n",
    "avg_growth_rate_by_LGA = pd.concat([SARIMA_data, prophet_data]).groupby('LGA')['Growth Rate'].mean().reset_index()"
   ]
  },
  {
   "cell_type": "code",
   "execution_count": null,
   "metadata": {},
   "outputs": [],
   "source": [
    "avg_growth_rate_by_LGA"
   ]
  },
  {
   "cell_type": "code",
   "execution_count": null,
   "metadata": {},
   "outputs": [],
   "source": [
    "timeseries_geo = victoria_LGA.merge(avg_growth_rate_by_LGA, left_on='LGA_NAME22', right_on='LGA')"
   ]
  },
  {
   "cell_type": "code",
   "execution_count": null,
   "metadata": {},
   "outputs": [],
   "source": [
    "# The 10 regions with the highest predicted growth rates are derived\n",
    "top_10_growth_timeseries = avg_growth_rate_by_LGA.nlargest(10, 'Growth Rate')"
   ]
  },
  {
   "cell_type": "code",
   "execution_count": null,
   "metadata": {},
   "outputs": [],
   "source": [
    "top_10_growth_timeseries"
   ]
  },
  {
   "cell_type": "code",
   "execution_count": null,
   "metadata": {},
   "outputs": [],
   "source": [
    "# Map the geography and highlight the 10 regions with the highest rent growth\n",
    "m = folium.Map(location=[-37.81, 144.96], zoom_start=6, tiles=\"cartodbpositron\")\n",
    "geojson_data = json.loads(timeseries_geo.to_json())\n",
    "\n",
    "folium.Choropleth(\n",
    "    geo_data=geojson_data,\n",
    "    name='choropleth',\n",
    "    data=timeseries_geo,\n",
    "    columns=['LGA', 'Growth Rate'],\n",
    "    key_on='feature.properties.LGA',\n",
    "    fill_color='Blues',\n",
    "    fill_opacity=0.7,\n",
    "    line_opacity=0.2,\n",
    "    legend_name='Projection Growth Rate (%)'\n",
    ").add_to(m)\n",
    "\n",
    "for idx, row in top_10_growth_timeseries.iterrows():\n",
    "    lga_name = row['LGA']\n",
    "    growth_rate = row['Growth Rate']\n",
    "    # Get the centroid of the LGA geometry\n",
    "    city_geometry = timeseries_geo[timeseries_geo['LGA'] == lga_name].geometry.centroid.iloc[0]\n",
    "    \n",
    "    # Add a marker with LGA name and growth rate\n",
    "    folium.Marker(\n",
    "        location=[city_geometry.y, city_geometry.x],\n",
    "        popup=f'{lga_name}: {growth_rate}%',\n",
    "        icon=folium.DivIcon(html=f\"\"\"<div style=\"font-size: 12px; color: black\">{lga_name}</div>\"\"\")\n",
    "    ).add_to(m)\n",
    "    \n",
    "display(m)\n",
    "\n",
    "m.save('../../plots/geo(html)/Timeseries_Output_geo.html')"
   ]
  },
  {
   "cell_type": "markdown",
   "metadata": {},
   "source": [
    "### The 10 regions with the highest predicted growth rate under the SA2"
   ]
  },
  {
   "cell_type": "code",
   "execution_count": null,
   "metadata": {},
   "outputs": [],
   "source": [
    "# Calculate the average of the predicted values of the two Regression model\n",
    "avg_growth_rate_by_SA2 = pd.concat([lr_data, rf_data]).groupby('SA2')['Growth Rate'].mean().reset_index()"
   ]
  },
  {
   "cell_type": "code",
   "execution_count": null,
   "metadata": {},
   "outputs": [],
   "source": [
    "# normalize the name of SA2\n",
    "victoria_sa2['SA2_NAME21_normalized'] = victoria_sa2['SA2_NAME21'].str.replace(' ', '').str.replace('-', '').str.lower()\n",
    "avg_growth_rate_by_SA2['SA2_normalized'] = avg_growth_rate_by_SA2['SA2'].str.replace(' ', '').str.replace('-', '').str.lower()"
   ]
  },
  {
   "cell_type": "code",
   "execution_count": null,
   "metadata": {},
   "outputs": [],
   "source": [
    "regression_geo = victoria_sa2.merge(avg_growth_rate_by_SA2, left_on='SA2_NAME21_normalized', right_on='SA2_normalized')"
   ]
  },
  {
   "cell_type": "code",
   "execution_count": null,
   "metadata": {},
   "outputs": [],
   "source": [
    "top_10_growth_regression = avg_growth_rate_by_SA2.nlargest(10, 'Growth Rate')"
   ]
  },
  {
   "cell_type": "code",
   "execution_count": null,
   "metadata": {},
   "outputs": [],
   "source": [
    "top_10_growth_regression"
   ]
  },
  {
   "cell_type": "code",
   "execution_count": null,
   "metadata": {},
   "outputs": [],
   "source": [
    "m = folium.Map(location=[-37.81, 144.96], zoom_start=6, tiles=\"cartodbpositron\")\n",
    "geojson_data = json.loads(regression_geo.to_json())\n",
    "\n",
    "folium.Choropleth(\n",
    "    geo_data=geojson_data,\n",
    "    name='choropleth',\n",
    "    data=regression_geo,\n",
    "    columns=['SA2_normalized', 'Growth Rate'],\n",
    "    key_on='feature.properties.SA2_NAME21_normalized',\n",
    "    fill_color='Blues',\n",
    "    fill_opacity=0.7,\n",
    "    line_opacity=0.2,\n",
    "    legend_name='Projection Growth Rate (%)'\n",
    ").add_to(m)\n",
    "\n",
    "for idx, row in top_10_growth_regression.iterrows():\n",
    "    sa2_name = row['SA2_normalized']\n",
    "    growth_rate = row['Growth Rate']\n",
    "    city_geometry = regression_geo[regression_geo['SA2_normalized'] == sa2_name].geometry.centroid\n",
    "    \n",
    "    if not city_geometry.empty:\n",
    "        city_geometry = city_geometry.iloc[0]\n",
    "        folium.Marker(\n",
    "            location=[city_geometry.y, city_geometry.x],\n",
    "            popup=f'{sa2_name}: {growth_rate}%',\n",
    "            icon=folium.DivIcon(html=f\"\"\"<div style=\"font-size: 12px; color: black\">{sa2_name}</div>\"\"\")\n",
    "        ).add_to(m)\n",
    "        \n",
    "display(m)\n",
    "m.save('../../plots/geo(html)/Regresssion_Output_geo.html')"
   ]
  },
  {
   "cell_type": "markdown",
   "metadata": {},
   "source": [
    "### The output of the four models is combined for analysis(median)"
   ]
  },
  {
   "cell_type": "code",
   "execution_count": null,
   "metadata": {},
   "outputs": [],
   "source": [
    "growth_rate_prophet = pd.merge(LGA_trans_SA2,prophet_data , on='LGA', how='inner')\n",
    "growth_rate_SARIMA = pd.merge(LGA_trans_SA2,SARIMA_data , on='LGA', how='inner')\n",
    "growth_rate_SARIMA['SA2_normalized'] = growth_rate_SARIMA['SA2'].str.replace(' ', '').str.replace('-', '').str.lower()\n",
    "growth_rate_prophet['SA2_normalized'] = growth_rate_prophet['SA2'].str.replace(' ', '').str.replace('-', '').str.lower()"
   ]
  },
  {
   "cell_type": "code",
   "execution_count": null,
   "metadata": {},
   "outputs": [],
   "source": [
    "lr_data['SA2_normalized'] = lr_data['SA2'].str.replace(' ', '').str.replace('-', '').str.lower()\n",
    "rf_data['SA2_normalized'] = rf_data['SA2'].str.replace(' ', '').str.replace('-', '').str.lower()"
   ]
  },
  {
   "cell_type": "code",
   "execution_count": null,
   "metadata": {},
   "outputs": [],
   "source": [
    "sarima_growth = growth_rate_SARIMA[['SA2_normalized', 'Growth Rate']].rename(columns={'Growth Rate': 'Growth Rate_SARIMA'})\n",
    "prophet_growth = growth_rate_prophet[['SA2_normalized', 'Growth Rate']].rename(columns={'Growth Rate': 'Growth Rate_prophet'})\n",
    "lr_growth = lr_data[['SA2_normalized', 'Growth Rate']].rename(columns={'Growth Rate': 'Growth Rate_lr'})\n",
    "rf_growth = rf_data[['SA2_normalized', 'Growth Rate']].rename(columns={'Growth Rate': 'Growth Rate_rf'})"
   ]
  },
  {
   "cell_type": "code",
   "execution_count": null,
   "metadata": {},
   "outputs": [],
   "source": [
    "merged_growth_data = sarima_growth.merge(prophet_growth, on='SA2_normalized', how='outer')\n",
    "merged_growth_data = merged_growth_data.merge(lr_growth, on='SA2_normalized', how='outer')\n",
    "merged_growth_data = merged_growth_data.merge(rf_growth, on='SA2_normalized', how='outer')"
   ]
  },
  {
   "cell_type": "code",
   "execution_count": null,
   "metadata": {},
   "outputs": [],
   "source": [
    "merged_growth_data['Mean_Growth_Rate'] = merged_growth_data[['Growth Rate_SARIMA', 'Growth Rate_prophet', 'Growth Rate_lr', 'Growth Rate_rf']].mean(axis=1)"
   ]
  },
  {
   "cell_type": "code",
   "execution_count": null,
   "metadata": {},
   "outputs": [],
   "source": [
    "merged_growth_data"
   ]
  },
  {
   "cell_type": "code",
   "execution_count": null,
   "metadata": {},
   "outputs": [],
   "source": [
    "geo = victoria_sa2.merge(merged_growth_data, left_on='SA2_NAME21_normalized', right_on='SA2_normalized')"
   ]
  },
  {
   "cell_type": "code",
   "execution_count": null,
   "metadata": {},
   "outputs": [],
   "source": [
    "top_10_growth = geo.nlargest(10, 'Mean_Growth_Rate')"
   ]
  },
  {
   "cell_type": "code",
   "execution_count": null,
   "metadata": {},
   "outputs": [],
   "source": [
    "top_10_growth[['SA2_NAME21','Mean_Growth_Rate']]"
   ]
  },
  {
   "cell_type": "code",
   "execution_count": null,
   "metadata": {},
   "outputs": [],
   "source": [
    "m = folium.Map(location=[-37.81, 144.96], zoom_start=6, tiles=\"cartodbpositron\")\n",
    "geojson_data = json.loads(geo.to_json())\n",
    "\n",
    "folium.Choropleth(\n",
    "    geo_data=geojson_data,\n",
    "    name='choropleth',\n",
    "    data=geo,\n",
    "    columns=['SA2_normalized', 'Mean_Growth_Rate'],\n",
    "    key_on='feature.properties.SA2_NAME21_normalized',\n",
    "    fill_color='Blues',\n",
    "    fill_opacity=0.7,\n",
    "    line_opacity=0.2,\n",
    "    legend_name='Projection Growth Rate (%)'\n",
    ").add_to(m)\n",
    "        \n",
    "display(m)\n",
    "m.save('../../plots/geo(html)/final_Output_median_geo.html')"
   ]
  },
  {
   "cell_type": "code",
   "execution_count": null,
   "metadata": {},
   "outputs": [],
   "source": [
    "m = folium.Map(location=[-37.81, 144.96], zoom_start=6, tiles=\"cartodbpositron\")\n",
    "geojson_data = json.loads(geo.to_json())\n",
    "folium.Choropleth(\n",
    "    geo_data=geojson_data,\n",
    "    name='choropleth',\n",
    "    data=geo,\n",
    "    columns=['SA2_normalized', 'Mean_Growth_Rate'],\n",
    "    key_on='feature.properties.SA2_NAME21_normalized',\n",
    "    fill_color='Blues',\n",
    "    fill_opacity=0.7,\n",
    "    line_opacity=0.2,\n",
    "    legend_name='Projection Growth Rate (%)'\n",
    ").add_to(m)\n",
    "\n",
    "for idx, row in top_10_growth.iterrows():\n",
    "    sa2_name = row['SA2_NAME21']\n",
    "    mean_growth_rate = row['Mean_Growth_Rate']\n",
    "    \n",
    "    city_geometry = geo[geo['SA2_NAME21'] == sa2_name].geometry.centroid\n",
    "    \n",
    "    if not city_geometry.empty:\n",
    "        city_geometry = city_geometry.iloc[0]\n",
    "        \n",
    "        text_location = [city_geometry.y, city_geometry.x]\n",
    "        \n",
    "        folium.Marker(\n",
    "            location=text_location,\n",
    "            popup=f'{sa2_name}: {mean_growth_rate}%',\n",
    "            icon=folium.DivIcon(html=f\"\"\"<div style=\"font-size: 12px; color: black; text-shadow: 0px 0px 3px white; white-space: nowrap;\">{sa2_name}</div>\"\"\")\n",
    "        ).add_to(m)\n",
    "\n",
    "display(m)\n",
    "m.save('../../plots/geo(html)/final_Output_median_geo_with_labels.html')\n"
   ]
  }
 ],
 "metadata": {
  "kernelspec": {
   "display_name": "base",
   "language": "python",
   "name": "python3"
  },
  "language_info": {
   "codemirror_mode": {
    "name": "ipython",
    "version": 3
   },
   "file_extension": ".py",
   "mimetype": "text/x-python",
   "name": "python",
   "nbconvert_exporter": "python",
   "pygments_lexer": "ipython3",
   "version": "3.11.3"
  }
 },
 "nbformat": 4,
 "nbformat_minor": 2
}
