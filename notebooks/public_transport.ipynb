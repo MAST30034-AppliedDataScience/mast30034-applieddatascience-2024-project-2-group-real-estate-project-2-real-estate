{
 "cells": [
  {
   "cell_type": "code",
   "execution_count": 1,
   "metadata": {},
   "outputs": [],
   "source": [
    "import pandas as pd\n",
    "import geopandas as gpd\n",
    "import openrouteservice as ors\n",
    "import folium\n",
    "import sys\n",
    "import concurrent.futures\n",
    "from tqdm import tqdm\n",
    "from threading import Semaphore\n",
    "import json\n",
    "import folium\n",
    "import openrouteservice\n",
    "import json\n",
    "import time\n",
    "import openrouteservice\n",
    "import geopandas as gpd\n",
    "import folium\n",
    "from shapely.geometry import Point\n",
    "from shapely.geometry import shape\n",
    "\n",
    "from shapely import wkt\n",
    "from openrouteservice.exceptions import ApiError\n",
    "sys.path.append('../scripts')\n",
    "from utilities import get_vic_subs_as_csv"
   ]
  },
  {
   "cell_type": "code",
   "execution_count": 2,
   "metadata": {},
   "outputs": [],
   "source": [
    "client = ors.Client(key='5b3ce3597851110001cf6248c33b591496c2484889d49c9f98e8e699')"
   ]
  },
  {
   "cell_type": "code",
   "execution_count": 3,
   "metadata": {},
   "outputs": [],
   "source": [
    "input_file = '../data/raw/current_rent_info.json'\n",
    "output_file = '../data/raw/coordinates_by_address.json'\n",
    "with open(input_file, 'r') as file:\n",
    "    data = json.load(file)"
   ]
  },
  {
   "cell_type": "code",
   "execution_count": 4,
   "metadata": {},
   "outputs": [],
   "source": [
    "# Define the rate limit\n",
    "RATE_LIMIT = 100  # Requests per minute\n",
    "REQUEST_INTERVAL = 60 / RATE_LIMIT  # Interval between requests in seconds\n",
    "\n",
    "# Semaphore to control the number of concurrent requests\n",
    "semaphore = Semaphore(3)  # Max number of concurrent threads\n",
    "def get_coordinates(address):\n",
    "    try:\n",
    "        with semaphore:\n",
    "            response = client.pelias_search(address)\n",
    "            if response['features']:\n",
    "                coords = response['features'][0]['geometry']['coordinates']\n",
    "                return {'latitude': coords[1], 'longitude': coords[0]}\n",
    "            else:\n",
    "                return {'latitude': None, 'longitude': None}\n",
    "    except Exception as e:\n",
    "        print(f\"Error fetching coordinates for address '{address}': {e}\")\n",
    "        return {'latitude': None, 'longitude': None}\n",
    "\n",
    "def fetch_coordinates_for_item(url_details):\n",
    "    url, details = url_details\n",
    "    address = details.get('name')\n",
    "    if address:\n",
    "        coords = get_coordinates(address)\n",
    "        details['coordinates'] = coords\n",
    "\n",
    "def worker(url_details):\n",
    "    fetch_coordinates_for_item(url_details)\n",
    "    # Delay to prevent exceeding rate limits\n",
    "    time.sleep(REQUEST_INTERVAL)"
   ]
  },
  {
   "cell_type": "code",
   "execution_count": 5,
   "metadata": {},
   "outputs": [],
   "source": [
    "with open(input_file, 'r') as file:\n",
    "    data = json.load(file)"
   ]
  },
  {
   "cell_type": "code",
   "execution_count": null,
   "metadata": {},
   "outputs": [],
   "source": [
    "# Find coordinates based on address for houses\n",
    "max_threads = 3\n",
    "\n",
    "with concurrent.futures.ThreadPoolExecutor(max_threads) as executor:\n",
    "    # Create a list of futures\n",
    "    futures = [executor.submit(worker, (url, details)) for url, details in data.items()]\n",
    "\n",
    "    # Wrap futures with tqdm to show progress\n",
    "    for future in tqdm(concurrent.futures.as_completed(futures), total=len(futures), desc=\"Processing items\"):\n",
    "        try:\n",
    "            future.result()\n",
    "        except Exception as e:\n",
    "            print(f\"An error occurred: {e}\")\n",
    "\n",
    "# Save the updated data to a new JSON file\n",
    "with open(output_file, 'w') as file:\n",
    "    json.dump(data, file, indent=4)\n",
    "\n",
    "print(f\"Updated data with coordinates saved to {output_file}\")"
   ]
  },
  {
   "cell_type": "code",
   "execution_count": null,
   "metadata": {},
   "outputs": [],
   "source": [
    "with open('../data/raw/coordinates_by_address.json', 'r') as file:\n",
    "    data = json.load(file)\n",
    "coordinates = [\n",
    "    [details['coordinates']['longitude'], details['coordinates']['latitude']]\n",
    "    for url, details in list(data.items()) if details.get('coordinates')\n",
    "]\n",
    "# print(coordinates)\n",
    "# print(len(coordinates))"
   ]
  },
  {
   "cell_type": "code",
   "execution_count": null,
   "metadata": {},
   "outputs": [],
   "source": [
    "#Find closest train station\n",
    "for coords in coordinates:\n",
    "    pois = client.places(\n",
    "        request='pois',  \n",
    "        geojson={\"type\": \"Point\", \"coordinates\": coords},\n",
    "        filter_category_ids=[604], \n",
    "        buffer=2000,\n",
    "        limit=1, \n",
    "        sortby='distance'\n",
    "    )\n",
    "    \n",
    "    print(f\"POIs for coordinates {coords}:\")\n",
    "    \n",
    "    if 'features' in pois:\n",
    "        top_pois = pois['features'][:1]\n",
    "        print(top_pois)\n",
    "    else:\n",
    "        print(\"No POIs found.\")"
   ]
  },
  {
   "cell_type": "code",
   "execution_count": null,
   "metadata": {},
   "outputs": [],
   "source": [
    "# VIC_COORDINATES = [-37.020100, 144.964600]\n",
    "# m = folium.Map(location=VIC_COORDINATES, tiles='cartodbpositron', zoom_start=8)\n",
    "# def fetch_isochrones(coordinate, retries=3, delay=10):\n",
    "#     for attempt in range(retries):\n",
    "#         try:\n",
    "#             iso = client.isochrones(\n",
    "#                 locations=[coordinate],\n",
    "#                 profile='foot-walking',\n",
    "#                 range=[900],\n",
    "#                 validate=False\n",
    "#             )\n",
    "#             return iso['features']\n",
    "#         except ApiError as e:\n",
    "#             print(f\"Error fetching isochrones for coordinate {coordinate}: {e}\")\n",
    "#             if attempt < retries - 1:\n",
    "#                 time.sleep(delay)  # Wait before retrying\n",
    "#                 delay *= 2  # Exponential backoff\n",
    "#             else:\n",
    "#                 print(\"Max retries reached. Skipping this coordinate.\")\n",
    "#                 return None\n",
    "# def plot_isochrones(isochrones, map_obj):\n",
    "#     if isochrones:\n",
    "#         for isochrone in isochrones:\n",
    "#             folium.Polygon(\n",
    "#                 locations=[list(reversed(coord)) for coord in isochrone['geometry']['coordinates'][0]],\n",
    "#                 fill='00ff00',\n",
    "#                 opacity=0.5\n",
    "#             ).add_to(map_obj)\n",
    "            \n",
    "# def plot_map(coordinates, map_obj, output_file, request_limit_per_minute):\n",
    "#     request_interval = 60 / request_limit_per_minute  # Time between requests to adhere to rate limit\n",
    "\n",
    "#     for idx, coord in enumerate(coordinates):\n",
    "#         if idx % 10 == 0 and idx > 0:  # Print progress message every 10 coordinates\n",
    "#             print(f\"Processed {idx} coordinates.\")\n",
    "#         isochrones = fetch_isochrones(coord)\n",
    "#         plot_isochrones(isochrones, map_obj)\n",
    "#         time.sleep(request_interval)  # Sleep to respect rate limiting\n",
    "\n",
    "#     # Save the map to an HTML file\n",
    "#     map_obj.save(output_file)\n",
    "#     print(f\"Map with isochrones saved to {output_file}\")     \n",
    "    \n",
    "# output_file = '../plots/output_map.html'\n",
    "# request_limit_per_minute = 10\n",
    "# plot_map(coordinates, m, output_file, request_limit_per_minute)       "
   ]
  }
 ],
 "metadata": {
  "kernelspec": {
   "display_name": "Python 3",
   "language": "python",
   "name": "python3"
  },
  "language_info": {
   "codemirror_mode": {
    "name": "ipython",
    "version": 3
   },
   "file_extension": ".py",
   "mimetype": "text/x-python",
   "name": "python",
   "nbconvert_exporter": "python",
   "pygments_lexer": "ipython3",
   "version": "3.12.4"
  }
 },
 "nbformat": 4,
 "nbformat_minor": 2
}
