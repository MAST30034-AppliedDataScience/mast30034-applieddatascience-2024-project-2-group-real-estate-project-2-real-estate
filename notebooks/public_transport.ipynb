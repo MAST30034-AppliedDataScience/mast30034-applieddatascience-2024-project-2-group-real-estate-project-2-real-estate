{
 "cells": [
  {
   "cell_type": "code",
   "execution_count": 1,
   "metadata": {},
   "outputs": [],
   "source": [
    "import pandas as pd\n",
    "import geopandas as gpd\n",
    "import openrouteservice as ors\n",
    "import folium\n",
    "import sys\n",
    "import concurrent.futures\n",
    "from tqdm import tqdm\n",
    "from threading import Semaphore\n",
    "import json\n",
    "import folium\n",
    "import openrouteservice\n",
    "import json\n",
    "import time\n",
    "import openrouteservice\n",
    "import geopandas as gpd\n",
    "import folium\n",
    "from shapely.geometry import Point\n",
    "from shapely.geometry import shape\n",
    "from geopy.distance import geodesic\n",
    "from shapely import wkt\n",
    "from openrouteservice.exceptions import ApiError\n",
    "sys.path.append('../scripts')\n",
    "from utilities import get_vic_subs_as_csv"
   ]
  },
  {
   "cell_type": "code",
   "execution_count": 2,
   "metadata": {},
   "outputs": [],
   "source": [
    "client = ors.Client(key='5b3ce3597851110001cf624828f2b63314b24af798ed8608d8464d19')"
   ]
  },
  {
   "cell_type": "code",
   "execution_count": 16,
   "metadata": {},
   "outputs": [],
   "source": [
    "input_file = '../data/raw/current_rent_info.json'\n",
    "#Modify this outfut path to genrate 3 json files.  '../data/raw/coordinates_by_address_first_4500.json', and '../data/raw/coordinates_by_address_second_4500.json'\n",
    "output_file = '../data/raw/coordinates_by_address_final_4500.json'\n",
    "with open(input_file, 'r') as file:\n",
    "    data = json.load(file)"
   ]
  },
  {
   "cell_type": "code",
   "execution_count": 17,
   "metadata": {},
   "outputs": [],
   "source": [
    "# Define the rate limit\n",
    "RATE_LIMIT = 100  # Requests per minute\n",
    "REQUEST_INTERVAL = 60 / RATE_LIMIT  # Interval between requests in seconds\n",
    "\n",
    "# Semaphore to control the number of concurrent requests\n",
    "semaphore = Semaphore(3)  # Max number of concurrent threads\n",
    "def get_coordinates(address):\n",
    "    try:\n",
    "        with semaphore:\n",
    "            response = client.pelias_search(address)\n",
    "            if response['features']:\n",
    "                coords = response['features'][0]['geometry']['coordinates']\n",
    "                return {'latitude': coords[1], 'longitude': coords[0]}\n",
    "            else:\n",
    "                return {'latitude': None, 'longitude': None}\n",
    "    except Exception as e:\n",
    "        print(f\"Error fetching coordinates for address '{address}': {e}\")\n",
    "        return {'latitude': None, 'longitude': None}\n",
    "\n",
    "def fetch_coordinates_for_item(url_details):\n",
    "    url, details = url_details\n",
    "    address = details.get('name')\n",
    "    if address:\n",
    "        coords = get_coordinates(address)\n",
    "        details['coordinates'] = coords\n",
    "\n",
    "def worker(url_details):\n",
    "    fetch_coordinates_for_item(url_details)\n",
    "    # Delay to prevent exceeding rate limits\n",
    "    time.sleep(REQUEST_INTERVAL)"
   ]
  },
  {
   "cell_type": "code",
   "execution_count": 18,
   "metadata": {},
   "outputs": [],
   "source": [
    "with open(input_file, 'r') as file:\n",
    "    data = json.load(file)\n",
    "    \n",
    "data_items = list(data.items())[9000: ]\n"
   ]
  },
  {
   "cell_type": "code",
   "execution_count": null,
   "metadata": {},
   "outputs": [],
   "source": [
    "# Find coordinates based on address for houses\n",
    "max_threads = 3\n",
    "\n",
    "with concurrent.futures.ThreadPoolExecutor(max_threads) as executor:\n",
    "    # Create a list of futures\n",
    "    futures = [executor.submit(worker, (url, details)) for url, details in data_items]\n",
    "\n",
    "    # Wrap futures with tqdm to show progress\n",
    "    for future in tqdm(concurrent.futures.as_completed(futures), total=len(futures), desc=\"Processing items\"):\n",
    "        try:\n",
    "            future.result()\n",
    "        except Exception as e:\n",
    "            print(f\"An error occurred: {e}\")\n",
    "\n",
    "# Save the updated data to a new JSON file\n",
    "with open(output_file, 'w') as file:\n",
    "    json.dump(data, file, indent=4)\n",
    "\n",
    "print(f\"Updated data with coordinates saved to {output_file}\")"
   ]
  },
  {
   "cell_type": "code",
   "execution_count": null,
   "metadata": {},
   "outputs": [],
   "source": [
    "with open('../data/raw/properties_with_coords.json', 'r') as file:\n",
    "    data = json.load(file)\n",
    "coordinates = [\n",
    "    [details['coordinates']['longitude'], details['coordinates']['latitude']]\n",
    "    for url, details in list(data.items()) if details.get('coordinates')\n",
    "]\n",
    "print(coordinates)"
   ]
  },
  {
   "cell_type": "code",
   "execution_count": 4,
   "metadata": {},
   "outputs": [
    {
     "name": "stdout",
     "output_type": "stream",
     "text": [
      "POIs for coordinates [144.983539, -37.812236]:\n",
      "[{'type': 'Feature', 'geometry': {'type': 'Point', 'coordinates': [144.983838, -37.816492]}, 'properties': {'osm_id': 413591726, 'osm_type': 2, 'distance': 473.17273413, 'category_ids': {'604': {'category_name': 'station', 'category_group': 'transport'}}, 'osm_tags': {'website': 'https://www.ptv.vic.gov.au/stop/1104/', 'name': 'Jolimont', 'wheelchair': 'yes'}}}]\n"
     ]
    }
   ],
   "source": [
    "# #Find closest train station\n",
    "# for coords in coordinates[0:1]:\n",
    "#     pois = client.places(\n",
    "#         request='pois',  \n",
    "#         geojson={\"type\": \"Point\", \"coordinates\": coords},\n",
    "#         filter_category_ids=[604], \n",
    "#         buffer=2000,\n",
    "#         limit=1, \n",
    "#         sortby='distance'\n",
    "#     )\n",
    "    \n",
    "#     print(f\"POIs for coordinates {coords}:\")\n",
    "    \n",
    "#     if 'features' in pois:\n",
    "#         top_pois = pois['features'][:1]\n",
    "#         print(top_pois)\n",
    "#     else:\n",
    "#         print(\"No POIs found.\")"
   ]
  },
  {
   "cell_type": "code",
   "execution_count": null,
   "metadata": {},
   "outputs": [],
   "source": [
    "# VIC_COORDINATES = [-37.020100, 144.964600]\n",
    "# m = folium.Map(location=VIC_COORDINATES, tiles='cartodbpositron', zoom_start=8)\n",
    "# def fetch_isochrones(coordinate, retries=3, delay=10):\n",
    "#     for attempt in range(retries):\n",
    "#         try:\n",
    "#             iso = client.isochrones(\n",
    "#                 locations=[coordinate],\n",
    "#                 profile='foot-walking',\n",
    "#                 range=[900],\n",
    "#                 validate=False\n",
    "#             )\n",
    "#             return iso['features']\n",
    "#         except ApiError as e:\n",
    "#             print(f\"Error fetching isochrones for coordinate {coordinate}: {e}\")\n",
    "#             if attempt < retries - 1:\n",
    "#                 time.sleep(delay)  # Wait before retrying\n",
    "#                 delay *= 2  # Exponential backoff\n",
    "#             else:\n",
    "#                 print(\"Max retries reached. Skipping this coordinate.\")\n",
    "#                 return None\n",
    "# def plot_isochrones(isochrones, map_obj):\n",
    "#     if isochrones:\n",
    "#         for isochrone in isochrones:\n",
    "#             folium.Polygon(\n",
    "#                 locations=[list(reversed(coord)) for coord in isochrone['geometry']['coordinates'][0]],\n",
    "#                 fill='00ff00',\n",
    "#                 opacity=0.5\n",
    "#             ).add_to(map_obj)\n",
    "            \n",
    "# def plot_map(coordinates, map_obj, output_file, request_limit_per_minute):\n",
    "#     request_interval = 60 / request_limit_per_minute  # Time between requests to adhere to rate limit\n",
    "\n",
    "#     for idx, coord in enumerate(coordinates):\n",
    "#         if idx % 10 == 0 and idx > 0:  # Print progress message every 10 coordinates\n",
    "#             print(f\"Processed {idx} coordinates.\")\n",
    "#         isochrones = fetch_isochrones(coord)\n",
    "#         plot_isochrones(isochrones, map_obj)\n",
    "#         time.sleep(request_interval)  # Sleep to respect rate limiting\n",
    "\n",
    "#     # Save the map to an HTML file\n",
    "#     map_obj.save(output_file)\n",
    "#     print(f\"Map with isochrones saved to {output_file}\")     \n",
    "    \n",
    "# output_file = '../plots/output_map.html'\n",
    "# request_limit_per_minute = 10\n",
    "# plot_map(coordinates, m, output_file, request_limit_per_minute)       "
   ]
  },
  {
   "cell_type": "code",
   "execution_count": 3,
   "metadata": {},
   "outputs": [],
   "source": [
    "housing_file_1 = '../data/raw/coordinates_by_address_first_4500.json'\n",
    "housing_file_2 = '../data/raw/coordinates_by_address_second_4500.json'\n",
    "housing_file_3 = '../data/raw/coordinates_by_address_final_4500.json'\n"
   ]
  },
  {
   "cell_type": "code",
   "execution_count": 4,
   "metadata": {},
   "outputs": [],
   "source": [
    "def filter_properties_with_coords(properties):\n",
    "    filtered_properties = {}\n",
    "    for key, value in properties.items():\n",
    "        # Check if 'coordinates' exists and is not empty\n",
    "        if 'coordinates' in value and value['coordinates']:\n",
    "            filtered_properties[key] = value\n",
    "    return filtered_properties"
   ]
  },
  {
   "cell_type": "code",
   "execution_count": 5,
   "metadata": {},
   "outputs": [],
   "source": [
    "with open(housing_file_1) as f:\n",
    "    coords_1 = json.load(f)\n",
    "\n",
    "with open(housing_file_2) as f:\n",
    "    coords_2 = json.load(f)\n",
    "    \n",
    "with open(housing_file_3) as f:\n",
    "    coords_3 = json.load(f)\n",
    "    \n",
    "    \n",
    "coords_1_filtered = filter_properties_with_coords(coords_1)\n",
    "coords_2_filtered = filter_properties_with_coords(coords_2)\n",
    "coords_3_filtered = filter_properties_with_coords(coords_3)\n"
   ]
  },
  {
   "cell_type": "code",
   "execution_count": 6,
   "metadata": {},
   "outputs": [],
   "source": [
    "coordinates_dict = {}\n",
    "\n",
    "for prop in [coords_1_filtered, coords_2_filtered, coords_3_filtered]:\n",
    "    coordinates_dict.update(prop)"
   ]
  },
  {
   "cell_type": "code",
   "execution_count": null,
   "metadata": {},
   "outputs": [],
   "source": [
    "with open('../data/raw/properties_with_coords.json', 'w') as f:\n",
    "    json.dump(coordinates_dict, f, indent=4)\n",
    "\n",
    "print(\"Filtered properties with coordinates saved to 'properties_with_coords.json'.\")"
   ]
  },
  {
   "cell_type": "code",
   "execution_count": 8,
   "metadata": {},
   "outputs": [],
   "source": [
    "gdf_regional = gpd.read_file(\"../data/PTV/\", layer='PTV_REGIONAL_TRAIN_STATION')\n",
    "gdf_regional = gdf_regional.to_crs(epsg=4326)\n",
    "\n",
    "gdf_metro = gpd.read_file(\"../data/PTV/\", layer='PTV_METRO_TRAIN_STATION')\n",
    "gdf_metro = gdf_metro.to_crs(epsg=4326)\n"
   ]
  },
  {
   "cell_type": "code",
   "execution_count": 14,
   "metadata": {},
   "outputs": [],
   "source": [
    "gdf_tram = gpd.read_file(\"../data/PTV_tram_bus/\", layer='PTV_METRO_TRAM_STOP')\n",
    "gdf_tram = gdf_tram.to_crs(epsg=4326)\n",
    "\n",
    "gdf_bus = gpd.read_file(\"../data/PTV_tram_bus/\", layer='PTV_METRO_BUS_STOP')\n",
    "gdf_bus = gdf_bus.to_crs(epsg=4326)\n"
   ]
  },
  {
   "cell_type": "code",
   "execution_count": 15,
   "metadata": {},
   "outputs": [],
   "source": [
    "def prepare_station_data(gdf):\n",
    "    return gdf[['geometry', 'STOP_ID', 'STOP_NAME']].apply(\n",
    "        lambda row: ((row['geometry'].y, row['geometry'].x), row['STOP_ID'], row['STOP_NAME']), axis=1\n",
    "    ).tolist()"
   ]
  },
  {
   "cell_type": "code",
   "execution_count": null,
   "metadata": {},
   "outputs": [],
   "source": [
    "train_station_gdf = gpd.GeoDataFrame(pd.concat([gdf_metro, gdf_regional], ignore_index=True))\n",
    "tram_station_gdf = gpd.GeoDataFrame(gdf_tram)\n",
    "bus_station_gdf = gpd.GeoDataFrame(gdf_bus)\n",
    "\n",
    "train_station_data = prepare_station_data(train_station_gdf)\n",
    "tram_station_data = prepare_station_data(tram_station_gdf)\n",
    "bus_station_data = prepare_station_data(bus_station_gdf)\n"
   ]
  },
  {
   "cell_type": "code",
   "execution_count": 17,
   "metadata": {},
   "outputs": [],
   "source": [
    "with open('../data/raw/properties_with_coords.json') as f:\n",
    "   properties = json.load(f)"
   ]
  },
  {
   "cell_type": "code",
   "execution_count": 18,
   "metadata": {},
   "outputs": [],
   "source": [
    "def find_closest_station(house_coords, stations):\n",
    "    closest_station = None\n",
    "    min_distance = float('inf')\n",
    "    closest_station_id = None\n",
    "    closest_station_name = None\n",
    "    \n",
    "    for (station_coords, station_id, station_name) in stations:\n",
    "        distance = geodesic(house_coords, station_coords).kilometers\n",
    "        if distance < min_distance:\n",
    "            min_distance = distance\n",
    "            closest_station = station_coords\n",
    "            closest_station_id = station_id\n",
    "            closest_station_name = station_name\n",
    "            \n",
    "    return closest_station, closest_station_id, closest_station_name, min_distance"
   ]
  },
  {
   "cell_type": "code",
   "execution_count": null,
   "metadata": {},
   "outputs": [],
   "source": [
    "# total_houses = len(properties)\n",
    "# counter = 0\n",
    "# # Add closest train station information to houses\n",
    "# for house_url, house_info in list(properties.items()):\n",
    "#     house_coords = (house_info['coordinates']['latitude'], house_info['coordinates']['longitude'])\n",
    "#     closest_station_coords, closest_station_id, closest_station_name, distance = find_closest_station(house_coords, train_station_data)\n",
    "    \n",
    "#     if closest_station_coords:\n",
    "#         properties[house_url]['closest_station'] = {\n",
    "#             'coordinates': {'latitude': closest_station_coords[0], 'longitude': closest_station_coords[1]},\n",
    "#             'stationID': closest_station_id,\n",
    "#             'stationName': closest_station_name,\n",
    "#             'distance_km': distance\n",
    "#         }\n",
    "#     else:\n",
    "#         properties[house_url]['closest_station'] = {\n",
    "#             'coordinates': {'latitude': None, 'longitude': None},\n",
    "#             'stationID': None,\n",
    "#             'stationName': None,\n",
    "#             'distance_km': None\n",
    "#         }\n",
    "    \n",
    "#     # Update progress every 1,000 houses\n",
    "#     counter += 1\n",
    "#     if counter % 1000 == 0:\n",
    "#         print(f\"Processed {counter} out of {total_houses} houses.\")"
   ]
  },
  {
   "cell_type": "code",
   "execution_count": null,
   "metadata": {},
   "outputs": [],
   "source": [
    "for idx, (house_url, house_info) in enumerate(properties.items(), start=1):\n",
    "    house_coords = (house_info['coordinates']['latitude'], house_info['coordinates']['longitude'])\n",
    "    \n",
    "    # Find closest train station\n",
    "    # closest_train_station_coords, closest_train_station_id, closest_train_station_name, train_distance = find_closest_station(house_coords, train_station_data)\n",
    "    \n",
    "    # Find closest tram station\n",
    "    closest_tram_station_coords, closest_tram_station_id, closest_tram_station_name, tram_distance = find_closest_station(house_coords, tram_station_data)\n",
    "    \n",
    "    # Find closest bus station\n",
    "    # closest_bus_station_coords, closest_bus_station_id, closest_bus_station_name, bus_distance = find_closest_station(house_coords, bus_station_data)\n",
    "    \n",
    "    # properties[house_url]['closest_train_station'] = {\n",
    "    #     'coordinates': {'latitude': closest_train_station_coords[0], 'longitude': closest_train_station_coords[1]} if closest_train_station_coords else None,\n",
    "    #     'stationID': closest_train_station_id,\n",
    "    #     'stationName': closest_train_station_name,\n",
    "    #     'distance_km': train_distance if closest_train_station_coords else None\n",
    "    # }\n",
    "    \n",
    "    properties[house_url]['closest_tram_station'] = {\n",
    "        'coordinates': {'latitude': closest_tram_station_coords[0], 'longitude': closest_tram_station_coords[1]} if closest_tram_station_coords else None,\n",
    "        'stationID': closest_tram_station_id,\n",
    "        'stationName': closest_tram_station_name,\n",
    "        'distance_km': tram_distance if closest_tram_station_coords else None\n",
    "    }\n",
    "    \n",
    "    # properties[house_url]['closest_bus_station'] = {\n",
    "    #     'coordinates': {'latitude': closest_bus_station_coords[0], 'longitude': closest_bus_station_coords[1]} if closest_bus_station_coords else None,\n",
    "    #     'stationID': closest_bus_station_id,\n",
    "    #     'stationName': closest_bus_station_name,\n",
    "    #     'distance_km': bus_distance if closest_bus_station_coords else None\n",
    "    # }\n",
    "    \n",
    "    # Print progress every 1000 houses\n",
    "    if idx % 1000 == 0:\n",
    "        print(f\"Processed {idx} houses...\")\n"
   ]
  },
  {
   "cell_type": "code",
   "execution_count": null,
   "metadata": {},
   "outputs": [],
   "source": [
    "properties"
   ]
  },
  {
   "cell_type": "code",
   "execution_count": null,
   "metadata": {},
   "outputs": [],
   "source": [
    "with open('../data/raw/houses_with_stations.json', 'w') as file:\n",
    "    json.dump(properties, file, indent=4)\n",
    "\n",
    "print(\"Finished processing all houses.\")"
   ]
  },
  {
   "cell_type": "code",
   "execution_count": null,
   "metadata": {},
   "outputs": [],
   "source": [
    "gdf_tram"
   ]
  },
  {
   "cell_type": "code",
   "execution_count": null,
   "metadata": {},
   "outputs": [],
   "source": []
  }
 ],
 "metadata": {
  "kernelspec": {
   "display_name": "Python 3.10.4 64-bit ('3.10.4')",
   "language": "python",
   "name": "python3"
  },
  "language_info": {
   "codemirror_mode": {
    "name": "ipython",
    "version": 3
   },
   "file_extension": ".py",
   "mimetype": "text/x-python",
   "name": "python",
   "nbconvert_exporter": "python",
   "pygments_lexer": "ipython3",
   "version": "3.10.4"
  },
  "vscode": {
   "interpreter": {
    "hash": "6857171c288a27f4076b69feee1624abed3d2b82ff763169396fbbf8c8e33653"
   }
  }
 },
 "nbformat": 4,
 "nbformat_minor": 2
}
