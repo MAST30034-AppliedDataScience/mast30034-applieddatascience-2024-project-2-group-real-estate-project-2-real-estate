{
 "cells": [
  {
   "cell_type": "code",
   "execution_count": 1,
   "source": [
    "import os\n",
    "from urllib.request import urlretrieve\n",
    "import zipfile"
   ],
   "outputs": [],
   "metadata": {}
  },
  {
   "cell_type": "code",
   "execution_count": 2,
   "source": [
    "# Dowload population data\n",
    "data_url = \"https://www.abs.gov.au/statistics/people/population/regional-population/2022-23/32180_ERP_2023_SA2_GDA2020.zip\"\n",
    "urlretrieve(data_url, \"../data/landing/population.zip\")"
   ],
   "outputs": [
    {
     "output_type": "execute_result",
     "data": {
      "text/plain": [
       "('../data/landing/population.zip', <http.client.HTTPMessage at 0x1042719d0>)"
      ]
     },
     "metadata": {},
     "execution_count": 2
    }
   ],
   "metadata": {}
  },
  {
   "cell_type": "code",
   "execution_count": 3,
   "source": [
    "# Extract the contents of the zip file\n",
    "with zipfile.ZipFile(\"../data/landing/population.zip\", 'r') as zip_ref:\n",
    "    zip_ref.extractall(\"../data/population/\")"
   ],
   "outputs": [],
   "metadata": {}
  },
  {
   "cell_type": "code",
   "execution_count": 22,
   "source": [
    "import geopandas as gpd\n",
    "\n",
    "# Load the GeoPackage file\n",
    "gdf = gpd.read_file(\"../data/population/32180_ERP_2023_SA2_GDA2020.gpkg\")\n",
    "\n",
    "# Check the first few rows of the dataset to understand its structure\n",
    "print(gdf.head(1))\n"
   ],
   "outputs": [
    {
     "output_type": "stream",
     "name": "stdout",
     "text": [
      "   State_code_2021  State_name_2021  SA2_code_2021 SA2_name_2021  \\\n",
      "0                1  New South Wales      101021007     Braidwood   \n",
      "\n",
      "   SA3_code_2021 SA3_name_2021  SA4_code_2021   SA4_name_2021 GCCSA_code_2021  \\\n",
      "0          10102    Queanbeyan            101  Capital Region           1RNSW   \n",
      "\n",
      "  GCCSA_name_2021  ...  Births_2022_23  Deaths_2022_23  \\\n",
      "0     Rest of NSW  ...              44              41   \n",
      "\n",
      "   Natural_increase_2022_23  Internal_arrivals_2022_23  \\\n",
      "0                         3                        316   \n",
      "\n",
      "   Internal_departures_2022_23  Net_internal_migration_2022_23  \\\n",
      "0                          301                              15   \n",
      "\n",
      "   Overseas_arrivals_2022_23  Overseas_departures_2022_23  \\\n",
      "0                         19                            7   \n",
      "\n",
      "   Net_overseas_migration_2022_23  \\\n",
      "0                              12   \n",
      "\n",
      "                                            geometry  \n",
      "0  MULTIPOLYGON (((149.58424 -35.44426, 149.58432...  \n",
      "\n",
      "[1 rows x 56 columns]\n"
     ]
    }
   ],
   "metadata": {}
  },
  {
   "cell_type": "code",
   "execution_count": 23,
   "source": [
    "gdf = gdf[gdf[\"State_name_2021\"] == \"Victoria\"]\n",
    "gdf[\"SA2_name_2021\"].unique()"
   ],
   "outputs": [
    {
     "output_type": "execute_result",
     "data": {
      "text/plain": [
       "array(['Alfredton', 'Ballarat', 'Buninyong', 'Delacombe', 'Smythes Creek',\n",
       "       'Wendouree - Miners Rest', 'Ballarat East - Warrenheip',\n",
       "       'Ballarat North - Invermay', 'Canadian - Mount Clear',\n",
       "       'Sebastopol - Redan', 'Bacchus Marsh Surrounds',\n",
       "       'Creswick - Clunes', 'Daylesford', 'Gordon (Vic.)', 'Avoca',\n",
       "       'Beaufort', 'Golden Plains - North', 'Maryborough (Vic.)',\n",
       "       'Maryborough Surrounds', 'Bendigo', 'California Gully - Eaglehawk',\n",
       "       'East Bendigo - Kennington', 'Flora Hill - Spring Gully',\n",
       "       'Kangaroo Flat - Golden Square', 'Maiden Gully', 'Strathfieldsaye',\n",
       "       'White Hills - Ascot', 'Bendigo Surrounds - South', 'Castlemaine',\n",
       "       'Castlemaine Surrounds', 'Heathcote', 'Kyneton', 'Woodend',\n",
       "       'Bendigo Surrounds - North', 'Loddon', 'Bannockburn',\n",
       "       'Golden Plains - South', 'Winchelsea', 'Belmont', 'Geelong',\n",
       "       'Geelong West - Hamlyn Heights', 'Highton', 'Lara', 'Leopold',\n",
       "       'Newcomb - Moolap', 'Newtown (Vic.)', 'North Geelong - Bell Park',\n",
       "       'Charlemont', 'Corio - Lovely Banks', 'Grovedale - Mount Duneed',\n",
       "       'Norlane', 'Clifton Springs', 'Lorne - Anglesea', 'Portarlington',\n",
       "       'Point Lonsdale - Queenscliff', 'Torquay',\n",
       "       'Barwon Heads - Armstrong Creek', 'Ocean Grove', 'Alexandra',\n",
       "       'Euroa', 'Kilmore - Broadford', 'Mansfield (Vic.)', 'Nagambie',\n",
       "       'Seymour', 'Seymour Surrounds', 'Upper Yarra Valley', 'Yea',\n",
       "       'Benalla', 'Benalla Surrounds', 'Rutherglen', 'Wangaratta',\n",
       "       'Wangaratta Surrounds', 'Beechworth', 'Bright - Mount Beauty',\n",
       "       'Chiltern - Indigo Valley', 'Myrtleford', 'Towong', 'West Wodonga',\n",
       "       'Yackandandah', 'Baranduda - Leneva', 'Wodonga', 'Drouin',\n",
       "       'Mount Baw Baw Region', 'Trafalgar (Vic.)', 'Warragul',\n",
       "       'Alps - East', 'Bairnsdale', 'Bruthen - Omeo', 'Lake King',\n",
       "       'Lakes Entrance', 'Orbost', 'Paynesville', 'Foster',\n",
       "       'French Island', 'Korumburra', 'Leongatha', 'Phillip Island',\n",
       "       'Wilsons Promontory', 'Wonthaggi - Inverloch', 'Churchill',\n",
       "       'Moe - Newborough', 'Morwell', 'Yallourn North - Glengarry',\n",
       "       'Traralgon - East', 'Traralgon - West', 'Alps - West',\n",
       "       'Longford - Loch Sport', 'Maffra', 'Rosedale', 'Sale', 'Yarram',\n",
       "       'Brunswick East', 'Brunswick West', 'Pascoe Vale South',\n",
       "       'Brunswick - North', 'Brunswick - South', 'Coburg - East',\n",
       "       'Coburg - West', 'Alphington - Fairfield', 'Thornbury',\n",
       "       'Northcote - East', 'Northcote - West', 'Ascot Vale', 'Flemington',\n",
       "       'Moonee Ponds', 'Essendon (West) - Aberfeldie', 'Essendon - East',\n",
       "       'Carlton', 'Docklands', 'East Melbourne', 'Flemington Racecourse',\n",
       "       'Kensington (Vic.)', 'Parkville', 'South Yarra - West',\n",
       "       'West Melbourne - Industrial', 'Melbourne CBD - East',\n",
       "       'Melbourne CBD - North', 'Melbourne CBD - West', 'North Melbourne',\n",
       "       'Royal Botanic Gardens Victoria', 'Southbank (West) - South Wharf',\n",
       "       'Southbank - East', 'West Melbourne - Residential', 'Albert Park',\n",
       "       'Elwood', 'Port Melbourne', 'St Kilda East',\n",
       "       'Port Melbourne Industrial', 'South Melbourne',\n",
       "       'St Kilda - Central', 'St Kilda - West', 'Armadale',\n",
       "       'Prahran - Windsor', 'Toorak', 'South Yarra - North',\n",
       "       'South Yarra - South', 'Abbotsford',\n",
       "       'Carlton North - Princes Hill', 'Collingwood', 'Fitzroy',\n",
       "       'Fitzroy North', 'Clifton Hill - Alphington',\n",
       "       'Richmond (South) - Cremorne', 'Richmond - North',\n",
       "       'Ashburton (Vic.)', 'Balwyn', 'Balwyn North', 'Camberwell',\n",
       "       'Glen Iris - East', 'Hawthorn East', 'Kew East',\n",
       "       'Surrey Hills (West) - Canterbury', 'Hawthorn - North',\n",
       "       'Hawthorn - South', 'Kew - South', 'Kew - West', 'Bulleen',\n",
       "       'Doncaster', 'Templestowe', 'Templestowe Lower',\n",
       "       'Doncaster East - North', 'Doncaster East - South', 'Blackburn',\n",
       "       'Blackburn South', 'Box Hill', 'Box Hill North', 'Burwood (Vic.)',\n",
       "       'Burwood East', 'Surrey Hills (East) - Mont Albert', 'Beaumaris',\n",
       "       'Brighton (Vic.)', 'Brighton East', 'Highett (West) - Cheltenham',\n",
       "       'Hampton', 'Sandringham - Black Rock', 'Bentleigh - McKinnon',\n",
       "       'Carnegie', 'Caulfield - North', 'Caulfield - South',\n",
       "       'Elsternwick', 'Hughesdale', 'Murrumbeena', 'Ormond - Glen Huntly',\n",
       "       'Bentleigh East - North', 'Bentleigh East - South',\n",
       "       'Aspendale Gardens - Waterways', 'Braeside',\n",
       "       'Carrum - Patterson Lakes', 'Chelsea - Bonbeach',\n",
       "       'Chelsea Heights', 'Highett (East) - Cheltenham',\n",
       "       'Edithvale - Aspendale', 'Mentone', 'Moorabbin - Heatherton',\n",
       "       'Moorabbin Airport', 'Mordialloc - Parkdale',\n",
       "       'Malvern - Glen Iris', 'Malvern East', 'Bundoora - East',\n",
       "       'Greensborough', 'Heidelberg - Rosanna', 'Heidelberg West',\n",
       "       'Ivanhoe', 'Ivanhoe East - Eaglemont', 'Montmorency - Briar Hill',\n",
       "       'Viewbank - Yallambie', 'Watsonia', 'Kingsbury', 'Preston - East',\n",
       "       'Preston - West', 'Reservoir - North East',\n",
       "       'Reservoir - North West', 'Reservoir - South East',\n",
       "       'Reservoir - South West', 'Eltham', 'Hurstbridge', 'Kinglake',\n",
       "       'Panton Hill - St Andrews', 'Plenty - Yarrambat',\n",
       "       'Research - North Warrandyte', 'Wattle Glen - Diamond Creek',\n",
       "       'Bundoora - North', 'Bundoora - West', 'Mill Park - North',\n",
       "       'Mill Park - South', 'Thomastown', 'Wallan', 'Whittlesea',\n",
       "       'Epping - East', 'Epping - South', 'Epping (Vic.) - West',\n",
       "       'South Morang - North', 'South Morang - South', 'Wollert',\n",
       "       'Doreen - North', 'Doreen - South', 'Lalor - East', 'Lalor - West',\n",
       "       'Mernda - North', 'Mernda - South', 'Airport West',\n",
       "       'Essendon Airport', 'Keilor', 'Niddrie - Essendon West',\n",
       "       'Strathmore', 'Avondale Heights', 'Keilor East', 'Gisborne',\n",
       "       'Macedon', 'Riddells Creek', 'Romsey', 'Coburg North', 'Fawkner',\n",
       "       'Gowanbrae', 'Hadfield', 'Glenroy - East', 'Glenroy - West',\n",
       "       'Oak Park', 'Pascoe Vale', 'Sunbury', 'Diggers Rest',\n",
       "       'Sunbury - South', 'Sunbury - West', 'Broadmeadows',\n",
       "       'Campbellfield - Coolaroo', 'Gladstone Park - Westmeadows',\n",
       "       'Greenvale - Bulla', 'Meadow Heights', 'Melbourne Airport',\n",
       "       'Tullamarine', 'Craigieburn - Central', 'Craigieburn - North',\n",
       "       'Craigieburn - South', 'Mickleham - Yuroke',\n",
       "       'Craigieburn - North West', 'Craigieburn - West',\n",
       "       'Roxburgh Park (South) - Somerton', 'Roxburgh Park - North',\n",
       "       'Bayswater', 'Knoxfield - Scoresby', 'Lysterfield',\n",
       "       'Rowville - Central', 'Rowville - North', 'Rowville - South',\n",
       "       'Wantirna', 'Wantirna South', 'Boronia', 'Ferntree Gully - North',\n",
       "       'Ferntree Gully (South) - Upper Ferntree Gully', 'The Basin',\n",
       "       'Donvale - Park Orchards', 'Warrandyte - Wonga Park',\n",
       "       'Bayswater North', 'Croydon Hills - Warranwood', 'Ringwood',\n",
       "       'Ringwood East', 'Ringwood North', 'Croydon - East',\n",
       "       'Croydon - West', 'Croydon South', 'Forest Hill', 'Mitcham (Vic.)',\n",
       "       'Nunawading', 'Vermont', 'Vermont South', 'Belgrave - Selby',\n",
       "       'Chirnside Park', 'Healesville - Yarra Glen', 'Kilsyth',\n",
       "       'Lilydale - Coldstream', 'Monbulk - Silvan', 'Montrose',\n",
       "       'Mooroolbark', 'Mount Dandenong - Olinda', 'Mount Evelyn',\n",
       "       'Upwey - Tecoma', 'Wandin - Seville', 'Yarra Valley',\n",
       "       'Emerald - Cockatoo', 'Beaconsfield - Officer',\n",
       "       'Bunyip - Garfield', 'Koo Wee Rup', 'Pakenham - North East',\n",
       "       'Pakenham - North West', 'Pakenham - South East',\n",
       "       'Pakenham - South West', 'Berwick - North', 'Doveton', 'Hallam',\n",
       "       'Narre Warren North', 'Endeavour Hills - North',\n",
       "       'Endeavour Hills - South', 'Narre Warren - North East',\n",
       "       'Narre Warren - South West', 'Berwick - South East',\n",
       "       'Berwick - South West', 'Cranbourne', 'Cranbourne South',\n",
       "       'Cranbourne West', 'Lynbrook - Lyndhurst', 'Pearcedale - Tooradin',\n",
       "       'Narre Warren South - East', 'Narre Warren South - West',\n",
       "       'Clyde North - North', 'Clyde North - South',\n",
       "       'Cranbourne East - North', 'Cranbourne East - South',\n",
       "       'Cranbourne North - East', 'Cranbourne North - West',\n",
       "       'Hampton Park - East', 'Hampton Park - West',\n",
       "       'Clarinda - Oakleigh South', 'Clayton South', 'Dandenong North',\n",
       "       'Dingley Village', 'Noble Park North', 'Springvale',\n",
       "       'Springvale South', 'Noble Park - East', 'Noble Park - West',\n",
       "       'Dandenong - North', 'Dandenong - South', 'Keysborough - North',\n",
       "       'Keysborough - South', 'Ashwood - Chadstone',\n",
       "       'Glen Waverley - East', 'Glen Waverley - West',\n",
       "       'Mount Waverley - North', 'Mount Waverley - South', 'Mulgrave',\n",
       "       'Oakleigh - Huntingdale', 'Wheelers Hill',\n",
       "       'Clayton (North) - Notting Hill', 'Clayton - Central',\n",
       "       'Ardeer - Albion', 'Cairnlea', 'Delahey', 'Keilor Downs',\n",
       "       'Kings Park (Vic.)', 'St Albans - North', 'St Albans - South',\n",
       "       'Sunshine', 'Sunshine North', 'Sunshine West', 'Sydenham',\n",
       "       'Taylors Lakes', 'Deer Park', 'Derrimut', 'Altona',\n",
       "       'Altona Meadows', 'Altona North', 'Newport', 'Seabrook',\n",
       "       'Williamstown', 'Braybrook', 'Footscray', 'Maribyrnong',\n",
       "       'Seddon - Kingsville', 'West Footscray - Tottenham', 'Yarraville',\n",
       "       'Bacchus Marsh', 'Melton West', 'Rockbank - Mount Cottrell',\n",
       "       'Taylors Hill', 'Burnside', 'Burnside Heights', 'Caroline Springs',\n",
       "       'Brookfield', 'Cobblebank - Strathtulloh', 'Eynesbury - Exford',\n",
       "       'Fraser Rise - Plumpton', 'Hillside', 'Kurunjang - Toolern Vale',\n",
       "       'Melton', 'Melton South - Weir Views', 'Hoppers Crossing - North',\n",
       "       'Hoppers Crossing - South', 'Laverton', 'Werribee - South',\n",
       "       'Point Cook - East', 'Point Cook - South', 'Werribee - East',\n",
       "       'Werribee - West', 'Manor Lakes - Quandong',\n",
       "       'Point Cook - North East', 'Point Cook - North West',\n",
       "       'Tarneit (West) - Mount Cottrell', 'Tarneit - Central',\n",
       "       'Tarneit - North', 'Tarneit - South', 'Truganina - North',\n",
       "       'Truganina - South East', 'Truganina - South West',\n",
       "       'Wyndham Vale - North', 'Wyndham Vale - South', 'Carrum Downs',\n",
       "       'Frankston', 'Frankston North', 'Frankston South', 'Langwarrin',\n",
       "       'Seaford (Vic.)', 'Skye - Sandhurst', 'Dromana', 'Flinders',\n",
       "       'Hastings - Somers', 'Mount Eliza', 'Mount Martha', 'Point Nepean',\n",
       "       'Rosebud - McCrae', 'Somerville', 'Mornington - East',\n",
       "       'Mornington - West', 'Ararat', 'Ararat Surrounds', 'Horsham',\n",
       "       'Horsham Surrounds', 'Nhill Region', 'St Arnaud', 'Stawell',\n",
       "       'West Wimmera', 'Yarriambiack', 'Irymple', 'Merbein',\n",
       "       'Mildura Surrounds', 'Red Cliffs', 'Mildura - North',\n",
       "       'Mildura - South', 'Buloke', 'Gannawarra', 'Kerang', 'Robinvale',\n",
       "       'Swan Hill', 'Swan Hill Surrounds', 'Echuca', 'Kyabram',\n",
       "       'Lockington - Gunbower', 'Rochester', 'Rushworth', 'Cobram',\n",
       "       'Moira', 'Numurkah', 'Yarrawonga', 'Mooroopna',\n",
       "       'Shepparton - North', 'Shepparton Surrounds - East',\n",
       "       'Shepparton Surrounds - West', 'Kialla', 'Shepparton - South East',\n",
       "       'Glenelg (Vic.)', 'Hamilton (Vic.)', 'Portland',\n",
       "       'Southern Grampians', 'Camperdown', 'Colac', 'Colac Surrounds',\n",
       "       'Corangamite - North', 'Corangamite - South', 'Otway',\n",
       "       'Moyne - East', 'Moyne - West', 'Warrnambool - North',\n",
       "       'Warrnambool - South'], dtype=object)"
      ]
     },
     "metadata": {},
     "execution_count": 23
    }
   ],
   "metadata": {}
  },
  {
   "cell_type": "code",
   "execution_count": 24,
   "source": [
    "gdf.columns"
   ],
   "outputs": [
    {
     "output_type": "execute_result",
     "data": {
      "text/plain": [
       "Index(['State_code_2021', 'State_name_2021', 'SA2_code_2021', 'SA2_name_2021',\n",
       "       'SA3_code_2021', 'SA3_name_2021', 'SA4_code_2021', 'SA4_name_2021',\n",
       "       'GCCSA_code_2021', 'GCCSA_name_2021', 'ERP_2001', 'ERP_2002',\n",
       "       'ERP_2003', 'ERP_2004', 'ERP_2005', 'ERP_2006', 'ERP_2007', 'ERP_2008',\n",
       "       'ERP_2009', 'ERP_2010', 'ERP_2011', 'ERP_2012', 'ERP_2013', 'ERP_2014',\n",
       "       'ERP_2015', 'ERP_2016', 'ERP_2017', 'ERP_2018', 'ERP_2019', 'ERP_2020',\n",
       "       'ERP_2021', 'ERP_2022', 'ERP_2023', 'ERP_change_number_2022_23',\n",
       "       'ERP_change_per_cent_2022_23', 'Area_km2',\n",
       "       'Pop_density_2023_people_per_km2', 'Births_2021_22', 'Deaths_2021_22',\n",
       "       'Natural_increase_2021_22', 'Internal_arrivals_2021_22',\n",
       "       'Internal_departures_2021_22', 'Net_internal_migration_2021_22',\n",
       "       'Overseas_arrivals_2021_22', 'Overseas_departures_2021_22',\n",
       "       'Net_overseas_migration_2021_22', 'Births_2022_23', 'Deaths_2022_23',\n",
       "       'Natural_increase_2022_23', 'Internal_arrivals_2022_23',\n",
       "       'Internal_departures_2022_23', 'Net_internal_migration_2022_23',\n",
       "       'Overseas_arrivals_2022_23', 'Overseas_departures_2022_23',\n",
       "       'Net_overseas_migration_2022_23', 'geometry'],\n",
       "      dtype='object')"
      ]
     },
     "metadata": {},
     "execution_count": 24
    }
   ],
   "metadata": {}
  },
  {
   "cell_type": "code",
   "execution_count": 25,
   "source": [
    "# Calculate net migration\n",
    "gdf[\"Net_migration_2021_22\"] = gdf[\"Net_overseas_migration_2021_22\"] + gdf[\"Net_internal_migration_2021_22\"]\n",
    "gdf[\"Net_migration_2022_23\"] = gdf[\"Net_overseas_migration_2022_23\"] + gdf[\"Net_internal_migration_2022_23\"]"
   ],
   "outputs": [],
   "metadata": {}
  },
  {
   "cell_type": "code",
   "execution_count": 26,
   "source": [
    "# Calculate ERP/km2 from 2001-2023\n",
    "for year in range(2001, 2024):\n",
    "    gdf[f\"ERP_per_km2_{year}\"] = gdf[f\"ERP_{year}\"] / gdf[\"Area_km2\"]"
   ],
   "outputs": [],
   "metadata": {}
  },
  {
   "cell_type": "code",
   "execution_count": 27,
   "source": [
    "gdf.columns"
   ],
   "outputs": [
    {
     "output_type": "execute_result",
     "data": {
      "text/plain": [
       "Index(['State_code_2021', 'State_name_2021', 'SA2_code_2021', 'SA2_name_2021',\n",
       "       'SA3_code_2021', 'SA3_name_2021', 'SA4_code_2021', 'SA4_name_2021',\n",
       "       'GCCSA_code_2021', 'GCCSA_name_2021', 'ERP_2001', 'ERP_2002',\n",
       "       'ERP_2003', 'ERP_2004', 'ERP_2005', 'ERP_2006', 'ERP_2007', 'ERP_2008',\n",
       "       'ERP_2009', 'ERP_2010', 'ERP_2011', 'ERP_2012', 'ERP_2013', 'ERP_2014',\n",
       "       'ERP_2015', 'ERP_2016', 'ERP_2017', 'ERP_2018', 'ERP_2019', 'ERP_2020',\n",
       "       'ERP_2021', 'ERP_2022', 'ERP_2023', 'ERP_change_number_2022_23',\n",
       "       'ERP_change_per_cent_2022_23', 'Area_km2',\n",
       "       'Pop_density_2023_people_per_km2', 'Births_2021_22', 'Deaths_2021_22',\n",
       "       'Natural_increase_2021_22', 'Internal_arrivals_2021_22',\n",
       "       'Internal_departures_2021_22', 'Net_internal_migration_2021_22',\n",
       "       'Overseas_arrivals_2021_22', 'Overseas_departures_2021_22',\n",
       "       'Net_overseas_migration_2021_22', 'Births_2022_23', 'Deaths_2022_23',\n",
       "       'Natural_increase_2022_23', 'Internal_arrivals_2022_23',\n",
       "       'Internal_departures_2022_23', 'Net_internal_migration_2022_23',\n",
       "       'Overseas_arrivals_2022_23', 'Overseas_departures_2022_23',\n",
       "       'Net_overseas_migration_2022_23', 'geometry', 'Net_migration_2021_22',\n",
       "       'Net_migration_2022_23', 'ERP_per_km2_2001', 'ERP_per_km2_2002',\n",
       "       'ERP_per_km2_2003', 'ERP_per_km2_2004', 'ERP_per_km2_2005',\n",
       "       'ERP_per_km2_2006', 'ERP_per_km2_2007', 'ERP_per_km2_2008',\n",
       "       'ERP_per_km2_2009', 'ERP_per_km2_2010', 'ERP_per_km2_2011',\n",
       "       'ERP_per_km2_2012', 'ERP_per_km2_2013', 'ERP_per_km2_2014',\n",
       "       'ERP_per_km2_2015', 'ERP_per_km2_2016', 'ERP_per_km2_2017',\n",
       "       'ERP_per_km2_2018', 'ERP_per_km2_2019', 'ERP_per_km2_2020',\n",
       "       'ERP_per_km2_2021', 'ERP_per_km2_2022', 'ERP_per_km2_2023'],\n",
       "      dtype='object')"
      ]
     },
     "metadata": {},
     "execution_count": 27
    }
   ],
   "metadata": {}
  },
  {
   "cell_type": "code",
   "execution_count": 28,
   "source": [
    "import folium\n",
    "import branca.colormap as cm"
   ],
   "outputs": [],
   "metadata": {}
  },
  {
   "cell_type": "code",
   "execution_count": 29,
   "source": [
    "# Create directories to store plots\n",
    "os.makedirs(\"../plots/net_migrants/\", exist_ok=True)\n",
    "os.makedirs(\"../plots/erp/\", exist_ok=True)\n",
    "os.makedirs(\"../plots/area/\", exist_ok=True)\n",
    "os.makedirs(\"../plots/erp_per_km2/\", exist_ok=True)"
   ],
   "outputs": [],
   "metadata": {}
  },
  {
   "cell_type": "code",
   "execution_count": 13,
   "source": [
    "def create_map(gdf, column, ouput_directory): \n",
    "    # Create a map centered on Victoria\n",
    "    m = folium.Map(location=[-37.4713, 144.7852], zoom_start=7)\n",
    "\n",
    "    # Create a color map using branca\n",
    "    colormap = cm.LinearColormap(\n",
    "        colors=['blue', 'white', 'yellow', 'orange', 'red'],\n",
    "        vmin=gdf[column].min(),\n",
    "        vmax=gdf[column].max(),\n",
    "        caption=column\n",
    "    )\n",
    "\n",
    "     # Define a function to style the features\n",
    "    def style_function(feature):\n",
    "        return {\n",
    "            'fillOpacity': 0.7,\n",
    "            'weight': 0.5,\n",
    "            'fillColor': colormap(feature['properties'][column]),\n",
    "            'color': 'black'\n",
    "        }\n",
    "\n",
    "    # Add the GeoDataFrame to the map with Folium\n",
    "    folium.GeoJson(\n",
    "        gdf,\n",
    "        style_function=style_function,\n",
    "        tooltip=folium.GeoJsonTooltip(\n",
    "            fields=['SA2_name_2021', column], \n",
    "            aliases=['Suburb Name', column]\n",
    "        )\n",
    "    ).add_to(m)\n",
    "\n",
    "    # Add the colormap legend to the map\n",
    "    colormap.add_to(m)\n",
    "\n",
    "    # Save and display the map\n",
    "    m.save(f\"{ouput_directory}/suburbs_{column.lower()}.html\")"
   ],
   "outputs": [],
   "metadata": {}
  },
  {
   "cell_type": "code",
   "execution_count": 17,
   "source": [
    "# Plot suburbs' net migrations from 2021-2023\n",
    "for col in ['Net_internal_migration_2021_22', 'Net_overseas_migration_2021_22', 'Net_migration_2021_22', \n",
    "'Net_internal_migration_2022_23', 'Net_overseas_migration_2022_23', 'Net_migration_2022_23']:\n",
    "    create_map(gdf, col, '../plots/net_migrants')\n"
   ],
   "outputs": [],
   "metadata": {}
  },
  {
   "cell_type": "code",
   "execution_count": 18,
   "source": [
    "# Plot suburbs' ERP from 2001-2023    \n",
    "for col in ['ERP_2001', 'ERP_2002',\n",
    "       'ERP_2003', 'ERP_2004', 'ERP_2005', 'ERP_2006', 'ERP_2007', 'ERP_2008',\n",
    "       'ERP_2009', 'ERP_2010', 'ERP_2011', 'ERP_2012', 'ERP_2013', 'ERP_2014',\n",
    "       'ERP_2015', 'ERP_2016', 'ERP_2017', 'ERP_2018', 'ERP_2019', 'ERP_2020',\n",
    "       'ERP_2021', 'ERP_2022', 'ERP_2023']:\n",
    "    create_map(gdf, col, '../plots/erp')"
   ],
   "outputs": [],
   "metadata": {}
  },
  {
   "cell_type": "code",
   "execution_count": 19,
   "source": [
    "# Plot suburbs' area\n",
    "create_map(gdf,'Area_km2', '../plots/area')"
   ],
   "outputs": [],
   "metadata": {}
  },
  {
   "cell_type": "code",
   "execution_count": 30,
   "source": [
    "# Plot suburbs' ERP/km2 from 2001-2023\n",
    "for col in ['ERP_per_km2_2001', 'ERP_per_km2_2002',\n",
    "       'ERP_per_km2_2003', 'ERP_per_km2_2004', 'ERP_per_km2_2005',\n",
    "       'ERP_per_km2_2006', 'ERP_per_km2_2007', 'ERP_per_km2_2008',\n",
    "       'ERP_per_km2_2009', 'ERP_per_km2_2010', 'ERP_per_km2_2011',\n",
    "       'ERP_per_km2_2012', 'ERP_per_km2_2013', 'ERP_per_km2_2014',\n",
    "       'ERP_per_km2_2015', 'ERP_per_km2_2016', 'ERP_per_km2_2017',\n",
    "       'ERP_per_km2_2018', 'ERP_per_km2_2019', 'ERP_per_km2_2020',\n",
    "       'ERP_per_km2_2021', 'ERP_per_km2_2022', 'ERP_per_km2_2023']:\n",
    "    create_map(gdf, col, '../plots/erp_per_km2')"
   ],
   "outputs": [],
   "metadata": {}
  }
 ],
 "metadata": {
  "orig_nbformat": 4,
  "language_info": {
   "name": "python",
   "version": "3.11.7",
   "mimetype": "text/x-python",
   "codemirror_mode": {
    "name": "ipython",
    "version": 3
   },
   "pygments_lexer": "ipython3",
   "nbconvert_exporter": "python",
   "file_extension": ".py"
  },
  "kernelspec": {
   "name": "python3",
   "display_name": "Python 3.11.7 64-bit ('base': conda)"
  },
  "interpreter": {
   "hash": "dca0ade3e726a953b501b15e8e990130d2b7799f14cfd9f4271676035ebe5511"
  }
 },
 "nbformat": 4,
 "nbformat_minor": 2
}