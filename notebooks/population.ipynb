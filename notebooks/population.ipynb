{
 "cells": [
  {
   "cell_type": "code",
   "execution_count": 1,
   "source": [
    "import os\n",
    "from urllib.request import urlretrieve\n",
    "import zipfile"
   ],
   "outputs": [],
   "metadata": {}
  },
  {
   "cell_type": "code",
   "execution_count": 2,
   "source": [
    "# Dowload population data\n",
    "data_url = \"https://www.abs.gov.au/statistics/people/population/regional-population/2022-23/32180_ERP_2023_SA2_GDA2020.zip\"\n",
    "urlretrieve(data_url, \"../data/landing/population.zip\")"
   ],
   "outputs": [
    {
     "output_type": "execute_result",
     "data": {
      "text/plain": [
       "('../data/landing/population.zip', <http.client.HTTPMessage at 0x1138a6250>)"
      ]
     },
     "metadata": {},
     "execution_count": 2
    }
   ],
   "metadata": {}
  },
  {
   "cell_type": "code",
   "execution_count": 3,
   "source": [
    "# Extract the contents of the zip file\n",
    "with zipfile.ZipFile(\"../data/landing/population.zip\", 'r') as zip_ref:\n",
    "    zip_ref.extractall(\"../data/population/\")"
   ],
   "outputs": [],
   "metadata": {}
  },
  {
   "cell_type": "code",
   "execution_count": 4,
   "source": [
    "import geopandas as gpd\n",
    "\n",
    "# Load the GeoPackage file\n",
    "gdf = gpd.read_file(\"../data/population/32180_ERP_2023_SA2_GDA2020.gpkg\")\n",
    "\n",
    "# Check the first few rows of the dataset to understand its structure\n",
    "print(gdf.head(1))\n"
   ],
   "outputs": [
    {
     "output_type": "stream",
     "name": "stdout",
     "text": [
      "   State_code_2021  State_name_2021  SA2_code_2021 SA2_name_2021  \\\n",
      "0                1  New South Wales      101021007     Braidwood   \n",
      "\n",
      "   SA3_code_2021 SA3_name_2021  SA4_code_2021   SA4_name_2021 GCCSA_code_2021  \\\n",
      "0          10102    Queanbeyan            101  Capital Region           1RNSW   \n",
      "\n",
      "  GCCSA_name_2021  ...  Births_2022_23  Deaths_2022_23  \\\n",
      "0     Rest of NSW  ...              44              41   \n",
      "\n",
      "   Natural_increase_2022_23  Internal_arrivals_2022_23  \\\n",
      "0                         3                        316   \n",
      "\n",
      "   Internal_departures_2022_23  Net_internal_migration_2022_23  \\\n",
      "0                          301                              15   \n",
      "\n",
      "   Overseas_arrivals_2022_23  Overseas_departures_2022_23  \\\n",
      "0                         19                            7   \n",
      "\n",
      "   Net_overseas_migration_2022_23  \\\n",
      "0                              12   \n",
      "\n",
      "                                            geometry  \n",
      "0  MULTIPOLYGON (((149.58424 -35.44426, 149.58432...  \n",
      "\n",
      "[1 rows x 56 columns]\n"
     ]
    }
   ],
   "metadata": {}
  },
  {
   "cell_type": "code",
   "execution_count": 5,
   "source": [
    "gdf = gdf[gdf[\"State_name_2021\"] == \"Victoria\"]\n",
    "gdf[\"SA3_name_2021\"].unique()"
   ],
   "outputs": [
    {
     "output_type": "execute_result",
     "data": {
      "text/plain": [
       "array(['Ballarat', 'Creswick - Daylesford - Ballan',\n",
       "       'Maryborough - Pyrenees', 'Bendigo',\n",
       "       'Heathcote - Castlemaine - Kyneton', 'Loddon - Elmore',\n",
       "       'Barwon - West', 'Geelong', 'Surf Coast - Bellarine Peninsula',\n",
       "       'Upper Goulburn Valley', 'Wangaratta - Benalla',\n",
       "       'Wodonga - Alpine', 'Baw Baw', 'Gippsland - East',\n",
       "       'Gippsland - South West', 'Latrobe Valley', 'Wellington',\n",
       "       'Brunswick - Coburg', 'Darebin - South', 'Essendon',\n",
       "       'Melbourne City', 'Port Phillip', 'Stonnington - West', 'Yarra',\n",
       "       'Boroondara', 'Manningham - West', 'Whitehorse - West', 'Bayside',\n",
       "       'Glen Eira', 'Kingston', 'Stonnington - East', 'Banyule',\n",
       "       'Darebin - North', 'Nillumbik - Kinglake', 'Whittlesea - Wallan',\n",
       "       'Keilor', 'Macedon Ranges', 'Moreland - North', 'Sunbury',\n",
       "       'Tullamarine - Broadmeadows', 'Knox', 'Manningham - East',\n",
       "       'Maroondah', 'Whitehorse - East', 'Yarra Ranges', 'Cardinia',\n",
       "       'Casey - North', 'Casey - South', 'Dandenong', 'Monash',\n",
       "       'Brimbank', 'Hobsons Bay', 'Maribyrnong', 'Melton - Bacchus Marsh',\n",
       "       'Wyndham', 'Frankston', 'Mornington Peninsula', 'Grampians',\n",
       "       'Mildura', 'Murray River - Swan Hill', 'Campaspe', 'Moira',\n",
       "       'Shepparton', 'Glenelg - Southern Grampians',\n",
       "       'Colac - Corangamite', 'Warrnambool'], dtype=object)"
      ]
     },
     "metadata": {},
     "execution_count": 5
    }
   ],
   "metadata": {}
  },
  {
   "cell_type": "code",
   "execution_count": 6,
   "source": [
    "gdf.columns"
   ],
   "outputs": [
    {
     "output_type": "execute_result",
     "data": {
      "text/plain": [
       "Index(['State_code_2021', 'State_name_2021', 'SA2_code_2021', 'SA2_name_2021',\n",
       "       'SA3_code_2021', 'SA3_name_2021', 'SA4_code_2021', 'SA4_name_2021',\n",
       "       'GCCSA_code_2021', 'GCCSA_name_2021', 'ERP_2001', 'ERP_2002',\n",
       "       'ERP_2003', 'ERP_2004', 'ERP_2005', 'ERP_2006', 'ERP_2007', 'ERP_2008',\n",
       "       'ERP_2009', 'ERP_2010', 'ERP_2011', 'ERP_2012', 'ERP_2013', 'ERP_2014',\n",
       "       'ERP_2015', 'ERP_2016', 'ERP_2017', 'ERP_2018', 'ERP_2019', 'ERP_2020',\n",
       "       'ERP_2021', 'ERP_2022', 'ERP_2023', 'ERP_change_number_2022_23',\n",
       "       'ERP_change_per_cent_2022_23', 'Area_km2',\n",
       "       'Pop_density_2023_people_per_km2', 'Births_2021_22', 'Deaths_2021_22',\n",
       "       'Natural_increase_2021_22', 'Internal_arrivals_2021_22',\n",
       "       'Internal_departures_2021_22', 'Net_internal_migration_2021_22',\n",
       "       'Overseas_arrivals_2021_22', 'Overseas_departures_2021_22',\n",
       "       'Net_overseas_migration_2021_22', 'Births_2022_23', 'Deaths_2022_23',\n",
       "       'Natural_increase_2022_23', 'Internal_arrivals_2022_23',\n",
       "       'Internal_departures_2022_23', 'Net_internal_migration_2022_23',\n",
       "       'Overseas_arrivals_2022_23', 'Overseas_departures_2022_23',\n",
       "       'Net_overseas_migration_2022_23', 'geometry'],\n",
       "      dtype='object')"
      ]
     },
     "metadata": {},
     "execution_count": 6
    }
   ],
   "metadata": {}
  },
  {
   "cell_type": "code",
   "execution_count": 7,
   "source": [
    "import folium\n",
    "import branca.colormap as cm"
   ],
   "outputs": [],
   "metadata": {}
  },
  {
   "cell_type": "code",
   "execution_count": 8,
   "source": [
    "# Create directories to store plots\n",
    "os.makedirs(\"../plots/migrants/\", exist_ok=True)"
   ],
   "outputs": [],
   "metadata": {}
  },
  {
   "cell_type": "code",
   "execution_count": 9,
   "source": [
    "# Create a map centered on Victoria\n",
    "m = folium.Map(location=[-37.4713, 144.7852], zoom_start=7)\n",
    "\n",
    "# Create a color map using branca\n",
    "colormap = cm.LinearColormap(\n",
    "    colors=['yellow', 'orange', 'red'],\n",
    "    vmin=gdf['Net_overseas_migration_2021_22'].min(),\n",
    "    vmax=gdf['Net_overseas_migration_2021_22'].max(),\n",
    "    caption='Net_overseas_migration_2021_22'\n",
    ")\n",
    "\n",
    "# Define a function to style the features\n",
    "def style_function(feature):\n",
    "    return {\n",
    "        'fillOpacity': 0.7,\n",
    "        'weight': 0.5,\n",
    "        'fillColor': colormap(feature['properties']['Net_overseas_migration_2021_22']),\n",
    "        'color': 'black'\n",
    "    }\n",
    "\n",
    "# Add the GeoDataFrame to the map with Folium\n",
    "folium.GeoJson(\n",
    "    gdf,\n",
    "    style_function=style_function,\n",
    "    tooltip=folium.GeoJsonTooltip(\n",
    "        fields=['SA3_name_2021', 'Net_overseas_migration_2021_22'], \n",
    "        aliases=['Suburb Name', 'Net overseas migration 21-22']\n",
    "    )\n",
    ").add_to(m)\n",
    "\n",
    "# Add the colormap legend to the map\n",
    "colormap.add_to(m)\n",
    "\n",
    "# Save and display the map\n",
    "m.save(\"../plots/migrants/suburbs_net_overseas_migration_map_21_22.html\")"
   ],
   "outputs": [],
   "metadata": {}
  },
  {
   "cell_type": "code",
   "execution_count": 10,
   "source": [
    "# Create a map centered on Victoria\n",
    "m = folium.Map(location=[-37.4713, 144.7852], zoom_start=7)\n",
    "\n",
    "# Create a color map using branca\n",
    "colormap = cm.LinearColormap(\n",
    "    colors=['yellow', 'orange', 'red'],\n",
    "    vmin=gdf['Net_overseas_migration_2022_23'].min(),\n",
    "    vmax=gdf['Net_overseas_migration_2022_23'].max(),\n",
    "    caption='Net_overseas_migration_2022_23'\n",
    ")\n",
    "\n",
    "# Add the GeoDataFrame to the map with Folium\n",
    "folium.GeoJson(\n",
    "    gdf,\n",
    "    style_function=style_function,\n",
    "    tooltip=folium.GeoJsonTooltip(\n",
    "        fields=['SA3_name_2021', 'Net_overseas_migration_2022_23'], \n",
    "        aliases=['Suburb Name', 'Net overseas migration 22-23']\n",
    "    )\n",
    ").add_to(m)\n",
    "\n",
    "# Add the colormap legend to the map\n",
    "colormap.add_to(m)\n",
    "\n",
    "# Save and display the map\n",
    "m.save(\"../plots/migrants/suburbs_net_overseas_migration_map_22_23.html\")"
   ],
   "outputs": [],
   "metadata": {}
  }
 ],
 "metadata": {
  "orig_nbformat": 4,
  "language_info": {
   "name": "python",
   "version": "3.11.7",
   "mimetype": "text/x-python",
   "codemirror_mode": {
    "name": "ipython",
    "version": 3
   },
   "pygments_lexer": "ipython3",
   "nbconvert_exporter": "python",
   "file_extension": ".py"
  },
  "kernelspec": {
   "name": "python3",
   "display_name": "Python 3.11.7 64-bit ('base': conda)"
  },
  "interpreter": {
   "hash": "dca0ade3e726a953b501b15e8e990130d2b7799f14cfd9f4271676035ebe5511"
  }
 },
 "nbformat": 4,
 "nbformat_minor": 2
}