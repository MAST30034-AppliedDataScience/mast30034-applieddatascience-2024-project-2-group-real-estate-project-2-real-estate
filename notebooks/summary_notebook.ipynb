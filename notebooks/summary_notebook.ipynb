{
 "cells": [
  {
   "cell_type": "markdown",
   "metadata": {},
   "source": [
    "# Real Estate Project Summary Notebook"
   ]
  },
  {
   "cell_type": "markdown",
   "metadata": {},
   "source": [
    "## Problem Overview"
   ]
  },
  {
   "cell_type": "markdown",
   "metadata": {},
   "source": [
    "- **Goal**: Predict rental prices in Victoria using internal and external factors\n",
    "\n",
    "- **Outcome**: Identify areas with the greatest potential for growth, the most liveable and most affordable suburbs and find which internal and external factors have the greatest effect on rental prices"
   ]
  },
  {
   "cell_type": "markdown",
   "metadata": {},
   "source": [
    "### Purpose"
   ]
  },
  {
   "cell_type": "markdown",
   "metadata": {},
   "source": [
    "To help rental property investors:\n",
    "\n",
    "- Identify which features help increase a property’s rental price\n",
    "- Predict future rental price increases for better investment decisions.\n",
    "- Identify suburbs with high growth potential for long-term profitability."
   ]
  },
  {
   "cell_type": "markdown",
   "metadata": {},
   "source": [
    "## Data Collection"
   ]
  },
  {
   "cell_type": "markdown",
   "metadata": {},
   "source": [
    "- web scraping\n",
    "- dataset collection"
   ]
  },
  {
   "cell_type": "markdown",
   "metadata": {},
   "source": [
    "## Preprocessing"
   ]
  },
  {
   "cell_type": "markdown",
   "metadata": {},
   "source": [
    "- process raw data\n",
    "- clean missing values\n",
    "- merge datasets"
   ]
  },
  {
   "cell_type": "markdown",
   "metadata": {},
   "source": [
    "## Feature Importance"
   ]
  },
  {
   "cell_type": "markdown",
   "metadata": {},
   "source": [
    "## Forecasting"
   ]
  },
  {
   "cell_type": "markdown",
   "metadata": {},
   "source": [
    "## Affordability and Liveability"
   ]
  },
  {
   "cell_type": "markdown",
   "metadata": {},
   "source": [
    "### Affordability"
   ]
  },
  {
   "cell_type": "markdown",
   "metadata": {},
   "source": [
    "- It is generally accepted that if a household's rent payment exceeds 30% of that household's income then that house is in housing stress\n",
    "\n",
    "-  This indicates that housing is unaffordable, with rent consuming a disproportionately large amount of a household's income\n",
    "\n",
    "- We relied on this principle to create an overall Rental Affordability Index (RAI)."
   ]
  },
  {
   "cell_type": "markdown",
   "metadata": {},
   "source": [
    "The Rental Affordability Index (RAI) is calculated as:\n",
    "\n",
    "$$ RAI = \\left( \\frac{\\text{Median Income}}{\\text{Qualifying Income}} \\right) \\times 100 $$\n",
    "\n",
    "Where:\n",
    "\n",
    "$$ \\text{Qualifying Income} = \\frac{\\text{Median Rent}}{0.30} $$"
   ]
  },
  {
   "cell_type": "markdown",
   "metadata": {},
   "source": [
    "#### Calculating RAI for various household typed across all suburbs "
   ]
  },
  {
   "cell_type": "markdown",
   "metadata": {},
   "source": [
    "- weekly income amounts for various low-moderate income households were assumed\n",
    "- all household types affordable weekly rent except student sharehouses were taken from the Homes Victoria Quarterly Rental Report Mar 2024: (https://www.dffh.vic.gov.au/homes-victoria-rental-report-march-quarter-2024-word)\n",
    "- student sharehouse household types affordable weekly rent was calculated as 30% of income (full amount of Centrelink Youth Allowance with no additional income)  + Centrelink Rental Assistance: (https://www.servicesaustralia.gov.au/sites/default/files/2024-09/co029-2409.pdf)\n",
    "- median rental data by suburb in Victoria was taken from (https://www.dffh.vic.gov.au/moving-annual-rent-suburb-march-quarter-2024-excel)\n",
    "- this data included median rents by suburb for each of the different household types i.e. 1 bedroom flat, 2 bedroom flat, 1 bedroom house, 2 bedroom house and 3 bedroom house.\n",
    "- household income types were then matched up with the median rents of suitably sized bedrooms\n",
    "- for example, a 1 bedroom flat was matched up with the weekly income of a single on a Jobseeker government payment\n",
    "- these were then brought together and averaged for each suburb\n",
    "- the results were mapped and can be seen below:"
   ]
  },
  {
   "cell_type": "code",
   "execution_count": 12,
   "metadata": {},
   "outputs": [
    {
     "data": {
      "text/html": [
       "\n",
       "        <iframe\n",
       "            width=\"700\"\n",
       "            height=\"500\"\n",
       "            src=\"../plots/affordability_map.html\"\n",
       "            frameborder=\"0\"\n",
       "            allowfullscreen\n",
       "            \n",
       "        ></iframe>\n",
       "        "
      ],
      "text/plain": [
       "<IPython.lib.display.IFrame at 0x7fede8c70790>"
      ]
     },
     "execution_count": 12,
     "metadata": {},
     "output_type": "execute_result"
    }
   ],
   "source": [
    "from IPython.display import IFrame\n",
    "\n",
    "# Embed the HTML file of the folium map into the notebook\n",
    "IFrame('../plots/affordability_map.html', width=700, height=500)"
   ]
  },
  {
   "cell_type": "markdown",
   "metadata": {},
   "source": [
    "#### Limitations and Assumptions"
   ]
  },
  {
   "cell_type": "markdown",
   "metadata": {},
   "source": [
    "- median rental data was limited and not available for several suburbs in Victoria with quite a few of these suburbs being located in Regional Victoria\n",
    "- we also assumed weekly income amounts for various low-moderate income households based on Centrelink payments and the most recent quarterly rental report done by Homes Victoria www.dffh.vic.gov.au/homes-victoria-rental-report-march-quarter-2024-word"
   ]
  },
  {
   "cell_type": "markdown",
   "metadata": {},
   "source": [
    "## Predictions"
   ]
  },
  {
   "cell_type": "markdown",
   "metadata": {},
   "source": [
    "- analyse results\n",
    "- suburb forecasts"
   ]
  },
  {
   "cell_type": "markdown",
   "metadata": {},
   "source": [
    "## Privacy and Security"
   ]
  },
  {
   "cell_type": "markdown",
   "metadata": {},
   "source": [
    "To ensure we worked securely and ethically, we adopted:\n",
    "- Sleep timers on web-scrapers\n",
    "- Adhered to API service quotas\n",
    "- Private cloud services for storing API keys and datasets"
   ]
  }
 ],
 "metadata": {
  "kernelspec": {
   "display_name": "Python 3.9.12 ('base')",
   "language": "python",
   "name": "python3"
  },
  "language_info": {
   "codemirror_mode": {
    "name": "ipython",
    "version": 3
   },
   "file_extension": ".py",
   "mimetype": "text/x-python",
   "name": "python",
   "nbconvert_exporter": "python",
   "pygments_lexer": "ipython3",
   "version": "3.9.12"
  },
  "orig_nbformat": 4,
  "vscode": {
   "interpreter": {
    "hash": "baff9592c8012f58ef29913c26b36dfef2cc8fbd5fb5087a86b57c0d29ebf4e3"
   }
  }
 },
 "nbformat": 4,
 "nbformat_minor": 2
}
