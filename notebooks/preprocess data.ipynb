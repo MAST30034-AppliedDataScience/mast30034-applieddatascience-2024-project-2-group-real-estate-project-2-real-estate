{
 "cells": [
  {
   "cell_type": "code",
   "execution_count": 2,
   "metadata": {},
   "outputs": [],
   "source": [
    "import pandas as pd\n",
    "import os"
   ]
  },
  {
   "cell_type": "code",
   "execution_count": 3,
   "metadata": {},
   "outputs": [],
   "source": [
    "os.chdir('/home/malachy/ADS (2024)/project-2-group-real-estate-industry-project-11/notebooks')"
   ]
  },
  {
   "cell_type": "markdown",
   "metadata": {},
   "source": [
    "## Functions"
   ]
  },
  {
   "cell_type": "markdown",
   "metadata": {},
   "source": [
    "### Preparing suburb name"
   ]
  },
  {
   "cell_type": "code",
   "execution_count": 4,
   "metadata": {},
   "outputs": [],
   "source": [
    "import numpy as np\n",
    "\n",
    "DIRECTIONS = [\"north\", \"south\", \"west\", \"east\"]\n",
    "\n",
    "\"\"\"`df` should have unique indicies and\"\"\"\n",
    "def suburb_name_split(df):\n",
    "    indicies = df.index.values\n",
    "    final_indicies = []\n",
    "    repeated_indicies = []\n",
    "\n",
    "    # for each index, gather how many indicies to repeat and the final product\n",
    "    for index in indicies:\n",
    "        # remove (.vic) if present\n",
    "        clean_index = index.replace(\"(Vic.)\", \"\")\n",
    "\n",
    "        # replace the brackets around \"west\"\n",
    "        clean_index = clean_index.replace(\"(\", \"\").replace(\")\", \"\")\n",
    "\n",
    "        # make sure lower case, no confusion\n",
    "        clean_index = clean_index.lower()\n",
    "\n",
    "        # nothing fancy\n",
    "        if (not \"-\" in clean_index):\n",
    "            final_indicies.append(clean_index)\n",
    "            repeated_indicies.append(index)\n",
    "            continue\n",
    "        \n",
    "        # need to split\n",
    "        index_split = clean_index.split(\" - \")\n",
    "\n",
    "        if (len(index_split) != 2):\n",
    "            print(\"length of index split is not 2?\")\n",
    "            exit()\n",
    "        \n",
    "        # if only one direction, reintroduce without the weird thing\n",
    "        if (index_split[1].lower() in DIRECTIONS):\n",
    "            final_indicies.append(\" \".join(index_split))\n",
    "            repeated_indicies.append(index)\n",
    "        \n",
    "        # else will need to strip everything\n",
    "        else:\n",
    "            final_indicies.extend(index_split)\n",
    "            repeated_indicies.extend(np.repeat(index, 2))\n",
    "    \n",
    "    # duplicate\n",
    "    df = df.loc[repeated_indicies]\n",
    "\n",
    "    # change the names accordingly\n",
    "    df.index = final_indicies\n",
    "    \n",
    "    return df\n"
   ]
  },
  {
   "cell_type": "markdown",
   "metadata": {},
   "source": [
    "### Column and imputation"
   ]
  },
  {
   "cell_type": "code",
   "execution_count": 5,
   "metadata": {},
   "outputs": [],
   "source": [
    "def impute_previous(columns, na):\n",
    "    flat_column_list = [[group[i] for group in columns] for i in range(len(columns[0]))]\n",
    "\n",
    "    column_dataframe = pd.DataFrame(flat_column_list)\n",
    "\n",
    "    column_dataframe = column_dataframe.applymap(lambda x: None if (not x) or (na in str(x)) else x)\n",
    "\n",
    "    column_dataframe = column_dataframe.T.ffill().T\n",
    "\n",
    "    flat_column_list = column_dataframe.to_numpy()\n",
    "\n",
    "    return flat_column_list"
   ]
  },
  {
   "cell_type": "code",
   "execution_count": 6,
   "metadata": {},
   "outputs": [],
   "source": [
    "def fill_columns(df, column_dict, na=\"Unnamed\"):\n",
    "    columns = list(df.columns)\n",
    "\n",
    "    for index, new_column in column_dict.items():\n",
    "        columns[index] = new_column\n",
    "\n",
    "    if (type(df.columns) == pd.MultiIndex):\n",
    "        flat_column_list = impute_previous(columns, na)\n",
    "\n",
    "        df.columns = pd.MultiIndex.from_arrays(flat_column_list)\n",
    "    \n",
    "    else:\n",
    "        df.columns = columns\n",
    "\n",
    "    return df"
   ]
  },
  {
   "cell_type": "markdown",
   "metadata": {},
   "source": [
    "## Economic by Region"
   ]
  },
  {
   "cell_type": "code",
   "execution_count": 7,
   "metadata": {},
   "outputs": [],
   "source": [
    "def filter_victoria(df, column_name):\n",
    "    region_mask = ~df[column_name].str.isnumeric()\n",
    "\n",
    "    # get the region indexes and names\n",
    "    regions_index, regions_names = list(df[region_mask].index), list(df[region_mask][column_name].values)\n",
    "\n",
    "    # find the index for victoria in the list\n",
    "    index_victoria = regions_names.index(\"Victoria\")\n",
    "\n",
    "    # reference the mask between victoria and the next index\n",
    "    df = df.loc[regions_index[index_victoria] + 1: regions_index[index_victoria + 1] - 1]\n",
    "\n",
    "    return df"
   ]
  },
  {
   "cell_type": "markdown",
   "metadata": {},
   "source": [
    "### Geography summary"
   ]
  },
  {
   "cell_type": "code",
   "execution_count": 8,
   "metadata": {},
   "outputs": [],
   "source": [
    "COLUMNS_DICT_INCOME_GEOGRAPHY = {\n",
    "    0: (\"SA2 code\",None),\n",
    "    1: (\"SA2 name\",None)\n",
    "}"
   ]
  },
  {
   "cell_type": "code",
   "execution_count": 9,
   "metadata": {},
   "outputs": [],
   "source": [
    "df = pd.read_csv(\"../data/landing/economic_by_region/income_by_geography_b2022.csv\", header=[0, 1])\n",
    "\n",
    "df = fill_columns(df, COLUMNS_DICT_INCOME_GEOGRAPHY)\n",
    "\n",
    "df = filter_victoria(df, (\"SA2 code\", None))"
   ]
  },
  {
   "cell_type": "code",
   "execution_count": 10,
   "metadata": {},
   "outputs": [],
   "source": [
    "df = df.melt(id_vars=df.columns.to_list()[:2], \n",
    "             value_vars = df.columns.to_list()[2:],\n",
    "             var_name=[\"Measure\", \"Year\"],\n",
    "             value_name=\"Value\")"
   ]
  },
  {
   "cell_type": "code",
   "execution_count": 11,
   "metadata": {},
   "outputs": [
    {
     "data": {
      "text/html": [
       "<div>\n",
       "<style scoped>\n",
       "    .dataframe tbody tr th:only-of-type {\n",
       "        vertical-align: middle;\n",
       "    }\n",
       "\n",
       "    .dataframe tbody tr th {\n",
       "        vertical-align: top;\n",
       "    }\n",
       "\n",
       "    .dataframe thead th {\n",
       "        text-align: right;\n",
       "    }\n",
       "</style>\n",
       "<table border=\"1\" class=\"dataframe\">\n",
       "  <thead>\n",
       "    <tr style=\"text-align: right;\">\n",
       "      <th></th>\n",
       "      <th>SA2 code</th>\n",
       "      <th>SA2 name</th>\n",
       "      <th>Year</th>\n",
       "      <th>Earners (persons)</th>\n",
       "      <th>Mean ($)</th>\n",
       "      <th>Median ($)</th>\n",
       "      <th>Median age of earners (years)</th>\n",
       "      <th>Sum ($)</th>\n",
       "    </tr>\n",
       "  </thead>\n",
       "  <tbody>\n",
       "    <tr>\n",
       "      <th>0</th>\n",
       "      <td>201011001</td>\n",
       "      <td>Alfredton</td>\n",
       "      <td>2016-17</td>\n",
       "      <td>7,117</td>\n",
       "      <td>60,937</td>\n",
       "      <td>50,596</td>\n",
       "      <td>42</td>\n",
       "      <td>433,690,088</td>\n",
       "    </tr>\n",
       "    <tr>\n",
       "      <th>1</th>\n",
       "      <td>201011001</td>\n",
       "      <td>Alfredton</td>\n",
       "      <td>2017-18</td>\n",
       "      <td>7,558</td>\n",
       "      <td>62,343</td>\n",
       "      <td>52,448</td>\n",
       "      <td>42</td>\n",
       "      <td>471,188,331</td>\n",
       "    </tr>\n",
       "    <tr>\n",
       "      <th>2</th>\n",
       "      <td>201011001</td>\n",
       "      <td>Alfredton</td>\n",
       "      <td>2018-19</td>\n",
       "      <td>7,987</td>\n",
       "      <td>63,731</td>\n",
       "      <td>53,932</td>\n",
       "      <td>42</td>\n",
       "      <td>509,017,733</td>\n",
       "    </tr>\n",
       "    <tr>\n",
       "      <th>3</th>\n",
       "      <td>201011001</td>\n",
       "      <td>Alfredton</td>\n",
       "      <td>2019-20</td>\n",
       "      <td>8,665</td>\n",
       "      <td>65,781</td>\n",
       "      <td>55,204</td>\n",
       "      <td>41</td>\n",
       "      <td>569,994,001</td>\n",
       "    </tr>\n",
       "    <tr>\n",
       "      <th>4</th>\n",
       "      <td>201011001</td>\n",
       "      <td>Alfredton</td>\n",
       "      <td>2020-21</td>\n",
       "      <td>9,438</td>\n",
       "      <td>69,111</td>\n",
       "      <td>58,036</td>\n",
       "      <td>41</td>\n",
       "      <td>652,268,973</td>\n",
       "    </tr>\n",
       "    <tr>\n",
       "      <th>...</th>\n",
       "      <td>...</td>\n",
       "      <td>...</td>\n",
       "      <td>...</td>\n",
       "      <td>...</td>\n",
       "      <td>...</td>\n",
       "      <td>...</td>\n",
       "      <td>...</td>\n",
       "      <td>...</td>\n",
       "    </tr>\n",
       "    <tr>\n",
       "      <th>2605</th>\n",
       "      <td>217041480</td>\n",
       "      <td>Warrnambool - South</td>\n",
       "      <td>2016-17</td>\n",
       "      <td>7,614</td>\n",
       "      <td>54,442</td>\n",
       "      <td>43,149</td>\n",
       "      <td>44</td>\n",
       "      <td>414,520,667</td>\n",
       "    </tr>\n",
       "    <tr>\n",
       "      <th>2606</th>\n",
       "      <td>217041480</td>\n",
       "      <td>Warrnambool - South</td>\n",
       "      <td>2017-18</td>\n",
       "      <td>7,737</td>\n",
       "      <td>54,826</td>\n",
       "      <td>45,726</td>\n",
       "      <td>44</td>\n",
       "      <td>424,190,279</td>\n",
       "    </tr>\n",
       "    <tr>\n",
       "      <th>2607</th>\n",
       "      <td>217041480</td>\n",
       "      <td>Warrnambool - South</td>\n",
       "      <td>2018-19</td>\n",
       "      <td>8,051</td>\n",
       "      <td>58,145</td>\n",
       "      <td>47,242</td>\n",
       "      <td>44</td>\n",
       "      <td>468,127,252</td>\n",
       "    </tr>\n",
       "    <tr>\n",
       "      <th>2608</th>\n",
       "      <td>217041480</td>\n",
       "      <td>Warrnambool - South</td>\n",
       "      <td>2019-20</td>\n",
       "      <td>8,096</td>\n",
       "      <td>58,648</td>\n",
       "      <td>49,080</td>\n",
       "      <td>44</td>\n",
       "      <td>474,817,395</td>\n",
       "    </tr>\n",
       "    <tr>\n",
       "      <th>2609</th>\n",
       "      <td>217041480</td>\n",
       "      <td>Warrnambool - South</td>\n",
       "      <td>2020-21</td>\n",
       "      <td>8,225</td>\n",
       "      <td>62,234</td>\n",
       "      <td>52,359</td>\n",
       "      <td>44</td>\n",
       "      <td>511,878,347</td>\n",
       "    </tr>\n",
       "  </tbody>\n",
       "</table>\n",
       "<p>2610 rows × 8 columns</p>\n",
       "</div>"
      ],
      "text/plain": [
       "       SA2 code             SA2 name     Year Earners (persons) Mean ($)  \\\n",
       "0     201011001            Alfredton  2016-17             7,117   60,937   \n",
       "1     201011001            Alfredton  2017-18             7,558   62,343   \n",
       "2     201011001            Alfredton  2018-19             7,987   63,731   \n",
       "3     201011001            Alfredton  2019-20             8,665   65,781   \n",
       "4     201011001            Alfredton  2020-21             9,438   69,111   \n",
       "...         ...                  ...      ...               ...      ...   \n",
       "2605  217041480  Warrnambool - South  2016-17             7,614   54,442   \n",
       "2606  217041480  Warrnambool - South  2017-18             7,737   54,826   \n",
       "2607  217041480  Warrnambool - South  2018-19             8,051   58,145   \n",
       "2608  217041480  Warrnambool - South  2019-20             8,096   58,648   \n",
       "2609  217041480  Warrnambool - South  2020-21             8,225   62,234   \n",
       "\n",
       "     Median ($) Median age of earners (years)      Sum ($)  \n",
       "0        50,596                            42  433,690,088  \n",
       "1        52,448                            42  471,188,331  \n",
       "2        53,932                            42  509,017,733  \n",
       "3        55,204                            41  569,994,001  \n",
       "4        58,036                            41  652,268,973  \n",
       "...         ...                           ...          ...  \n",
       "2605     43,149                            44  414,520,667  \n",
       "2606     45,726                            44  424,190,279  \n",
       "2607     47,242                            44  468,127,252  \n",
       "2608     49,080                            44  474,817,395  \n",
       "2609     52,359                            44  511,878,347  \n",
       "\n",
       "[2610 rows x 8 columns]"
      ]
     },
     "execution_count": 11,
     "metadata": {},
     "output_type": "execute_result"
    }
   ],
   "source": [
    "new_df = df.pivot(index=list(df.columns[:2]) + [\"Year\"], columns=\"Measure\", values=\"Value\")\n",
    "new_df = new_df.reset_index()\n",
    "new_df.columns = [x[0] for x in new_df.columns[:2]] + list(new_df.columns[2:])\n",
    "#new_df = new_df.set_index(\"SA2 name\")\n",
    "new_df"
   ]
  },
  {
   "cell_type": "code",
   "execution_count": 12,
   "metadata": {},
   "outputs": [
    {
     "data": {
      "text/plain": [
       "array([ 0,  1,  2,  3,  4,  5,  6,  7,  8,  9, 10, 11, 12, 13, 14, 15, 16,\n",
       "       17, 18, 19])"
      ]
     },
     "execution_count": 12,
     "metadata": {},
     "output_type": "execute_result"
    }
   ],
   "source": [
    "new_df.index.values[:20]"
   ]
  },
  {
   "cell_type": "code",
   "execution_count": 13,
   "metadata": {},
   "outputs": [
    {
     "ename": "AttributeError",
     "evalue": "'numpy.int64' object has no attribute 'replace'",
     "output_type": "error",
     "traceback": [
      "\u001b[0;31m---------------------------------------------------------------------------\u001b[0m",
      "\u001b[0;31mAttributeError\u001b[0m                            Traceback (most recent call last)",
      "Input \u001b[0;32mIn [13]\u001b[0m, in \u001b[0;36m<cell line: 1>\u001b[0;34m()\u001b[0m\n\u001b[0;32m----> 1\u001b[0m new_df \u001b[38;5;241m=\u001b[39m \u001b[43msuburb_name_split\u001b[49m\u001b[43m(\u001b[49m\u001b[43mnew_df\u001b[49m\u001b[43m)\u001b[49m\n\u001b[1;32m      2\u001b[0m new_df\n",
      "Input \u001b[0;32mIn [4]\u001b[0m, in \u001b[0;36msuburb_name_split\u001b[0;34m(df)\u001b[0m\n\u001b[1;32m     10\u001b[0m \u001b[38;5;66;03m# for each index, gather how many indicies to repeat and the final product\u001b[39;00m\n\u001b[1;32m     11\u001b[0m \u001b[38;5;28;01mfor\u001b[39;00m index \u001b[38;5;129;01min\u001b[39;00m indicies:\n\u001b[1;32m     12\u001b[0m     \u001b[38;5;66;03m# remove (.vic) if present\u001b[39;00m\n\u001b[0;32m---> 13\u001b[0m     clean_index \u001b[38;5;241m=\u001b[39m \u001b[43mindex\u001b[49m\u001b[38;5;241;43m.\u001b[39;49m\u001b[43mreplace\u001b[49m(\u001b[38;5;124m\"\u001b[39m\u001b[38;5;124m(Vic.)\u001b[39m\u001b[38;5;124m\"\u001b[39m, \u001b[38;5;124m\"\u001b[39m\u001b[38;5;124m\"\u001b[39m)\n\u001b[1;32m     15\u001b[0m     \u001b[38;5;66;03m# replace the brackets around \"west\"\u001b[39;00m\n\u001b[1;32m     16\u001b[0m     clean_index \u001b[38;5;241m=\u001b[39m clean_index\u001b[38;5;241m.\u001b[39mreplace(\u001b[38;5;124m\"\u001b[39m\u001b[38;5;124m(\u001b[39m\u001b[38;5;124m\"\u001b[39m, \u001b[38;5;124m\"\u001b[39m\u001b[38;5;124m\"\u001b[39m)\u001b[38;5;241m.\u001b[39mreplace(\u001b[38;5;124m\"\u001b[39m\u001b[38;5;124m)\u001b[39m\u001b[38;5;124m\"\u001b[39m, \u001b[38;5;124m\"\u001b[39m\u001b[38;5;124m\"\u001b[39m)\n",
      "\u001b[0;31mAttributeError\u001b[0m: 'numpy.int64' object has no attribute 'replace'"
     ]
    }
   ],
   "source": [
    "new_df = suburb_name_split(new_df)\n",
    "new_df"
   ]
  },
  {
   "cell_type": "markdown",
   "metadata": {},
   "source": [
    "### Distribution"
   ]
  },
  {
   "cell_type": "code",
   "execution_count": 12,
   "metadata": {},
   "outputs": [],
   "source": [
    "COLUMNS_DICT_INCOME_DISTRIBUTION = {\n",
    "    0: \"SA2 code\",\n",
    "    1: \"SA2 name\"\n",
    "}"
   ]
  },
  {
   "cell_type": "code",
   "execution_count": 13,
   "metadata": {},
   "outputs": [],
   "source": [
    "df = pd.read_csv(\"../data/landing/economic_by_region/income_distribution_by_geography_2021.csv\", header=0)\n",
    "df = df.drop(0)\n",
    "\n",
    "df = fill_columns(df, COLUMNS_DICT_INCOME_DISTRIBUTION)\n",
    "\n",
    "df = filter_victoria(df, \"SA2 code\")\n",
    "\n",
    "df = df.set_index(\"SA2 name\")\n",
    "\n",
    "df = suburb_name_split(df)"
   ]
  },
  {
   "cell_type": "markdown",
   "metadata": {},
   "source": [
    "## Economic"
   ]
  },
  {
   "cell_type": "code",
   "execution_count": null,
   "metadata": {},
   "outputs": [],
   "source": []
  },
  {
   "cell_type": "markdown",
   "metadata": {},
   "source": [
    "- Come back to"
   ]
  },
  {
   "cell_type": "markdown",
   "metadata": {},
   "source": [
    "## Housing"
   ]
  }
 ],
 "metadata": {
  "kernelspec": {
   "display_name": "Python 3 (ipykernel)",
   "language": "python",
   "name": "python3"
  },
  "language_info": {
   "codemirror_mode": {
    "name": "ipython",
    "version": 3
   },
   "file_extension": ".py",
   "mimetype": "text/x-python",
   "name": "python",
   "nbconvert_exporter": "python",
   "pygments_lexer": "ipython3",
   "version": "3.9.12"
  }
 },
 "nbformat": 4,
 "nbformat_minor": 2
}
