{
 "cells": [
  {
   "cell_type": "code",
   "execution_count": 2,
   "metadata": {},
   "outputs": [],
   "source": [
    "import pandas as pd"
   ]
  },
  {
   "cell_type": "markdown",
   "metadata": {},
   "source": [
    "## Functions"
   ]
  },
  {
   "cell_type": "markdown",
   "metadata": {},
   "source": [
    "#### Merging"
   ]
  },
  {
   "cell_type": "code",
   "execution_count": 90,
   "metadata": {},
   "outputs": [],
   "source": [
    "MERGE_COLUMNS = [\"year\", \"SA2 code\"]\n",
    "\n",
    "def get_merged_df(new_df, final_df):\n",
    "    # get the attributes used for the merge\n",
    "    merge_columns = list(set(new_df.columns) & set(MERGE_COLUMNS))\n",
    "\n",
    "    # merge columns\n",
    "    merged_df = pd.merge(final_df, new_df, on=merge_columns, how=\"inner\")\n",
    "\n",
    "    # check if any columns lost\n",
    "    if (merged_df.shape[0] < final_df.shape[0]):\n",
    "        print(f\"lost {final_df.shape[0] - merged_df.shape[0]} out of {final_df.shape[0]} records\")\n",
    "    \n",
    "    return merged_df"
   ]
  },
  {
   "cell_type": "markdown",
   "metadata": {},
   "source": [
    "### General"
   ]
  },
  {
   "cell_type": "code",
   "execution_count": 91,
   "metadata": {},
   "outputs": [],
   "source": [
    "def rename_dict(df, rename_dict, keep_columns):\n",
    "    # get the renamed dictionary\n",
    "    new_column_names = list(df.columns.copy())\n",
    "    for index, new_name in rename_dict.items():\n",
    "        new_column_names[index - 1] = new_name\n",
    "    df.columns = new_column_names\n",
    "\n",
    "    # drop the columns not of interest\n",
    "    keep_columns = [x-1 for x in keep_columns]\n",
    "    df = df.iloc[:, keep_columns]\n",
    "\n",
    "    return df"
   ]
  },
  {
   "cell_type": "markdown",
   "metadata": {},
   "source": [
    "### Preparing suburb name"
   ]
  },
  {
   "cell_type": "code",
   "execution_count": 92,
   "metadata": {},
   "outputs": [],
   "source": [
    "import numpy as np\n",
    "\n",
    "DIRECTIONS = [\"north\", \"south\", \"west\", \"east\"]\n",
    "\n",
    "\"\"\"`df` should have unique indicies and\"\"\"\n",
    "def suburb_name_split(df):\n",
    "    indicies = list(df.index)\n",
    "    final_indicies = []\n",
    "    repeated_indicies = []\n",
    "    counter = 0\n",
    "\n",
    "    print(len(indicies))\n",
    "\n",
    "    # for each index, gather how many indicies to repeat and the final product\n",
    "    for index in indicies:\n",
    "        # remove (.vic) if present\n",
    "        clean_index = index.replace(\"(Vic.)\", \"\")\n",
    "\n",
    "        # replace the brackets around \"west\"\n",
    "        clean_index = clean_index.replace(\"(\", \"\").replace(\")\", \"\")\n",
    "\n",
    "        # make sure lower case, no confusion\n",
    "        clean_index = clean_index.lower()\n",
    "\n",
    "        # nothing fancy\n",
    "        if (not \"-\" in clean_index):\n",
    "            final_indicies.append(clean_index)\n",
    "            repeated_indicies.append(index)\n",
    "            continue\n",
    "        \n",
    "        counter += 1\n",
    "\n",
    "        # need to split\n",
    "        index_split = clean_index.split(\" - \")\n",
    "\n",
    "        if (len(index_split) != 2):\n",
    "            print(\"length of index split is not 2?\")\n",
    "            exit()\n",
    "        \n",
    "        # if only one direction, reintroduce without the weird thing\n",
    "        if (index_split[1].lower() in DIRECTIONS):\n",
    "            final_indicies.append(\" \".join(index_split))\n",
    "            repeated_indicies.append(index)\n",
    "        \n",
    "        # else will need to strip everything\n",
    "        else:\n",
    "            final_indicies.extend(index_split)\n",
    "            repeated_indicies.extend(np.repeat(index, 2))\n",
    "    \n",
    "    print(counter / len(indicies))\n",
    "\n",
    "    # duplicate\n",
    "    df = df.loc[repeated_indicies]\n",
    "\n",
    "    print(df.shape)\n",
    "    print(len(final_indicies))\n",
    "\n",
    "    # change the names accordingly\n",
    "    df.index = final_indicies\n",
    "    \n",
    "    return df\n"
   ]
  },
  {
   "cell_type": "markdown",
   "metadata": {},
   "source": [
    "### Column and imputation"
   ]
  },
  {
   "cell_type": "code",
   "execution_count": 93,
   "metadata": {},
   "outputs": [],
   "source": [
    "def impute_previous(columns, na):\n",
    "    flat_column_list = [[group[i] for group in columns] for i in range(len(columns[0]))]\n",
    "\n",
    "    column_dataframe = pd.DataFrame(flat_column_list)\n",
    "\n",
    "    column_dataframe = column_dataframe.applymap(lambda x: None if (not x) or (na in str(x)) else x)\n",
    "\n",
    "    column_dataframe = column_dataframe.T.ffill().T\n",
    "\n",
    "    flat_column_list = column_dataframe.to_numpy()\n",
    "\n",
    "    return flat_column_list"
   ]
  },
  {
   "cell_type": "code",
   "execution_count": 94,
   "metadata": {},
   "outputs": [],
   "source": [
    "def fill_columns(df, column_dict, na=\"Unnamed\"):\n",
    "    columns = list(df.columns)\n",
    "\n",
    "    for index, new_column in column_dict.items():\n",
    "        columns[index] = new_column\n",
    "\n",
    "    if (type(df.columns) == pd.MultiIndex):\n",
    "        flat_column_list = impute_previous(columns, na)\n",
    "\n",
    "        df.columns = pd.MultiIndex.from_arrays(flat_column_list)\n",
    "    \n",
    "    else:\n",
    "        df.columns = columns\n",
    "\n",
    "    return df"
   ]
  },
  {
   "cell_type": "markdown",
   "metadata": {},
   "source": [
    "## Economic by Region"
   ]
  },
  {
   "cell_type": "code",
   "execution_count": 95,
   "metadata": {},
   "outputs": [],
   "source": [
    "def filter_victoria(df, column_name):\n",
    "    region_mask = ~df[column_name].str.isnumeric()\n",
    "\n",
    "    # get the region indexes and names\n",
    "    regions_index, regions_names = list(df[region_mask].index), list(df[region_mask][column_name].values)\n",
    "\n",
    "    # find the index for victoria in the list\n",
    "    index_victoria = regions_names.index(\"Victoria\")\n",
    "\n",
    "    # reference the mask between victoria and the next index\n",
    "    df = df.loc[regions_index[index_victoria] + 1: regions_index[index_victoria + 1] - 1]\n",
    "\n",
    "    return df"
   ]
  },
  {
   "cell_type": "markdown",
   "metadata": {},
   "source": [
    "### Geography summary"
   ]
  },
  {
   "cell_type": "markdown",
   "metadata": {},
   "source": [
    "- Note the income of a given year (say 2020) is acutally from july year before to jun next year (July 2019 to June 2020)\n",
    "  - Because the data was given as financial years"
   ]
  },
  {
   "cell_type": "code",
   "execution_count": 96,
   "metadata": {},
   "outputs": [],
   "source": [
    "COLUMNS_DICT_INCOME_GEOGRAPHY = {\n",
    "    0: (\"SA2 code\",None),\n",
    "    1: (\"SA2 name\",None)\n",
    "}"
   ]
  },
  {
   "cell_type": "code",
   "execution_count": 104,
   "metadata": {},
   "outputs": [],
   "source": [
    "# get the df\n",
    "income_region = pd.read_csv(\"./data/landing/economic_by_region/income_by_geography_b2022.csv\", header=[0, 1])\n",
    "\n",
    "# fill empty columns for the join\n",
    "income_region = fill_columns(income_region, COLUMNS_DICT_INCOME_GEOGRAPHY)\n",
    "\n",
    "# only look at columns of interest\n",
    "income_region = filter_victoria(income_region, (\"SA2 code\", None))\n",
    "\n",
    "# create a massive list of stuff, each record has a unique year, location and measure\n",
    "income_region = income_region.melt(id_vars=income_region.columns.to_list()[:2], \n",
    "                                   value_vars = income_region.columns.to_list()[2:],\n",
    "                                   var_name=[\"Measure\", \"Year\"],\n",
    "                                   value_name=\"Value\")\n",
    "\n",
    "# make it so each record only has a unique year and location\n",
    "income_region = income_region.pivot(index=list(income_region.columns[:2]) + [\"Year\"], columns=\"Measure\", values=\"Value\")\n",
    "income_region = income_region.reset_index()\n",
    "income_region.columns = [x[0] for x in income_region.columns[:2]] + list(income_region.columns[2:])"
   ]
  },
  {
   "cell_type": "code",
   "execution_count": 105,
   "metadata": {},
   "outputs": [
    {
     "name": "stdout",
     "output_type": "stream",
     "text": [
      "2610\n"
     ]
    },
    {
     "data": {
      "text/html": [
       "<div>\n",
       "<style scoped>\n",
       "    .dataframe tbody tr th:only-of-type {\n",
       "        vertical-align: middle;\n",
       "    }\n",
       "\n",
       "    .dataframe tbody tr th {\n",
       "        vertical-align: top;\n",
       "    }\n",
       "\n",
       "    .dataframe thead th {\n",
       "        text-align: right;\n",
       "    }\n",
       "</style>\n",
       "<table border=\"1\" class=\"dataframe\">\n",
       "  <thead>\n",
       "    <tr style=\"text-align: right;\">\n",
       "      <th></th>\n",
       "      <th>SA2 code</th>\n",
       "      <th>SA2 name</th>\n",
       "      <th>year</th>\n",
       "      <th>economic: number of earners</th>\n",
       "      <th>economic: median income</th>\n",
       "      <th>economic: median age of earners</th>\n",
       "    </tr>\n",
       "  </thead>\n",
       "  <tbody>\n",
       "    <tr>\n",
       "      <th>0</th>\n",
       "      <td>201011001</td>\n",
       "      <td>Alfredton</td>\n",
       "      <td>2016-17</td>\n",
       "      <td>7,117</td>\n",
       "      <td>50,596</td>\n",
       "      <td>42</td>\n",
       "    </tr>\n",
       "    <tr>\n",
       "      <th>1</th>\n",
       "      <td>201011001</td>\n",
       "      <td>Alfredton</td>\n",
       "      <td>2017-18</td>\n",
       "      <td>7,558</td>\n",
       "      <td>52,448</td>\n",
       "      <td>42</td>\n",
       "    </tr>\n",
       "    <tr>\n",
       "      <th>2</th>\n",
       "      <td>201011001</td>\n",
       "      <td>Alfredton</td>\n",
       "      <td>2018-19</td>\n",
       "      <td>7,987</td>\n",
       "      <td>53,932</td>\n",
       "      <td>42</td>\n",
       "    </tr>\n",
       "    <tr>\n",
       "      <th>3</th>\n",
       "      <td>201011001</td>\n",
       "      <td>Alfredton</td>\n",
       "      <td>2019-20</td>\n",
       "      <td>8,665</td>\n",
       "      <td>55,204</td>\n",
       "      <td>41</td>\n",
       "    </tr>\n",
       "    <tr>\n",
       "      <th>4</th>\n",
       "      <td>201011001</td>\n",
       "      <td>Alfredton</td>\n",
       "      <td>2020-21</td>\n",
       "      <td>9,438</td>\n",
       "      <td>58,036</td>\n",
       "      <td>41</td>\n",
       "    </tr>\n",
       "  </tbody>\n",
       "</table>\n",
       "</div>"
      ],
      "text/plain": [
       "    SA2 code   SA2 name     year economic: number of earners  \\\n",
       "0  201011001  Alfredton  2016-17                       7,117   \n",
       "1  201011001  Alfredton  2017-18                       7,558   \n",
       "2  201011001  Alfredton  2018-19                       7,987   \n",
       "3  201011001  Alfredton  2019-20                       8,665   \n",
       "4  201011001  Alfredton  2020-21                       9,438   \n",
       "\n",
       "  economic: median income economic: median age of earners  \n",
       "0                  50,596                              42  \n",
       "1                  52,448                              42  \n",
       "2                  53,932                              42  \n",
       "3                  55,204                              41  \n",
       "4                  58,036                              41  "
      ]
     },
     "execution_count": 105,
     "metadata": {},
     "output_type": "execute_result"
    }
   ],
   "source": [
    "# filter and rename\n",
    "NEW_NAMES = {\n",
    "    3: \"year\",\n",
    "    4: \"economic: number of earners\",\n",
    "    6: \"economic: median income\", \n",
    "    7: \"economic: median age of earners\"\n",
    "}\n",
    "KEEP_COLUMNS = [1, 2, 3, 4, 6, 7]\n",
    "\n",
    "income_region = rename_dict(income_region, NEW_NAMES, KEEP_COLUMNS)\n",
    "print(income_region.shape[0])\n",
    "income_region.head(5)"
   ]
  },
  {
   "cell_type": "code",
   "execution_count": 106,
   "metadata": {},
   "outputs": [
    {
     "name": "stdout",
     "output_type": "stream",
     "text": [
      "2602\n"
     ]
    },
    {
     "data": {
      "text/html": [
       "<div>\n",
       "<style scoped>\n",
       "    .dataframe tbody tr th:only-of-type {\n",
       "        vertical-align: middle;\n",
       "    }\n",
       "\n",
       "    .dataframe tbody tr th {\n",
       "        vertical-align: top;\n",
       "    }\n",
       "\n",
       "    .dataframe thead th {\n",
       "        text-align: right;\n",
       "    }\n",
       "</style>\n",
       "<table border=\"1\" class=\"dataframe\">\n",
       "  <thead>\n",
       "    <tr style=\"text-align: right;\">\n",
       "      <th></th>\n",
       "      <th>SA2 code</th>\n",
       "      <th>SA2 name</th>\n",
       "      <th>year</th>\n",
       "      <th>economic: number of earners</th>\n",
       "      <th>economic: median income</th>\n",
       "      <th>economic: median age of earners</th>\n",
       "    </tr>\n",
       "  </thead>\n",
       "  <tbody>\n",
       "    <tr>\n",
       "      <th>0</th>\n",
       "      <td>201011001</td>\n",
       "      <td>Alfredton</td>\n",
       "      <td>2016</td>\n",
       "      <td>7117</td>\n",
       "      <td>50596</td>\n",
       "      <td>42</td>\n",
       "    </tr>\n",
       "    <tr>\n",
       "      <th>1</th>\n",
       "      <td>201011001</td>\n",
       "      <td>Alfredton</td>\n",
       "      <td>2017</td>\n",
       "      <td>7558</td>\n",
       "      <td>52448</td>\n",
       "      <td>42</td>\n",
       "    </tr>\n",
       "    <tr>\n",
       "      <th>2</th>\n",
       "      <td>201011001</td>\n",
       "      <td>Alfredton</td>\n",
       "      <td>2018</td>\n",
       "      <td>7987</td>\n",
       "      <td>53932</td>\n",
       "      <td>42</td>\n",
       "    </tr>\n",
       "    <tr>\n",
       "      <th>3</th>\n",
       "      <td>201011001</td>\n",
       "      <td>Alfredton</td>\n",
       "      <td>2019</td>\n",
       "      <td>8665</td>\n",
       "      <td>55204</td>\n",
       "      <td>41</td>\n",
       "    </tr>\n",
       "    <tr>\n",
       "      <th>4</th>\n",
       "      <td>201011001</td>\n",
       "      <td>Alfredton</td>\n",
       "      <td>2020</td>\n",
       "      <td>9438</td>\n",
       "      <td>58036</td>\n",
       "      <td>41</td>\n",
       "    </tr>\n",
       "  </tbody>\n",
       "</table>\n",
       "</div>"
      ],
      "text/plain": [
       "    SA2 code   SA2 name  year  economic: number of earners  \\\n",
       "0  201011001  Alfredton  2016                         7117   \n",
       "1  201011001  Alfredton  2017                         7558   \n",
       "2  201011001  Alfredton  2018                         7987   \n",
       "3  201011001  Alfredton  2019                         8665   \n",
       "4  201011001  Alfredton  2020                         9438   \n",
       "\n",
       "   economic: median income  economic: median age of earners  \n",
       "0                    50596                               42  \n",
       "1                    52448                               42  \n",
       "2                    53932                               42  \n",
       "3                    55204                               41  \n",
       "4                    58036                               41  "
      ]
     },
     "execution_count": 106,
     "metadata": {},
     "output_type": "execute_result"
    }
   ],
   "source": [
    "import numpy as np\n",
    "\n",
    "MEASURE_COLUMNS = income_region.columns[3:]\n",
    "\n",
    "# drop any na values in measure columns\n",
    "income_region = income_region.replace(\"np\", np.nan)\n",
    "income_region = income_region.dropna(subset=MEASURE_COLUMNS, how=\"any\")\n",
    "income_region.shape[0]\n",
    "\n",
    "# convert to first year\n",
    "income_region[\"year\"] = income_region[\"year\"].apply(lambda x: x[:4]).astype(int)\n",
    "\n",
    "# get numeric columns\n",
    "for measure_column in MEASURE_COLUMNS:\n",
    "    income_region[measure_column] = pd.to_numeric(income_region[measure_column].str.replace(',', ''))\n",
    "\n",
    "print(income_region.shape[0])\n",
    "income_region.head(5)"
   ]
  },
  {
   "cell_type": "code",
   "execution_count": 107,
   "metadata": {},
   "outputs": [
    {
     "data": {
      "text/plain": [
       "2595"
      ]
     },
     "execution_count": 107,
     "metadata": {},
     "output_type": "execute_result"
    }
   ],
   "source": [
    "# REMOVE SA2 regions without all the years\n",
    "\n",
    "# get the regions with 5 counts\n",
    "SA2_year_counts = income_region.groupby([\"SA2 code\"])[\"year\"].count()\n",
    "SA2_regions = SA2_year_counts[SA2_year_counts == 5].index\n",
    "\n",
    "# remove anything doesn't have these from the final_df\n",
    "income_region = income_region[income_region[\"SA2 code\"].isin(SA2_regions)]\n",
    "income_region.shape[0]"
   ]
  },
  {
   "cell_type": "code",
   "execution_count": 108,
   "metadata": {},
   "outputs": [
    {
     "data": {
      "text/html": [
       "<div>\n",
       "<style scoped>\n",
       "    .dataframe tbody tr th:only-of-type {\n",
       "        vertical-align: middle;\n",
       "    }\n",
       "\n",
       "    .dataframe tbody tr th {\n",
       "        vertical-align: top;\n",
       "    }\n",
       "\n",
       "    .dataframe thead th {\n",
       "        text-align: right;\n",
       "    }\n",
       "</style>\n",
       "<table border=\"1\" class=\"dataframe\">\n",
       "  <thead>\n",
       "    <tr style=\"text-align: right;\">\n",
       "      <th></th>\n",
       "      <th>SA2 code</th>\n",
       "      <th>SA2 name</th>\n",
       "      <th>year</th>\n",
       "      <th>economic: number of earners</th>\n",
       "      <th>economic: median income</th>\n",
       "      <th>economic: median age of earners</th>\n",
       "    </tr>\n",
       "  </thead>\n",
       "  <tbody>\n",
       "    <tr>\n",
       "      <th>0</th>\n",
       "      <td>201011001</td>\n",
       "      <td>Alfredton</td>\n",
       "      <td>2016</td>\n",
       "      <td>7337.5</td>\n",
       "      <td>51522.0</td>\n",
       "      <td>42.0</td>\n",
       "    </tr>\n",
       "    <tr>\n",
       "      <th>1</th>\n",
       "      <td>201011001</td>\n",
       "      <td>Alfredton</td>\n",
       "      <td>2017</td>\n",
       "      <td>7772.5</td>\n",
       "      <td>53190.0</td>\n",
       "      <td>42.0</td>\n",
       "    </tr>\n",
       "    <tr>\n",
       "      <th>2</th>\n",
       "      <td>201011001</td>\n",
       "      <td>Alfredton</td>\n",
       "      <td>2018</td>\n",
       "      <td>8326.0</td>\n",
       "      <td>54568.0</td>\n",
       "      <td>41.5</td>\n",
       "    </tr>\n",
       "    <tr>\n",
       "      <th>3</th>\n",
       "      <td>201011001</td>\n",
       "      <td>Alfredton</td>\n",
       "      <td>2019</td>\n",
       "      <td>9051.5</td>\n",
       "      <td>56620.0</td>\n",
       "      <td>41.0</td>\n",
       "    </tr>\n",
       "    <tr>\n",
       "      <th>4</th>\n",
       "      <td>201011001</td>\n",
       "      <td>Alfredton</td>\n",
       "      <td>2020</td>\n",
       "      <td>9438.0</td>\n",
       "      <td>58036.0</td>\n",
       "      <td>41.0</td>\n",
       "    </tr>\n",
       "  </tbody>\n",
       "</table>\n",
       "</div>"
      ],
      "text/plain": [
       "    SA2 code   SA2 name  year  economic: number of earners  \\\n",
       "0  201011001  Alfredton  2016                       7337.5   \n",
       "1  201011001  Alfredton  2017                       7772.5   \n",
       "2  201011001  Alfredton  2018                       8326.0   \n",
       "3  201011001  Alfredton  2019                       9051.5   \n",
       "4  201011001  Alfredton  2020                       9438.0   \n",
       "\n",
       "   economic: median income  economic: median age of earners  \n",
       "0                  51522.0                             42.0  \n",
       "1                  53190.0                             42.0  \n",
       "2                  54568.0                             41.5  \n",
       "3                  56620.0                             41.0  \n",
       "4                  58036.0                             41.0  "
      ]
     },
     "execution_count": 108,
     "metadata": {},
     "output_type": "execute_result"
    }
   ],
   "source": [
    "START_YEAR = 2016\n",
    "END_YEAR = 2021\n",
    "\n",
    "for curr_year in range(START_YEAR, END_YEAR):\n",
    "    # get the years\n",
    "    curr_year_df = income_region[(income_region[\"year\"] == curr_year)]\n",
    "    both_years_df = income_region[(income_region[\"year\"] == curr_year) | (income_region[\"year\"] == curr_year + 1)]\n",
    "\n",
    "    # average using the next\n",
    "    avg_year_df = both_years_df[[\"SA2 code\"] + list(MEASURE_COLUMNS)].groupby(\"SA2 code\").mean()\n",
    "\n",
    "    # only concerned about SA2 regions of current year\n",
    "    avg_year_df = avg_year_df.loc[curr_year_df[\"SA2 code\"].unique()]\n",
    "\n",
    "    # get the indices of the original year\n",
    "    avg_year_df.index = curr_year_df.index\n",
    "\n",
    "    # assign the new chunk\n",
    "    income_region.loc[curr_year_df.index, MEASURE_COLUMNS] = avg_year_df\n",
    "\n",
    "income_region.head(5)\n"
   ]
  },
  {
   "cell_type": "markdown",
   "metadata": {},
   "source": [
    "### Distribution"
   ]
  },
  {
   "cell_type": "code",
   "execution_count": 110,
   "metadata": {},
   "outputs": [
    {
     "name": "stdout",
     "output_type": "stream",
     "text": [
      "SA2 code                   object\n",
      "Gini coefficient           object\n",
      "economic: top 1% suburb    object\n",
      "economic: top 5% suburb    object\n",
      "dtype: object\n"
     ]
    },
    {
     "data": {
      "text/html": [
       "<div>\n",
       "<style scoped>\n",
       "    .dataframe tbody tr th:only-of-type {\n",
       "        vertical-align: middle;\n",
       "    }\n",
       "\n",
       "    .dataframe tbody tr th {\n",
       "        vertical-align: top;\n",
       "    }\n",
       "\n",
       "    .dataframe thead th {\n",
       "        text-align: right;\n",
       "    }\n",
       "</style>\n",
       "<table border=\"1\" class=\"dataframe\">\n",
       "  <thead>\n",
       "    <tr style=\"text-align: right;\">\n",
       "      <th></th>\n",
       "      <th>SA2 code</th>\n",
       "      <th>Gini coefficient</th>\n",
       "      <th>economic: top 1% suburb</th>\n",
       "      <th>economic: top 5% suburb</th>\n",
       "    </tr>\n",
       "  </thead>\n",
       "  <tbody>\n",
       "    <tr>\n",
       "      <th>1</th>\n",
       "      <td>Australia</td>\n",
       "      <td>0.483</td>\n",
       "      <td>9.8</td>\n",
       "      <td>22.5</td>\n",
       "    </tr>\n",
       "    <tr>\n",
       "      <th>2</th>\n",
       "      <td>New South Wales</td>\n",
       "      <td>0.497</td>\n",
       "      <td>11.2</td>\n",
       "      <td>24.3</td>\n",
       "    </tr>\n",
       "    <tr>\n",
       "      <th>3</th>\n",
       "      <td>101021007</td>\n",
       "      <td>0.615</td>\n",
       "      <td>21.2</td>\n",
       "      <td>32.6</td>\n",
       "    </tr>\n",
       "    <tr>\n",
       "      <th>4</th>\n",
       "      <td>101021008</td>\n",
       "      <td>0.365</td>\n",
       "      <td>4.4</td>\n",
       "      <td>14.5</td>\n",
       "    </tr>\n",
       "    <tr>\n",
       "      <th>5</th>\n",
       "      <td>101021009</td>\n",
       "      <td>0.368</td>\n",
       "      <td>4.6</td>\n",
       "      <td>14.7</td>\n",
       "    </tr>\n",
       "  </tbody>\n",
       "</table>\n",
       "</div>"
      ],
      "text/plain": [
       "          SA2 code Gini coefficient economic: top 1% suburb  \\\n",
       "1        Australia            0.483                     9.8   \n",
       "2  New South Wales            0.497                    11.2   \n",
       "3        101021007            0.615                    21.2   \n",
       "4        101021008            0.365                     4.4   \n",
       "5        101021009            0.368                     4.6   \n",
       "\n",
       "  economic: top 5% suburb  \n",
       "1                    22.5  \n",
       "2                    24.3  \n",
       "3                    32.6  \n",
       "4                    14.5  \n",
       "5                    14.7  "
      ]
     },
     "execution_count": 110,
     "metadata": {},
     "output_type": "execute_result"
    }
   ],
   "source": [
    "# get the economic distribtuion\n",
    "economic_distribution = pd.read_csv(\"./data/landing/economic_by_region/income_distribution_by_geography_2021.csv\", header=0)\n",
    "economic_distribution = economic_distribution.drop(0)\n",
    "economic_distribution.head(5)\n",
    "\n",
    "# rename and filter\n",
    "NEW_NAMES = {\n",
    "    1: \"SA2 code\", \n",
    "    13: \"economic: top 1% suburb\",\n",
    "    14: \"economic: top 5% suburb\"\n",
    "}\n",
    "KEEP_COLUMNS = [1, 12, 13, 14]\n",
    "economic_distribution = rename_dict(economic_distribution, NEW_NAMES, KEEP_COLUMNS)\n",
    "\n",
    "print(economic_distribution.dtypes)\n",
    "economic_distribution.head()"
   ]
  },
  {
   "cell_type": "code",
   "execution_count": 115,
   "metadata": {},
   "outputs": [
    {
     "data": {
      "text/plain": [
       "0"
      ]
     },
     "execution_count": 115,
     "metadata": {},
     "output_type": "execute_result"
    }
   ],
   "source": [
    "# check no Nan values\n",
    "economic_distribution.isna().any(axis=1).sum()"
   ]
  },
  {
   "cell_type": "markdown",
   "metadata": {},
   "source": [
    "### Economic"
   ]
  },
  {
   "cell_type": "markdown",
   "metadata": {},
   "source": [
    "#### Inflation"
   ]
  },
  {
   "cell_type": "markdown",
   "metadata": {},
   "source": [
    "- As this is annual change, will use december of the previous year to be the inflation change for the future year\n",
    "- In the end, the metric will track the inflation from the previous year"
   ]
  },
  {
   "cell_type": "code",
   "execution_count": 36,
   "metadata": {},
   "outputs": [
    {
     "name": "stdout",
     "output_type": "stream",
     "text": [
      "Trimmed mean (%)      float64\n",
      "year                   object\n",
      "All groups CPI (%)    float64\n",
      "dtype: object\n"
     ]
    },
    {
     "data": {
      "text/html": [
       "<div>\n",
       "<style scoped>\n",
       "    .dataframe tbody tr th:only-of-type {\n",
       "        vertical-align: middle;\n",
       "    }\n",
       "\n",
       "    .dataframe tbody tr th {\n",
       "        vertical-align: top;\n",
       "    }\n",
       "\n",
       "    .dataframe thead th {\n",
       "        text-align: right;\n",
       "    }\n",
       "</style>\n",
       "<table border=\"1\" class=\"dataframe\">\n",
       "  <thead>\n",
       "    <tr style=\"text-align: right;\">\n",
       "      <th></th>\n",
       "      <th>Trimmed mean (%)</th>\n",
       "      <th>year</th>\n",
       "      <th>All groups CPI (%)</th>\n",
       "    </tr>\n",
       "  </thead>\n",
       "  <tbody>\n",
       "    <tr>\n",
       "      <th>0</th>\n",
       "      <td>2.8</td>\n",
       "      <td>Jun-14</td>\n",
       "      <td>3.0</td>\n",
       "    </tr>\n",
       "    <tr>\n",
       "      <th>1</th>\n",
       "      <td>2.4</td>\n",
       "      <td>Sep-14</td>\n",
       "      <td>2.3</td>\n",
       "    </tr>\n",
       "    <tr>\n",
       "      <th>2</th>\n",
       "      <td>2.2</td>\n",
       "      <td>Dec-14</td>\n",
       "      <td>1.7</td>\n",
       "    </tr>\n",
       "  </tbody>\n",
       "</table>\n",
       "</div>"
      ],
      "text/plain": [
       "   Trimmed mean (%)    year  All groups CPI (%)\n",
       "0               2.8  Jun-14                 3.0\n",
       "1               2.4  Sep-14                 2.3\n",
       "2               2.2  Dec-14                 1.7"
      ]
     },
     "execution_count": 36,
     "metadata": {},
     "output_type": "execute_result"
    }
   ],
   "source": [
    "# donwload inflation\n",
    "inflation = pd.read_csv(\"./data/landing/economic/inflation.csv\")\n",
    "\n",
    "# rename the columns\n",
    "NEW_NAMES = {1: \"year\"}\n",
    "KEEP_COLUMNS = list(range(3))\n",
    "inflation = rename_dict(inflation, NEW_NAMES, KEEP_COLUMNS)\n",
    "\n",
    "print(inflation.dtypes)\n",
    "inflation.head(3)"
   ]
  },
  {
   "cell_type": "code",
   "execution_count": 37,
   "metadata": {},
   "outputs": [
    {
     "data": {
      "text/html": [
       "<div>\n",
       "<style scoped>\n",
       "    .dataframe tbody tr th:only-of-type {\n",
       "        vertical-align: middle;\n",
       "    }\n",
       "\n",
       "    .dataframe tbody tr th {\n",
       "        vertical-align: top;\n",
       "    }\n",
       "\n",
       "    .dataframe thead th {\n",
       "        text-align: right;\n",
       "    }\n",
       "</style>\n",
       "<table border=\"1\" class=\"dataframe\">\n",
       "  <thead>\n",
       "    <tr style=\"text-align: right;\">\n",
       "      <th></th>\n",
       "      <th>Trimmed mean (%)</th>\n",
       "      <th>year</th>\n",
       "      <th>All groups CPI (%)</th>\n",
       "    </tr>\n",
       "  </thead>\n",
       "  <tbody>\n",
       "    <tr>\n",
       "      <th>2</th>\n",
       "      <td>2.2</td>\n",
       "      <td>2015</td>\n",
       "      <td>1.7</td>\n",
       "    </tr>\n",
       "    <tr>\n",
       "      <th>6</th>\n",
       "      <td>2.1</td>\n",
       "      <td>2016</td>\n",
       "      <td>1.7</td>\n",
       "    </tr>\n",
       "    <tr>\n",
       "      <th>10</th>\n",
       "      <td>1.5</td>\n",
       "      <td>2017</td>\n",
       "      <td>1.5</td>\n",
       "    </tr>\n",
       "    <tr>\n",
       "      <th>14</th>\n",
       "      <td>1.7</td>\n",
       "      <td>2018</td>\n",
       "      <td>1.9</td>\n",
       "    </tr>\n",
       "    <tr>\n",
       "      <th>18</th>\n",
       "      <td>1.8</td>\n",
       "      <td>2019</td>\n",
       "      <td>1.8</td>\n",
       "    </tr>\n",
       "    <tr>\n",
       "      <th>22</th>\n",
       "      <td>1.5</td>\n",
       "      <td>2020</td>\n",
       "      <td>1.8</td>\n",
       "    </tr>\n",
       "    <tr>\n",
       "      <th>26</th>\n",
       "      <td>1.2</td>\n",
       "      <td>2021</td>\n",
       "      <td>0.9</td>\n",
       "    </tr>\n",
       "    <tr>\n",
       "      <th>30</th>\n",
       "      <td>2.6</td>\n",
       "      <td>2022</td>\n",
       "      <td>3.5</td>\n",
       "    </tr>\n",
       "    <tr>\n",
       "      <th>34</th>\n",
       "      <td>6.8</td>\n",
       "      <td>2023</td>\n",
       "      <td>7.8</td>\n",
       "    </tr>\n",
       "    <tr>\n",
       "      <th>38</th>\n",
       "      <td>4.1</td>\n",
       "      <td>2024</td>\n",
       "      <td>4.1</td>\n",
       "    </tr>\n",
       "  </tbody>\n",
       "</table>\n",
       "</div>"
      ],
      "text/plain": [
       "    Trimmed mean (%)  year  All groups CPI (%)\n",
       "2                2.2  2015                 1.7\n",
       "6                2.1  2016                 1.7\n",
       "10               1.5  2017                 1.5\n",
       "14               1.7  2018                 1.9\n",
       "18               1.8  2019                 1.8\n",
       "22               1.5  2020                 1.8\n",
       "26               1.2  2021                 0.9\n",
       "30               2.6  2022                 3.5\n",
       "34               6.8  2023                 7.8\n",
       "38               4.1  2024                 4.1"
      ]
     },
     "execution_count": 37,
     "metadata": {},
     "output_type": "execute_result"
    }
   ],
   "source": [
    "# filter for the december data\n",
    "inflation = inflation[inflation[\"year\"].str.contains(\"Dec\")]\n",
    "\n",
    "# get the year in the right format\n",
    "inflation[\"year\"] = inflation[\"year\"].apply(lambda x: \"20\" + x[-2:])\n",
    "\n",
    "# make sure an integer\n",
    "inflation[\"year\"] = pd.to_numeric(inflation[\"year\"])\n",
    "\n",
    "# Note: increasing the year here to ensure it tracks the change from the previous year\n",
    "inflation[\"year\"] = inflation[\"year\"] + 1\n",
    "\n",
    "inflation"
   ]
  },
  {
   "cell_type": "markdown",
   "metadata": {},
   "source": [
    "#### Interest rates"
   ]
  },
  {
   "cell_type": "markdown",
   "metadata": {},
   "source": [
    "Have decided only to take the variable interest rate for standard owners (as this is most reflective of normal people)"
   ]
  },
  {
   "cell_type": "code",
   "execution_count": 84,
   "metadata": {},
   "outputs": [
    {
     "name": "stdout",
     "output_type": "stream",
     "text": [
      "year                                 object\n",
      "economic: variable interest rate    float64\n",
      "dtype: object\n"
     ]
    },
    {
     "data": {
      "text/html": [
       "<div>\n",
       "<style scoped>\n",
       "    .dataframe tbody tr th:only-of-type {\n",
       "        vertical-align: middle;\n",
       "    }\n",
       "\n",
       "    .dataframe tbody tr th {\n",
       "        vertical-align: top;\n",
       "    }\n",
       "\n",
       "    .dataframe thead th {\n",
       "        text-align: right;\n",
       "    }\n",
       "</style>\n",
       "<table border=\"1\" class=\"dataframe\">\n",
       "  <thead>\n",
       "    <tr style=\"text-align: right;\">\n",
       "      <th></th>\n",
       "      <th>year</th>\n",
       "      <th>economic: variable interest rate</th>\n",
       "    </tr>\n",
       "  </thead>\n",
       "  <tbody>\n",
       "    <tr>\n",
       "      <th>783</th>\n",
       "      <td>2024-04-30</td>\n",
       "      <td>8.77</td>\n",
       "    </tr>\n",
       "    <tr>\n",
       "      <th>784</th>\n",
       "      <td>2024-05-31</td>\n",
       "      <td>8.77</td>\n",
       "    </tr>\n",
       "    <tr>\n",
       "      <th>785</th>\n",
       "      <td>2024-06-30</td>\n",
       "      <td>8.77</td>\n",
       "    </tr>\n",
       "    <tr>\n",
       "      <th>786</th>\n",
       "      <td>2024-07-31</td>\n",
       "      <td>8.77</td>\n",
       "    </tr>\n",
       "    <tr>\n",
       "      <th>787</th>\n",
       "      <td>2024-08-31</td>\n",
       "      <td>8.77</td>\n",
       "    </tr>\n",
       "  </tbody>\n",
       "</table>\n",
       "</div>"
      ],
      "text/plain": [
       "           year  economic: variable interest rate\n",
       "783  2024-04-30                              8.77\n",
       "784  2024-05-31                              8.77\n",
       "785  2024-06-30                              8.77\n",
       "786  2024-07-31                              8.77\n",
       "787  2024-08-31                              8.77"
      ]
     },
     "execution_count": 84,
     "metadata": {},
     "output_type": "execute_result"
    }
   ],
   "source": [
    "# download the lending data\n",
    "lending = pd.read_csv(\"data/landing/economic/lending.csv\")\n",
    "\n",
    "# rename the columns\n",
    "NEW_NAMES = {1: \"year\", 4: \"economic: variable interest rate\"}\n",
    "KEEP_COLUMNS = [1, 4]\n",
    "lending = rename_dict(lending, NEW_NAMES, KEEP_COLUMNS)\n",
    "\n",
    "print(lending.dtypes)\n",
    "lending.tail(5)"
   ]
  },
  {
   "cell_type": "markdown",
   "metadata": {},
   "source": [
    "Basically want to take the average of all the records for each year"
   ]
  },
  {
   "cell_type": "code",
   "execution_count": 85,
   "metadata": {},
   "outputs": [
    {
     "data": {
      "text/html": [
       "<div>\n",
       "<style scoped>\n",
       "    .dataframe tbody tr th:only-of-type {\n",
       "        vertical-align: middle;\n",
       "    }\n",
       "\n",
       "    .dataframe tbody tr th {\n",
       "        vertical-align: top;\n",
       "    }\n",
       "\n",
       "    .dataframe thead th {\n",
       "        text-align: right;\n",
       "    }\n",
       "</style>\n",
       "<table border=\"1\" class=\"dataframe\">\n",
       "  <thead>\n",
       "    <tr style=\"text-align: right;\">\n",
       "      <th></th>\n",
       "      <th>year</th>\n",
       "      <th>economic: variable interest rate</th>\n",
       "    </tr>\n",
       "    <tr>\n",
       "      <th>year</th>\n",
       "      <th></th>\n",
       "      <th></th>\n",
       "    </tr>\n",
       "  </thead>\n",
       "  <tbody>\n",
       "    <tr>\n",
       "      <th>2020</th>\n",
       "      <td>2020.0</td>\n",
       "      <td>4.566667</td>\n",
       "    </tr>\n",
       "    <tr>\n",
       "      <th>2021</th>\n",
       "      <td>2021.0</td>\n",
       "      <td>4.520000</td>\n",
       "    </tr>\n",
       "    <tr>\n",
       "      <th>2022</th>\n",
       "      <td>2022.0</td>\n",
       "      <td>5.728333</td>\n",
       "    </tr>\n",
       "    <tr>\n",
       "      <th>2023</th>\n",
       "      <td>2023.0</td>\n",
       "      <td>8.311667</td>\n",
       "    </tr>\n",
       "    <tr>\n",
       "      <th>2024</th>\n",
       "      <td>2024.0</td>\n",
       "      <td>8.770000</td>\n",
       "    </tr>\n",
       "  </tbody>\n",
       "</table>\n",
       "</div>"
      ],
      "text/plain": [
       "        year  economic: variable interest rate\n",
       "year                                          \n",
       "2020  2020.0                          4.566667\n",
       "2021  2021.0                          4.520000\n",
       "2022  2022.0                          5.728333\n",
       "2023  2023.0                          8.311667\n",
       "2024  2024.0                          8.770000"
      ]
     },
     "execution_count": 85,
     "metadata": {},
     "output_type": "execute_result"
    }
   ],
   "source": [
    "# get the year as an integer for each record\n",
    "lending[\"year\"] = lending[\"year\"].apply(lambda x: int(x[:4]))\n",
    "\n",
    "# remove records before 2000\n",
    "lending = lending[lending[\"year\"] >= 2000]\n",
    "\n",
    "# take the average for each year\n",
    "lending = lending.groupby(\"year\").apply(lambda x: x.mean())\n",
    "lending.tail(5)"
   ]
  },
  {
   "cell_type": "markdown",
   "metadata": {},
   "source": [
    "## Housing"
   ]
  },
  {
   "cell_type": "code",
   "execution_count": null,
   "metadata": {},
   "outputs": [],
   "source": []
  }
 ],
 "metadata": {
  "kernelspec": {
   "display_name": "Python 3 (ipykernel)",
   "language": "python",
   "name": "python3"
  }
 },
 "nbformat": 4,
 "nbformat_minor": 2
}
