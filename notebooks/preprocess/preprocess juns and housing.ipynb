{
 "cells": [
  {
   "cell_type": "code",
   "execution_count": 33,
   "metadata": {},
   "outputs": [],
   "source": [
    "import pandas as pd\n",
    "import os"
   ]
  },
  {
   "cell_type": "code",
   "execution_count": 34,
   "metadata": {},
   "outputs": [],
   "source": [
    "os.chdir('/home/malachy/ADS (2024)/project-2-group-real-estate-industry-project-11/notebooks')"
   ]
  },
  {
   "cell_type": "markdown",
   "metadata": {},
   "source": [
    "## Functions"
   ]
  },
  {
   "cell_type": "markdown",
   "metadata": {},
   "source": [
    "### Preparing suburb name"
   ]
  },
  {
   "cell_type": "code",
   "execution_count": 46,
   "metadata": {},
   "outputs": [],
   "source": [
    "import numpy as np\n",
    "\n",
    "DIRECTIONS = [\"north\", \"south\", \"west\", \"east\"]\n",
    "\n",
    "\"\"\"`df` should have unique indicies and\"\"\"\n",
    "def suburb_name_split(df):\n",
    "    indicies = list(df.index)\n",
    "    final_indicies = []\n",
    "    repeated_indicies = []\n",
    "    counter = 0\n",
    "\n",
    "    print(len(indicies))\n",
    "\n",
    "    # for each index, gather how many indicies to repeat and the final product\n",
    "    for index in indicies:\n",
    "        # remove (.vic) if present\n",
    "        clean_index = index.replace(\"(Vic.)\", \"\")\n",
    "\n",
    "        # replace the brackets around \"west\"\n",
    "        clean_index = clean_index.replace(\"(\", \"\").replace(\")\", \"\")\n",
    "\n",
    "        # make sure lower case, no confusion\n",
    "        clean_index = clean_index.lower()\n",
    "\n",
    "        # nothing fancy\n",
    "        if (not \"-\" in clean_index):\n",
    "            final_indicies.append(clean_index)\n",
    "            repeated_indicies.append(index)\n",
    "            continue\n",
    "        \n",
    "        counter += 1\n",
    "\n",
    "        # need to split\n",
    "        index_split = clean_index.split(\" - \")\n",
    "\n",
    "        if (len(index_split) != 2):\n",
    "            print(\"length of index split is not 2?\")\n",
    "            exit()\n",
    "        \n",
    "        # if only one direction, reintroduce without the weird thing\n",
    "        if (index_split[1].lower() in DIRECTIONS):\n",
    "            final_indicies.append(\" \".join(index_split))\n",
    "            repeated_indicies.append(index)\n",
    "        \n",
    "        # else will need to strip everything\n",
    "        else:\n",
    "            final_indicies.extend(index_split)\n",
    "            repeated_indicies.extend(np.repeat(index, 2))\n",
    "    \n",
    "    print(counter / len(indicies))\n",
    "\n",
    "    # duplicate\n",
    "    df = df.loc[repeated_indicies]\n",
    "\n",
    "    print(df.shape)\n",
    "    print(len(final_indicies))\n",
    "\n",
    "    # change the names accordingly\n",
    "    df.index = final_indicies\n",
    "    \n",
    "    return df\n"
   ]
  },
  {
   "cell_type": "markdown",
   "metadata": {},
   "source": [
    "### Column and imputation"
   ]
  },
  {
   "cell_type": "code",
   "execution_count": 36,
   "metadata": {},
   "outputs": [],
   "source": [
    "def impute_previous(columns, na):\n",
    "    flat_column_list = [[group[i] for group in columns] for i in range(len(columns[0]))]\n",
    "\n",
    "    column_dataframe = pd.DataFrame(flat_column_list)\n",
    "\n",
    "    column_dataframe = column_dataframe.applymap(lambda x: None if (not x) or (na in str(x)) else x)\n",
    "\n",
    "    column_dataframe = column_dataframe.T.ffill().T\n",
    "\n",
    "    flat_column_list = column_dataframe.to_numpy()\n",
    "\n",
    "    return flat_column_list"
   ]
  },
  {
   "cell_type": "code",
   "execution_count": 37,
   "metadata": {},
   "outputs": [],
   "source": [
    "def fill_columns(df, column_dict, na=\"Unnamed\"):\n",
    "    columns = list(df.columns)\n",
    "\n",
    "    for index, new_column in column_dict.items():\n",
    "        columns[index] = new_column\n",
    "\n",
    "    if (type(df.columns) == pd.MultiIndex):\n",
    "        flat_column_list = impute_previous(columns, na)\n",
    "\n",
    "        df.columns = pd.MultiIndex.from_arrays(flat_column_list)\n",
    "    \n",
    "    else:\n",
    "        df.columns = columns\n",
    "\n",
    "    return df"
   ]
  },
  {
   "cell_type": "markdown",
   "metadata": {},
   "source": [
    "## Economic by Region"
   ]
  },
  {
   "cell_type": "code",
   "execution_count": 38,
   "metadata": {},
   "outputs": [],
   "source": [
    "def filter_victoria(df, column_name):\n",
    "    region_mask = ~df[column_name].str.isnumeric()\n",
    "\n",
    "    # get the region indexes and names\n",
    "    regions_index, regions_names = list(df[region_mask].index), list(df[region_mask][column_name].values)\n",
    "\n",
    "    # find the index for victoria in the list\n",
    "    index_victoria = regions_names.index(\"Victoria\")\n",
    "\n",
    "    # reference the mask between victoria and the next index\n",
    "    df = df.loc[regions_index[index_victoria] + 1: regions_index[index_victoria + 1] - 1]\n",
    "\n",
    "    return df"
   ]
  },
  {
   "cell_type": "markdown",
   "metadata": {},
   "source": [
    "### Geography summary"
   ]
  },
  {
   "cell_type": "code",
   "execution_count": 39,
   "metadata": {},
   "outputs": [],
   "source": [
    "COLUMNS_DICT_INCOME_GEOGRAPHY = {\n",
    "    0: (\"SA2 code\",None),\n",
    "    1: (\"SA2 name\",None)\n",
    "}"
   ]
  },
  {
   "cell_type": "code",
   "execution_count": 40,
   "metadata": {},
   "outputs": [],
   "source": [
    "df = pd.read_csv(\"../data/landing/economic_by_region/income_by_geography_b2022.csv\", header=[0, 1])\n",
    "\n",
    "df = fill_columns(df, COLUMNS_DICT_INCOME_GEOGRAPHY)\n",
    "\n",
    "df = filter_victoria(df, (\"SA2 code\", None))"
   ]
  },
  {
   "cell_type": "code",
   "execution_count": 41,
   "metadata": {},
   "outputs": [],
   "source": [
    "df = df.melt(id_vars=df.columns.to_list()[:2], \n",
    "             value_vars = df.columns.to_list()[2:],\n",
    "             var_name=[\"Measure\", \"Year\"],\n",
    "             value_name=\"Value\")"
   ]
  },
  {
   "cell_type": "code",
   "execution_count": 42,
   "metadata": {},
   "outputs": [
    {
     "data": {
      "text/html": [
       "<div>\n",
       "<style scoped>\n",
       "    .dataframe tbody tr th:only-of-type {\n",
       "        vertical-align: middle;\n",
       "    }\n",
       "\n",
       "    .dataframe tbody tr th {\n",
       "        vertical-align: top;\n",
       "    }\n",
       "\n",
       "    .dataframe thead th {\n",
       "        text-align: right;\n",
       "    }\n",
       "</style>\n",
       "<table border=\"1\" class=\"dataframe\">\n",
       "  <thead>\n",
       "    <tr style=\"text-align: right;\">\n",
       "      <th></th>\n",
       "      <th>SA2 code</th>\n",
       "      <th>Year</th>\n",
       "      <th>Earners (persons)</th>\n",
       "      <th>Mean ($)</th>\n",
       "      <th>Median ($)</th>\n",
       "      <th>Median age of earners (years)</th>\n",
       "      <th>Sum ($)</th>\n",
       "    </tr>\n",
       "    <tr>\n",
       "      <th>SA2 name</th>\n",
       "      <th></th>\n",
       "      <th></th>\n",
       "      <th></th>\n",
       "      <th></th>\n",
       "      <th></th>\n",
       "      <th></th>\n",
       "      <th></th>\n",
       "    </tr>\n",
       "  </thead>\n",
       "  <tbody>\n",
       "    <tr>\n",
       "      <th>Alfredton</th>\n",
       "      <td>201011001</td>\n",
       "      <td>2016-17</td>\n",
       "      <td>7,117</td>\n",
       "      <td>60,937</td>\n",
       "      <td>50,596</td>\n",
       "      <td>42</td>\n",
       "      <td>433,690,088</td>\n",
       "    </tr>\n",
       "    <tr>\n",
       "      <th>Alfredton</th>\n",
       "      <td>201011001</td>\n",
       "      <td>2017-18</td>\n",
       "      <td>7,558</td>\n",
       "      <td>62,343</td>\n",
       "      <td>52,448</td>\n",
       "      <td>42</td>\n",
       "      <td>471,188,331</td>\n",
       "    </tr>\n",
       "    <tr>\n",
       "      <th>Alfredton</th>\n",
       "      <td>201011001</td>\n",
       "      <td>2018-19</td>\n",
       "      <td>7,987</td>\n",
       "      <td>63,731</td>\n",
       "      <td>53,932</td>\n",
       "      <td>42</td>\n",
       "      <td>509,017,733</td>\n",
       "    </tr>\n",
       "    <tr>\n",
       "      <th>Alfredton</th>\n",
       "      <td>201011001</td>\n",
       "      <td>2019-20</td>\n",
       "      <td>8,665</td>\n",
       "      <td>65,781</td>\n",
       "      <td>55,204</td>\n",
       "      <td>41</td>\n",
       "      <td>569,994,001</td>\n",
       "    </tr>\n",
       "    <tr>\n",
       "      <th>Alfredton</th>\n",
       "      <td>201011001</td>\n",
       "      <td>2020-21</td>\n",
       "      <td>9,438</td>\n",
       "      <td>69,111</td>\n",
       "      <td>58,036</td>\n",
       "      <td>41</td>\n",
       "      <td>652,268,973</td>\n",
       "    </tr>\n",
       "    <tr>\n",
       "      <th>...</th>\n",
       "      <td>...</td>\n",
       "      <td>...</td>\n",
       "      <td>...</td>\n",
       "      <td>...</td>\n",
       "      <td>...</td>\n",
       "      <td>...</td>\n",
       "      <td>...</td>\n",
       "    </tr>\n",
       "    <tr>\n",
       "      <th>Warrnambool - South</th>\n",
       "      <td>217041480</td>\n",
       "      <td>2016-17</td>\n",
       "      <td>7,614</td>\n",
       "      <td>54,442</td>\n",
       "      <td>43,149</td>\n",
       "      <td>44</td>\n",
       "      <td>414,520,667</td>\n",
       "    </tr>\n",
       "    <tr>\n",
       "      <th>Warrnambool - South</th>\n",
       "      <td>217041480</td>\n",
       "      <td>2017-18</td>\n",
       "      <td>7,737</td>\n",
       "      <td>54,826</td>\n",
       "      <td>45,726</td>\n",
       "      <td>44</td>\n",
       "      <td>424,190,279</td>\n",
       "    </tr>\n",
       "    <tr>\n",
       "      <th>Warrnambool - South</th>\n",
       "      <td>217041480</td>\n",
       "      <td>2018-19</td>\n",
       "      <td>8,051</td>\n",
       "      <td>58,145</td>\n",
       "      <td>47,242</td>\n",
       "      <td>44</td>\n",
       "      <td>468,127,252</td>\n",
       "    </tr>\n",
       "    <tr>\n",
       "      <th>Warrnambool - South</th>\n",
       "      <td>217041480</td>\n",
       "      <td>2019-20</td>\n",
       "      <td>8,096</td>\n",
       "      <td>58,648</td>\n",
       "      <td>49,080</td>\n",
       "      <td>44</td>\n",
       "      <td>474,817,395</td>\n",
       "    </tr>\n",
       "    <tr>\n",
       "      <th>Warrnambool - South</th>\n",
       "      <td>217041480</td>\n",
       "      <td>2020-21</td>\n",
       "      <td>8,225</td>\n",
       "      <td>62,234</td>\n",
       "      <td>52,359</td>\n",
       "      <td>44</td>\n",
       "      <td>511,878,347</td>\n",
       "    </tr>\n",
       "  </tbody>\n",
       "</table>\n",
       "<p>2610 rows × 7 columns</p>\n",
       "</div>"
      ],
      "text/plain": [
       "                      SA2 code     Year Earners (persons) Mean ($) Median ($)  \\\n",
       "SA2 name                                                                        \n",
       "Alfredton            201011001  2016-17             7,117   60,937     50,596   \n",
       "Alfredton            201011001  2017-18             7,558   62,343     52,448   \n",
       "Alfredton            201011001  2018-19             7,987   63,731     53,932   \n",
       "Alfredton            201011001  2019-20             8,665   65,781     55,204   \n",
       "Alfredton            201011001  2020-21             9,438   69,111     58,036   \n",
       "...                        ...      ...               ...      ...        ...   \n",
       "Warrnambool - South  217041480  2016-17             7,614   54,442     43,149   \n",
       "Warrnambool - South  217041480  2017-18             7,737   54,826     45,726   \n",
       "Warrnambool - South  217041480  2018-19             8,051   58,145     47,242   \n",
       "Warrnambool - South  217041480  2019-20             8,096   58,648     49,080   \n",
       "Warrnambool - South  217041480  2020-21             8,225   62,234     52,359   \n",
       "\n",
       "                    Median age of earners (years)      Sum ($)  \n",
       "SA2 name                                                        \n",
       "Alfredton                                      42  433,690,088  \n",
       "Alfredton                                      42  471,188,331  \n",
       "Alfredton                                      42  509,017,733  \n",
       "Alfredton                                      41  569,994,001  \n",
       "Alfredton                                      41  652,268,973  \n",
       "...                                           ...          ...  \n",
       "Warrnambool - South                            44  414,520,667  \n",
       "Warrnambool - South                            44  424,190,279  \n",
       "Warrnambool - South                            44  468,127,252  \n",
       "Warrnambool - South                            44  474,817,395  \n",
       "Warrnambool - South                            44  511,878,347  \n",
       "\n",
       "[2610 rows x 7 columns]"
      ]
     },
     "execution_count": 42,
     "metadata": {},
     "output_type": "execute_result"
    }
   ],
   "source": [
    "new_df = df.pivot(index=list(df.columns[:2]) + [\"Year\"], columns=\"Measure\", values=\"Value\")\n",
    "new_df = new_df.reset_index()\n",
    "new_df.columns = [x[0] for x in new_df.columns[:2]] + list(new_df.columns[2:])\n",
    "new_df = new_df.set_index(\"SA2 name\")\n",
    "new_df"
   ]
  },
  {
   "cell_type": "code",
   "execution_count": 27,
   "metadata": {},
   "outputs": [
    {
     "data": {
      "text/plain": [
       "array(['Alfredton', 'Alfredton', 'Alfredton', 'Alfredton', 'Alfredton',\n",
       "       'Ballarat', 'Ballarat', 'Ballarat', 'Ballarat', 'Ballarat',\n",
       "       'Buninyong', 'Buninyong', 'Buninyong', 'Buninyong', 'Buninyong',\n",
       "       'Delacombe', 'Delacombe', 'Delacombe', 'Delacombe', 'Delacombe'],\n",
       "      dtype=object)"
      ]
     },
     "execution_count": 27,
     "metadata": {},
     "output_type": "execute_result"
    }
   ],
   "source": [
    "new_df.index.values[:20]"
   ]
  },
  {
   "cell_type": "code",
   "execution_count": 47,
   "metadata": {},
   "outputs": [
    {
     "name": "stdout",
     "output_type": "stream",
     "text": [
      "2610\n",
      "0.45977011494252873\n",
      "(16150, 7)\n",
      "3230\n"
     ]
    },
    {
     "ename": "ValueError",
     "evalue": "Length mismatch: Expected axis has 16150 elements, new values have 3230 elements",
     "output_type": "error",
     "traceback": [
      "\u001b[0;31m---------------------------------------------------------------------------\u001b[0m",
      "\u001b[0;31mValueError\u001b[0m                                Traceback (most recent call last)",
      "Input \u001b[0;32mIn [47]\u001b[0m, in \u001b[0;36m<cell line: 1>\u001b[0;34m()\u001b[0m\n\u001b[0;32m----> 1\u001b[0m new_df \u001b[38;5;241m=\u001b[39m \u001b[43msuburb_name_split\u001b[49m\u001b[43m(\u001b[49m\u001b[43mnew_df\u001b[49m\u001b[43m)\u001b[49m\n\u001b[1;32m      2\u001b[0m new_df\n",
      "Input \u001b[0;32mIn [46]\u001b[0m, in \u001b[0;36msuburb_name_split\u001b[0;34m(df)\u001b[0m\n\u001b[1;32m     56\u001b[0m \u001b[38;5;28mprint\u001b[39m(\u001b[38;5;28mlen\u001b[39m(final_indicies))\n\u001b[1;32m     58\u001b[0m \u001b[38;5;66;03m# change the names accordingly\u001b[39;00m\n\u001b[0;32m---> 59\u001b[0m df\u001b[38;5;241m.\u001b[39mindex \u001b[38;5;241m=\u001b[39m final_indicies\n\u001b[1;32m     61\u001b[0m \u001b[38;5;28;01mreturn\u001b[39;00m df\n",
      "File \u001b[0;32m~/anaconda3/lib/python3.9/site-packages/pandas/core/generic.py:5915\u001b[0m, in \u001b[0;36mNDFrame.__setattr__\u001b[0;34m(self, name, value)\u001b[0m\n\u001b[1;32m   5913\u001b[0m \u001b[38;5;28;01mtry\u001b[39;00m:\n\u001b[1;32m   5914\u001b[0m     \u001b[38;5;28mobject\u001b[39m\u001b[38;5;241m.\u001b[39m\u001b[38;5;21m__getattribute__\u001b[39m(\u001b[38;5;28mself\u001b[39m, name)\n\u001b[0;32m-> 5915\u001b[0m     \u001b[38;5;28;01mreturn\u001b[39;00m \u001b[38;5;28;43mobject\u001b[39;49m\u001b[38;5;241;43m.\u001b[39;49m\u001b[38;5;21;43m__setattr__\u001b[39;49m\u001b[43m(\u001b[49m\u001b[38;5;28;43mself\u001b[39;49m\u001b[43m,\u001b[49m\u001b[43m \u001b[49m\u001b[43mname\u001b[49m\u001b[43m,\u001b[49m\u001b[43m \u001b[49m\u001b[43mvalue\u001b[49m\u001b[43m)\u001b[49m\n\u001b[1;32m   5916\u001b[0m \u001b[38;5;28;01mexcept\u001b[39;00m \u001b[38;5;167;01mAttributeError\u001b[39;00m:\n\u001b[1;32m   5917\u001b[0m     \u001b[38;5;28;01mpass\u001b[39;00m\n",
      "File \u001b[0;32m~/anaconda3/lib/python3.9/site-packages/pandas/_libs/properties.pyx:69\u001b[0m, in \u001b[0;36mpandas._libs.properties.AxisProperty.__set__\u001b[0;34m()\u001b[0m\n",
      "File \u001b[0;32m~/anaconda3/lib/python3.9/site-packages/pandas/core/generic.py:823\u001b[0m, in \u001b[0;36mNDFrame._set_axis\u001b[0;34m(self, axis, labels)\u001b[0m\n\u001b[1;32m    821\u001b[0m \u001b[38;5;28;01mdef\u001b[39;00m \u001b[38;5;21m_set_axis\u001b[39m(\u001b[38;5;28mself\u001b[39m, axis: \u001b[38;5;28mint\u001b[39m, labels: AnyArrayLike \u001b[38;5;241m|\u001b[39m \u001b[38;5;28mlist\u001b[39m) \u001b[38;5;241m-\u001b[39m\u001b[38;5;241m>\u001b[39m \u001b[38;5;28;01mNone\u001b[39;00m:\n\u001b[1;32m    822\u001b[0m     labels \u001b[38;5;241m=\u001b[39m ensure_index(labels)\n\u001b[0;32m--> 823\u001b[0m     \u001b[38;5;28;43mself\u001b[39;49m\u001b[38;5;241;43m.\u001b[39;49m\u001b[43m_mgr\u001b[49m\u001b[38;5;241;43m.\u001b[39;49m\u001b[43mset_axis\u001b[49m\u001b[43m(\u001b[49m\u001b[43maxis\u001b[49m\u001b[43m,\u001b[49m\u001b[43m \u001b[49m\u001b[43mlabels\u001b[49m\u001b[43m)\u001b[49m\n\u001b[1;32m    824\u001b[0m     \u001b[38;5;28mself\u001b[39m\u001b[38;5;241m.\u001b[39m_clear_item_cache()\n",
      "File \u001b[0;32m~/anaconda3/lib/python3.9/site-packages/pandas/core/internals/managers.py:230\u001b[0m, in \u001b[0;36mBaseBlockManager.set_axis\u001b[0;34m(self, axis, new_labels)\u001b[0m\n\u001b[1;32m    228\u001b[0m \u001b[38;5;28;01mdef\u001b[39;00m \u001b[38;5;21mset_axis\u001b[39m(\u001b[38;5;28mself\u001b[39m, axis: \u001b[38;5;28mint\u001b[39m, new_labels: Index) \u001b[38;5;241m-\u001b[39m\u001b[38;5;241m>\u001b[39m \u001b[38;5;28;01mNone\u001b[39;00m:\n\u001b[1;32m    229\u001b[0m     \u001b[38;5;66;03m# Caller is responsible for ensuring we have an Index object.\u001b[39;00m\n\u001b[0;32m--> 230\u001b[0m     \u001b[38;5;28;43mself\u001b[39;49m\u001b[38;5;241;43m.\u001b[39;49m\u001b[43m_validate_set_axis\u001b[49m\u001b[43m(\u001b[49m\u001b[43maxis\u001b[49m\u001b[43m,\u001b[49m\u001b[43m \u001b[49m\u001b[43mnew_labels\u001b[49m\u001b[43m)\u001b[49m\n\u001b[1;32m    231\u001b[0m     \u001b[38;5;28mself\u001b[39m\u001b[38;5;241m.\u001b[39maxes[axis] \u001b[38;5;241m=\u001b[39m new_labels\n",
      "File \u001b[0;32m~/anaconda3/lib/python3.9/site-packages/pandas/core/internals/base.py:70\u001b[0m, in \u001b[0;36mDataManager._validate_set_axis\u001b[0;34m(self, axis, new_labels)\u001b[0m\n\u001b[1;32m     67\u001b[0m     \u001b[38;5;28;01mpass\u001b[39;00m\n\u001b[1;32m     69\u001b[0m \u001b[38;5;28;01melif\u001b[39;00m new_len \u001b[38;5;241m!=\u001b[39m old_len:\n\u001b[0;32m---> 70\u001b[0m     \u001b[38;5;28;01mraise\u001b[39;00m \u001b[38;5;167;01mValueError\u001b[39;00m(\n\u001b[1;32m     71\u001b[0m         \u001b[38;5;124mf\u001b[39m\u001b[38;5;124m\"\u001b[39m\u001b[38;5;124mLength mismatch: Expected axis has \u001b[39m\u001b[38;5;132;01m{\u001b[39;00mold_len\u001b[38;5;132;01m}\u001b[39;00m\u001b[38;5;124m elements, new \u001b[39m\u001b[38;5;124m\"\u001b[39m\n\u001b[1;32m     72\u001b[0m         \u001b[38;5;124mf\u001b[39m\u001b[38;5;124m\"\u001b[39m\u001b[38;5;124mvalues have \u001b[39m\u001b[38;5;132;01m{\u001b[39;00mnew_len\u001b[38;5;132;01m}\u001b[39;00m\u001b[38;5;124m elements\u001b[39m\u001b[38;5;124m\"\u001b[39m\n\u001b[1;32m     73\u001b[0m     )\n",
      "\u001b[0;31mValueError\u001b[0m: Length mismatch: Expected axis has 16150 elements, new values have 3230 elements"
     ]
    }
   ],
   "source": [
    "new_df = suburb_name_split(new_df)\n",
    "new_df"
   ]
  },
  {
   "cell_type": "markdown",
   "metadata": {},
   "source": [
    "### Distribution"
   ]
  },
  {
   "cell_type": "code",
   "execution_count": 31,
   "metadata": {},
   "outputs": [],
   "source": [
    "COLUMNS_DICT_INCOME_DISTRIBUTION = {\n",
    "    0: \"SA2 code\",\n",
    "    1: \"SA2 name\"\n",
    "}"
   ]
  },
  {
   "cell_type": "code",
   "execution_count": 32,
   "metadata": {},
   "outputs": [
    {
     "name": "stdout",
     "output_type": "stream",
     "text": [
      "522\n"
     ]
    },
    {
     "ename": "UnboundLocalError",
     "evalue": "local variable 'count' referenced before assignment",
     "output_type": "error",
     "traceback": [
      "\u001b[0;31m---------------------------------------------------------------------------\u001b[0m",
      "\u001b[0;31mUnboundLocalError\u001b[0m                         Traceback (most recent call last)",
      "Input \u001b[0;32mIn [32]\u001b[0m, in \u001b[0;36m<cell line: 10>\u001b[0;34m()\u001b[0m\n\u001b[1;32m      6\u001b[0m df \u001b[38;5;241m=\u001b[39m filter_victoria(df, \u001b[38;5;124m\"\u001b[39m\u001b[38;5;124mSA2 code\u001b[39m\u001b[38;5;124m\"\u001b[39m)\n\u001b[1;32m      8\u001b[0m df \u001b[38;5;241m=\u001b[39m df\u001b[38;5;241m.\u001b[39mset_index(\u001b[38;5;124m\"\u001b[39m\u001b[38;5;124mSA2 name\u001b[39m\u001b[38;5;124m\"\u001b[39m)\n\u001b[0;32m---> 10\u001b[0m df \u001b[38;5;241m=\u001b[39m \u001b[43msuburb_name_split\u001b[49m\u001b[43m(\u001b[49m\u001b[43mdf\u001b[49m\u001b[43m)\u001b[49m\n",
      "Input \u001b[0;32mIn [29]\u001b[0m, in \u001b[0;36msuburb_name_split\u001b[0;34m(df)\u001b[0m\n\u001b[1;32m     28\u001b[0m     repeated_indicies\u001b[38;5;241m.\u001b[39mappend(index)\n\u001b[1;32m     29\u001b[0m     \u001b[38;5;28;01mcontinue\u001b[39;00m\n\u001b[0;32m---> 31\u001b[0m count \u001b[38;5;241m+\u001b[39m\u001b[38;5;241m=\u001b[39m \u001b[38;5;241m1\u001b[39m\n\u001b[1;32m     33\u001b[0m \u001b[38;5;66;03m# need to split\u001b[39;00m\n\u001b[1;32m     34\u001b[0m index_split \u001b[38;5;241m=\u001b[39m clean_index\u001b[38;5;241m.\u001b[39msplit(\u001b[38;5;124m\"\u001b[39m\u001b[38;5;124m - \u001b[39m\u001b[38;5;124m\"\u001b[39m)\n",
      "\u001b[0;31mUnboundLocalError\u001b[0m: local variable 'count' referenced before assignment"
     ]
    }
   ],
   "source": [
    "df = pd.read_csv(\"../data/landing/economic_by_region/income_distribution_by_geography_2021.csv\", header=0)\n",
    "df = df.drop(0)\n",
    "\n",
    "df = fill_columns(df, COLUMNS_DICT_INCOME_DISTRIBUTION)\n",
    "\n",
    "df = filter_victoria(df, \"SA2 code\")\n",
    "\n",
    "df = df.set_index(\"SA2 name\")\n",
    "\n",
    "df = suburb_name_split(df)"
   ]
  },
  {
   "cell_type": "markdown",
   "metadata": {},
   "source": [
    "## Economic"
   ]
  },
  {
   "cell_type": "code",
   "execution_count": null,
   "metadata": {},
   "outputs": [],
   "source": []
  },
  {
   "cell_type": "markdown",
   "metadata": {},
   "source": [
    "- Come back to"
   ]
  },
  {
   "cell_type": "markdown",
   "metadata": {},
   "source": [
    "## Housing"
   ]
  }
 ],
 "metadata": {
  "kernelspec": {
   "display_name": "Python 3 (ipykernel)",
   "language": "python",
   "name": "python3"
  }
 },
 "nbformat": 4,
 "nbformat_minor": 2
}
