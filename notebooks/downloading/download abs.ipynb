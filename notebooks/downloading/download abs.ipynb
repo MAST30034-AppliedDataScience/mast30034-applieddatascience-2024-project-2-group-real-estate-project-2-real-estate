{
 "cells": [
  {
   "cell_type": "code",
   "execution_count": 12,
   "metadata": {},
   "outputs": [],
   "source": [
    "# for unzipping\n",
    "import requests, zipfile\n",
    "from io import BytesIO\n",
    "import os\n",
    "\n",
    "# for the good shit\n",
    "import pandas as pd\n",
    "import numpy as np"
   ]
  },
  {
   "cell_type": "code",
   "execution_count": 170,
   "metadata": {},
   "outputs": [],
   "source": [
    "RELATIVE_PATH = \"../../data/landing/\"\n",
    "MERGE_COLUMNS = [\"SA2_CODE_2021\"]\n",
    "MERGE_FILE_NAME = \"merge.csv\""
   ]
  },
  {
   "cell_type": "markdown",
   "metadata": {},
   "source": [
    "## Creating File system"
   ]
  },
  {
   "cell_type": "code",
   "execution_count": 18,
   "metadata": {},
   "outputs": [],
   "source": [
    "# directories to create\n",
    "DIRECTORIES = [\"ABS\", \"ABS/2021\", \"ABS/2016\"]\n",
    "directory_paths = [RELATIVE_PATH + dir for dir in DIRECTORIES]\n",
    "\n",
    "# create the paths\n",
    "for directory_path in directory_paths:\n",
    "    os.makedirs(directory_path, exist_ok=True)"
   ]
  },
  {
   "cell_type": "markdown",
   "metadata": {},
   "source": [
    "## Getting the zip file"
   ]
  },
  {
   "cell_type": "markdown",
   "metadata": {},
   "source": [
    "#### Downloading and unzip"
   ]
  },
  {
   "cell_type": "code",
   "execution_count": 100,
   "metadata": {},
   "outputs": [],
   "source": [
    "import shutil\n",
    "\n",
    "def delete_contents(directory):\n",
    "    # Check if the directory exists\n",
    "    if os.path.exists(directory):\n",
    "        # Clear the contents of the directory\n",
    "        for filename in os.listdir(directory):\n",
    "            file_path = os.path.join(directory, filename)\n",
    "            try:\n",
    "                if os.path.isfile(file_path) or os.path.islink(file_path):\n",
    "                    os.unlink(file_path)  # Remove files and symlinks\n",
    "                elif os.path.isdir(file_path):\n",
    "                    shutil.rmtree(file_path)  # Remove directories\n",
    "            except Exception as e:\n",
    "                print(f\"Failed to delete {file_path}. Reason: {e}\")\n",
    "    else:\n",
    "        print(f\"Directory '{directory}' does not exist.\")"
   ]
  },
  {
   "cell_type": "code",
   "execution_count": 102,
   "metadata": {},
   "outputs": [
    {
     "name": "stdout",
     "output_type": "stream",
     "text": [
      "Downloading started for 2021\n",
      "Download completed\n",
      "Finishing extracting\n",
      "Downloading started for 2016\n",
      "Download completed\n",
      "Finishing extracting\n"
     ]
    }
   ],
   "source": [
    "# get the request \n",
    "urls = [\"https://www.abs.gov.au/census/find-census-data/datapacks/download/2021_GCP_SA2_for_VIC_short-header.zip\",\n",
    "        \"https://www.abs.gov.au/census/find-census-data/datapacks/download/2016_GCP_SA2_for_VIC_short-header.zip\"]\n",
    "names = [\"2021\", \"2016\"]\n",
    "\n",
    "# donwload and unzip each url\n",
    "for url, name in zip(urls, names):\n",
    "    print(f\"Downloading started for {name}\")\n",
    "    response = requests.get(url)\n",
    "    print(\"Download completed\")\n",
    "\n",
    "    # prepare the outfile\n",
    "    out_path = RELATIVE_PATH + \"ABS/\" + name\n",
    "    delete_contents(out_path)\n",
    "\n",
    "    # extract the zip file\n",
    "    zipfile_obj = zipfile.ZipFile(BytesIO(response.content))\n",
    "    zipfile_obj.extractall(out_path)\n",
    "\n",
    "    print(\"Finishing extracting\")"
   ]
  },
  {
   "cell_type": "markdown",
   "metadata": {},
   "source": [
    "#### Renaming files"
   ]
  },
  {
   "cell_type": "code",
   "execution_count": 103,
   "metadata": {},
   "outputs": [],
   "source": [
    "# RENAME the data file\n",
    "paths = [RELATIVE_PATH + \"ABS/\" + name + \"/\" for name in names]\n",
    "\n",
    "for path in paths:\n",
    "    # find the data file\n",
    "    data_names = [dir for dir in os.listdir(path) if \"Census GCP\" in dir]\n",
    "\n",
    "    if (len(data_names) != 1):\n",
    "        print(\"something wrong, the old path doesn't exist\")\n",
    "        break\n",
    "\n",
    "    # out path and in path\n",
    "    curr_path = path + data_names[0]\n",
    "    new_path = path + \"data\"\n",
    "\n",
    "    # rename the file\n",
    "    os.rename(curr_path, new_path)"
   ]
  },
  {
   "cell_type": "code",
   "execution_count": 104,
   "metadata": {},
   "outputs": [],
   "source": [
    "# RENAME the meta data file\n",
    "paths = [RELATIVE_PATH + \"ABS/\" + name + \"/Metadata/\" for name in names]\n",
    "\n",
    "for path in paths:\n",
    "    # find the data file\n",
    "    data_names = [dir for dir in os.listdir(path) if \"Metadata\" in dir]\n",
    "\n",
    "    if (len(data_names) != 1):\n",
    "        print(\"something wrong, the old path doesn't exist\")\n",
    "        break\n",
    "\n",
    "    # out path and in path\n",
    "    curr_path = path + data_names[0]\n",
    "    new_path = path + \"column_names.xlsx\"\n",
    "\n",
    "    # rename the file\n",
    "    os.rename(curr_path, new_path)"
   ]
  },
  {
   "cell_type": "markdown",
   "metadata": {},
   "source": [
    "## Functions"
   ]
  },
  {
   "cell_type": "markdown",
   "metadata": {},
   "source": [
    "#### Merging"
   ]
  },
  {
   "cell_type": "code",
   "execution_count": 39,
   "metadata": {},
   "outputs": [],
   "source": [
    "def get_next_merge(new_df, final_df, join_columns):\n",
    "    if (final_df.empty):\n",
    "        return new_df\n",
    "\n",
    "    # get the attributes used for the merge\n",
    "    merge_columns = list(set(new_df.columns) & set(join_columns) & set(final_df.columns))\n",
    "\n",
    "    # get the columns not already in the data frame\n",
    "    new_columns = list(set(new_df.columns) - set(final_df.columns) - set(merge_columns))\n",
    "\n",
    "    # merge columns\n",
    "    merged_df = pd.merge(final_df, new_df[merge_columns + new_columns], on=merge_columns, how=\"inner\")\n",
    "\n",
    "    # check if any rows lost\n",
    "    print(f\"lost {final_df.shape[0] - merged_df.shape[0]} out of {final_df.shape[0]} records\")\n",
    "    \n",
    "    return merged_df"
   ]
  },
  {
   "cell_type": "code",
   "execution_count": 40,
   "metadata": {},
   "outputs": [],
   "source": [
    "def get_merged_df(df_list, join_columns):\n",
    "    # keep on aggregating\n",
    "    agg_df = df_list[0]\n",
    "    for new_df in df_list[1:]:\n",
    "        agg_df = get_next_merge(new_df, agg_df, join_columns)\n",
    "\n",
    "    return agg_df"
   ]
  },
  {
   "cell_type": "markdown",
   "metadata": {},
   "source": [
    "#### Renaming"
   ]
  },
  {
   "cell_type": "code",
   "execution_count": 73,
   "metadata": {},
   "outputs": [],
   "source": [
    "\"\"\"\"Note: uses the actual index name\"\"\"\n",
    "def rename_dict(df, csv_dict):\n",
    "    # filter the dictionary with the old names\n",
    "    df = df[MERGE_COLUMNS + list(csv_dict[\"rename\"].keys())]\n",
    "\n",
    "    # get the new names\n",
    "    df.columns = MERGE_COLUMNS + [csv_dict[\"name\"] + \": \" + new_name for new_name in  csv_dict[\"rename\"].values()]\n",
    "    \n",
    "    return df"
   ]
  },
  {
   "cell_type": "markdown",
   "metadata": {},
   "source": [
    "#### Reading the data"
   ]
  },
  {
   "cell_type": "code",
   "execution_count": 84,
   "metadata": {},
   "outputs": [],
   "source": [
    "def write_csv(csv_dict):\n",
    "    # get the relative directory all files\n",
    "    relative_path = RELATIVE_PATH + 'ABS/' + csv_dict[\"year\"] + \"/data/\"\n",
    "\n",
    "    # get all the files from the directory with the code\n",
    "    all_files = os.listdir(RELATIVE_PATH + 'ABS/' + csv_dict[\"year\"] + \"/data\")\n",
    "    code_paths = [relative_path + file for file in all_files if csv_dict[\"code\"] in file]\n",
    "\n",
    "    # create a new dataframe for each path\n",
    "    code_dataframes = []\n",
    "    for code_path in code_paths:\n",
    "        code_dataframes.append(pd.read_csv(code_path))\n",
    "\n",
    "    # keep on merging for each directory\n",
    "    out_df = get_merged_df(code_dataframes, MERGE_COLUMNS)\n",
    "\n",
    "    # rename the columns\n",
    "    out_df = rename_dict(out_df, csv_dict)\n",
    "\n",
    "    # write the csv\n",
    "    out_df.to_csv(RELATIVE_PATH + \"ABS/\" + csv_dict[\"name\"] + \".csv\")"
   ]
  },
  {
   "cell_type": "code",
   "execution_count": 146,
   "metadata": {},
   "outputs": [],
   "source": [
    "def get_columns(code, metadata, start=False, ending=False):\n",
    "    # filter for the code\n",
    "    metadata = metadata[metadata[\"Profiletable\"].str.startswith(code)]\n",
    "\n",
    "    # if table is empty, raise a warning\n",
    "    if (metadata.empty):\n",
    "        print(f\"no corresponding code to {code}\")\n",
    "        return\n",
    "    \n",
    "    # find the mask for the values of interest\n",
    "    if (ending):\n",
    "        select_mask = metadata[\"Long\"].apply(lambda x: x[-len(ending):] == ending)\n",
    "        metadata = metadata[select_mask][[\"Short\", \"Long\"]]\n",
    "    if (start):\n",
    "        select_mask = metadata[\"Long\"].str.startswith(start)\n",
    "        metadata = metadata[select_mask][[\"Short\", \"Long\"]]\n",
    "\n",
    "    # create the out dict, and convert to lower\n",
    "    out_dict = {short: long.lower() for short, long in metadata.values}\n",
    "\n",
    "    # create a dictionary\n",
    "    return out_dict\n"
   ]
  },
  {
   "cell_type": "markdown",
   "metadata": {},
   "source": [
    "## Execution"
   ]
  },
  {
   "cell_type": "markdown",
   "metadata": {},
   "source": [
    "#### Read metadata"
   ]
  },
  {
   "cell_type": "code",
   "execution_count": 118,
   "metadata": {},
   "outputs": [
    {
     "name": "stdout",
     "output_type": "stream",
     "text": [
      "(16984, 5)\n",
      "Short                                object\n",
      "Long                                 object\n",
      "DataPackfile                         object\n",
      "Profiletable                         object\n",
      "Columnheadingdescriptioninprofile    object\n",
      "dtype: object\n"
     ]
    },
    {
     "data": {
      "text/html": [
       "<div>\n",
       "<style scoped>\n",
       "    .dataframe tbody tr th:only-of-type {\n",
       "        vertical-align: middle;\n",
       "    }\n",
       "\n",
       "    .dataframe tbody tr th {\n",
       "        vertical-align: top;\n",
       "    }\n",
       "\n",
       "    .dataframe thead th {\n",
       "        text-align: right;\n",
       "    }\n",
       "</style>\n",
       "<table border=\"1\" class=\"dataframe\">\n",
       "  <thead>\n",
       "    <tr style=\"text-align: right;\">\n",
       "      <th></th>\n",
       "      <th>Short</th>\n",
       "      <th>Long</th>\n",
       "      <th>DataPackfile</th>\n",
       "      <th>Profiletable</th>\n",
       "      <th>Columnheadingdescriptioninprofile</th>\n",
       "    </tr>\n",
       "    <tr>\n",
       "      <th>Sequential</th>\n",
       "      <th></th>\n",
       "      <th></th>\n",
       "      <th></th>\n",
       "      <th></th>\n",
       "      <th></th>\n",
       "    </tr>\n",
       "  </thead>\n",
       "  <tbody>\n",
       "    <tr>\n",
       "      <th>G1</th>\n",
       "      <td>Tot_P_M</td>\n",
       "      <td>Total_Persons_Males</td>\n",
       "      <td>G01</td>\n",
       "      <td>G01</td>\n",
       "      <td>Males</td>\n",
       "    </tr>\n",
       "    <tr>\n",
       "      <th>G2</th>\n",
       "      <td>Tot_P_F</td>\n",
       "      <td>Total_Persons_Females</td>\n",
       "      <td>G01</td>\n",
       "      <td>G01</td>\n",
       "      <td>Females</td>\n",
       "    </tr>\n",
       "    <tr>\n",
       "      <th>G3</th>\n",
       "      <td>Tot_P_P</td>\n",
       "      <td>Total_Persons_Persons</td>\n",
       "      <td>G01</td>\n",
       "      <td>G01</td>\n",
       "      <td>Persons</td>\n",
       "    </tr>\n",
       "    <tr>\n",
       "      <th>G4</th>\n",
       "      <td>Age_0_4_yr_M</td>\n",
       "      <td>Age_groups_0_4_years_Males</td>\n",
       "      <td>G01</td>\n",
       "      <td>G01</td>\n",
       "      <td>Males</td>\n",
       "    </tr>\n",
       "    <tr>\n",
       "      <th>G5</th>\n",
       "      <td>Age_0_4_yr_F</td>\n",
       "      <td>Age_groups_0_4_years_Females</td>\n",
       "      <td>G01</td>\n",
       "      <td>G01</td>\n",
       "      <td>Females</td>\n",
       "    </tr>\n",
       "  </tbody>\n",
       "</table>\n",
       "</div>"
      ],
      "text/plain": [
       "                   Short                          Long DataPackfile  \\\n",
       "Sequential                                                            \n",
       "G1               Tot_P_M           Total_Persons_Males          G01   \n",
       "G2               Tot_P_F         Total_Persons_Females          G01   \n",
       "G3               Tot_P_P         Total_Persons_Persons          G01   \n",
       "G4          Age_0_4_yr_M    Age_groups_0_4_years_Males          G01   \n",
       "G5          Age_0_4_yr_F  Age_groups_0_4_years_Females          G01   \n",
       "\n",
       "           Profiletable Columnheadingdescriptioninprofile  \n",
       "Sequential                                                 \n",
       "G1                  G01                             Males  \n",
       "G2                  G01                           Females  \n",
       "G3                  G01                           Persons  \n",
       "G4                  G01                             Males  \n",
       "G5                  G01                           Females  "
      ]
     },
     "execution_count": 118,
     "metadata": {},
     "output_type": "execute_result"
    }
   ],
   "source": [
    "metadata = pd.read_excel(RELATIVE_PATH + \"ABS/2021/Metadata/column_names.xlsx\",\n",
    "                         sheet_name=\"Cell Descriptors Information\",\n",
    "                         skiprows = list(range(10)),\n",
    "                         header=0,\n",
    "                         index_col=0)\n",
    "\n",
    "print(metadata.shape)\n",
    "print(metadata.dtypes)\n",
    "metadata.head(5)"
   ]
  },
  {
   "cell_type": "markdown",
   "metadata": {},
   "source": [
    "#### Types of relationships"
   ]
  },
  {
   "cell_type": "code",
   "execution_count": 91,
   "metadata": {},
   "outputs": [],
   "source": [
    "CSV_RELATIONSHIPS = {\n",
    "    \"year\": \"2021\",\n",
    "    \"code\": \"G27\",\n",
    "    \"name\": \"relationships\",\n",
    "    \"rename\": {\n",
    "        \"P_Ptn_in_RM_Tot\": \"married\",\n",
    "        \"P_Ptn_in_DFM_Tot\": \"defacto\",\n",
    "        \"P_LonePnt_Tot\": \"lone parents\",\n",
    "        \"P_CU15_Tot\": \"child under 15\",\n",
    "        \"P_DpStu_Tot\": \"dependent student\",\n",
    "        \"P_NDpChl_Tot\": \"non dependent child\",\n",
    "        \"P_OthRI_Tot\": \"other related individual\",\n",
    "        \"P_GrpH_Mem_Tot\": \"group household\",\n",
    "        \"P_LonePsn_Tot\": \"lone persons\"\n",
    "    }\n",
    "}"
   ]
  },
  {
   "cell_type": "code",
   "execution_count": 95,
   "metadata": {},
   "outputs": [
    {
     "name": "stdout",
     "output_type": "stream",
     "text": [
      "lost 0 out of 524 records\n"
     ]
    },
    {
     "data": {
      "text/html": [
       "<div>\n",
       "<style scoped>\n",
       "    .dataframe tbody tr th:only-of-type {\n",
       "        vertical-align: middle;\n",
       "    }\n",
       "\n",
       "    .dataframe tbody tr th {\n",
       "        vertical-align: top;\n",
       "    }\n",
       "\n",
       "    .dataframe thead th {\n",
       "        text-align: right;\n",
       "    }\n",
       "</style>\n",
       "<table border=\"1\" class=\"dataframe\">\n",
       "  <thead>\n",
       "    <tr style=\"text-align: right;\">\n",
       "      <th></th>\n",
       "      <th>SA2_CODE_2021</th>\n",
       "      <th>relationships: married</th>\n",
       "      <th>relationships: defacto</th>\n",
       "      <th>relationships: lone parents</th>\n",
       "      <th>relationships: child under 15</th>\n",
       "      <th>relationships: dependent student</th>\n",
       "      <th>relationships: non dependent child</th>\n",
       "      <th>relationships: other related individual</th>\n",
       "      <th>relationships: group household</th>\n",
       "      <th>relationships: lone persons</th>\n",
       "    </tr>\n",
       "  </thead>\n",
       "  <tbody>\n",
       "    <tr>\n",
       "      <th>0</th>\n",
       "      <td>201011001</td>\n",
       "      <td>6056</td>\n",
       "      <td>1328</td>\n",
       "      <td>772</td>\n",
       "      <td>3884</td>\n",
       "      <td>974</td>\n",
       "      <td>854</td>\n",
       "      <td>252</td>\n",
       "      <td>447</td>\n",
       "      <td>1096</td>\n",
       "    </tr>\n",
       "    <tr>\n",
       "      <th>1</th>\n",
       "      <td>201011002</td>\n",
       "      <td>4129</td>\n",
       "      <td>906</td>\n",
       "      <td>471</td>\n",
       "      <td>1669</td>\n",
       "      <td>604</td>\n",
       "      <td>464</td>\n",
       "      <td>132</td>\n",
       "      <td>538</td>\n",
       "      <td>1776</td>\n",
       "    </tr>\n",
       "    <tr>\n",
       "      <th>2</th>\n",
       "      <td>201011005</td>\n",
       "      <td>2935</td>\n",
       "      <td>514</td>\n",
       "      <td>248</td>\n",
       "      <td>1427</td>\n",
       "      <td>395</td>\n",
       "      <td>367</td>\n",
       "      <td>74</td>\n",
       "      <td>134</td>\n",
       "      <td>484</td>\n",
       "    </tr>\n",
       "    <tr>\n",
       "      <th>3</th>\n",
       "      <td>201011006</td>\n",
       "      <td>3302</td>\n",
       "      <td>1238</td>\n",
       "      <td>584</td>\n",
       "      <td>2150</td>\n",
       "      <td>411</td>\n",
       "      <td>599</td>\n",
       "      <td>243</td>\n",
       "      <td>373</td>\n",
       "      <td>826</td>\n",
       "    </tr>\n",
       "    <tr>\n",
       "      <th>4</th>\n",
       "      <td>201011007</td>\n",
       "      <td>1836</td>\n",
       "      <td>319</td>\n",
       "      <td>105</td>\n",
       "      <td>861</td>\n",
       "      <td>261</td>\n",
       "      <td>323</td>\n",
       "      <td>64</td>\n",
       "      <td>41</td>\n",
       "      <td>202</td>\n",
       "    </tr>\n",
       "    <tr>\n",
       "      <th>5</th>\n",
       "      <td>201011008</td>\n",
       "      <td>4179</td>\n",
       "      <td>1589</td>\n",
       "      <td>959</td>\n",
       "      <td>2576</td>\n",
       "      <td>526</td>\n",
       "      <td>937</td>\n",
       "      <td>348</td>\n",
       "      <td>488</td>\n",
       "      <td>2080</td>\n",
       "    </tr>\n",
       "    <tr>\n",
       "      <th>6</th>\n",
       "      <td>201011481</td>\n",
       "      <td>2693</td>\n",
       "      <td>971</td>\n",
       "      <td>516</td>\n",
       "      <td>1413</td>\n",
       "      <td>260</td>\n",
       "      <td>555</td>\n",
       "      <td>166</td>\n",
       "      <td>455</td>\n",
       "      <td>1511</td>\n",
       "    </tr>\n",
       "    <tr>\n",
       "      <th>7</th>\n",
       "      <td>201011482</td>\n",
       "      <td>5273</td>\n",
       "      <td>1402</td>\n",
       "      <td>546</td>\n",
       "      <td>2646</td>\n",
       "      <td>684</td>\n",
       "      <td>720</td>\n",
       "      <td>192</td>\n",
       "      <td>407</td>\n",
       "      <td>1722</td>\n",
       "    </tr>\n",
       "    <tr>\n",
       "      <th>8</th>\n",
       "      <td>201011483</td>\n",
       "      <td>3486</td>\n",
       "      <td>1261</td>\n",
       "      <td>614</td>\n",
       "      <td>2006</td>\n",
       "      <td>505</td>\n",
       "      <td>615</td>\n",
       "      <td>221</td>\n",
       "      <td>654</td>\n",
       "      <td>1552</td>\n",
       "    </tr>\n",
       "    <tr>\n",
       "      <th>9</th>\n",
       "      <td>201011484</td>\n",
       "      <td>3066</td>\n",
       "      <td>1376</td>\n",
       "      <td>970</td>\n",
       "      <td>1969</td>\n",
       "      <td>337</td>\n",
       "      <td>823</td>\n",
       "      <td>260</td>\n",
       "      <td>547</td>\n",
       "      <td>2297</td>\n",
       "    </tr>\n",
       "  </tbody>\n",
       "</table>\n",
       "</div>"
      ],
      "text/plain": [
       "   SA2_CODE_2021  relationships: married  relationships: defacto  \\\n",
       "0      201011001                    6056                    1328   \n",
       "1      201011002                    4129                     906   \n",
       "2      201011005                    2935                     514   \n",
       "3      201011006                    3302                    1238   \n",
       "4      201011007                    1836                     319   \n",
       "5      201011008                    4179                    1589   \n",
       "6      201011481                    2693                     971   \n",
       "7      201011482                    5273                    1402   \n",
       "8      201011483                    3486                    1261   \n",
       "9      201011484                    3066                    1376   \n",
       "\n",
       "   relationships: lone parents  relationships: child under 15  \\\n",
       "0                          772                           3884   \n",
       "1                          471                           1669   \n",
       "2                          248                           1427   \n",
       "3                          584                           2150   \n",
       "4                          105                            861   \n",
       "5                          959                           2576   \n",
       "6                          516                           1413   \n",
       "7                          546                           2646   \n",
       "8                          614                           2006   \n",
       "9                          970                           1969   \n",
       "\n",
       "   relationships: dependent student  relationships: non dependent child  \\\n",
       "0                               974                                 854   \n",
       "1                               604                                 464   \n",
       "2                               395                                 367   \n",
       "3                               411                                 599   \n",
       "4                               261                                 323   \n",
       "5                               526                                 937   \n",
       "6                               260                                 555   \n",
       "7                               684                                 720   \n",
       "8                               505                                 615   \n",
       "9                               337                                 823   \n",
       "\n",
       "   relationships: other related individual  relationships: group household  \\\n",
       "0                                      252                             447   \n",
       "1                                      132                             538   \n",
       "2                                       74                             134   \n",
       "3                                      243                             373   \n",
       "4                                       64                              41   \n",
       "5                                      348                             488   \n",
       "6                                      166                             455   \n",
       "7                                      192                             407   \n",
       "8                                      221                             654   \n",
       "9                                      260                             547   \n",
       "\n",
       "   relationships: lone persons  \n",
       "0                         1096  \n",
       "1                         1776  \n",
       "2                          484  \n",
       "3                          826  \n",
       "4                          202  \n",
       "5                         2080  \n",
       "6                         1511  \n",
       "7                         1722  \n",
       "8                         1552  \n",
       "9                         2297  "
      ]
     },
     "execution_count": 95,
     "metadata": {},
     "output_type": "execute_result"
    }
   ],
   "source": [
    "write_csv(CSV_RELATIONSHIPS)"
   ]
  },
  {
   "cell_type": "markdown",
   "metadata": {},
   "source": [
    "#### Ages"
   ]
  },
  {
   "cell_type": "code",
   "execution_count": 93,
   "metadata": {},
   "outputs": [],
   "source": [
    "START = 15\n",
    "END = 75\n",
    "\n",
    "age_dict = {\"P_Tot_\" + str(i)+\"_\" + str(i+9): str(i) + \"-\" + str(i+9) for i in range(START,END+1, 10)}\n",
    "age_dict[\"P_Tot_0_14\"] = \"0-14\"\n",
    "\n",
    "CSV_AGES = {\n",
    "    \"year\": \"2021\",\n",
    "    \"code\": \"G27\",\n",
    "    \"name\": \"ages\",\n",
    "    \"rename\": age_dict\n",
    "}"
   ]
  },
  {
   "cell_type": "code",
   "execution_count": 94,
   "metadata": {},
   "outputs": [
    {
     "name": "stdout",
     "output_type": "stream",
     "text": [
      "lost 0 out of 524 records\n"
     ]
    }
   ],
   "source": [
    "write_csv(CSV_AGES)"
   ]
  },
  {
   "cell_type": "markdown",
   "metadata": {},
   "source": [
    "#### Overseas"
   ]
  },
  {
   "cell_type": "code",
   "execution_count": 89,
   "metadata": {},
   "outputs": [],
   "source": [
    "CSV_OVERSEAS = {\n",
    "    \"year\": \"2021\",\n",
    "    \"code\": \"G45\",\n",
    "    \"name\": \"overseas\",\n",
    "    \"rename\": {\"Difnt_Usl_add_5_yr_ago_OS_P\": \"5 years\"}\n",
    "}"
   ]
  },
  {
   "cell_type": "code",
   "execution_count": 90,
   "metadata": {},
   "outputs": [],
   "source": [
    "write_csv(CSV_OVERSEAS)"
   ]
  },
  {
   "cell_type": "markdown",
   "metadata": {},
   "source": [
    "#### Birth country"
   ]
  },
  {
   "cell_type": "code",
   "execution_count": 182,
   "metadata": {},
   "outputs": [],
   "source": [
    "birth_dict = get_columns(\"G09\", metadata, start=\"PERSONS\", ending=\"Total\")\n",
    "\n",
    "# get the keys and values\n",
    "birth_dict_keys = birth_dict.keys()\n",
    "birth_dict_values = birth_dict.values()\n",
    "\n",
    "# remove the start and end\n",
    "birth_dict_values = [\" \".join(ethnic_string.split(\"_\")[1:-1]) for ethnic_string in birth_dict_values]\n",
    "\n",
    "# rerecreate the dict\n",
    "birth_dict = {key: value for key, value in zip(birth_dict_keys, birth_dict_values)}"
   ]
  },
  {
   "cell_type": "code",
   "execution_count": 183,
   "metadata": {},
   "outputs": [],
   "source": [
    "CSV_BIRTH = {\n",
    "    \"year\": \"2021\",\n",
    "    \"code\": \"G09\",\n",
    "    \"name\": \"birth\",\n",
    "    \"rename\": birth_dict\n",
    "}"
   ]
  },
  {
   "cell_type": "code",
   "execution_count": 184,
   "metadata": {},
   "outputs": [
    {
     "name": "stdout",
     "output_type": "stream",
     "text": [
      "lost 0 out of 524 records\n",
      "lost 0 out of 524 records\n",
      "lost 0 out of 524 records\n",
      "lost 0 out of 524 records\n",
      "lost 0 out of 524 records\n",
      "lost 0 out of 524 records\n",
      "lost 0 out of 524 records\n"
     ]
    }
   ],
   "source": [
    "write_csv(CSV_BIRTH)"
   ]
  },
  {
   "cell_type": "markdown",
   "metadata": {},
   "source": [
    "#### Studying"
   ]
  },
  {
   "cell_type": "code",
   "execution_count": 168,
   "metadata": {},
   "outputs": [],
   "source": [
    "CSV_STUDYING = {\n",
    "    \"year\": \"2021\",\n",
    "    \"code\": \"G15\",\n",
    "    \"name\": \"studying\",\n",
    "    \"rename\": {\n",
    "        \"Preschool_P\": \"preschool\",\n",
    "        \"Primary_Government_P\": \"primary government\",\n",
    "        \"Primary_Catholic_P\": \"primary catholic\",\n",
    "        \"Primry_Othr_non_Govt_P\": \"primary other\",\n",
    "        \"Primary_Tot_Primary_P\": \"primary total\",\n",
    "        \"Secondary_Government_P\": \"secondary government\",\n",
    "        \"Secondary_Catholic_P\": \"secondary catholic\",\n",
    "        \"Secondary_Tot_Secondary_P\": \"secondary total\",\n",
    "        \"Tert_Voc_edu_Tot_P\": \"tafe total\",\n",
    "        \"Tert_Uni_oth_h_edu_Ft_15_24_P\": \"tertiary FT 14-25\",\n",
    "        \"Tert_Uni_oth_h_edu_Ft_25_ov_P\": \"tertiary FT 25+\",\n",
    "        \"Tert_Uni_oth_h_edu_Pt_15_24_P\": \"tertiary PT 14-25\",\n",
    "        \"Tert_Uni_oth_h_edu_Pt_25_ov_P\": \"tertiary PT 25+\",\n",
    "        \"Tert_Uni_other_high_edu_Tot_P\": \"tertiary total\"\n",
    "    }\n",
    "}"
   ]
  },
  {
   "cell_type": "code",
   "execution_count": 169,
   "metadata": {},
   "outputs": [],
   "source": [
    "write_csv(CSV_STUDYING)"
   ]
  },
  {
   "cell_type": "markdown",
   "metadata": {},
   "source": [
    "## Merge"
   ]
  },
  {
   "cell_type": "code",
   "execution_count": 185,
   "metadata": {},
   "outputs": [
    {
     "name": "stdout",
     "output_type": "stream",
     "text": [
      "lost 0 out of 524 records\n",
      "lost 0 out of 524 records\n",
      "lost 0 out of 524 records\n",
      "lost 0 out of 524 records\n"
     ]
    }
   ],
   "source": [
    "# get all the csvs\n",
    "merge_path = RELATIVE_PATH + \"ABS/\"\n",
    "merging_files = [merge_path + file for file in os.listdir(merge_path) \n",
    "                 if (file != MERGE_FILE_NAME) and (file.endswith(\".csv\"))]\n",
    "\n",
    "# get the list of dataframes\n",
    "merging_frames = []\n",
    "for file in merging_files:\n",
    "    merging_frames.append(pd.read_csv(file))\n",
    "\n",
    "get_merged_df(merging_frames, MERGE_COLUMNS).to_csv(merge_path + MERGE_FILE_NAME, index=False)"
   ]
  },
  {
   "cell_type": "code",
   "execution_count": null,
   "metadata": {},
   "outputs": [],
   "source": []
  }
 ],
 "metadata": {
  "kernelspec": {
   "display_name": "base",
   "language": "python",
   "name": "python3"
  },
  "language_info": {
   "codemirror_mode": {
    "name": "ipython",
    "version": 3
   },
   "file_extension": ".py",
   "mimetype": "text/x-python",
   "name": "python",
   "nbconvert_exporter": "python",
   "pygments_lexer": "ipython3",
   "version": "3.9.12"
  }
 },
 "nbformat": 4,
 "nbformat_minor": 2
}
