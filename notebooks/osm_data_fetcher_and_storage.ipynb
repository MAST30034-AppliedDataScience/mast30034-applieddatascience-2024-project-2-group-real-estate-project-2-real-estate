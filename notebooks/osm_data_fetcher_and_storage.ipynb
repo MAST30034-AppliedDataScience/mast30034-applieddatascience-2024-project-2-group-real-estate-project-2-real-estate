{
 "cells": [
  {
   "cell_type": "code",
   "execution_count": 17,
   "metadata": {},
   "outputs": [],
   "source": [
    "import requests\n",
    "import json\n",
    "import pandas as pd\n",
    "import os\n"
   ]
  },
  {
   "cell_type": "code",
   "execution_count": 18,
   "metadata": {},
   "outputs": [],
   "source": [
    "overpass_url = \"http://overpass-api.de/api/interpreter\"\n"
   ]
  },
  {
   "cell_type": "code",
   "execution_count": 19,
   "metadata": {},
   "outputs": [],
   "source": [
    "def fetch_external_data(overpass_url, overpass_query, file_path):\n",
    "    response = requests.get(overpass_url, params={'data': overpass_query})\n",
    "    if response.status_code == 200:\n",
    "        data = response.json() \n",
    "        with open(file_path, 'w') as json_file:\n",
    "            json.dump(data, json_file, indent=4)\n",
    "        print(\"Data successfully saved to:\", file_path)\n",
    "    else:\n",
    "        print(f\"Error: {response.status_code}\")\n",
    "    \n",
    "    return data"
   ]
  },
  {
   "cell_type": "code",
   "execution_count": 20,
   "metadata": {},
   "outputs": [],
   "source": [
    "base_path = \"../data/landing\"\n",
    "osm_data_folder = os.path.join(base_path, 'osm_data')\n",
    "\n",
    "if not os.path.exists(osm_data_folder):\n",
    "    os.makedirs(osm_data_folder)"
   ]
  },
  {
   "cell_type": "markdown",
   "metadata": {},
   "source": [
    "### Hospital"
   ]
  },
  {
   "cell_type": "code",
   "execution_count": 21,
   "metadata": {},
   "outputs": [],
   "source": [
    "# hospital list\n",
    "url = 'https://www.health.gov.au/sites/default/files/2024-08/list-of-declared-hospitals_0.xlsx'\n",
    "response = requests.get(url)\n",
    "\n",
    "with open('../data/landing/list-of-declared-hospitals.xlsx', 'wb') as file:\n",
    "    file.write(response.content)\n"
   ]
  },
  {
   "cell_type": "code",
   "execution_count": 22,
   "metadata": {},
   "outputs": [],
   "source": [
    "hospital_list_df = pd.read_excel('../data/landing/list-of-declared-hospitals.xlsx')\n",
    "vic_hospitals = hospital_list_df[hospital_list_df['State'] == 'VIC']['Name of Facility (consistent with State licence where relevant)']\n",
    "vic_hospitals_list = vic_hospitals.tolist()\n"
   ]
  },
  {
   "cell_type": "code",
   "execution_count": 23,
   "metadata": {},
   "outputs": [],
   "source": [
    "# Overpass QL query for hospitals in Victoria, Australia\n",
    "hospital_overpass_query = \"\"\"\n",
    "[out:json][timeout:250];\n",
    "area(3602316741)->.searchArea;\n",
    "(\n",
    "  node[\"amenity\"=\"hospital\"](area.searchArea);\n",
    "  way[\"amenity\"=\"hospital\"](area.searchArea);\n",
    ");\n",
    "out body;\n",
    ">;\n",
    "out skel qt;\n",
    "\"\"\""
   ]
  },
  {
   "cell_type": "code",
   "execution_count": 24,
   "metadata": {},
   "outputs": [],
   "source": [
    "hospitals_file_path = os.path.join(osm_data_folder, \"hospital_data.json\")\n"
   ]
  },
  {
   "cell_type": "code",
   "execution_count": 25,
   "metadata": {},
   "outputs": [
    {
     "name": "stdout",
     "output_type": "stream",
     "text": [
      "Data successfully saved to: ../data/landing/osm_data/hospital_data.json\n"
     ]
    }
   ],
   "source": [
    "hospital_data =  fetch_external_data(overpass_url, hospital_overpass_query, hospitals_file_path)"
   ]
  },
  {
   "cell_type": "markdown",
   "metadata": {},
   "source": [
    "### School"
   ]
  },
  {
   "cell_type": "code",
   "execution_count": 26,
   "metadata": {},
   "outputs": [
    {
     "name": "stdout",
     "output_type": "stream",
     "text": [
      "Data successfully saved to: ../data/landing/school_data.csv\n"
     ]
    }
   ],
   "source": [
    "school_url = \"https://www.education.vic.gov.au/Documents/about/research/datavic/dv346-schoollocations2023.csv\"\n",
    "school_file_path = '../data/landing/osm_data/school_data.csv'\n",
    "response = requests.get(school_url)\n",
    "\n",
    "if response.status_code == 200:\n",
    "    with open(school_file_path, 'w', encoding='utf-8') as file:\n",
    "        file.write(response.text)  \n",
    "    print(\"Data successfully saved to: ../data/landing/school_data.csv\")\n",
    "else:\n",
    "    print(f\"Error: {response.status_code}\")\n"
   ]
  },
  {
   "cell_type": "markdown",
   "metadata": {},
   "source": [
    "#### Kindergarten, College and University"
   ]
  },
  {
   "cell_type": "code",
   "execution_count": 27,
   "metadata": {},
   "outputs": [],
   "source": [
    "school_overpass_query = \"\"\"\n",
    "[out:json][timeout:250];\n",
    "area(3602316741)->.searchArea;\n",
    "(\n",
    "  node[\"amenity\"=\"kindergarten\"](area.searchArea);\n",
    "  node[\"amenity\"=\"college\"](area.searchArea);\n",
    "  node[\"amenity\"=\"university\"](area.searchArea);\n",
    "\n",
    "  way[\"amenity\"=\"kindergarten\"](area.searchArea);\n",
    "  way[\"amenity\"=\"college\"](area.searchArea);\n",
    "  way[\"amenity\"=\"university\"](area.searchArea);\n",
    ");\n",
    "out body;\n",
    ">;\n",
    "out skel qt;\n",
    "\"\"\""
   ]
  },
  {
   "cell_type": "code",
   "execution_count": 28,
   "metadata": {},
   "outputs": [],
   "source": [
    "school2_file_path = \"../data/landing/osm_data/school2_data.json\""
   ]
  },
  {
   "cell_type": "code",
   "execution_count": 29,
   "metadata": {},
   "outputs": [
    {
     "name": "stdout",
     "output_type": "stream",
     "text": [
      "Data successfully saved to: ../data/landing/osm_data/school2_data.json\n"
     ]
    }
   ],
   "source": [
    "school2_data =  fetch_external_data(overpass_url, school_overpass_query, school2_file_path)"
   ]
  },
  {
   "cell_type": "markdown",
   "metadata": {},
   "source": [
    "### Park"
   ]
  },
  {
   "cell_type": "code",
   "execution_count": 30,
   "metadata": {},
   "outputs": [],
   "source": [
    "park_overpass_query = \"\"\"\n",
    "[out:json][timeout:250];\n",
    "area(3602316741)->.searchArea;\n",
    "(\n",
    "    node[\"leisure\"=\"park\"](area.searchArea);\n",
    "    way[\"leisure\"=\"park\"](area.searchArea);\n",
    ");\n",
    "out body;\n",
    ">;\n",
    "out skel qt;\n",
    "\"\"\""
   ]
  },
  {
   "cell_type": "code",
   "execution_count": 31,
   "metadata": {},
   "outputs": [],
   "source": [
    "park_file_path = \"../data/landing/osm_data/park_data.json\""
   ]
  },
  {
   "cell_type": "code",
   "execution_count": 32,
   "metadata": {},
   "outputs": [
    {
     "name": "stdout",
     "output_type": "stream",
     "text": [
      "Data successfully saved to: ../data/landing/osm_data/park_data.json\n"
     ]
    }
   ],
   "source": [
    "park_data =  fetch_external_data(overpass_url, park_overpass_query, park_file_path)"
   ]
  },
  {
   "cell_type": "markdown",
   "metadata": {},
   "source": [
    "### Public Safety Facilities"
   ]
  },
  {
   "cell_type": "code",
   "execution_count": 33,
   "metadata": {},
   "outputs": [],
   "source": [
    "public_safety_facilities_overpass_query = \"\"\"\n",
    "[out:json][timeout:250];\n",
    "area(3602316741)->.searchArea;\n",
    "(\n",
    "    node[\"amenity\"=\"fire_station\"](area.searchArea);\n",
    "    node[\"amenity\"=\"police\"](area.searchArea);\n",
    "    way[\"amenity\"=\"fire_station\"](area.searchArea);\n",
    "    way[\"amenity\"=\"police\"](area.searchArea);\n",
    ");\n",
    "out body;\n",
    ">;\n",
    "out skel qt;\n",
    "\"\"\""
   ]
  },
  {
   "cell_type": "code",
   "execution_count": 34,
   "metadata": {},
   "outputs": [],
   "source": [
    "public_safety_facilities_file_path = \"../data/landing/osm_data/public_safety_facilities_data.json\""
   ]
  },
  {
   "cell_type": "code",
   "execution_count": 35,
   "metadata": {},
   "outputs": [
    {
     "name": "stdout",
     "output_type": "stream",
     "text": [
      "Data successfully saved to: ../data/landing/osm_data/public_safety_facilities_data.json\n"
     ]
    }
   ],
   "source": [
    "public_safety_facilities_data =  fetch_external_data(overpass_url, public_safety_facilities_overpass_query, public_safety_facilities_file_path)"
   ]
  },
  {
   "cell_type": "markdown",
   "metadata": {},
   "source": [
    "### Shopping Center and Supermarket"
   ]
  },
  {
   "cell_type": "code",
   "execution_count": 36,
   "metadata": {},
   "outputs": [],
   "source": [
    "shop_overpass_query = \"\"\"\n",
    "[out:json][timeout:250];\n",
    "area(3602316741)->.searchArea;\n",
    "(\n",
    "  node[\"shop\"=\"mall\"](area.searchArea);\n",
    "  way[\"shop\"=\"mall\"](area.searchArea);\n",
    "  node[\"shop\"=\"supermarket\"](area.searchArea);\n",
    "  way[\"shop\"=\"supermarket\"](area.searchArea);\n",
    ");\n",
    "out body;\n",
    ">;\n",
    "out skel qt;\n",
    "\"\"\""
   ]
  },
  {
   "cell_type": "code",
   "execution_count": 37,
   "metadata": {},
   "outputs": [],
   "source": [
    "shop_file_path = \"../data/landing/osm_data/shop_data.json\""
   ]
  },
  {
   "cell_type": "code",
   "execution_count": 38,
   "metadata": {},
   "outputs": [
    {
     "name": "stdout",
     "output_type": "stream",
     "text": [
      "Data successfully saved to: ../data/landing/osm_data/shop_data.json\n"
     ]
    }
   ],
   "source": [
    "shop_data =  fetch_external_data(overpass_url, shop_overpass_query, shop_file_path)"
   ]
  },
  {
   "cell_type": "markdown",
   "metadata": {},
   "source": [
    "### Entertainments"
   ]
  },
  {
   "cell_type": "code",
   "execution_count": 39,
   "metadata": {},
   "outputs": [],
   "source": [
    "entertainments_overpass_query = \"\"\"\n",
    "[out:json][timeout:250];\n",
    "area(3602316741)->.searchArea;// Gather results for bars, restaurants, cinemas, and theatres\n",
    "(\n",
    "  node[\"amenity\"=\"bar\"](area.searchArea);\n",
    "  node[\"amenity\"=\"restaurant\"](area.searchArea);\n",
    "  node[\"amenity\"=\"cinema\"](area.searchArea);\n",
    "  node[\"amenity\"=\"theatre\"](area.searchArea);\n",
    "  \n",
    "  way[\"amenity\"=\"bar\"](area.searchArea);\n",
    "  way[\"amenity\"=\"restaurant\"](area.searchArea);\n",
    "  way[\"amenity\"=\"cinema\"](area.searchArea);\n",
    "  way[\"amenity\"=\"theatre\"](area.searchArea);\n",
    ");\n",
    "// Output results\n",
    "out body;\n",
    ">;\n",
    "out skel qt;\n",
    "\"\"\""
   ]
  },
  {
   "cell_type": "code",
   "execution_count": 40,
   "metadata": {},
   "outputs": [],
   "source": [
    "entertainments_file_path = \"../data/landing/osm_data/entertainments_data.json\""
   ]
  },
  {
   "cell_type": "code",
   "execution_count": 41,
   "metadata": {},
   "outputs": [
    {
     "name": "stdout",
     "output_type": "stream",
     "text": [
      "Data successfully saved to: ../data/landing/osm_data/entertainments_data.json\n"
     ]
    }
   ],
   "source": [
    "entertainments_data =  fetch_external_data(overpass_url, entertainments_overpass_query, entertainments_file_path)"
   ]
  }
 ],
 "metadata": {
  "kernelspec": {
   "display_name": "Python 3",
   "language": "python",
   "name": "python3"
  },
  "language_info": {
   "codemirror_mode": {
    "name": "ipython",
    "version": 3
   },
   "file_extension": ".py",
   "mimetype": "text/x-python",
   "name": "python",
   "nbconvert_exporter": "python",
   "pygments_lexer": "ipython3",
   "version": "3.10.10"
  }
 },
 "nbformat": 4,
 "nbformat_minor": 2
}
