{
 "cells": [
  {
   "cell_type": "code",
   "execution_count": 14,
   "metadata": {},
   "outputs": [],
   "source": [
    "import pandas as pd\n",
    "import re\n",
    "from collections import defaultdict"
   ]
  },
  {
   "cell_type": "code",
   "execution_count": 20,
   "metadata": {},
   "outputs": [],
   "source": [
    "current_rent = pd.read_csv('../data/curated/preprocessed_current_rent.csv')\n",
    "predict_median = pd.read_csv('../data/curated/future_median/all_properties.csv')"
   ]
  },
  {
   "cell_type": "code",
   "execution_count": 74,
   "metadata": {},
   "outputs": [],
   "source": [
    "# Remove duplicates\n",
    "predict_median = predict_median.drop_duplicates(subset='Suburb', keep='first')\n",
    "predict_median = predict_median.drop(columns=['Unnamed: 0'])\n",
    "predict_median = predict_median.rename(columns={'Suburb': 'suburb'})"
   ]
  },
  {
   "cell_type": "code",
   "execution_count": 68,
   "metadata": {},
   "outputs": [
    {
     "name": "stdout",
     "output_type": "stream",
     "text": [
      "There are 182 suburbs existing in both files, which is 30.03% of the total\n"
     ]
    }
   ],
   "source": [
    "# Find how many suburbs exist in both files\n",
    "subs1 = pd.Series(current_rent['suburb'].unique())\n",
    "subs2 = predict_median['Suburb']\n",
    "\n",
    "same = subs2[subs2.isin(subs1)]\n",
    "\n",
    "print(f\"There are {same.count()} suburbs existing in both files, which is {round(same.count()/len(current_rent['suburb'].unique()),4)*100}% of the total\")"
   ]
  },
  {
   "cell_type": "code",
   "execution_count": 81,
   "metadata": {},
   "outputs": [],
   "source": [
    "# Merge 2 files based on similar suburbs\n",
    "m_curr_pred_median = pd.merge(current_rent, predict_median, on='suburb', how='inner')\n",
    "m_curr_pred_median.to_csv('../data/curated/m_curr_pred_median.csv', index=False)"
   ]
  }
 ],
 "metadata": {
  "kernelspec": {
   "display_name": ".venv",
   "language": "python",
   "name": "python3"
  },
  "language_info": {
   "codemirror_mode": {
    "name": "ipython",
    "version": 3
   },
   "file_extension": ".py",
   "mimetype": "text/x-python",
   "name": "python",
   "nbconvert_exporter": "python",
   "pygments_lexer": "ipython3",
   "version": "3.10.12"
  }
 },
 "nbformat": 4,
 "nbformat_minor": 2
}
